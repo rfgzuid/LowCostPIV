{
 "cells": [
  {
   "cell_type": "code",
   "id": "initial_id",
   "metadata": {
    "collapsed": true,
    "ExecuteTime": {
     "end_time": "2024-05-07T12:05:59.121365Z",
     "start_time": "2024-05-07T12:05:58.949959Z"
    }
   },
   "source": [
    "from pyjet import *\n",
    "import sys\n",
    "import numpy as np\n",
    "import matplotlib.pyplot as plt\n",
    "import matplotlib.animation as animation\n",
    "\n",
    "ANIM_NUM_FRAMES = 360\n",
    "ANIM_FPS = 60\n",
    "\n",
    "\n",
    "def main():\n",
    "    # Create smoke solver\n",
    "    resX = 100\n",
    "    solver = GridSmokeSolver2(resolution=(resX, 2 * resX), domainSizeX=1.0)\n",
    "\n",
    "    # Customize pressure solver for real-time sim (less accurate, but much faster)\n",
    "    pressureSolver = GridFractionalSinglePhasePressureSolver2()\n",
    "    pressureSolver.linearSystemSolver = FdmGaussSeidelSolver2(20, 20, 0.001)\n",
    "    solver.pressureSolver = pressureSolver\n",
    "\n",
    "    # Setup emitter\n",
    "    sphere = Sphere2(center=(0.5, 0.5), radius=0.15)\n",
    "    emitter = VolumeGridEmitter2(sourceRegion=sphere)\n",
    "    solver.emitter = emitter\n",
    "    emitter.addStepFunctionTarget(solver.smokeDensity, 0.0, 1.0)\n",
    "    emitter.addStepFunctionTarget(solver.temperature, 0.0, 1.0)\n",
    "\n",
    "    # Visualization\n",
    "    fig = plt.figure()\n",
    "    den = np.array(solver.smokeDensity.dataAccessor(), copy=False)\n",
    "    im = plt.imshow(den, vmin=0, vmax=1, cmap=plt.cm.gray,\n",
    "                    interpolation='bicubic', animated=True, origin='lower')\n",
    "\n",
    "    # Animation\n",
    "    frame = Frame(0, 1.0 / ANIM_FPS)\n",
    "    def updatefig(*args):\n",
    "        solver.update(frame)\n",
    "        frame.advance()\n",
    "        den = np.array(solver.smokeDensity.dataAccessor(), copy=False)\n",
    "        im.set_data(den)\n",
    "        return im,\n",
    "\n",
    "    if len(sys.argv) > 1:\n",
    "        format = sys.argv[1]\n",
    "        if format == 'gif':\n",
    "            anim = animation.FuncAnimation(fig, updatefig,\n",
    "                                           frames=ANIM_NUM_FRAMES,\n",
    "                                           interval=ANIM_FPS, blit=True)\n",
    "            anim.save('smoke_example01.gif', fps=ANIM_FPS, dpi=72,\n",
    "                      writer='imagemagick')\n",
    "        elif format == 'mp4':\n",
    "            anim = animation.FuncAnimation(fig, updatefig,\n",
    "                                           frames=ANIM_NUM_FRAMES,\n",
    "                                           interval=ANIM_FPS, blit=True)\n",
    "            anim.save('smoke_example01.mp4', fps=ANIM_FPS, writer='ffmpeg')\n",
    "    else:\n",
    "        anim = animation.FuncAnimation(fig, updatefig, frames=ANIM_NUM_FRAMES,\n",
    "                                       interval=1, blit=True)\n",
    "        plt.show()\n",
    "\n",
    "\n",
    "if __name__ == '__main__':\n",
    "    Logging.mute()\n",
    "    main()\n",
    "\n"
   ],
   "outputs": [
    {
     "ename": "ModuleNotFoundError",
     "evalue": "No module named 'pyjet'",
     "output_type": "error",
     "traceback": [
      "\u001B[1;31m---------------------------------------------------------------------------\u001B[0m",
      "\u001B[1;31mModuleNotFoundError\u001B[0m                       Traceback (most recent call last)",
      "Cell \u001B[1;32mIn[1], line 1\u001B[0m\n\u001B[1;32m----> 1\u001B[0m \u001B[38;5;28;01mfrom\u001B[39;00m \u001B[38;5;21;01mpyjet\u001B[39;00m \u001B[38;5;28;01mimport\u001B[39;00m \u001B[38;5;241m*\u001B[39m\n\u001B[0;32m      2\u001B[0m \u001B[38;5;28;01mimport\u001B[39;00m \u001B[38;5;21;01msys\u001B[39;00m\n\u001B[0;32m      3\u001B[0m \u001B[38;5;28;01mimport\u001B[39;00m \u001B[38;5;21;01mnumpy\u001B[39;00m \u001B[38;5;28;01mas\u001B[39;00m \u001B[38;5;21;01mnp\u001B[39;00m\n",
      "\u001B[1;31mModuleNotFoundError\u001B[0m: No module named 'pyjet'"
     ]
    }
   ],
   "execution_count": 1
  },
  {
   "metadata": {},
   "cell_type": "code",
   "outputs": [],
   "execution_count": null,
   "source": "",
   "id": "790dfbb144d2012c"
  }
 ],
 "metadata": {
  "kernelspec": {
   "display_name": "Python 3",
   "language": "python",
   "name": "python3"
  },
  "language_info": {
   "codemirror_mode": {
    "name": "ipython",
    "version": 2
   },
   "file_extension": ".py",
   "mimetype": "text/x-python",
   "name": "python",
   "nbconvert_exporter": "python",
   "pygments_lexer": "ipython2",
   "version": "2.7.6"
  }
 },
 "nbformat": 4,
 "nbformat_minor": 5
}
