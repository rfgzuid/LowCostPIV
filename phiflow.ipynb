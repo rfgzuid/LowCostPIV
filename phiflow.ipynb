{
 "cells": [
  {
   "metadata": {
    "ExecuteTime": {
     "end_time": "2024-05-13T13:07:07.345769Z",
     "start_time": "2024-05-13T13:07:05.062898Z"
    }
   },
   "cell_type": "code",
   "source": [
    "import torch\n",
    "from phi.torch import flow\n",
    "import matplotlib.pyplot as plt\n",
    "from tqdm import tqdm\n",
    "%matplotlib qt\n",
    "\n",
    "N_TIME_STEPS = 150\n",
    "\n",
    "def main():\n",
    "    velocity = flow.StaggeredGrid(\n",
    "        values=(0.0, 0.0),\n",
    "        extrapolation=0.0,\n",
    "        x=64,\n",
    "        y=64,\n",
    "        bounds=flow.Box(x=100, y=100),\n",
    "    )\n",
    "    smoke = flow.CenteredGrid(\n",
    "        values=0.0,\n",
    "        extrapolation=flow.extrapolation.BOUNDARY,\n",
    "        x=200,\n",
    "        y=200,\n",
    "        bounds=flow.Box(x=100, y=100),\n",
    "    )\n",
    "    inflow = 0.2 * flow.CenteredGrid(\n",
    "        values=flow.SoftGeometryMask(\n",
    "            flow.Sphere(\n",
    "                x=40,\n",
    "                y=9.5,\n",
    "                radius=5,\n",
    "            )\n",
    "        ),\n",
    "        extrapolation=0.0,\n",
    "        bounds=smoke.bounds,\n",
    "        resolution=smoke.resolution,\n",
    "    )\n",
    "\n",
    "    @flow.math.jit_compile\n",
    "    def step(velocity_prev, smoke_prev, dt=1.0):\n",
    "        smoke_next = flow.advect.mac_cormack(smoke_prev, velocity_prev, dt) + inflow\n",
    "        buoyancy_force = smoke_next * (0.0, 0.1) @ velocity\n",
    "        velocity_tent = flow.advect.semi_lagrangian(velocity_prev, velocity_prev, dt) + buoyancy_force * dt\n",
    "        velocity_next, pressure = flow.fluid.make_incompressible(velocity_tent)\n",
    "        return velocity_next, smoke_next\n",
    "    \n",
    "    plt.style.use(\"dark_background\")\n",
    "    \n",
    "    for _ in tqdm(range(N_TIME_STEPS)):\n",
    "        velocity, smoke = step(velocity, smoke)\n",
    "        smoke_values_extracted = smoke.values.numpy(\"y,x\")\n",
    "        plt.imshow(smoke_values_extracted, origin=\"lower\", cmap='gray')\n",
    "        plt.draw()\n",
    "        plt.pause(0.01)\n",
    "        plt.clf()\n",
    "        return smoke_values_extracted\n",
    "\n",
    "if __name__ == \"__main__\":\n",
    "    main()"
   ],
   "id": "b8f52d651ed0d63e",
   "outputs": [
    {
     "name": "stderr",
     "output_type": "stream",
     "text": [
      "C:\\Users\\jortd\\AppData\\Local\\Temp\\ipykernel_21164\\4213102666.py:25: DeprecationWarning: HardGeometryMask and SoftGeometryMask are deprecated. Use field.mask or field.resample instead.\n",
      "  values=flow.SoftGeometryMask(\n",
      "  0%|          | 0/150 [00:00<?, ?it/s]C:\\Users\\jortd\\PycharmProjects\\LowCostPIV\\venv\\Lib\\site-packages\\phi\\field\\_field_math.py:521: FutureWarning: Instance checks on Grid are deprecated and will be removed in version 3.0. Use the methods instance.is_grid, instance.is_point_cloud, instance.is_centered and instance.is_staggered instead.\n",
      "  if isinstance(grid, Grid):\n",
      "C:\\Users\\jortd\\PycharmProjects\\LowCostPIV\\venv\\Lib\\site-packages\\phi\\field\\_grid.py:476: FutureWarning: Instance checks on StaggeredGrid are deprecated and will be removed in version 3.0. Use the methods instance.is_grid, instance.is_point_cloud, instance.is_centered and instance.is_staggered instead.\n",
      "  if isinstance(other, StaggeredGrid) and self.bounds == other.bounds and self.shape.spatial == other.shape.spatial:\n",
      "C:\\Users\\jortd\\PycharmProjects\\LowCostPIV\\venv\\Lib\\site-packages\\phi\\field\\_field_math.py:835: FutureWarning: Instance checks on PointCloud are deprecated and will be removed in version 3.0. Use the methods instance.is_grid, instance.is_point_cloud, instance.is_centered and instance.is_staggered instead.\n",
      "  if isinstance(obj, PointCloud):\n",
      "C:\\Users\\jortd\\PycharmProjects\\LowCostPIV\\venv\\Lib\\site-packages\\phi\\field\\_field_math.py:338: FutureWarning: Instance checks on CenteredGrid are deprecated and will be removed in version 3.0. Use the methods instance.is_grid, instance.is_point_cloud, instance.is_centered and instance.is_staggered instead.\n",
      "  if isinstance(field, CenteredGrid):\n",
      "C:\\Users\\jortd\\PycharmProjects\\LowCostPIV\\venv\\Lib\\site-packages\\phiml\\backend\\torch\\_torch_backend.py:68: TracerWarning: torch.from_numpy results are registered as constants in the trace. You can safely ignore this warning if you use this function to create tensors out of constant variables that would be the same every time you call this function. In any other case, this might cause the trace to be incorrect.\n",
      "  tensor = torch.from_numpy(x)\n",
      "C:\\Users\\jortd\\PycharmProjects\\LowCostPIV\\venv\\Lib\\site-packages\\phiml\\backend\\torch\\_torch_backend.py:794: TracerWarning: torch.sparse_csr_tensor results are registered as constants in the trace. You can safely ignore this warning if you use this function to create tensors out of constant variables that would be the same every time you call this function. In any other case, this might cause the trace to be incorrect.\n",
      "  return torch.sparse_csr_tensor(row_pointers, column_indices, values, shape, device=values.device)\n",
      "C:\\Users\\jortd\\PycharmProjects\\LowCostPIV\\venv\\Lib\\site-packages\\phiml\\backend\\torch\\_torch_backend.py:610: TracerWarning: Converting a tensor to a Python integer might cause the trace to be incorrect. We can't record the data flow of Python values, so this value will be treated as a constant in the future. This means that the trace might not generalize to other inputs!\n",
      "  return tuple([int(s) for s in tensor.shape])\n",
      "C:\\Users\\jortd\\PycharmProjects\\LowCostPIV\\venv\\Lib\\site-packages\\phiml\\backend\\torch\\_torch_backend.py:311: TracerWarning: Converting a tensor to a Python float might cause the trace to be incorrect. We can't record the data flow of Python values, so this value will be treated as a constant in the future. This means that the trace might not generalize to other inputs!\n",
      "  constant_values = self.dtype(value).kind(constant_values)\n",
      "C:\\Users\\jortd\\PycharmProjects\\LowCostPIV\\venv\\Lib\\site-packages\\phiml\\backend\\torch\\_torch_backend.py:80: TracerWarning: torch.tensor results are registered as constants in the trace. You can safely ignore this warning if you use this function to create tensors out of constant variables that would be the same every time you call this function. In any other case, this might cause the trace to be incorrect.\n",
      "  tensor = torch.tensor(x, device=self.get_default_device().ref)\n",
      "C:\\Users\\jortd\\PycharmProjects\\LowCostPIV\\venv\\Lib\\site-packages\\phiml\\backend\\torch\\_torch_backend.py:331: TracerWarning: Converting a tensor to a Python boolean might cause the trace to be incorrect. We can't record the data flow of Python values, so this value will be treated as a constant in the future. This means that the trace might not generalize to other inputs!\n",
      "  if coordinates.shape[0] != grid.shape[0]:  # repeating yields wrong result\n",
      "C:\\Users\\jortd\\PycharmProjects\\LowCostPIV\\venv\\Lib\\site-packages\\phiml\\backend\\torch\\_torch_backend.py:337: TracerWarning: torch.tensor results are registered as constants in the trace. You can safely ignore this warning if you use this function to create tensors out of constant variables that would be the same every time you call this function. In any other case, this might cause the trace to be incorrect.\n",
      "  resolution = torch.tensor(self.staticshape(grid)[2:], dtype=coordinates.dtype, device=coordinates.device)\n",
      "C:\\Users\\jortd\\PycharmProjects\\LowCostPIV\\venv\\Lib\\site-packages\\phiml\\backend\\_backend.py:1971: TracerWarning: Converting a tensor to a Python boolean might cause the trace to be incorrect. We can't record the data flow of Python values, so this value will be treated as a constant in the future. This means that the trace might not generalize to other inputs!\n",
      "  if dim1 is None or dim1 == 1:\n",
      "C:\\Users\\jortd\\PycharmProjects\\LowCostPIV\\venv\\Lib\\site-packages\\phiml\\backend\\torch\\_torch_backend.py:341: TracerWarning: Converting a tensor to a Python boolean might cause the trace to be incorrect. We can't record the data flow of Python values, so this value will be treated as a constant in the future. This means that the trace might not generalize to other inputs!\n",
      "  coordinates = coordinates.repeat(batch_size, *[1] * (len(coordinates.shape-1))) if coordinates.shape[0] < batch_size else coordinates\n",
      "C:\\Users\\jortd\\PycharmProjects\\LowCostPIV\\venv\\Lib\\site-packages\\phiml\\backend\\torch\\_torch_backend.py:342: TracerWarning: Converting a tensor to a Python boolean might cause the trace to be incorrect. We can't record the data flow of Python values, so this value will be treated as a constant in the future. This means that the trace might not generalize to other inputs!\n",
      "  grid = grid.repeat(batch_size, *[1] * (len(grid.shape)-1)) if grid.shape[0] < batch_size else grid\n",
      "  0%|          | 0/150 [00:02<?, ?it/s]\n"
     ]
    }
   ],
   "execution_count": 34
  },
  {
   "metadata": {
    "ExecuteTime": {
     "end_time": "2024-05-13T13:07:13.876234Z",
     "start_time": "2024-05-13T13:07:13.854427Z"
    }
   },
   "cell_type": "code",
   "source": "print(smoke_values_extracted)",
   "id": "6ddc9feb27dfad84",
   "outputs": [
    {
     "ename": "NameError",
     "evalue": "name 'smoke_values_extracted' is not defined",
     "output_type": "error",
     "traceback": [
      "\u001B[1;31m---------------------------------------------------------------------------\u001B[0m",
      "\u001B[1;31mNameError\u001B[0m                                 Traceback (most recent call last)",
      "Cell \u001B[1;32mIn[35], line 1\u001B[0m\n\u001B[1;32m----> 1\u001B[0m \u001B[38;5;28mprint\u001B[39m(\u001B[43msmoke_values_extracted\u001B[49m)\n",
      "\u001B[1;31mNameError\u001B[0m: name 'smoke_values_extracted' is not defined"
     ]
    }
   ],
   "execution_count": 35
  },
  {
   "metadata": {
    "ExecuteTime": {
     "end_time": "2024-05-13T12:45:45.476571Z",
     "start_time": "2024-05-13T12:45:45.465374Z"
    }
   },
   "cell_type": "code",
   "source": [
    "INFLOW_LOCATION = tensor([4, 5], channel(vector='x,y'))\n",
    "INFLOW = 0.6 * CenteredGrid(Sphere(center=INFLOW_LOCATION, radius=3), extrapolation.BOUNDARY, x=32, y=40, bounds=Box(x=32, y=40))"
   ],
   "id": "503894591d622192",
   "outputs": [],
   "execution_count": 31
  },
  {
   "metadata": {
    "ExecuteTime": {
     "end_time": "2024-05-13T12:44:07.143400Z",
     "start_time": "2024-05-13T12:44:07.137603Z"
    }
   },
   "cell_type": "code",
   "source": [
    "def simulate(smoke: CenteredGrid, velocity: StaggeredGrid):\n",
    "  for _ in range(20):\n",
    "    smoke = advect.mac_cormack(smoke, velocity, dt=1) + INFLOW\n",
    "    buoyancy_force = smoke * (0, 0.5) @ velocity\n",
    "    velocity = advect.semi_lagrangian(velocity, velocity, dt=1) + buoyancy_force\n",
    "    velocity, _ = fluid.make_incompressible(velocity)\n",
    "  loss = math.sum(field.l2_loss(diffuse.explicit(smoke - field.stop_gradient(smoke.inflow_loc[-1]), 1, 1, 10)))\n",
    "  return loss, smoke, velocity"
   ],
   "id": "585824591e6c68f1",
   "outputs": [],
   "execution_count": 26
  },
  {
   "metadata": {
    "ExecuteTime": {
     "end_time": "2024-05-13T12:44:07.377582Z",
     "start_time": "2024-05-13T12:44:07.342825Z"
    }
   },
   "cell_type": "code",
   "source": [
    "initial_smoke = CenteredGrid(0, extrapolation.BOUNDARY, x=32, y=40, bounds=Box(x=32, y=40))\n",
    "initial_velocity = StaggeredGrid(math.zeros(batch(inflow_loc=4)), extrapolation.ZERO, x=32, y=40, bounds=Box(x=32, y=40))"
   ],
   "id": "b1f123409aeb9ed7",
   "outputs": [],
   "execution_count": 27
  },
  {
   "metadata": {
    "ExecuteTime": {
     "end_time": "2024-05-13T12:44:08.276519Z",
     "start_time": "2024-05-13T12:44:08.271520Z"
    }
   },
   "cell_type": "code",
   "source": "sim_grad = field.gradient(simulate, wrt='velocity', get_output=False)",
   "id": "13bd95c27da4ff78",
   "outputs": [],
   "execution_count": 28
  },
  {
   "metadata": {
    "ExecuteTime": {
     "end_time": "2024-05-13T12:44:19.386099Z",
     "start_time": "2024-05-13T12:44:08.763728Z"
    }
   },
   "cell_type": "code",
   "source": [
    "velocity_grad = sim_grad(initial_smoke, initial_velocity)\n",
    "\n",
    "vis.plot(velocity_grad)"
   ],
   "id": "6b1978ceb927103c",
   "outputs": [
    {
     "data": {
      "text/plain": [
       "<Figure size 1200x500 with 4 Axes>"
      ]
     },
     "execution_count": 29,
     "metadata": {},
     "output_type": "execute_result"
    }
   ],
   "execution_count": 29
  },
  {
   "metadata": {},
   "cell_type": "code",
   "outputs": [],
   "execution_count": null,
   "source": "",
   "id": "83cfc2cd9cf76689"
  }
 ],
 "metadata": {
  "kernelspec": {
   "display_name": "Python 3",
   "language": "python",
   "name": "python3"
  },
  "language_info": {
   "codemirror_mode": {
    "name": "ipython",
    "version": 2
   },
   "file_extension": ".py",
   "mimetype": "text/x-python",
   "name": "python",
   "nbconvert_exporter": "python",
   "pygments_lexer": "ipython2",
   "version": "2.7.6"
  }
 },
 "nbformat": 4,
 "nbformat_minor": 5
}
