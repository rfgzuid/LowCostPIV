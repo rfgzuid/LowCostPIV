{
 "cells": [
  {
   "cell_type": "code",
   "id": "initial_id",
   "metadata": {
    "collapsed": true,
    "ExecuteTime": {
     "end_time": "2024-05-02T08:42:07.756194Z",
     "start_time": "2024-05-02T08:41:47.488620Z"
    }
   },
   "source": [
    "%matplotlib widget\n",
    "import matplotlib.pyplot as plt\n",
    "import numpy as np\n",
    "import torch\n",
    "import cv2\n",
    "import scipy.signal\n",
    "import scipy.ndimage\n",
    "import sys\n",
    "import os\n",
    "os.environ[\"OPENCV_IO_ENABLE_OPENEXR\"]=\"1\"\n",
    "sys.path.append(\"../../\")\n",
    "import helpers\n",
    "import glm\n",
    "\n",
    "%load_ext autoreload\n",
    "%autoreload 2"
   ],
   "outputs": [],
   "execution_count": 7
  },
  {
   "metadata": {
    "ExecuteTime": {
     "end_time": "2024-05-02T08:26:09.436310Z",
     "start_time": "2024-05-02T08:26:09.430525Z"
    }
   },
   "cell_type": "code",
   "source": [
    "# TODO: UNUSED CODE, IGNORE THIS CELL\n",
    "# # Just to visualize images\n",
    "# fig, ax = plt.subplots()\n",
    "# ax.axis(\"off\")\n",
    "# ax.set_title(\"Projected points\")\n",
    "# ax.imshow(windowed(testing_0, 8).reshape((128,128)), cmap=\"gray\")\n",
    "# # ax.imshow(testing_0, cmap=\"gray\")\n",
    "# \n",
    "# fig.tight_layout()\n",
    "# plt.show()\n",
    "# print(testing_0)\n",
    "\n",
    "#     # return img.reshape((int(img.shape[0] / window_size), int(img.shape[1] / window_size), window_size, window_size))\n",
    "#     \n",
    "# def windowed(img, window_size):\n",
    "#     return ressample(img, window_size)\n",
    "# def ressample(arr, N):\n",
    "#     A = []\n",
    "#     for v in np.vsplit(arr, arr.shape[0] // N):\n",
    "#         A.extend([*np.hsplit(v, arr.shape[0] // N)])\n",
    "#     return np.array(A)\n",
    "# \n",
    "# \n",
    "        # up_offs_row = max(row - window_size // (window_size - overlap) - 1, 0)\n",
    "        # down_offs_row = min(row + window_size // (window_size - overlap) + 1, window_dim)\n",
    "        # left_offs_col = max(col - window_size // (window_size - overlap) - 1, 0)\n",
    "        # right_offs_col = min(col + window_size // (window_size - overlap) + 1, window_dim)\n",
    "        # current_wind_2 = img2_4d[left_offs_col:right_offs_col, up_offs_row:down_offs_row, :, :]"
   ],
   "id": "2c78b791f803df63",
   "outputs": [
    {
     "name": "stdout",
     "output_type": "stream",
     "text": [
      "4tw 5\n",
      "frgetsdgd 5 fdsrfrs\n"
     ]
    }
   ],
   "execution_count": 5
  },
  {
   "metadata": {},
   "cell_type": "code",
   "outputs": [],
   "execution_count": null,
   "source": "",
   "id": "44b481b58d92dfaf"
  },
  {
   "metadata": {
    "ExecuteTime": {
     "end_time": "2024-05-02T08:42:07.872801Z",
     "start_time": "2024-05-02T08:42:07.757195Z"
    }
   },
   "cell_type": "code",
   "source": [
    "# WINDOWING FUNCTIONS\n",
    "# assuming for now that window size fits perfectly into img, and img is 2d np array perfect square  \n",
    "def windowed_old(img, window_size):\n",
    "    return np.lib.stride_tricks.as_strided(img, shape=(int(img.shape[0] / window_size), int(img.shape[1] / window_size), window_size, window_size), strides =(img.strides[0] * window_size, img.strides[1] * window_size, img.strides[0], img.strides[1]) , writeable=False)\n"
   ],
   "id": "61b5c6e05febf8d",
   "outputs": [],
   "execution_count": 8
  },
  {
   "metadata": {
    "ExecuteTime": {
     "end_time": "2024-05-02T08:42:08.014778Z",
     "start_time": "2024-05-02T08:42:07.873802Z"
    }
   },
   "cell_type": "code",
   "source": [
    "def moving_window_array(array: torch.Tensor, window_size, overlap) -> torch.Tensor:\n",
    "    shape = array.shape\n",
    "    strides = (\n",
    "        shape[-1] * (window_size - overlap),\n",
    "        (window_size - overlap),\n",
    "        shape[-1],\n",
    "        1\n",
    "    )\n",
    "    shape = (\n",
    "        int((shape[-2] - window_size) / (window_size - overlap)) + 1,\n",
    "        int((shape[-1] - window_size) / (window_size - overlap)) + 1,\n",
    "        window_size,\n",
    "        window_size,\n",
    "    )\n",
    "    return torch.as_strided(\n",
    "        array, size=shape, stride=strides)"
   ],
   "id": "183f93df468c70c5",
   "outputs": [],
   "execution_count": 9
  },
  {
   "metadata": {},
   "cell_type": "code",
   "outputs": [],
   "execution_count": null,
   "source": [
    "#### OLD VERSION ###\n",
    "# img2_4d = img2_windowed.reshape(window_dim, window_dim, img2_windowed.shape[-2], img2_windowed.shape[-1])\n",
    "#     vector_field_shape = list((*img2_4d.shape[:2], 2))\n",
    "#     vector_field = np.zeros(vector_field_shape)\n",
    "#     for i, window_1 in enumerate(img1_windowed):\n",
    "#         row = i // window_dim\n",
    "#         col = i % window_dim\n",
    "#         rel_windows_2 = img2_4d[max((row-4),0):min((row+4) + 1,window_dim), max((col-4),0):min((col+4) + 1,window_dim), :, : ]\n",
    "#         rel_diffs = np.zeros(rel_windows_2.shape[:2])\n",
    "#         for j, rel_cols_2 in enumerate(rel_windows_2):\n",
    "#             for k, rel_wind_2 in enumerate(rel_cols_2):\n",
    "#                 rel_diffs[j,k] = torch.sum(torch.abs(window_1 - rel_wind_2)).item() / (window_size ** 2)\n",
    "#         \n",
    "#         vector_field[row, col, :] = index_min(rel_diffs)\n",
    "#     return np.array(vector_field)\n",
    "# bc = calculate(testing_0, testing_1, 64, 61)"
   ],
   "id": "c9d651fb0b2a63c0"
  },
  {
   "metadata": {
    "ExecuteTime": {
     "end_time": "2024-04-30T16:26:58.604776Z",
     "start_time": "2024-04-30T16:26:58.446410Z"
    }
   },
   "cell_type": "code",
   "source": [
    "# testtesttorch = torch.from_numpy(testtest)\n",
    "# print(testtesttorch)\n",
    "# print(testtesttorch.shape)\n",
    "# print(moving_window_array(testtesttorch, 4, 3).shape)"
   ],
   "id": "83b159da00f453e0",
   "outputs": [
    {
     "name": "stdout",
     "output_type": "stream",
     "text": [
      "tensor([[ 0,  1,  2,  3,  4,  5,  6,  7],\n",
      "        [ 8,  9, 10, 11, 12, 13, 14, 15],\n",
      "        [16, 17, 18, 19, 20, 21, 22, 23],\n",
      "        [24, 25, 26, 27, 28, 29, 30, 31],\n",
      "        [32, 33, 34, 35, 36, 37, 38, 39],\n",
      "        [40, 41, 42, 43, 44, 45, 46, 47],\n",
      "        [48, 49, 50, 51, 52, 53, 54, 55],\n",
      "        [56, 57, 58, 59, 60, 61, 62, 63]], dtype=torch.int32)\n",
      "5\n",
      "torch.Size([25, 4, 4])\n"
     ]
    }
   ],
   "execution_count": 212
  },
  {
   "metadata": {
    "ExecuteTime": {
     "end_time": "2024-05-02T08:42:08.133189Z",
     "start_time": "2024-05-02T08:42:08.016816Z"
    }
   },
   "cell_type": "code",
   "source": [
    "def index_min(lst):\n",
    "    index = lst.argmin()\n",
    "    col = lst.shape[1]\n",
    "    return index//col, index % col  # row, col"
   ],
   "id": "4c15d1e8a63714c9",
   "outputs": [],
   "execution_count": 10
  },
  {
   "metadata": {
    "ExecuteTime": {
     "end_time": "2024-05-02T08:46:30.829520Z",
     "start_time": "2024-05-02T08:46:30.713772Z"
    }
   },
   "cell_type": "code",
   "source": [
    "testing_0 = helpers.imread_normalized_float_grayscale(os.path.join(\"test\", \"0.jpg\"))\n",
    "testing_0 = np.where(testing_0 > 0.5, 1.0, 0.0)  # TEMPORARY, TO MAKE TEST MORE IDEAL\n",
    "testing_1 = helpers.imread_normalized_float_grayscale(os.path.join(\"test\", \"1.jpg\"))\n",
    "testing_1 = np.where(testing_1 > 0.5, 1.0, 0.0)  # TEMPORARY, TO MAKE TEST MORE IDEAL\n",
    "testtest_0 = np.array(np.split(np.arange(64), 8))\n",
    "testtest_1 = np.array(np.split(np.arange(64), 8)) - 1"
   ],
   "id": "38384a7a83c8fd6c",
   "outputs": [],
   "execution_count": 15
  },
  {
   "metadata": {
    "ExecuteTime": {
     "end_time": "2024-05-02T08:54:35.003827Z",
     "start_time": "2024-05-02T08:54:34.872676Z"
    }
   },
   "cell_type": "code",
   "source": [
    "# print(testtest_0)\n",
    "print(testtest_0)\n",
    "print(moving_window_array(torch.from_numpy(testtest_0), 4, 3).shape)"
   ],
   "id": "b65419468346a655",
   "outputs": [
    {
     "name": "stdout",
     "output_type": "stream",
     "text": [
      "[[ 0  1  2  3  4  5  6  7]\n",
      " [ 8  9 10 11 12 13 14 15]\n",
      " [16 17 18 19 20 21 22 23]\n",
      " [24 25 26 27 28 29 30 31]\n",
      " [32 33 34 35 36 37 38 39]\n",
      " [40 41 42 43 44 45 46 47]\n",
      " [48 49 50 51 52 53 54 55]\n",
      " [56 57 58 59 60 61 62 63]]\n",
      "torch.Size([5, 5, 4, 4])\n"
     ]
    }
   ],
   "execution_count": 27
  },
  {
   "metadata": {
    "ExecuteTime": {
     "end_time": "2024-05-01T20:03:37.061755Z",
     "start_time": "2024-05-01T20:03:14.453154Z"
    }
   },
   "cell_type": "code",
   "source": [
    "# Assumptions for simple version: ignoring restrictions and bug checks, assuming window size fits into img with no remainder, overlap is strictly less than window size, images are numpy arrays and perfect squares\n",
    "def calculate(img1, img2, window_size, overlap):\n",
    "    # split img1 into windows, 3d array, with all possible overlaps:\n",
    "    img1_windowed = moving_window_array(torch.from_numpy(img1), window_size, overlap)\n",
    "    img2_windowed = moving_window_array(torch.from_numpy(img2), window_size, overlap)\n",
    "    # Check correlation from 1 image to next one, for each window, to get movement of each patch.\n",
    "    # Searching whole image for correlation for each window is redundant, only searching for two windows across. Assumption: Each image split into at least a 2x2 grid of windows.\n",
    "    offset = 4  # for now\n",
    "    window_dim = int(img2_windowed.shape[0])\n",
    "    vector_field_shape = list((*img2_windowed.shape[:2], 2))\n",
    "    vector_field = np.zeros(vector_field_shape)\n",
    "    for row_1, window_1_row in enumerate(img1_windowed):\n",
    "            for col_1, window_1 in enumerate(window_1_row):\n",
    "                row_min = max((row_1-offset), 0)\n",
    "                row_max = min((row_1+offset) + 1, window_dim)\n",
    "                col_min = max((col_1-offset), 0)\n",
    "                col_max = min((col_1+offset) + 1, window_dim)\n",
    "                rel_windows_2 = img2_windowed[row_min:row_max, col_min:col_max, :, : ]\n",
    "                rel_diffs = np.zeros(rel_windows_2.shape[:2])\n",
    "                for row_2, rel_row_2 in enumerate(rel_windows_2):\n",
    "                    for col_2, rel_wind_2 in enumerate(rel_row_2):\n",
    "                        rel_diffs[row_2,col_2] = torch.sum(torch.abs(window_1 - rel_wind_2)).item() / (rel_windows_2.shape[0] * rel_windows_2.shape[1])\n",
    "                smallest_rel_index = index_min(rel_diffs)\n",
    "                wind_2_abs_loc = np.array((row_min, col_min)) + smallest_rel_index\n",
    "                vect = wind_2_abs_loc - (row_1, col_1)\n",
    "                vector_field[row_1, col_1, :] = vect\n",
    "    return np.array(vector_field)\n",
    "bc = calculate(testing_0, testing_1, 32, 31)\n"
   ],
   "id": "8fa4f4c0ce9e1f93",
   "outputs": [],
   "execution_count": 472
  },
  {
   "metadata": {
    "ExecuteTime": {
     "end_time": "2024-05-01T20:12:23.017237Z",
     "start_time": "2024-05-01T20:12:22.902446Z"
    }
   },
   "cell_type": "code",
   "source": "print(bc[10,10])  # correct, the img moves 3 pixels to the right. at the right edge it goes off the image, so there the arrows do weird stuff, which is fine.",
   "id": "f18af34808bdb514",
   "outputs": [
    {
     "name": "stdout",
     "output_type": "stream",
     "text": [
      "[0. 3.]\n"
     ]
    }
   ],
   "execution_count": 500
  },
  {
   "metadata": {
    "ExecuteTime": {
     "end_time": "2024-05-02T09:24:43.569722Z",
     "start_time": "2024-05-02T09:24:43.365267Z"
    }
   },
   "cell_type": "code",
   "source": [
    "mm = [[\"a\", \"b\"], [\"c\", \"d\"], [\"e\", \"f\"], [\"g\", \"h\"]]\n",
    "for index_1, element_1 in enumerate(mm):\n",
    "    for index_2, element_2 in enumerate(element_1):\n",
    "        print(index_1, element_2)\n",
    "        # print(index_1, index_2, element_2)\n",
    "    \n"
   ],
   "id": "38fe0b7361610360",
   "outputs": [
    {
     "name": "stdout",
     "output_type": "stream",
     "text": [
      "0 a\n",
      "0 b\n",
      "1 c\n",
      "1 d\n",
      "2 e\n",
      "2 f\n",
      "3 g\n",
      "3 h\n"
     ]
    }
   ],
   "execution_count": 45
  },
  {
   "metadata": {},
   "cell_type": "code",
   "outputs": [],
   "execution_count": null,
   "source": "",
   "id": "394b89bf0861455"
  }
 ],
 "metadata": {
  "kernelspec": {
   "display_name": "Python 3",
   "language": "python",
   "name": "python3"
  },
  "language_info": {
   "codemirror_mode": {
    "name": "ipython",
    "version": 2
   },
   "file_extension": ".py",
   "mimetype": "text/x-python",
   "name": "python",
   "nbconvert_exporter": "python",
   "pygments_lexer": "ipython2",
   "version": "2.7.6"
  }
 },
 "nbformat": 4,
 "nbformat_minor": 5
}
