{
 "cells": [
  {
   "cell_type": "code",
   "id": "initial_id",
   "metadata": {
    "collapsed": true,
    "ExecuteTime": {
     "end_time": "2024-04-30T13:18:50.909323Z",
     "start_time": "2024-04-30T13:18:36.456184Z"
    }
   },
   "source": [
    "%matplotlib widget\n",
    "import matplotlib.pyplot as plt\n",
    "import numpy as np\n",
    "import torch\n",
    "import cv2\n",
    "import scipy.signal\n",
    "import scipy.ndimage\n",
    "import sys\n",
    "import os\n",
    "os.environ[\"OPENCV_IO_ENABLE_OPENEXR\"]=\"1\"\n",
    "sys.path.append(\"../../\")\n",
    "import helpers\n",
    "import glm\n",
    "\n",
    "%load_ext autoreload\n",
    "%autoreload 2"
   ],
   "outputs": [
    {
     "name": "stdout",
     "output_type": "stream",
     "text": [
      "The autoreload extension is already loaded. To reload it, use:\n",
      "  %reload_ext autoreload\n"
     ]
    }
   ],
   "execution_count": 176
  },
  {
   "metadata": {
    "ExecuteTime": {
     "end_time": "2024-04-30T13:10:17.334476Z",
     "start_time": "2024-04-30T13:10:17.054384Z"
    }
   },
   "cell_type": "code",
   "source": [
    "# TODO: UNUSED CODE, IGNORE THIS CELL\n",
    "# # Just to visualize images\n",
    "# fig, ax = plt.subplots()\n",
    "# ax.axis(\"off\")\n",
    "# ax.set_title(\"Projected points\")\n",
    "# ax.imshow(windowed(testing_0, 8).reshape((128,128)), cmap=\"gray\")\n",
    "# # ax.imshow(testing_0, cmap=\"gray\")\n",
    "# \n",
    "# fig.tight_layout()\n",
    "# plt.show()\n",
    "# print(testing_0)\n",
    "\n",
    "#     # return img.reshape((int(img.shape[0] / window_size), int(img.shape[1] / window_size), window_size, window_size))\n",
    "#     \n",
    "# def windowed(img, window_size):\n",
    "#     return ressample(img, window_size)\n",
    "# def ressample(arr, N):\n",
    "#     A = []\n",
    "#     for v in np.vsplit(arr, arr.shape[0] // N):\n",
    "#         A.extend([*np.hsplit(v, arr.shape[0] // N)])\n",
    "#     return np.array(A)"
   ],
   "id": "2c78b791f803df63",
   "outputs": [],
   "execution_count": 175
  },
  {
   "metadata": {},
   "cell_type": "code",
   "outputs": [],
   "execution_count": null,
   "source": "",
   "id": "44b481b58d92dfaf"
  },
  {
   "metadata": {
    "ExecuteTime": {
     "end_time": "2024-04-30T13:01:37.391890Z",
     "start_time": "2024-04-30T13:01:37.302834Z"
    }
   },
   "cell_type": "code",
   "source": [
    "# WINDOWING FUNCTIONS\n",
    "# assuming for now that window size fits perfectly into img, and img is 2d np array perfect square  \n",
    "def windowed(img, window_size):\n",
    "    return np.lib.stride_tricks.as_strided(img, shape=(int(img.shape[0] / window_size), int(img.shape[1] / window_size), window_size, window_size), strides =(img.strides[0] * window_size, img.strides[1] * window_size, img.strides[0], img.strides[1]) , writeable=False)\n"
   ],
   "id": "61b5c6e05febf8d",
   "outputs": [],
   "execution_count": 173
  },
  {
   "metadata": {
    "ExecuteTime": {
     "end_time": "2024-04-30T13:19:17.585845Z",
     "start_time": "2024-04-30T13:19:17.459082Z"
    }
   },
   "cell_type": "code",
   "source": [
    "def moving_window_array(array: torch.Tensor, window_size, overlap) -> torch.Tensor:\n",
    "    shape = array.shape\n",
    "    strides = (\n",
    "        shape[-1] * (window_size - overlap),\n",
    "        (window_size - overlap),\n",
    "        shape[-1],\n",
    "        1\n",
    "    )\n",
    "    shape = (\n",
    "        int((shape[-2] - window_size) / (window_size - overlap)) + 1,\n",
    "        int((shape[-1] - window_size) / (window_size - overlap)) + 1,\n",
    "        window_size,\n",
    "        window_size,\n",
    "    )\n",
    "    return torch.as_strided(\n",
    "        array, size=shape, stride=strides \n",
    "    ).reshape(-1, window_size, window_size)"
   ],
   "id": "183f93df468c70c5",
   "outputs": [],
   "execution_count": 177
  },
  {
   "metadata": {
    "ExecuteTime": {
     "end_time": "2024-04-30T13:32:01.019799Z",
     "start_time": "2024-04-30T13:32:00.887413Z"
    }
   },
   "cell_type": "code",
   "source": [
    "testtesttorch = torch.from_numpy(testtest)\n",
    "print(testtesttorch)\n",
    "print(moving_window_array(testtesttorch, 4, 3))"
   ],
   "id": "83b159da00f453e0",
   "outputs": [
    {
     "name": "stdout",
     "output_type": "stream",
     "text": [
      "tensor([[ 0,  1,  2,  3,  4,  5,  6,  7],\n",
      "        [ 8,  9, 10, 11, 12, 13, 14, 15],\n",
      "        [16, 17, 18, 19, 20, 21, 22, 23],\n",
      "        [24, 25, 26, 27, 28, 29, 30, 31],\n",
      "        [32, 33, 34, 35, 36, 37, 38, 39],\n",
      "        [40, 41, 42, 43, 44, 45, 46, 47],\n",
      "        [48, 49, 50, 51, 52, 53, 54, 55],\n",
      "        [56, 57, 58, 59, 60, 61, 62, 63]], dtype=torch.int32)\n",
      "tensor([[[ 0,  1,  2,  3],\n",
      "         [ 8,  9, 10, 11],\n",
      "         [16, 17, 18, 19],\n",
      "         [24, 25, 26, 27]],\n",
      "\n",
      "        [[ 1,  2,  3,  4],\n",
      "         [ 9, 10, 11, 12],\n",
      "         [17, 18, 19, 20],\n",
      "         [25, 26, 27, 28]],\n",
      "\n",
      "        [[ 2,  3,  4,  5],\n",
      "         [10, 11, 12, 13],\n",
      "         [18, 19, 20, 21],\n",
      "         [26, 27, 28, 29]],\n",
      "\n",
      "        [[ 3,  4,  5,  6],\n",
      "         [11, 12, 13, 14],\n",
      "         [19, 20, 21, 22],\n",
      "         [27, 28, 29, 30]],\n",
      "\n",
      "        [[ 4,  5,  6,  7],\n",
      "         [12, 13, 14, 15],\n",
      "         [20, 21, 22, 23],\n",
      "         [28, 29, 30, 31]],\n",
      "\n",
      "        [[ 8,  9, 10, 11],\n",
      "         [16, 17, 18, 19],\n",
      "         [24, 25, 26, 27],\n",
      "         [32, 33, 34, 35]],\n",
      "\n",
      "        [[ 9, 10, 11, 12],\n",
      "         [17, 18, 19, 20],\n",
      "         [25, 26, 27, 28],\n",
      "         [33, 34, 35, 36]],\n",
      "\n",
      "        [[10, 11, 12, 13],\n",
      "         [18, 19, 20, 21],\n",
      "         [26, 27, 28, 29],\n",
      "         [34, 35, 36, 37]],\n",
      "\n",
      "        [[11, 12, 13, 14],\n",
      "         [19, 20, 21, 22],\n",
      "         [27, 28, 29, 30],\n",
      "         [35, 36, 37, 38]],\n",
      "\n",
      "        [[12, 13, 14, 15],\n",
      "         [20, 21, 22, 23],\n",
      "         [28, 29, 30, 31],\n",
      "         [36, 37, 38, 39]],\n",
      "\n",
      "        [[16, 17, 18, 19],\n",
      "         [24, 25, 26, 27],\n",
      "         [32, 33, 34, 35],\n",
      "         [40, 41, 42, 43]],\n",
      "\n",
      "        [[17, 18, 19, 20],\n",
      "         [25, 26, 27, 28],\n",
      "         [33, 34, 35, 36],\n",
      "         [41, 42, 43, 44]],\n",
      "\n",
      "        [[18, 19, 20, 21],\n",
      "         [26, 27, 28, 29],\n",
      "         [34, 35, 36, 37],\n",
      "         [42, 43, 44, 45]],\n",
      "\n",
      "        [[19, 20, 21, 22],\n",
      "         [27, 28, 29, 30],\n",
      "         [35, 36, 37, 38],\n",
      "         [43, 44, 45, 46]],\n",
      "\n",
      "        [[20, 21, 22, 23],\n",
      "         [28, 29, 30, 31],\n",
      "         [36, 37, 38, 39],\n",
      "         [44, 45, 46, 47]],\n",
      "\n",
      "        [[24, 25, 26, 27],\n",
      "         [32, 33, 34, 35],\n",
      "         [40, 41, 42, 43],\n",
      "         [48, 49, 50, 51]],\n",
      "\n",
      "        [[25, 26, 27, 28],\n",
      "         [33, 34, 35, 36],\n",
      "         [41, 42, 43, 44],\n",
      "         [49, 50, 51, 52]],\n",
      "\n",
      "        [[26, 27, 28, 29],\n",
      "         [34, 35, 36, 37],\n",
      "         [42, 43, 44, 45],\n",
      "         [50, 51, 52, 53]],\n",
      "\n",
      "        [[27, 28, 29, 30],\n",
      "         [35, 36, 37, 38],\n",
      "         [43, 44, 45, 46],\n",
      "         [51, 52, 53, 54]],\n",
      "\n",
      "        [[28, 29, 30, 31],\n",
      "         [36, 37, 38, 39],\n",
      "         [44, 45, 46, 47],\n",
      "         [52, 53, 54, 55]],\n",
      "\n",
      "        [[32, 33, 34, 35],\n",
      "         [40, 41, 42, 43],\n",
      "         [48, 49, 50, 51],\n",
      "         [56, 57, 58, 59]],\n",
      "\n",
      "        [[33, 34, 35, 36],\n",
      "         [41, 42, 43, 44],\n",
      "         [49, 50, 51, 52],\n",
      "         [57, 58, 59, 60]],\n",
      "\n",
      "        [[34, 35, 36, 37],\n",
      "         [42, 43, 44, 45],\n",
      "         [50, 51, 52, 53],\n",
      "         [58, 59, 60, 61]],\n",
      "\n",
      "        [[35, 36, 37, 38],\n",
      "         [43, 44, 45, 46],\n",
      "         [51, 52, 53, 54],\n",
      "         [59, 60, 61, 62]],\n",
      "\n",
      "        [[36, 37, 38, 39],\n",
      "         [44, 45, 46, 47],\n",
      "         [52, 53, 54, 55],\n",
      "         [60, 61, 62, 63]]], dtype=torch.int32)\n"
     ]
    }
   ],
   "execution_count": 194
  },
  {
   "metadata": {
    "ExecuteTime": {
     "end_time": "2024-04-30T13:01:39.122959Z",
     "start_time": "2024-04-30T13:01:39.022432Z"
    }
   },
   "cell_type": "code",
   "source": [
    "testing_0 = helpers.imread_normalized_float_grayscale(os.path.join(\"test\", \"0.jpg\"))\n",
    "testing_0 = np.where(testing_0 > 0.5, 1.0, 0.0)  # TEMPORARY, TO MAKE TEST MORE IDEAL\n",
    "testing_1 = helpers.imread_normalized_float_grayscale(os.path.join(\"test\", \"1.jpg\"))\n",
    "testing_1 = np.where(testing_1 > 0.5, 1.0, 0.0)  # TEMPORARY, TO MAKE TEST MORE IDEAL\n",
    "testtest = np.array(np.split(np.arange(64), 8))\n",
    "def calculate(img1, img2, window_size, overlap):\n",
    "    # Assumptions for simple version: ignoring restrictions and bug checks, assuming window size fits into img with no remainder, overlap is half of window size, images are numpy arrays and perfect squares\n",
    "    # split img1 into windows:\n",
    "    img1_windowed = windowed(img1, window_size)\n",
    "    img2_windowed = windowed(img2, window_size)\n",
    "    return img1_windowed\n",
    "print(calculate(testing_0, testing_1, 16, 1))\n",
    "\n"
   ],
   "id": "8fa4f4c0ce9e1f93",
   "outputs": [
    {
     "name": "stdout",
     "output_type": "stream",
     "text": [
      "[[ 0  1  2  3  4  5  6  7]\n",
      " [ 8  9 10 11 12 13 14 15]\n",
      " [16 17 18 19 20 21 22 23]\n",
      " [24 25 26 27 28 29 30 31]\n",
      " [32 33 34 35 36 37 38 39]\n",
      " [40 41 42 43 44 45 46 47]\n",
      " [48 49 50 51 52 53 54 55]\n",
      " [56 57 58 59 60 61 62 63]]\n",
      "(8, 8)\n",
      "(32, 4)\n",
      "[[[[ 0  1  2  3]\n",
      "   [ 8  9 10 11]\n",
      "   [16 17 18 19]\n",
      "   [24 25 26 27]]\n",
      "\n",
      "  [[ 4  5  6  7]\n",
      "   [12 13 14 15]\n",
      "   [20 21 22 23]\n",
      "   [28 29 30 31]]]\n",
      "\n",
      "\n",
      " [[[32 33 34 35]\n",
      "   [40 41 42 43]\n",
      "   [48 49 50 51]\n",
      "   [56 57 58 59]]\n",
      "\n",
      "  [[36 37 38 39]\n",
      "   [44 45 46 47]\n",
      "   [52 53 54 55]\n",
      "   [60 61 62 63]]]]\n",
      "(2, 2, 4, 4)\n",
      "(128, 16, 32, 4)\n"
     ]
    }
   ],
   "execution_count": 174
  },
  {
   "metadata": {},
   "cell_type": "code",
   "outputs": [],
   "execution_count": null,
   "source": "",
   "id": "f18af34808bdb514"
  }
 ],
 "metadata": {
  "kernelspec": {
   "display_name": "Python 3",
   "language": "python",
   "name": "python3"
  },
  "language_info": {
   "codemirror_mode": {
    "name": "ipython",
    "version": 2
   },
   "file_extension": ".py",
   "mimetype": "text/x-python",
   "name": "python",
   "nbconvert_exporter": "python",
   "pygments_lexer": "ipython2",
   "version": "2.7.6"
  }
 },
 "nbformat": 4,
 "nbformat_minor": 5
}
