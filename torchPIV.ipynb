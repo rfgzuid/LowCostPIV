{
 "cells": [
  {
   "cell_type": "code",
   "outputs": [
    {
     "name": "stdout",
     "output_type": "stream",
     "text": [
      "Collecting git+https://github.com/bshong2850/QuadTree_2D_Smoke_Super_resolutionNote: you may need to restart the kernel to use updated packages.\n"
     ]
    },
    {
     "name": "stderr",
     "output_type": "stream",
     "text": [
      "  Running command git clone --filter=blob:none --quiet https://github.com/bshong2850/QuadTree_2D_Smoke_Super_resolution 'C:\\Users\\ruben\\AppData\\Local\\Temp\\pip-req-build-qg1bewvj'\n",
      "ERROR: git+https://github.com/bshong2850/QuadTree_2D_Smoke_Super_resolution does not appear to be a Python project: neither 'setup.py' nor 'pyproject.toml' found.\n"
     ]
    },
    {
     "name": "stdout",
     "output_type": "stream",
     "text": [
      "\n",
      "  Cloning https://github.com/bshong2850/QuadTree_2D_Smoke_Super_resolution to c:\\users\\ruben\\appdata\\local\\temp\\pip-req-build-qg1bewvj\n",
      "  Resolved https://github.com/bshong2850/QuadTree_2D_Smoke_Super_resolution to commit 2f125d705e78141856f9f1fcb0ec8efa044603df\n"
     ]
    }
   ],
   "source": [
    "pip install git+https://github.com/bshong2850/QuadTree_2D_Smoke_Super_resolution"
   ],
   "metadata": {
    "collapsed": false,
    "ExecuteTime": {
     "end_time": "2024-04-29T13:38:17.209172700Z",
     "start_time": "2024-04-29T13:38:08.738579200Z"
    }
   },
   "id": "839c7f022598c618",
   "execution_count": 10
  },
  {
   "cell_type": "code",
   "execution_count": 1,
   "id": "initial_id",
   "metadata": {
    "collapsed": true,
    "ExecuteTime": {
     "end_time": "2024-04-30T11:04:21.032373300Z",
     "start_time": "2024-04-30T11:04:09.714059300Z"
    }
   },
   "outputs": [],
   "source": [
    "from lib import OfflinePIV\n",
    "import torch\n",
    "\n",
    "import numpy as np\n",
    "import matplotlib.pyplot as plt\n",
    "import matplotlib.animation as animation\n",
    "\n",
    "import cv2\n",
    "import os\n",
    "import gc"
   ]
  },
  {
   "cell_type": "code",
   "outputs": [
    {
     "name": "stdout",
     "output_type": "stream",
     "text": [
      "Current device: cpu\n"
     ]
    }
   ],
   "source": [
    "gpu_enabled = torch.cuda.is_available()\n",
    "# gpu_enabled = False\n",
    "\n",
    "if gpu_enabled:\n",
    "    device = torch.cuda.get_device_name()\n",
    "else:\n",
    "    device = 'cpu'\n",
    "    \n",
    "print(\"Current device:\", device)"
   ],
   "metadata": {
    "collapsed": false,
    "ExecuteTime": {
     "end_time": "2024-04-30T11:04:23.019998700Z",
     "start_time": "2024-04-30T11:04:23.004795700Z"
    }
   },
   "id": "734584cc0b28c38a",
   "execution_count": 2
  },
  {
   "cell_type": "code",
   "outputs": [],
   "source": [
    "for f in os.listdir('test'):\n",
    "    os.remove(f'test/{f}')\n",
    "\n",
    "test_arr = np.random.choice([0, 255], size=(128, 128), p=[19/20, 1/20]).astype(np.uint8)\n",
    "cv2.imshow('', test_arr)\n",
    "cv2.waitKey(1000)\n",
    "cv2.destroyAllWindows()\n",
    "\n",
    "for i in range(50):\n",
    "    cv2.imwrite(f'test/{i}.jpg', test_arr)\n",
    "    test_arr = np.roll(test_arr, 3)"
   ],
   "metadata": {
    "collapsed": false,
    "ExecuteTime": {
     "end_time": "2024-04-30T11:04:35.837786500Z",
     "start_time": "2024-04-30T11:04:34.754586Z"
    }
   },
   "id": "ed62d7e6a70ac99f",
   "execution_count": 4
  },
  {
   "cell_type": "code",
   "outputs": [],
   "source": [
    "# folder, file_format, (mode, dt) = r\"test images\", \"bmp\", (\"pairs\", 12)\n",
    "# folder, file_format, (mode, dt) = r\"plume simulation\", \"jpg\", (\"sequential\", 500)\n",
    "folder, file_format, (mode, dt) = r\"test\", \"jpg\", (\"sequential\", 500)"
   ],
   "metadata": {
    "collapsed": false,
    "ExecuteTime": {
     "end_time": "2024-04-30T11:04:38.967572700Z",
     "start_time": "2024-04-30T11:04:38.958119Z"
    }
   },
   "id": "34b0935597c881d6",
   "execution_count": 5
  },
  {
   "cell_type": "code",
   "outputs": [
    {
     "data": {
      "text/plain": "886"
     },
     "execution_count": 5,
     "metadata": {},
     "output_type": "execute_result"
    }
   ],
   "source": [
    "torch.cuda.empty_cache()\n",
    "gc.collect()"
   ],
   "metadata": {
    "collapsed": false,
    "ExecuteTime": {
     "end_time": "2024-04-29T13:24:33.786486100Z",
     "start_time": "2024-04-29T13:24:33.667018200Z"
    }
   },
   "id": "dcc5c43a9bf9188f",
   "execution_count": 5
  },
  {
   "cell_type": "code",
   "outputs": [
    {
     "name": "stdout",
     "output_type": "stream",
     "text": [
      "Load time 0.007 sec Correlating... torch.Size([49, 32, 32]) torch.Size([49, 32, 32])\n",
      "Correlating... torch.Size([225, 16, 16]) torch.Size([225, 16, 16])\n",
      "Iteration finished in 0.023 sec Warning! to many false vectors\n",
      "Warning! to many false vectors\n",
      "Batch finished in 0.035 sec\n",
      "Load time 0.002 sec Correlating... torch.Size([49, 32, 32]) torch.Size([49, 32, 32])\n",
      "Correlating... torch.Size([225, 16, 16]) torch.Size([225, 16, 16])\n",
      "Iteration finished in 0.021 sec Warning! to many false vectors\n",
      "Warning! to many false vectors\n",
      "Batch finished in 0.027 sec\n",
      "Load time 0.002 sec Correlating... torch.Size([49, 32, 32]) torch.Size([49, 32, 32])\n",
      "Correlating... torch.Size([225, 16, 16]) torch.Size([225, 16, 16])\n",
      "Iteration finished in 0.021 sec Warning! to many false vectors\n",
      "Warning! to many false vectors\n",
      "Batch finished in 0.029 sec\n",
      "Load time 0.002 sec Correlating... torch.Size([49, 32, 32]) torch.Size([49, 32, 32])\n",
      "Correlating... torch.Size([225, 16, 16]) torch.Size([225, 16, 16])\n",
      "Iteration finished in 0.017 sec Warning! to many false vectors\n",
      "Warning! to many false vectors\n",
      "Batch finished in 0.025 sec\n",
      "Load time 0.002 sec Correlating... torch.Size([49, 32, 32]) torch.Size([49, 32, 32])\n",
      "Correlating... torch.Size([225, 16, 16]) torch.Size([225, 16, 16])\n",
      "Iteration finished in 0.021 sec Warning! to many false vectors\n",
      "Warning! to many false vectors\n",
      "Batch finished in 0.027 sec\n",
      "Load time 0.002 sec Correlating... torch.Size([49, 32, 32]) torch.Size([49, 32, 32])\n",
      "Correlating... torch.Size([225, 16, 16]) torch.Size([225, 16, 16])\n",
      "Iteration finished in 0.019 sec Warning! to many false vectors\n",
      "Warning! to many false vectors\n",
      "Batch finished in 0.024 sec\n",
      "Load time 0.002 sec Correlating... torch.Size([49, 32, 32]) torch.Size([49, 32, 32])\n",
      "Correlating... torch.Size([225, 16, 16]) torch.Size([225, 16, 16])\n",
      "Iteration finished in 0.019 sec Warning! to many false vectors\n",
      "Warning! to many false vectors\n",
      "Batch finished in 0.026 sec\n",
      "Load time 0.002 sec Correlating... torch.Size([49, 32, 32]) torch.Size([49, 32, 32])\n",
      "Correlating... torch.Size([225, 16, 16]) torch.Size([225, 16, 16])\n",
      "Iteration finished in 0.017 sec Warning! to many false vectors\n",
      "Warning! to many false vectors\n",
      "Batch finished in 0.024 sec\n",
      "Load time 0.001 sec Correlating... torch.Size([49, 32, 32]) torch.Size([49, 32, 32])\n",
      "Correlating... torch.Size([225, 16, 16]) torch.Size([225, 16, 16])\n",
      "Iteration finished in 0.021 sec Warning! to many false vectors\n",
      "Warning! to many false vectors\n",
      "Batch finished in 0.028 sec\n",
      "Load time 0.002 sec Correlating... torch.Size([49, 32, 32]) torch.Size([49, 32, 32])\n",
      "Correlating... torch.Size([225, 16, 16]) torch.Size([225, 16, 16])\n",
      "Iteration finished in 0.022 sec Warning! to many false vectors\n",
      "Warning! to many false vectors\n",
      "Batch finished in 0.030 sec\n",
      "Load time 0.002 sec Correlating... torch.Size([49, 32, 32]) torch.Size([49, 32, 32])\n",
      "Correlating... torch.Size([225, 16, 16]) torch.Size([225, 16, 16])\n",
      "Iteration finished in 0.019 sec Warning! to many false vectors\n",
      "Warning! to many false vectors\n",
      "Batch finished in 0.026 sec\n",
      "Load time 0.002 sec Correlating... torch.Size([49, 32, 32]) torch.Size([49, 32, 32])\n",
      "Correlating... torch.Size([225, 16, 16]) torch.Size([225, 16, 16])\n",
      "Iteration finished in 0.019 sec Warning! to many false vectors\n",
      "Warning! to many false vectors\n",
      "Batch finished in 0.025 sec\n",
      "Load time 0.001 sec Correlating... torch.Size([49, 32, 32]) torch.Size([49, 32, 32])\n",
      "Correlating... torch.Size([225, 16, 16]) torch.Size([225, 16, 16])\n",
      "Iteration finished in 0.019 sec Warning! to many false vectors\n",
      "Warning! to many false vectors\n",
      "Batch finished in 0.027 sec\n",
      "Load time 0.002 sec Correlating... torch.Size([49, 32, 32]) torch.Size([49, 32, 32])\n",
      "Correlating... torch.Size([225, 16, 16]) torch.Size([225, 16, 16])\n",
      "Iteration finished in 0.020 sec Warning! to many false vectors\n",
      "Warning! to many false vectors\n",
      "Batch finished in 0.027 sec\n",
      "Load time 0.002 sec Correlating... torch.Size([49, 32, 32]) torch.Size([49, 32, 32])\n",
      "Correlating... torch.Size([225, 16, 16]) torch.Size([225, 16, 16])\n",
      "Iteration finished in 0.019 sec Warning! to many false vectors\n",
      "Warning! to many false vectors\n",
      "Batch finished in 0.026 sec\n",
      "Load time 0.001 sec Correlating... torch.Size([49, 32, 32]) torch.Size([49, 32, 32])\n",
      "Correlating... torch.Size([225, 16, 16]) torch.Size([225, 16, 16])\n",
      "Iteration finished in 0.020 sec Warning! to many false vectors\n",
      "Warning! to many false vectors\n",
      "Batch finished in 0.028 sec\n",
      "Load time 0.002 sec Correlating... torch.Size([49, 32, 32]) torch.Size([49, 32, 32])\n",
      "Correlating... torch.Size([225, 16, 16]) torch.Size([225, 16, 16])\n",
      "Iteration finished in 0.019 sec Warning! to many false vectors\n",
      "Warning! to many false vectors\n",
      "Batch finished in 0.026 sec\n",
      "Load time 0.002 sec Correlating... torch.Size([49, 32, 32]) torch.Size([49, 32, 32])\n",
      "Correlating... torch.Size([225, 16, 16]) torch.Size([225, 16, 16])\n",
      "Iteration finished in 0.018 sec Warning! to many false vectors\n",
      "Warning! to many false vectors\n",
      "Batch finished in 0.026 sec\n",
      "Load time 0.002 sec Correlating... torch.Size([49, 32, 32]) torch.Size([49, 32, 32])\n",
      "Correlating... torch.Size([225, 16, 16]) torch.Size([225, 16, 16])\n",
      "Iteration finished in 0.016 sec Warning! to many false vectors\n",
      "Warning! to many false vectors\n",
      "Batch finished in 0.023 sec\n",
      "Load time 0.001 sec Correlating... torch.Size([49, 32, 32]) torch.Size([49, 32, 32])\n",
      "Correlating... torch.Size([225, 16, 16]) torch.Size([225, 16, 16])\n",
      "Iteration finished in 0.018 sec Warning! to many false vectors\n",
      "Warning! to many false vectors\n",
      "Batch finished in 0.025 sec\n",
      "Load time 0.001 sec Correlating... torch.Size([49, 32, 32]) torch.Size([49, 32, 32])\n",
      "Correlating... torch.Size([225, 16, 16]) torch.Size([225, 16, 16])\n",
      "Iteration finished in 0.016 sec Warning! to many false vectors\n",
      "Warning! to many false vectors\n",
      "Batch finished in 0.023 sec\n",
      "Load time 0.001 sec Correlating... torch.Size([49, 32, 32]) torch.Size([49, 32, 32])\n",
      "Correlating... torch.Size([225, 16, 16]) torch.Size([225, 16, 16])\n",
      "Iteration finished in 0.018 sec Warning! to many false vectors\n",
      "Warning! to many false vectors\n",
      "Batch finished in 0.025 sec\n",
      "Load time 0.002 sec Correlating... torch.Size([49, 32, 32]) torch.Size([49, 32, 32])\n",
      "Correlating... torch.Size([225, 16, 16]) torch.Size([225, 16, 16])\n",
      "Iteration finished in 0.018 sec Warning! to many false vectors\n",
      "Warning! to many false vectors\n",
      "Batch finished in 0.026 sec\n",
      "Load time 0.002 sec Correlating... torch.Size([49, 32, 32]) torch.Size([49, 32, 32])\n",
      "Correlating... torch.Size([225, 16, 16]) torch.Size([225, 16, 16])\n",
      "Iteration finished in 0.019 sec Warning! to many false vectors\n",
      "Warning! to many false vectors\n",
      "Batch finished in 0.023 sec\n",
      "Load time 0.003 sec Correlating... torch.Size([49, 32, 32]) torch.Size([49, 32, 32])\n",
      "Correlating... torch.Size([225, 16, 16]) torch.Size([225, 16, 16])\n",
      "Iteration finished in 0.020 sec Warning! to many false vectors\n",
      "Warning! to many false vectors\n",
      "Batch finished in 0.027 sec\n",
      "Load time 0.002 sec Correlating... torch.Size([49, 32, 32]) torch.Size([49, 32, 32])\n",
      "Correlating... torch.Size([225, 16, 16]) torch.Size([225, 16, 16])\n",
      "Iteration finished in 0.018 sec Warning! to many false vectors\n",
      "Warning! to many false vectors\n",
      "Batch finished in 0.026 sec\n",
      "Load time 0.002 sec Correlating... torch.Size([49, 32, 32]) torch.Size([49, 32, 32])\n",
      "Correlating... torch.Size([225, 16, 16]) torch.Size([225, 16, 16])\n",
      "Iteration finished in 0.020 sec Warning! to many false vectors\n",
      "Warning! to many false vectors\n",
      "Batch finished in 0.027 sec\n",
      "Load time 0.002 sec Correlating... torch.Size([49, 32, 32]) torch.Size([49, 32, 32])\n",
      "Correlating... torch.Size([225, 16, 16]) torch.Size([225, 16, 16])\n",
      "Iteration finished in 0.019 sec Warning! to many false vectors\n",
      "Warning! to many false vectors\n",
      "Batch finished in 0.026 sec\n",
      "Load time 0.002 sec Correlating... torch.Size([49, 32, 32]) torch.Size([49, 32, 32])\n",
      "Correlating... torch.Size([225, 16, 16]) torch.Size([225, 16, 16])\n",
      "Iteration finished in 0.019 sec Warning! to many false vectors\n",
      "Warning! to many false vectors\n",
      "Batch finished in 0.025 sec\n",
      "Load time 0.002 sec Correlating... torch.Size([49, 32, 32]) torch.Size([49, 32, 32])\n",
      "Correlating... torch.Size([225, 16, 16]) torch.Size([225, 16, 16])\n",
      "Iteration finished in 0.018 sec Warning! to many false vectors\n",
      "Warning! to many false vectors\n",
      "Batch finished in 0.028 sec\n",
      "Load time 0.001 sec Correlating... torch.Size([49, 32, 32]) torch.Size([49, 32, 32])\n",
      "Correlating... torch.Size([225, 16, 16]) torch.Size([225, 16, 16])\n",
      "Iteration finished in 0.019 sec Warning! to many false vectors\n",
      "Warning! to many false vectors\n",
      "Batch finished in 0.025 sec\n",
      "Load time 0.002 sec Correlating... torch.Size([49, 32, 32]) torch.Size([49, 32, 32])\n",
      "Correlating... torch.Size([225, 16, 16]) torch.Size([225, 16, 16])\n",
      "Iteration finished in 0.020 sec Warning! to many false vectors\n",
      "Warning! to many false vectors\n",
      "Batch finished in 0.027 sec\n",
      "Load time 0.002 sec Correlating... torch.Size([49, 32, 32]) torch.Size([49, 32, 32])\n",
      "Correlating... torch.Size([225, 16, 16]) torch.Size([225, 16, 16])\n",
      "Iteration finished in 0.019 sec Warning! to many false vectors\n",
      "Warning! to many false vectors\n",
      "Batch finished in 0.027 sec\n",
      "Load time 0.002 sec Correlating... torch.Size([49, 32, 32]) torch.Size([49, 32, 32])\n",
      "Correlating... torch.Size([225, 16, 16]) torch.Size([225, 16, 16])\n",
      "Iteration finished in 0.018 sec Warning! to many false vectors\n",
      "Warning! to many false vectors\n",
      "Batch finished in 0.026 sec\n",
      "Load time 0.001 sec Correlating... torch.Size([49, 32, 32]) torch.Size([49, 32, 32])\n",
      "Correlating... torch.Size([225, 16, 16]) torch.Size([225, 16, 16])\n",
      "Iteration finished in 0.016 sec Warning! to many false vectors\n",
      "Warning! to many false vectors\n",
      "Batch finished in 0.024 sec\n",
      "Load time 0.001 sec Correlating... torch.Size([49, 32, 32]) torch.Size([49, 32, 32])\n",
      "Correlating... torch.Size([225, 16, 16]) torch.Size([225, 16, 16])\n",
      "Iteration finished in 0.019 sec Warning! to many false vectors\n",
      "Warning! to many false vectors\n",
      "Batch finished in 0.025 sec\n",
      "Load time 0.001 sec Correlating... torch.Size([49, 32, 32]) torch.Size([49, 32, 32])\n",
      "Correlating... torch.Size([225, 16, 16]) torch.Size([225, 16, 16])\n",
      "Iteration finished in 0.017 sec Warning! to many false vectors\n",
      "Warning! to many false vectors\n",
      "Batch finished in 0.023 sec\n",
      "Load time 0.002 sec Correlating... torch.Size([49, 32, 32]) torch.Size([49, 32, 32])\n",
      "Correlating... torch.Size([225, 16, 16]) torch.Size([225, 16, 16])\n",
      "Iteration finished in 0.019 sec Warning! to many false vectors\n",
      "Warning! to many false vectors\n",
      "Batch finished in 0.025 sec\n",
      "Load time 0.001 sec Correlating... torch.Size([49, 32, 32]) torch.Size([49, 32, 32])\n",
      "Correlating... torch.Size([225, 16, 16]) torch.Size([225, 16, 16])\n",
      "Iteration finished in 0.020 sec Warning! to many false vectors\n",
      "Warning! to many false vectors\n",
      "Batch finished in 0.026 sec\n",
      "Load time 0.002 sec Correlating... torch.Size([49, 32, 32]) torch.Size([49, 32, 32])\n",
      "Correlating... torch.Size([225, 16, 16]) torch.Size([225, 16, 16])\n",
      "Iteration finished in 0.019 sec Warning! to many false vectors\n",
      "Warning! to many false vectors\n",
      "Batch finished in 0.026 sec\n",
      "Load time 0.002 sec Correlating... torch.Size([49, 32, 32]) torch.Size([49, 32, 32])\n",
      "Correlating... torch.Size([225, 16, 16]) torch.Size([225, 16, 16])\n",
      "Iteration finished in 0.021 sec Warning! to many false vectors\n",
      "Warning! to many false vectors\n",
      "Batch finished in 0.028 sec\n",
      "Load time 0.001 sec Correlating... torch.Size([49, 32, 32]) torch.Size([49, 32, 32])\n",
      "Correlating... torch.Size([225, 16, 16]) torch.Size([225, 16, 16])\n",
      "Iteration finished in 0.020 sec Warning! to many false vectors\n",
      "Warning! to many false vectors\n",
      "Batch finished in 0.028 sec\n",
      "Load time 0.003 sec Correlating... torch.Size([49, 32, 32]) torch.Size([49, 32, 32])\n",
      "Correlating... torch.Size([225, 16, 16]) torch.Size([225, 16, 16])\n",
      "Iteration finished in 0.020 sec Warning! to many false vectors\n",
      "Warning! to many false vectors\n",
      "Batch finished in 0.027 sec\n",
      "Load time 0.003 sec Correlating... torch.Size([49, 32, 32]) torch.Size([49, 32, 32])\n",
      "Correlating... torch.Size([225, 16, 16]) torch.Size([225, 16, 16])\n",
      "Iteration finished in 0.021 sec Warning! to many false vectors\n",
      "Warning! to many false vectors\n",
      "Batch finished in 0.027 sec\n",
      "Load time 0.003 sec Correlating... torch.Size([49, 32, 32]) torch.Size([49, 32, 32])\n",
      "Correlating... torch.Size([225, 16, 16]) torch.Size([225, 16, 16])\n",
      "Iteration finished in 0.019 sec Warning! to many false vectors\n",
      "Warning! to many false vectors\n",
      "Batch finished in 0.025 sec\n",
      "Load time 0.001 sec Correlating... torch.Size([49, 32, 32]) torch.Size([49, 32, 32])\n",
      "Correlating... torch.Size([225, 16, 16]) torch.Size([225, 16, 16])\n",
      "Iteration finished in 0.020 sec Warning! to many false vectors\n",
      "Warning! to many false vectors\n",
      "Batch finished in 0.027 sec\n",
      "Load time 0.002 sec Correlating... torch.Size([49, 32, 32]) torch.Size([49, 32, 32])\n",
      "Correlating... torch.Size([225, 16, 16]) torch.Size([225, 16, 16])\n",
      "Iteration finished in 0.022 sec Warning! to many false vectors\n",
      "Warning! to many false vectors\n",
      "Batch finished in 0.028 sec\n",
      "Load time 0.002 sec Correlating... torch.Size([49, 32, 32]) torch.Size([49, 32, 32])\n",
      "Correlating... torch.Size([225, 16, 16]) torch.Size([225, 16, 16])\n",
      "Iteration finished in 0.020 sec Warning! to many false vectors\n",
      "Warning! to many false vectors\n",
      "Batch finished in 0.028 sec\n",
      "Load time 0.002 sec Correlating... torch.Size([49, 32, 32]) torch.Size([49, 32, 32])\n",
      "Correlating... torch.Size([225, 16, 16]) torch.Size([225, 16, 16])\n",
      "Iteration finished in 0.019 sec Warning! to many false vectors\n",
      "Warning! to many false vectors\n",
      "Batch finished in 0.026 sec\n"
     ]
    }
   ],
   "source": [
    "piv_gen = OfflinePIV(\n",
    "    folder=folder, # Path to experiment\n",
    "    device=device, # Device name\n",
    "    file_fmt=file_format,\n",
    "    wind_size=32,\n",
    "    overlap=16,\n",
    "    dt=dt, # Time between frames, mcs\n",
    "    scale = 0.02, # mm/pix\n",
    "    multipass=2,\n",
    "    multipass_mode=\"CWS\", # CWS or DWS\n",
    "    multipass_scale=2.0, # Window downscale on each pass\n",
    "    folder_mode=mode # Pairs or sequential frames \n",
    ")\n",
    "\n",
    "results = []\n",
    "for out in piv_gen():\n",
    "    x, y, vx, vy = out\n",
    "    results.append(out)"
   ],
   "metadata": {
    "collapsed": false,
    "ExecuteTime": {
     "end_time": "2024-04-30T11:35:09.985707700Z",
     "start_time": "2024-04-30T11:35:08.573740800Z"
    }
   },
   "id": "721ae697118c7de8",
   "execution_count": 8
  },
  {
   "cell_type": "code",
   "outputs": [
    {
     "ename": "KeyboardInterrupt",
     "evalue": "",
     "output_type": "error",
     "traceback": [
      "\u001B[1;31m---------------------------------------------------------------------------\u001B[0m",
      "\u001B[1;31mKeyboardInterrupt\u001B[0m                         Traceback (most recent call last)",
      "Cell \u001B[1;32mIn[7], line 11\u001B[0m\n\u001B[0;32m      9\u001B[0m plt\u001B[38;5;241m.\u001B[39mimshow(img, cmap\u001B[38;5;241m=\u001B[39m\u001B[38;5;124m'\u001B[39m\u001B[38;5;124mgray\u001B[39m\u001B[38;5;124m'\u001B[39m)\n\u001B[0;32m     10\u001B[0m plt\u001B[38;5;241m.\u001B[39mquiver(new_x, new_y, vx, vy, color\u001B[38;5;241m=\u001B[39m\u001B[38;5;124m'\u001B[39m\u001B[38;5;124mred\u001B[39m\u001B[38;5;124m'\u001B[39m)\n\u001B[1;32m---> 11\u001B[0m \u001B[43mplt\u001B[49m\u001B[38;5;241;43m.\u001B[39;49m\u001B[43mshow\u001B[49m\u001B[43m(\u001B[49m\u001B[43m)\u001B[49m\n",
      "File \u001B[1;32m~\\AppData\\Local\\Programs\\Python\\Python311\\Lib\\site-packages\\matplotlib\\pyplot.py:527\u001B[0m, in \u001B[0;36mshow\u001B[1;34m(*args, **kwargs)\u001B[0m\n\u001B[0;32m    483\u001B[0m \u001B[38;5;250m\u001B[39m\u001B[38;5;124;03m\"\"\"\u001B[39;00m\n\u001B[0;32m    484\u001B[0m \u001B[38;5;124;03mDisplay all open figures.\u001B[39;00m\n\u001B[0;32m    485\u001B[0m \n\u001B[1;32m   (...)\u001B[0m\n\u001B[0;32m    524\u001B[0m \u001B[38;5;124;03mexplicitly there.\u001B[39;00m\n\u001B[0;32m    525\u001B[0m \u001B[38;5;124;03m\"\"\"\u001B[39;00m\n\u001B[0;32m    526\u001B[0m _warn_if_gui_out_of_main_thread()\n\u001B[1;32m--> 527\u001B[0m \u001B[38;5;28;01mreturn\u001B[39;00m \u001B[43m_get_backend_mod\u001B[49m\u001B[43m(\u001B[49m\u001B[43m)\u001B[49m\u001B[38;5;241;43m.\u001B[39;49m\u001B[43mshow\u001B[49m\u001B[43m(\u001B[49m\u001B[38;5;241;43m*\u001B[39;49m\u001B[43margs\u001B[49m\u001B[43m,\u001B[49m\u001B[43m \u001B[49m\u001B[38;5;241;43m*\u001B[39;49m\u001B[38;5;241;43m*\u001B[39;49m\u001B[43mkwargs\u001B[49m\u001B[43m)\u001B[49m\n",
      "File \u001B[1;32m~\\AppData\\Local\\Programs\\Python\\Python311\\Lib\\site-packages\\matplotlib\\backend_bases.py:3442\u001B[0m, in \u001B[0;36m_Backend.show\u001B[1;34m(cls, block)\u001B[0m\n\u001B[0;32m   3440\u001B[0m     block \u001B[38;5;241m=\u001B[39m \u001B[38;5;129;01mnot\u001B[39;00m ipython_pylab \u001B[38;5;129;01mand\u001B[39;00m \u001B[38;5;129;01mnot\u001B[39;00m is_interactive()\n\u001B[0;32m   3441\u001B[0m \u001B[38;5;28;01mif\u001B[39;00m block:\n\u001B[1;32m-> 3442\u001B[0m     \u001B[38;5;28;43mcls\u001B[39;49m\u001B[38;5;241;43m.\u001B[39;49m\u001B[43mmainloop\u001B[49m\u001B[43m(\u001B[49m\u001B[43m)\u001B[49m\n",
      "File \u001B[1;32m~\\AppData\\Local\\Programs\\Python\\Python311\\Lib\\site-packages\\matplotlib\\backends\\backend_qt.py:593\u001B[0m, in \u001B[0;36mFigureManagerQT.start_main_loop\u001B[1;34m(cls)\u001B[0m\n\u001B[0;32m    591\u001B[0m qapp \u001B[38;5;241m=\u001B[39m QtWidgets\u001B[38;5;241m.\u001B[39mQApplication\u001B[38;5;241m.\u001B[39minstance()\n\u001B[0;32m    592\u001B[0m \u001B[38;5;28;01mif\u001B[39;00m qapp:\n\u001B[1;32m--> 593\u001B[0m \u001B[43m    \u001B[49m\u001B[38;5;28;43;01mwith\u001B[39;49;00m\u001B[43m \u001B[49m\u001B[43m_maybe_allow_interrupt\u001B[49m\u001B[43m(\u001B[49m\u001B[43mqapp\u001B[49m\u001B[43m)\u001B[49m\u001B[43m:\u001B[49m\n\u001B[0;32m    594\u001B[0m \u001B[43m        \u001B[49m\u001B[43mqt_compat\u001B[49m\u001B[38;5;241;43m.\u001B[39;49m\u001B[43m_exec\u001B[49m\u001B[43m(\u001B[49m\u001B[43mqapp\u001B[49m\u001B[43m)\u001B[49m\n",
      "File \u001B[1;32m~\\AppData\\Local\\Programs\\Python\\Python311\\Lib\\contextlib.py:144\u001B[0m, in \u001B[0;36m_GeneratorContextManager.__exit__\u001B[1;34m(self, typ, value, traceback)\u001B[0m\n\u001B[0;32m    142\u001B[0m \u001B[38;5;28;01mif\u001B[39;00m typ \u001B[38;5;129;01mis\u001B[39;00m \u001B[38;5;28;01mNone\u001B[39;00m:\n\u001B[0;32m    143\u001B[0m     \u001B[38;5;28;01mtry\u001B[39;00m:\n\u001B[1;32m--> 144\u001B[0m         \u001B[38;5;28mnext\u001B[39m(\u001B[38;5;28mself\u001B[39m\u001B[38;5;241m.\u001B[39mgen)\n\u001B[0;32m    145\u001B[0m     \u001B[38;5;28;01mexcept\u001B[39;00m \u001B[38;5;167;01mStopIteration\u001B[39;00m:\n\u001B[0;32m    146\u001B[0m         \u001B[38;5;28;01mreturn\u001B[39;00m \u001B[38;5;28;01mFalse\u001B[39;00m\n",
      "File \u001B[1;32m~\\AppData\\Local\\Programs\\Python\\Python311\\Lib\\site-packages\\matplotlib\\backends\\qt_compat.py:230\u001B[0m, in \u001B[0;36m_maybe_allow_interrupt\u001B[1;34m(qapp)\u001B[0m\n\u001B[0;32m    228\u001B[0m signal\u001B[38;5;241m.\u001B[39msignal(signal\u001B[38;5;241m.\u001B[39mSIGINT, old_sigint_handler)\n\u001B[0;32m    229\u001B[0m \u001B[38;5;28;01mif\u001B[39;00m handler_args \u001B[38;5;129;01mis\u001B[39;00m \u001B[38;5;129;01mnot\u001B[39;00m \u001B[38;5;28;01mNone\u001B[39;00m:\n\u001B[1;32m--> 230\u001B[0m     \u001B[43mold_sigint_handler\u001B[49m\u001B[43m(\u001B[49m\u001B[38;5;241;43m*\u001B[39;49m\u001B[43mhandler_args\u001B[49m\u001B[43m)\u001B[49m\n",
      "\u001B[1;31mKeyboardInterrupt\u001B[0m: "
     ]
    }
   ],
   "source": [
    "files = os.listdir(folder)\n",
    "\n",
    "for idx, (x, y, vx, vy) in enumerate(results):\n",
    "    img = cv2.imread(folder + f\"/{files[idx]}\", cv2.IMREAD_GRAYSCALE)\n",
    "\n",
    "    new_x = x/piv_gen._scale\n",
    "    new_y = y/piv_gen._scale\n",
    "\n",
    "    plt.imshow(img, cmap='gray')\n",
    "    plt.quiver(new_x, new_y, vx, vy, color='red')\n",
    "    plt.show()"
   ],
   "metadata": {
    "collapsed": false,
    "ExecuteTime": {
     "end_time": "2024-04-30T11:05:06.857000700Z",
     "start_time": "2024-04-30T11:04:53.158935400Z"
    }
   },
   "id": "2a42401b293451c8",
   "execution_count": 7
  },
  {
   "cell_type": "code",
   "outputs": [],
   "source": [
    "for img_file in os.listdir(folder):\n",
    "    img = cv2.imread(folder + f\"/{img_file}\", cv2.IMREAD_GRAYSCALE)\n",
    "    xsize, ysize = img.shape\n",
    "    \n",
    "    newx, newy = int(xsize), int(ysize)\n",
    "    img = cv2.resize(img, (newx, newy), interpolation= cv2.INTER_LINEAR)\n",
    "    \n",
    "    cv2.imshow(str(img_file), img)\n",
    "    cv2.waitKey(0)\n",
    "    cv2.destroyAllWindows()"
   ],
   "metadata": {
    "collapsed": false,
    "ExecuteTime": {
     "end_time": "2024-04-29T10:31:07.890612Z",
     "start_time": "2024-04-29T10:30:38.472992800Z"
    }
   },
   "id": "1c11b400d39a398a",
   "execution_count": 6
  },
  {
   "cell_type": "code",
   "outputs": [],
   "source": [],
   "metadata": {
    "collapsed": false
   },
   "id": "acdf654943de23ef",
   "execution_count": null
  }
 ],
 "metadata": {
  "kernelspec": {
   "display_name": "Python 3",
   "language": "python",
   "name": "python3"
  },
  "language_info": {
   "codemirror_mode": {
    "name": "ipython",
    "version": 2
   },
   "file_extension": ".py",
   "mimetype": "text/x-python",
   "name": "python",
   "nbconvert_exporter": "python",
   "pygments_lexer": "ipython2",
   "version": "2.7.6"
  }
 },
 "nbformat": 4,
 "nbformat_minor": 5
}
