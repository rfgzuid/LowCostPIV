{
 "cells": [
  {
   "cell_type": "code",
   "execution_count": 1,
   "id": "initial_id",
   "metadata": {
    "collapsed": true,
    "ExecuteTime": {
     "end_time": "2024-04-25T12:00:53.378233600Z",
     "start_time": "2024-04-25T12:00:16.710398900Z"
    }
   },
   "outputs": [],
   "source": [
    "from torchPIV import OfflinePIV\n",
    "import torch\n",
    "\n",
    "import numpy as np\n",
    "import matplotlib.pyplot as plt\n",
    "\n",
    "import cv2\n",
    "import os"
   ]
  },
  {
   "cell_type": "code",
   "outputs": [],
   "source": [
    "gpu_enabled = torch.cuda.is_available()\n",
    "\n",
    "if gpu_enabled:\n",
    "    device = torch.cuda.get_device_name()\n",
    "else:\n",
    "    device = 'cpu'"
   ],
   "metadata": {
    "collapsed": false,
    "ExecuteTime": {
     "end_time": "2024-04-25T12:00:53.398752700Z",
     "start_time": "2024-04-25T12:00:53.380619700Z"
    }
   },
   "id": "734584cc0b28c38a",
   "execution_count": 2
  },
  {
   "cell_type": "code",
   "outputs": [
    {
     "name": "stdout",
     "output_type": "stream",
     "text": [
      "Load time 0.061 sec Iteration finished in 0.392 sec Batch finished in 0.976 sec\n",
      "Load time 0.023 sec Iteration finished in 0.388 sec Batch finished in 0.472 sec\n",
      "Load time 0.021 sec Iteration finished in 0.420 sec Batch finished in 0.598 sec\n",
      "Load time 0.066 sec Iteration finished in 0.389 sec Batch finished in 0.518 sec\n",
      "Load time 0.022 sec Iteration finished in 0.384 sec Batch finished in 0.464 sec\n",
      "Load time 0.022 sec Iteration finished in 0.383 sec Batch finished in 0.461 sec\n",
      "Load time 0.022 sec Iteration finished in 0.385 sec Batch finished in 0.461 sec\n",
      "Load time 0.023 sec Iteration finished in 0.383 sec Batch finished in 0.458 sec\n",
      "Load time 0.023 sec Iteration finished in 0.387 sec Batch finished in 0.470 sec\n",
      "Load time 0.022 sec Iteration finished in 0.383 sec Batch finished in 0.456 sec\n",
      "Load time 0.024 sec Iteration finished in 0.383 sec Batch finished in 0.463 sec\n"
     ]
    }
   ],
   "source": [
    "piv_gen = OfflinePIV(\n",
    "    folder=\"test_imgs\", # Path to experiment\n",
    "    device=device, # Device name\n",
    "    file_fmt=\"bmp\",\n",
    "    wind_size=256,\n",
    "    overlap=128,\n",
    "    dt=12, # Time between frames, mcs\n",
    "    scale = 0.02, # mm/pix\n",
    "    multipass=2,\n",
    "    multipass_mode=\"CWS\", # CWS or DWS\n",
    "    multipass_scale=2.0, # Window downscale on each pass\n",
    "    folder_mode=\"pairs\" # Pairs or sequential frames \n",
    ")\n",
    "\n",
    "results = []\n",
    "for out in piv_gen():\n",
    "    x, y, vx, vy = out\n",
    "    results.append(out)"
   ],
   "metadata": {
    "collapsed": false,
    "ExecuteTime": {
     "end_time": "2024-04-25T12:02:46.334525400Z",
     "start_time": "2024-04-25T12:02:39.936455800Z"
    }
   },
   "id": "721ae697118c7de8",
   "execution_count": 6
  },
  {
   "cell_type": "code",
   "outputs": [],
   "source": [
    "files = os.listdir(r'test_imgs')\n",
    "\n",
    "for frame, (x, y, vx, vy) in enumerate(results):\n",
    "    img = cv2.imread(rf'test_imgs/{files[frame]}', cv2.IMREAD_GRAYSCALE)\n",
    "    \n",
    "    x *= img.shape[0] / np.max(x)\n",
    "    y *= img.shape[1] / np.max(y)\n",
    "    \n",
    "    plt.imshow(img)\n",
    "    plt.quiver(x, y, vx, vy)\n",
    "    plt.title(frame)\n",
    "    plt.show()"
   ],
   "metadata": {
    "collapsed": false,
    "ExecuteTime": {
     "end_time": "2024-04-25T12:11:00.730095400Z",
     "start_time": "2024-04-25T12:10:32.423486600Z"
    }
   },
   "id": "2a42401b293451c8",
   "execution_count": 18
  },
  {
   "cell_type": "code",
   "outputs": [],
   "source": [
    "for img_file in os.listdir(r'test_imgs'):\n",
    "    img = cv2.imread(rf'test_imgs/{img_file}', cv2.IMREAD_GRAYSCALE)\n",
    "    xsize, ysize = img.shape\n",
    "    \n",
    "    newx, newy = int(xsize*0.3), int(ysize*0.3)\n",
    "    img = cv2.resize(img, (newx, newy), interpolation= cv2.INTER_LINEAR)\n",
    "    \n",
    "    cv2.imshow('IMAGE', img)\n",
    "    cv2.waitKey(0)\n",
    "    cv2.destroyAllWindows()"
   ],
   "metadata": {
    "collapsed": false,
    "ExecuteTime": {
     "end_time": "2024-04-25T12:04:24.937329700Z",
     "start_time": "2024-04-25T12:04:12.725426300Z"
    }
   },
   "id": "1c11b400d39a398a",
   "execution_count": 11
  },
  {
   "cell_type": "code",
   "outputs": [],
   "source": [],
   "metadata": {
    "collapsed": false
   },
   "id": "acdf654943de23ef"
  }
 ],
 "metadata": {
  "kernelspec": {
   "display_name": "Python 3",
   "language": "python",
   "name": "python3"
  },
  "language_info": {
   "codemirror_mode": {
    "name": "ipython",
    "version": 2
   },
   "file_extension": ".py",
   "mimetype": "text/x-python",
   "name": "python",
   "nbconvert_exporter": "python",
   "pygments_lexer": "ipython2",
   "version": "2.7.6"
  }
 },
 "nbformat": 4,
 "nbformat_minor": 5
}
