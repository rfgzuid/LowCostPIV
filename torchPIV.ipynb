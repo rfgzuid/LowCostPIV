{
 "cells": [
  {
   "cell_type": "code",
   "execution_count": 21,
   "id": "initial_id",
   "metadata": {
    "collapsed": true,
    "ExecuteTime": {
     "end_time": "2024-04-24T14:49:08.113463600Z",
     "start_time": "2024-04-24T14:49:08.107035500Z"
    }
   },
   "outputs": [],
   "source": [
    "from torchPIV import OfflinePIV\n",
    "import torch\n",
    "\n",
    "import numpy as np\n",
    "import matplotlib.pyplot as plt\n",
    "\n",
    "import cv2\n",
    "import os"
   ]
  },
  {
   "cell_type": "code",
   "outputs": [
    {
     "name": "stdout",
     "output_type": "stream",
     "text": [
      "Load time 0.028 sec Iteration finished in 4.257 sec Batch finished in 4.955 sec\n",
      "Load time 0.053 sec Iteration finished in 3.628 sec Batch finished in 4.174 sec\n",
      "Load time 0.050 sec Iteration finished in 3.454 sec Batch finished in 3.995 sec\n",
      "Load time 0.039 sec Iteration finished in 3.490 sec Batch finished in 4.051 sec\n",
      "Load time 0.068 sec Iteration finished in 3.432 sec Batch finished in 4.003 sec\n",
      "Load time 0.068 sec Iteration finished in 3.483 sec Batch finished in 4.086 sec\n",
      "Load time 0.050 sec Iteration finished in 3.555 sec Batch finished in 4.108 sec\n",
      "Load time 0.046 sec Iteration finished in 3.371 sec Batch finished in 3.910 sec\n",
      "Load time 0.040 sec Iteration finished in 3.378 sec Batch finished in 3.929 sec\n",
      "Load time 0.036 sec Iteration finished in 3.381 sec Batch finished in 3.918 sec\n",
      "Load time 0.035 sec Iteration finished in 3.581 sec Batch finished in 4.200 sec\n"
     ]
    }
   ],
   "source": [
    "piv_gen = OfflinePIV(\n",
    "    folder=\"test_imgs\", # Path to experiment\n",
    "    device='cpu', # Device name\n",
    "    file_fmt=\"bmp\",\n",
    "    wind_size=64,\n",
    "    overlap=32,\n",
    "    dt=12, # Time between frames, mcs\n",
    "    scale = 0.02, # mm/pix\n",
    "    multipass=2,\n",
    "    multipass_mode=\"CWS\", # CWS or DWS\n",
    "    multipass_scale=2.0, # Window downscale on each pass\n",
    "    folder_mode=\"pairs\" # Pairs or sequential frames \n",
    ")\n",
    "\n",
    "results = []\n",
    "for out in piv_gen():\n",
    "    x, y, vx, vy = out\n",
    "    results.append(out)"
   ],
   "metadata": {
    "collapsed": false,
    "ExecuteTime": {
     "end_time": "2024-04-24T14:46:06.776370900Z",
     "start_time": "2024-04-24T14:45:20.795516300Z"
    }
   },
   "id": "721ae697118c7de8",
   "execution_count": 14
  },
  {
   "cell_type": "code",
   "outputs": [],
   "source": [
    "for frame, (x, y, vx, vy) in enumerate(results):\n",
    "    plt.quiver(x, y, vx, vy)\n",
    "    plt.title(frame)\n",
    "    plt.show()"
   ],
   "metadata": {
    "collapsed": false,
    "ExecuteTime": {
     "end_time": "2024-04-24T14:51:25.753611700Z",
     "start_time": "2024-04-24T14:51:14.701579300Z"
    }
   },
   "id": "2a42401b293451c8",
   "execution_count": 25
  },
  {
   "cell_type": "code",
   "outputs": [],
   "source": [
    "for img_file in os.listdir(r'test_imgs'):\n",
    "    img = cv2.imread(rf'test_imgs/{img_file}', cv2.IMREAD_GRAYSCALE)\n",
    "    xsize, ysize = img.shape\n",
    "    \n",
    "    newx, newy = int(xsize*0.3), int(ysize*0.3)\n",
    "    img = cv2.resize(img, (newx, newy), interpolation= cv2.INTER_LINEAR)\n",
    "    \n",
    "    cv2.imshow('IMAGE', img)\n",
    "    cv2.waitKey(0)\n",
    "    cv2.destroyAllWindows()"
   ],
   "metadata": {
    "collapsed": false,
    "ExecuteTime": {
     "end_time": "2024-04-24T14:43:04.495999800Z",
     "start_time": "2024-04-24T14:42:46.498056700Z"
    }
   },
   "id": "1c11b400d39a398a",
   "execution_count": 10
  },
  {
   "cell_type": "code",
   "outputs": [],
   "source": [],
   "metadata": {
    "collapsed": false
   },
   "id": "acdf654943de23ef"
  }
 ],
 "metadata": {
  "kernelspec": {
   "display_name": "Python 3",
   "language": "python",
   "name": "python3"
  },
  "language_info": {
   "codemirror_mode": {
    "name": "ipython",
    "version": 2
   },
   "file_extension": ".py",
   "mimetype": "text/x-python",
   "name": "python",
   "nbconvert_exporter": "python",
   "pygments_lexer": "ipython2",
   "version": "2.7.6"
  }
 },
 "nbformat": 4,
 "nbformat_minor": 5
}
