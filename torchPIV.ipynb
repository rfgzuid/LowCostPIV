{
 "cells": [
  {
   "cell_type": "code",
   "execution_count": 1,
   "id": "initial_id",
   "metadata": {
    "collapsed": true,
    "ExecuteTime": {
     "end_time": "2024-05-06T14:23:38.858658300Z",
     "start_time": "2024-05-06T14:23:30.487024900Z"
    }
   },
   "outputs": [
    {
     "ename": "KeyboardInterrupt",
     "evalue": "",
     "output_type": "error",
     "traceback": [
      "\u001B[1;31m---------------------------------------------------------------------------\u001B[0m",
      "\u001B[1;31mKeyboardInterrupt\u001B[0m                         Traceback (most recent call last)",
      "Cell \u001B[1;32mIn[1], line 1\u001B[0m\n\u001B[1;32m----> 1\u001B[0m \u001B[38;5;28;01mfrom\u001B[39;00m \u001B[38;5;21;01msrc\u001B[39;00m\u001B[38;5;21;01m.\u001B[39;00m\u001B[38;5;21;01mSIV_library\u001B[39;00m\u001B[38;5;21;01m.\u001B[39;00m\u001B[38;5;21;01mlib\u001B[39;00m \u001B[38;5;28;01mimport\u001B[39;00m OfflinePIV\n\u001B[0;32m      2\u001B[0m \u001B[38;5;28;01mimport\u001B[39;00m \u001B[38;5;21;01mtorch\u001B[39;00m\n\u001B[0;32m      4\u001B[0m \u001B[38;5;28;01mimport\u001B[39;00m \u001B[38;5;21;01mnumpy\u001B[39;00m \u001B[38;5;28;01mas\u001B[39;00m \u001B[38;5;21;01mnp\u001B[39;00m\n",
      "File \u001B[1;32m~\\PycharmProjects\\LowCostPIV\\src\\SIV_library\\__init__.py:1\u001B[0m\n\u001B[1;32m----> 1\u001B[0m \u001B[38;5;28;01mfrom\u001B[39;00m \u001B[38;5;21;01m.\u001B[39;00m\u001B[38;5;21;01mlib\u001B[39;00m \u001B[38;5;28;01mimport\u001B[39;00m \u001B[38;5;241m*\u001B[39m\n\u001B[0;32m      2\u001B[0m \u001B[38;5;28;01mfrom\u001B[39;00m \u001B[38;5;21;01m.\u001B[39;00m\u001B[38;5;21;01mprocessing\u001B[39;00m \u001B[38;5;28;01mimport\u001B[39;00m \u001B[38;5;241m*\u001B[39m\n",
      "File \u001B[1;32m~\\PycharmProjects\\LowCostPIV\\src\\SIV_library\\lib.py:10\u001B[0m\n\u001B[0;32m      8\u001B[0m \u001B[38;5;28;01mimport\u001B[39;00m \u001B[38;5;21;01mcv2\u001B[39;00m\n\u001B[0;32m      9\u001B[0m \u001B[38;5;28;01mfrom\u001B[39;00m \u001B[38;5;21;01mtime\u001B[39;00m \u001B[38;5;28;01mimport\u001B[39;00m time\n\u001B[1;32m---> 10\u001B[0m \u001B[38;5;28;01mfrom\u001B[39;00m \u001B[38;5;21;01mtorchPIV\u001B[39;00m\u001B[38;5;21;01m.\u001B[39;00m\u001B[38;5;21;01mPlotterFunctions\u001B[39;00m \u001B[38;5;28;01mimport\u001B[39;00m natural_keys\n\u001B[0;32m     13\u001B[0m \u001B[38;5;28;01mclass\u001B[39;00m \u001B[38;5;21;01mDeviceMap\u001B[39;00m:\n\u001B[0;32m     14\u001B[0m     devicies \u001B[38;5;241m=\u001B[39m {\n\u001B[0;32m     15\u001B[0m         torch\u001B[38;5;241m.\u001B[39mcuda\u001B[38;5;241m.\u001B[39mget_device_name(i): torch\u001B[38;5;241m.\u001B[39mdevice(i)\n\u001B[0;32m     16\u001B[0m         \u001B[38;5;28;01mfor\u001B[39;00m i \u001B[38;5;129;01min\u001B[39;00m \u001B[38;5;28mrange\u001B[39m(torch\u001B[38;5;241m.\u001B[39mcuda\u001B[38;5;241m.\u001B[39mdevice_count())\n\u001B[0;32m     17\u001B[0m     }\n",
      "File \u001B[1;32m~\\AppData\\Local\\Programs\\Python\\Python311\\Lib\\site-packages\\torchPIV\\__init__.py:1\u001B[0m\n\u001B[1;32m----> 1\u001B[0m \u001B[38;5;28;01mfrom\u001B[39;00m \u001B[38;5;21;01mtorchPIV\u001B[39;00m\u001B[38;5;21;01m.\u001B[39;00m\u001B[38;5;21;01mPIVbackend\u001B[39;00m \u001B[38;5;28;01mimport\u001B[39;00m OfflinePIV\n\u001B[0;32m      2\u001B[0m \u001B[38;5;28;01mfrom\u001B[39;00m \u001B[38;5;21;01mtorchPIV\u001B[39;00m\u001B[38;5;21;01m.\u001B[39;00m\u001B[38;5;21;01mmainWindow\u001B[39;00m \u001B[38;5;28;01mimport\u001B[39;00m runGUI\n",
      "File \u001B[1;32m~\\AppData\\Local\\Programs\\Python\\Python311\\Lib\\site-packages\\torchPIV\\PIVbackend.py:10\u001B[0m\n\u001B[0;32m      8\u001B[0m \u001B[38;5;28;01mimport\u001B[39;00m \u001B[38;5;21;01mcv2\u001B[39;00m\n\u001B[0;32m      9\u001B[0m \u001B[38;5;28;01mfrom\u001B[39;00m \u001B[38;5;21;01mtime\u001B[39;00m \u001B[38;5;28;01mimport\u001B[39;00m time\n\u001B[1;32m---> 10\u001B[0m \u001B[38;5;28;01mfrom\u001B[39;00m \u001B[38;5;21;01mtorchPIV\u001B[39;00m\u001B[38;5;21;01m.\u001B[39;00m\u001B[38;5;21;01mPlotterFunctions\u001B[39;00m \u001B[38;5;28;01mimport\u001B[39;00m natural_keys\n\u001B[0;32m     12\u001B[0m \u001B[38;5;28;01mclass\u001B[39;00m \u001B[38;5;21;01mDeviceMap\u001B[39;00m:\n\u001B[0;32m     13\u001B[0m     devicies \u001B[38;5;241m=\u001B[39m {\n\u001B[0;32m     14\u001B[0m         torch\u001B[38;5;241m.\u001B[39mcuda\u001B[38;5;241m.\u001B[39mget_device_name(i) : torch\u001B[38;5;241m.\u001B[39mdevice(i)  \n\u001B[0;32m     15\u001B[0m         \u001B[38;5;28;01mfor\u001B[39;00m i \u001B[38;5;129;01min\u001B[39;00m \u001B[38;5;28mrange\u001B[39m(torch\u001B[38;5;241m.\u001B[39mcuda\u001B[38;5;241m.\u001B[39mdevice_count())\n\u001B[0;32m     16\u001B[0m     }\n",
      "File \u001B[1;32m~\\AppData\\Local\\Programs\\Python\\Python311\\Lib\\site-packages\\torchPIV\\PlotterFunctions.py:3\u001B[0m\n\u001B[0;32m      1\u001B[0m \u001B[38;5;28;01mimport\u001B[39;00m \u001B[38;5;21;01mos\u001B[39;00m\n\u001B[0;32m      2\u001B[0m \u001B[38;5;28;01mimport\u001B[39;00m \u001B[38;5;21;01mre\u001B[39;00m\n\u001B[1;32m----> 3\u001B[0m \u001B[38;5;28;01mimport\u001B[39;00m \u001B[38;5;21;01mpandas\u001B[39;00m \u001B[38;5;28;01mas\u001B[39;00m \u001B[38;5;21;01mpd\u001B[39;00m\n\u001B[0;32m      4\u001B[0m \u001B[38;5;28;01mimport\u001B[39;00m \u001B[38;5;21;01mnumpy\u001B[39;00m \u001B[38;5;28;01mas\u001B[39;00m \u001B[38;5;21;01mnp\u001B[39;00m\n\u001B[0;32m      5\u001B[0m \u001B[38;5;28;01mimport\u001B[39;00m \u001B[38;5;21;01mjson\u001B[39;00m\n",
      "File \u001B[1;32m~\\AppData\\Local\\Programs\\Python\\Python311\\Lib\\site-packages\\pandas\\__init__.py:59\u001B[0m\n\u001B[0;32m     56\u001B[0m \u001B[38;5;66;03m# let init-time option registration happen\u001B[39;00m\n\u001B[0;32m     57\u001B[0m \u001B[38;5;28;01mimport\u001B[39;00m \u001B[38;5;21;01mpandas\u001B[39;00m\u001B[38;5;21;01m.\u001B[39;00m\u001B[38;5;21;01mcore\u001B[39;00m\u001B[38;5;21;01m.\u001B[39;00m\u001B[38;5;21;01mconfig_init\u001B[39;00m  \u001B[38;5;66;03m# pyright: ignore[reportUnusedImport] # noqa: F401\u001B[39;00m\n\u001B[1;32m---> 59\u001B[0m \u001B[38;5;28;01mfrom\u001B[39;00m \u001B[38;5;21;01mpandas\u001B[39;00m\u001B[38;5;21;01m.\u001B[39;00m\u001B[38;5;21;01mcore\u001B[39;00m\u001B[38;5;21;01m.\u001B[39;00m\u001B[38;5;21;01mapi\u001B[39;00m \u001B[38;5;28;01mimport\u001B[39;00m (\n\u001B[0;32m     60\u001B[0m     \u001B[38;5;66;03m# dtype\u001B[39;00m\n\u001B[0;32m     61\u001B[0m     ArrowDtype,\n\u001B[0;32m     62\u001B[0m     Int8Dtype,\n\u001B[0;32m     63\u001B[0m     Int16Dtype,\n\u001B[0;32m     64\u001B[0m     Int32Dtype,\n\u001B[0;32m     65\u001B[0m     Int64Dtype,\n\u001B[0;32m     66\u001B[0m     UInt8Dtype,\n\u001B[0;32m     67\u001B[0m     UInt16Dtype,\n\u001B[0;32m     68\u001B[0m     UInt32Dtype,\n\u001B[0;32m     69\u001B[0m     UInt64Dtype,\n\u001B[0;32m     70\u001B[0m     Float32Dtype,\n\u001B[0;32m     71\u001B[0m     Float64Dtype,\n\u001B[0;32m     72\u001B[0m     CategoricalDtype,\n\u001B[0;32m     73\u001B[0m     PeriodDtype,\n\u001B[0;32m     74\u001B[0m     IntervalDtype,\n\u001B[0;32m     75\u001B[0m     DatetimeTZDtype,\n\u001B[0;32m     76\u001B[0m     StringDtype,\n\u001B[0;32m     77\u001B[0m     BooleanDtype,\n\u001B[0;32m     78\u001B[0m     \u001B[38;5;66;03m# missing\u001B[39;00m\n\u001B[0;32m     79\u001B[0m     NA,\n\u001B[0;32m     80\u001B[0m     isna,\n\u001B[0;32m     81\u001B[0m     isnull,\n\u001B[0;32m     82\u001B[0m     notna,\n\u001B[0;32m     83\u001B[0m     notnull,\n\u001B[0;32m     84\u001B[0m     \u001B[38;5;66;03m# indexes\u001B[39;00m\n\u001B[0;32m     85\u001B[0m     Index,\n\u001B[0;32m     86\u001B[0m     CategoricalIndex,\n\u001B[0;32m     87\u001B[0m     RangeIndex,\n\u001B[0;32m     88\u001B[0m     MultiIndex,\n\u001B[0;32m     89\u001B[0m     IntervalIndex,\n\u001B[0;32m     90\u001B[0m     TimedeltaIndex,\n\u001B[0;32m     91\u001B[0m     DatetimeIndex,\n\u001B[0;32m     92\u001B[0m     PeriodIndex,\n\u001B[0;32m     93\u001B[0m     IndexSlice,\n\u001B[0;32m     94\u001B[0m     \u001B[38;5;66;03m# tseries\u001B[39;00m\n\u001B[0;32m     95\u001B[0m     NaT,\n\u001B[0;32m     96\u001B[0m     Period,\n\u001B[0;32m     97\u001B[0m     period_range,\n\u001B[0;32m     98\u001B[0m     Timedelta,\n\u001B[0;32m     99\u001B[0m     timedelta_range,\n\u001B[0;32m    100\u001B[0m     Timestamp,\n\u001B[0;32m    101\u001B[0m     date_range,\n\u001B[0;32m    102\u001B[0m     bdate_range,\n\u001B[0;32m    103\u001B[0m     Interval,\n\u001B[0;32m    104\u001B[0m     interval_range,\n\u001B[0;32m    105\u001B[0m     DateOffset,\n\u001B[0;32m    106\u001B[0m     \u001B[38;5;66;03m# conversion\u001B[39;00m\n\u001B[0;32m    107\u001B[0m     to_numeric,\n\u001B[0;32m    108\u001B[0m     to_datetime,\n\u001B[0;32m    109\u001B[0m     to_timedelta,\n\u001B[0;32m    110\u001B[0m     \u001B[38;5;66;03m# misc\u001B[39;00m\n\u001B[0;32m    111\u001B[0m     Flags,\n\u001B[0;32m    112\u001B[0m     Grouper,\n\u001B[0;32m    113\u001B[0m     factorize,\n\u001B[0;32m    114\u001B[0m     unique,\n\u001B[0;32m    115\u001B[0m     value_counts,\n\u001B[0;32m    116\u001B[0m     NamedAgg,\n\u001B[0;32m    117\u001B[0m     array,\n\u001B[0;32m    118\u001B[0m     Categorical,\n\u001B[0;32m    119\u001B[0m     set_eng_float_format,\n\u001B[0;32m    120\u001B[0m     Series,\n\u001B[0;32m    121\u001B[0m     DataFrame,\n\u001B[0;32m    122\u001B[0m )\n\u001B[0;32m    124\u001B[0m \u001B[38;5;28;01mfrom\u001B[39;00m \u001B[38;5;21;01mpandas\u001B[39;00m\u001B[38;5;21;01m.\u001B[39;00m\u001B[38;5;21;01mcore\u001B[39;00m\u001B[38;5;21;01m.\u001B[39;00m\u001B[38;5;21;01mdtypes\u001B[39;00m\u001B[38;5;21;01m.\u001B[39;00m\u001B[38;5;21;01mdtypes\u001B[39;00m \u001B[38;5;28;01mimport\u001B[39;00m SparseDtype\n\u001B[0;32m    126\u001B[0m \u001B[38;5;28;01mfrom\u001B[39;00m \u001B[38;5;21;01mpandas\u001B[39;00m\u001B[38;5;21;01m.\u001B[39;00m\u001B[38;5;21;01mtseries\u001B[39;00m\u001B[38;5;21;01m.\u001B[39;00m\u001B[38;5;21;01mapi\u001B[39;00m \u001B[38;5;28;01mimport\u001B[39;00m infer_freq\n",
      "File \u001B[1;32m~\\AppData\\Local\\Programs\\Python\\Python311\\Lib\\site-packages\\pandas\\core\\api.py:1\u001B[0m\n\u001B[1;32m----> 1\u001B[0m \u001B[38;5;28;01mfrom\u001B[39;00m \u001B[38;5;21;01mpandas\u001B[39;00m\u001B[38;5;21;01m.\u001B[39;00m\u001B[38;5;21;01m_libs\u001B[39;00m \u001B[38;5;28;01mimport\u001B[39;00m (\n\u001B[0;32m      2\u001B[0m     NaT,\n\u001B[0;32m      3\u001B[0m     Period,\n\u001B[0;32m      4\u001B[0m     Timedelta,\n\u001B[0;32m      5\u001B[0m     Timestamp,\n\u001B[0;32m      6\u001B[0m )\n\u001B[0;32m      7\u001B[0m \u001B[38;5;28;01mfrom\u001B[39;00m \u001B[38;5;21;01mpandas\u001B[39;00m\u001B[38;5;21;01m.\u001B[39;00m\u001B[38;5;21;01m_libs\u001B[39;00m\u001B[38;5;21;01m.\u001B[39;00m\u001B[38;5;21;01mmissing\u001B[39;00m \u001B[38;5;28;01mimport\u001B[39;00m NA\n\u001B[0;32m      9\u001B[0m \u001B[38;5;28;01mfrom\u001B[39;00m \u001B[38;5;21;01mpandas\u001B[39;00m\u001B[38;5;21;01m.\u001B[39;00m\u001B[38;5;21;01mcore\u001B[39;00m\u001B[38;5;21;01m.\u001B[39;00m\u001B[38;5;21;01mdtypes\u001B[39;00m\u001B[38;5;21;01m.\u001B[39;00m\u001B[38;5;21;01mdtypes\u001B[39;00m \u001B[38;5;28;01mimport\u001B[39;00m (\n\u001B[0;32m     10\u001B[0m     ArrowDtype,\n\u001B[0;32m     11\u001B[0m     CategoricalDtype,\n\u001B[1;32m   (...)\u001B[0m\n\u001B[0;32m     14\u001B[0m     PeriodDtype,\n\u001B[0;32m     15\u001B[0m )\n",
      "File \u001B[1;32m~\\AppData\\Local\\Programs\\Python\\Python311\\Lib\\site-packages\\pandas\\_libs\\__init__.py:18\u001B[0m\n\u001B[0;32m     16\u001B[0m \u001B[38;5;28;01mimport\u001B[39;00m \u001B[38;5;21;01mpandas\u001B[39;00m\u001B[38;5;21;01m.\u001B[39;00m\u001B[38;5;21;01m_libs\u001B[39;00m\u001B[38;5;21;01m.\u001B[39;00m\u001B[38;5;21;01mpandas_parser\u001B[39;00m  \u001B[38;5;66;03m# noqa: E501 # isort: skip # type: ignore[reportUnusedImport]\u001B[39;00m\n\u001B[0;32m     17\u001B[0m \u001B[38;5;28;01mimport\u001B[39;00m \u001B[38;5;21;01mpandas\u001B[39;00m\u001B[38;5;21;01m.\u001B[39;00m\u001B[38;5;21;01m_libs\u001B[39;00m\u001B[38;5;21;01m.\u001B[39;00m\u001B[38;5;21;01mpandas_datetime\u001B[39;00m  \u001B[38;5;66;03m# noqa: F401,E501 # isort: skip # type: ignore[reportUnusedImport]\u001B[39;00m\n\u001B[1;32m---> 18\u001B[0m \u001B[38;5;28;01mfrom\u001B[39;00m \u001B[38;5;21;01mpandas\u001B[39;00m\u001B[38;5;21;01m.\u001B[39;00m\u001B[38;5;21;01m_libs\u001B[39;00m\u001B[38;5;21;01m.\u001B[39;00m\u001B[38;5;21;01minterval\u001B[39;00m \u001B[38;5;28;01mimport\u001B[39;00m Interval\n\u001B[0;32m     19\u001B[0m \u001B[38;5;28;01mfrom\u001B[39;00m \u001B[38;5;21;01mpandas\u001B[39;00m\u001B[38;5;21;01m.\u001B[39;00m\u001B[38;5;21;01m_libs\u001B[39;00m\u001B[38;5;21;01m.\u001B[39;00m\u001B[38;5;21;01mtslibs\u001B[39;00m \u001B[38;5;28;01mimport\u001B[39;00m (\n\u001B[0;32m     20\u001B[0m     NaT,\n\u001B[0;32m     21\u001B[0m     NaTType,\n\u001B[1;32m   (...)\u001B[0m\n\u001B[0;32m     26\u001B[0m     iNaT,\n\u001B[0;32m     27\u001B[0m )\n",
      "File \u001B[1;32minterval.pyx:1\u001B[0m, in \u001B[0;36minit pandas._libs.interval\u001B[1;34m()\u001B[0m\n",
      "File \u001B[1;32mhashtable.pyx:1\u001B[0m, in \u001B[0;36minit pandas._libs.hashtable\u001B[1;34m()\u001B[0m\n",
      "File \u001B[1;32mmissing.pyx:1\u001B[0m, in \u001B[0;36minit pandas._libs.missing\u001B[1;34m()\u001B[0m\n",
      "File \u001B[1;32m~\\AppData\\Local\\Programs\\Python\\Python311\\Lib\\site-packages\\pandas\\_libs\\tslibs\\__init__.py:39\u001B[0m\n\u001B[0;32m      1\u001B[0m __all__ \u001B[38;5;241m=\u001B[39m [\n\u001B[0;32m      2\u001B[0m     \u001B[38;5;124m\"\u001B[39m\u001B[38;5;124mdtypes\u001B[39m\u001B[38;5;124m\"\u001B[39m,\n\u001B[0;32m      3\u001B[0m     \u001B[38;5;124m\"\u001B[39m\u001B[38;5;124mlocalize_pydatetime\u001B[39m\u001B[38;5;124m\"\u001B[39m,\n\u001B[1;32m   (...)\u001B[0m\n\u001B[0;32m     35\u001B[0m     \u001B[38;5;124m\"\u001B[39m\u001B[38;5;124mget_supported_reso\u001B[39m\u001B[38;5;124m\"\u001B[39m,\n\u001B[0;32m     36\u001B[0m ]\n\u001B[0;32m     38\u001B[0m \u001B[38;5;28;01mfrom\u001B[39;00m \u001B[38;5;21;01mpandas\u001B[39;00m\u001B[38;5;21;01m.\u001B[39;00m\u001B[38;5;21;01m_libs\u001B[39;00m\u001B[38;5;21;01m.\u001B[39;00m\u001B[38;5;21;01mtslibs\u001B[39;00m \u001B[38;5;28;01mimport\u001B[39;00m dtypes  \u001B[38;5;66;03m# pylint: disable=import-self\u001B[39;00m\n\u001B[1;32m---> 39\u001B[0m \u001B[38;5;28;01mfrom\u001B[39;00m \u001B[38;5;21;01mpandas\u001B[39;00m\u001B[38;5;21;01m.\u001B[39;00m\u001B[38;5;21;01m_libs\u001B[39;00m\u001B[38;5;21;01m.\u001B[39;00m\u001B[38;5;21;01mtslibs\u001B[39;00m\u001B[38;5;21;01m.\u001B[39;00m\u001B[38;5;21;01mconversion\u001B[39;00m \u001B[38;5;28;01mimport\u001B[39;00m localize_pydatetime\n\u001B[0;32m     40\u001B[0m \u001B[38;5;28;01mfrom\u001B[39;00m \u001B[38;5;21;01mpandas\u001B[39;00m\u001B[38;5;21;01m.\u001B[39;00m\u001B[38;5;21;01m_libs\u001B[39;00m\u001B[38;5;21;01m.\u001B[39;00m\u001B[38;5;21;01mtslibs\u001B[39;00m\u001B[38;5;21;01m.\u001B[39;00m\u001B[38;5;21;01mdtypes\u001B[39;00m \u001B[38;5;28;01mimport\u001B[39;00m (\n\u001B[0;32m     41\u001B[0m     Resolution,\n\u001B[0;32m     42\u001B[0m     get_supported_reso,\n\u001B[1;32m   (...)\u001B[0m\n\u001B[0;32m     46\u001B[0m     periods_per_second,\n\u001B[0;32m     47\u001B[0m )\n\u001B[0;32m     48\u001B[0m \u001B[38;5;28;01mfrom\u001B[39;00m \u001B[38;5;21;01mpandas\u001B[39;00m\u001B[38;5;21;01m.\u001B[39;00m\u001B[38;5;21;01m_libs\u001B[39;00m\u001B[38;5;21;01m.\u001B[39;00m\u001B[38;5;21;01mtslibs\u001B[39;00m\u001B[38;5;21;01m.\u001B[39;00m\u001B[38;5;21;01mnattype\u001B[39;00m \u001B[38;5;28;01mimport\u001B[39;00m (\n\u001B[0;32m     49\u001B[0m     NaT,\n\u001B[0;32m     50\u001B[0m     NaTType,\n\u001B[0;32m     51\u001B[0m     iNaT,\n\u001B[0;32m     52\u001B[0m     nat_strings,\n\u001B[0;32m     53\u001B[0m )\n",
      "File \u001B[1;32mconversion.pyx:1\u001B[0m, in \u001B[0;36minit pandas._libs.tslibs.conversion\u001B[1;34m()\u001B[0m\n",
      "File \u001B[1;32moffsets.pyx:1\u001B[0m, in \u001B[0;36minit pandas._libs.tslibs.offsets\u001B[1;34m()\u001B[0m\n",
      "File \u001B[1;32mtimestamps.pyx:1\u001B[0m, in \u001B[0;36minit pandas._libs.tslibs.timestamps\u001B[1;34m()\u001B[0m\n",
      "File \u001B[1;32mtimedeltas.pyx:86\u001B[0m, in \u001B[0;36minit pandas._libs.tslibs.timedeltas\u001B[1;34m()\u001B[0m\n",
      "File \u001B[1;32m<frozen importlib._bootstrap>:405\u001B[0m, in \u001B[0;36mparent\u001B[1;34m(self)\u001B[0m\n",
      "\u001B[1;31mKeyboardInterrupt\u001B[0m: "
     ]
    }
   ],
   "source": [
    "from src.SIV_library.lib import OfflinePIV\n",
    "import torch\n",
    "\n",
    "import numpy as np\n",
    "import matplotlib.pyplot as plt\n",
    "\n",
    "import cv2\n",
    "import os\n",
    "import gc"
   ]
  },
  {
   "cell_type": "code",
   "outputs": [
    {
     "name": "stdout",
     "output_type": "stream",
     "text": [
      "Current device: cpu\n"
     ]
    }
   ],
   "source": [
    "gpu_enabled = torch.cuda.is_available()\n",
    "# gpu_enabled = False\n",
    "\n",
    "if gpu_enabled:\n",
    "    device = torch.cuda.get_device_name()\n",
    "else:\n",
    "    device = 'cpu'\n",
    "    \n",
    "print(\"Current device:\", device)"
   ],
   "metadata": {
    "collapsed": false,
    "ExecuteTime": {
     "end_time": "2024-04-30T11:04:23.019998700Z",
     "start_time": "2024-04-30T11:04:23.004795700Z"
    }
   },
   "id": "734584cc0b28c38a",
   "execution_count": 2
  },
  {
   "cell_type": "code",
   "outputs": [],
   "source": [
    "for f in os.listdir('test'):\n",
    "    os.remove(f'test/{f}')\n",
    "\n",
    "test_arr = np.random.choice([0, 255], size=(128, 128), p=[19/20, 1/20]).astype(np.uint8)\n",
    "cv2.imshow('', test_arr)\n",
    "cv2.waitKey(1000)\n",
    "cv2.destroyAllWindows()\n",
    "\n",
    "for i in range(50):\n",
    "    cv2.imwrite(f'test/{i}.jpg', test_arr)\n",
    "    test_arr = np.roll(test_arr, 3)"
   ],
   "metadata": {
    "collapsed": false,
    "ExecuteTime": {
     "end_time": "2024-04-30T11:04:35.837786500Z",
     "start_time": "2024-04-30T11:04:34.754586Z"
    }
   },
   "id": "ed62d7e6a70ac99f",
   "execution_count": 4
  },
  {
   "cell_type": "code",
   "outputs": [],
   "source": [
    "# folder, file_format, (mode, dt) = r\"test images\", \"bmp\", (\"pairs\", 12)\n",
    "# folder, file_format, (mode, dt) = r\"plume simulation\", \"jpg\", (\"sequential\", 500)\n",
    "folder, file_format, (mode, dt) = r\"test\", \"jpg\", (\"sequential\", 500)"
   ],
   "metadata": {
    "collapsed": false,
    "ExecuteTime": {
     "end_time": "2024-04-30T11:04:38.967572700Z",
     "start_time": "2024-04-30T11:04:38.958119Z"
    }
   },
   "id": "34b0935597c881d6",
   "execution_count": 5
  },
  {
   "cell_type": "code",
   "outputs": [
    {
     "data": {
      "text/plain": "886"
     },
     "execution_count": 5,
     "metadata": {},
     "output_type": "execute_result"
    }
   ],
   "source": [
    "torch.cuda.empty_cache()\n",
    "gc.collect()"
   ],
   "metadata": {
    "collapsed": false,
    "ExecuteTime": {
     "end_time": "2024-04-29T13:24:33.786486100Z",
     "start_time": "2024-04-29T13:24:33.667018200Z"
    }
   },
   "id": "dcc5c43a9bf9188f",
   "execution_count": 5
  },
  {
   "cell_type": "code",
   "outputs": [
    {
     "name": "stdout",
     "output_type": "stream",
     "text": [
      "Load time 0.007 sec Correlating... torch.Size([49, 32, 32]) torch.Size([49, 32, 32])\n",
      "Correlating... torch.Size([225, 16, 16]) torch.Size([225, 16, 16])\n",
      "Iteration finished in 0.023 sec Warning! to many false vectors\n",
      "Warning! to many false vectors\n",
      "Batch finished in 0.035 sec\n",
      "Load time 0.002 sec Correlating... torch.Size([49, 32, 32]) torch.Size([49, 32, 32])\n",
      "Correlating... torch.Size([225, 16, 16]) torch.Size([225, 16, 16])\n",
      "Iteration finished in 0.021 sec Warning! to many false vectors\n",
      "Warning! to many false vectors\n",
      "Batch finished in 0.027 sec\n",
      "Load time 0.002 sec Correlating... torch.Size([49, 32, 32]) torch.Size([49, 32, 32])\n",
      "Correlating... torch.Size([225, 16, 16]) torch.Size([225, 16, 16])\n",
      "Iteration finished in 0.021 sec Warning! to many false vectors\n",
      "Warning! to many false vectors\n",
      "Batch finished in 0.029 sec\n",
      "Load time 0.002 sec Correlating... torch.Size([49, 32, 32]) torch.Size([49, 32, 32])\n",
      "Correlating... torch.Size([225, 16, 16]) torch.Size([225, 16, 16])\n",
      "Iteration finished in 0.017 sec Warning! to many false vectors\n",
      "Warning! to many false vectors\n",
      "Batch finished in 0.025 sec\n",
      "Load time 0.002 sec Correlating... torch.Size([49, 32, 32]) torch.Size([49, 32, 32])\n",
      "Correlating... torch.Size([225, 16, 16]) torch.Size([225, 16, 16])\n",
      "Iteration finished in 0.021 sec Warning! to many false vectors\n",
      "Warning! to many false vectors\n",
      "Batch finished in 0.027 sec\n",
      "Load time 0.002 sec Correlating... torch.Size([49, 32, 32]) torch.Size([49, 32, 32])\n",
      "Correlating... torch.Size([225, 16, 16]) torch.Size([225, 16, 16])\n",
      "Iteration finished in 0.019 sec Warning! to many false vectors\n",
      "Warning! to many false vectors\n",
      "Batch finished in 0.024 sec\n",
      "Load time 0.002 sec Correlating... torch.Size([49, 32, 32]) torch.Size([49, 32, 32])\n",
      "Correlating... torch.Size([225, 16, 16]) torch.Size([225, 16, 16])\n",
      "Iteration finished in 0.019 sec Warning! to many false vectors\n",
      "Warning! to many false vectors\n",
      "Batch finished in 0.026 sec\n",
      "Load time 0.002 sec Correlating... torch.Size([49, 32, 32]) torch.Size([49, 32, 32])\n",
      "Correlating... torch.Size([225, 16, 16]) torch.Size([225, 16, 16])\n",
      "Iteration finished in 0.017 sec Warning! to many false vectors\n",
      "Warning! to many false vectors\n",
      "Batch finished in 0.024 sec\n",
      "Load time 0.001 sec Correlating... torch.Size([49, 32, 32]) torch.Size([49, 32, 32])\n",
      "Correlating... torch.Size([225, 16, 16]) torch.Size([225, 16, 16])\n",
      "Iteration finished in 0.021 sec Warning! to many false vectors\n",
      "Warning! to many false vectors\n",
      "Batch finished in 0.028 sec\n",
      "Load time 0.002 sec Correlating... torch.Size([49, 32, 32]) torch.Size([49, 32, 32])\n",
      "Correlating... torch.Size([225, 16, 16]) torch.Size([225, 16, 16])\n",
      "Iteration finished in 0.022 sec Warning! to many false vectors\n",
      "Warning! to many false vectors\n",
      "Batch finished in 0.030 sec\n",
      "Load time 0.002 sec Correlating... torch.Size([49, 32, 32]) torch.Size([49, 32, 32])\n",
      "Correlating... torch.Size([225, 16, 16]) torch.Size([225, 16, 16])\n",
      "Iteration finished in 0.019 sec Warning! to many false vectors\n",
      "Warning! to many false vectors\n",
      "Batch finished in 0.026 sec\n",
      "Load time 0.002 sec Correlating... torch.Size([49, 32, 32]) torch.Size([49, 32, 32])\n",
      "Correlating... torch.Size([225, 16, 16]) torch.Size([225, 16, 16])\n",
      "Iteration finished in 0.019 sec Warning! to many false vectors\n",
      "Warning! to many false vectors\n",
      "Batch finished in 0.025 sec\n",
      "Load time 0.001 sec Correlating... torch.Size([49, 32, 32]) torch.Size([49, 32, 32])\n",
      "Correlating... torch.Size([225, 16, 16]) torch.Size([225, 16, 16])\n",
      "Iteration finished in 0.019 sec Warning! to many false vectors\n",
      "Warning! to many false vectors\n",
      "Batch finished in 0.027 sec\n",
      "Load time 0.002 sec Correlating... torch.Size([49, 32, 32]) torch.Size([49, 32, 32])\n",
      "Correlating... torch.Size([225, 16, 16]) torch.Size([225, 16, 16])\n",
      "Iteration finished in 0.020 sec Warning! to many false vectors\n",
      "Warning! to many false vectors\n",
      "Batch finished in 0.027 sec\n",
      "Load time 0.002 sec Correlating... torch.Size([49, 32, 32]) torch.Size([49, 32, 32])\n",
      "Correlating... torch.Size([225, 16, 16]) torch.Size([225, 16, 16])\n",
      "Iteration finished in 0.019 sec Warning! to many false vectors\n",
      "Warning! to many false vectors\n",
      "Batch finished in 0.026 sec\n",
      "Load time 0.001 sec Correlating... torch.Size([49, 32, 32]) torch.Size([49, 32, 32])\n",
      "Correlating... torch.Size([225, 16, 16]) torch.Size([225, 16, 16])\n",
      "Iteration finished in 0.020 sec Warning! to many false vectors\n",
      "Warning! to many false vectors\n",
      "Batch finished in 0.028 sec\n",
      "Load time 0.002 sec Correlating... torch.Size([49, 32, 32]) torch.Size([49, 32, 32])\n",
      "Correlating... torch.Size([225, 16, 16]) torch.Size([225, 16, 16])\n",
      "Iteration finished in 0.019 sec Warning! to many false vectors\n",
      "Warning! to many false vectors\n",
      "Batch finished in 0.026 sec\n",
      "Load time 0.002 sec Correlating... torch.Size([49, 32, 32]) torch.Size([49, 32, 32])\n",
      "Correlating... torch.Size([225, 16, 16]) torch.Size([225, 16, 16])\n",
      "Iteration finished in 0.018 sec Warning! to many false vectors\n",
      "Warning! to many false vectors\n",
      "Batch finished in 0.026 sec\n",
      "Load time 0.002 sec Correlating... torch.Size([49, 32, 32]) torch.Size([49, 32, 32])\n",
      "Correlating... torch.Size([225, 16, 16]) torch.Size([225, 16, 16])\n",
      "Iteration finished in 0.016 sec Warning! to many false vectors\n",
      "Warning! to many false vectors\n",
      "Batch finished in 0.023 sec\n",
      "Load time 0.001 sec Correlating... torch.Size([49, 32, 32]) torch.Size([49, 32, 32])\n",
      "Correlating... torch.Size([225, 16, 16]) torch.Size([225, 16, 16])\n",
      "Iteration finished in 0.018 sec Warning! to many false vectors\n",
      "Warning! to many false vectors\n",
      "Batch finished in 0.025 sec\n",
      "Load time 0.001 sec Correlating... torch.Size([49, 32, 32]) torch.Size([49, 32, 32])\n",
      "Correlating... torch.Size([225, 16, 16]) torch.Size([225, 16, 16])\n",
      "Iteration finished in 0.016 sec Warning! to many false vectors\n",
      "Warning! to many false vectors\n",
      "Batch finished in 0.023 sec\n",
      "Load time 0.001 sec Correlating... torch.Size([49, 32, 32]) torch.Size([49, 32, 32])\n",
      "Correlating... torch.Size([225, 16, 16]) torch.Size([225, 16, 16])\n",
      "Iteration finished in 0.018 sec Warning! to many false vectors\n",
      "Warning! to many false vectors\n",
      "Batch finished in 0.025 sec\n",
      "Load time 0.002 sec Correlating... torch.Size([49, 32, 32]) torch.Size([49, 32, 32])\n",
      "Correlating... torch.Size([225, 16, 16]) torch.Size([225, 16, 16])\n",
      "Iteration finished in 0.018 sec Warning! to many false vectors\n",
      "Warning! to many false vectors\n",
      "Batch finished in 0.026 sec\n",
      "Load time 0.002 sec Correlating... torch.Size([49, 32, 32]) torch.Size([49, 32, 32])\n",
      "Correlating... torch.Size([225, 16, 16]) torch.Size([225, 16, 16])\n",
      "Iteration finished in 0.019 sec Warning! to many false vectors\n",
      "Warning! to many false vectors\n",
      "Batch finished in 0.023 sec\n",
      "Load time 0.003 sec Correlating... torch.Size([49, 32, 32]) torch.Size([49, 32, 32])\n",
      "Correlating... torch.Size([225, 16, 16]) torch.Size([225, 16, 16])\n",
      "Iteration finished in 0.020 sec Warning! to many false vectors\n",
      "Warning! to many false vectors\n",
      "Batch finished in 0.027 sec\n",
      "Load time 0.002 sec Correlating... torch.Size([49, 32, 32]) torch.Size([49, 32, 32])\n",
      "Correlating... torch.Size([225, 16, 16]) torch.Size([225, 16, 16])\n",
      "Iteration finished in 0.018 sec Warning! to many false vectors\n",
      "Warning! to many false vectors\n",
      "Batch finished in 0.026 sec\n",
      "Load time 0.002 sec Correlating... torch.Size([49, 32, 32]) torch.Size([49, 32, 32])\n",
      "Correlating... torch.Size([225, 16, 16]) torch.Size([225, 16, 16])\n",
      "Iteration finished in 0.020 sec Warning! to many false vectors\n",
      "Warning! to many false vectors\n",
      "Batch finished in 0.027 sec\n",
      "Load time 0.002 sec Correlating... torch.Size([49, 32, 32]) torch.Size([49, 32, 32])\n",
      "Correlating... torch.Size([225, 16, 16]) torch.Size([225, 16, 16])\n",
      "Iteration finished in 0.019 sec Warning! to many false vectors\n",
      "Warning! to many false vectors\n",
      "Batch finished in 0.026 sec\n",
      "Load time 0.002 sec Correlating... torch.Size([49, 32, 32]) torch.Size([49, 32, 32])\n",
      "Correlating... torch.Size([225, 16, 16]) torch.Size([225, 16, 16])\n",
      "Iteration finished in 0.019 sec Warning! to many false vectors\n",
      "Warning! to many false vectors\n",
      "Batch finished in 0.025 sec\n",
      "Load time 0.002 sec Correlating... torch.Size([49, 32, 32]) torch.Size([49, 32, 32])\n",
      "Correlating... torch.Size([225, 16, 16]) torch.Size([225, 16, 16])\n",
      "Iteration finished in 0.018 sec Warning! to many false vectors\n",
      "Warning! to many false vectors\n",
      "Batch finished in 0.028 sec\n",
      "Load time 0.001 sec Correlating... torch.Size([49, 32, 32]) torch.Size([49, 32, 32])\n",
      "Correlating... torch.Size([225, 16, 16]) torch.Size([225, 16, 16])\n",
      "Iteration finished in 0.019 sec Warning! to many false vectors\n",
      "Warning! to many false vectors\n",
      "Batch finished in 0.025 sec\n",
      "Load time 0.002 sec Correlating... torch.Size([49, 32, 32]) torch.Size([49, 32, 32])\n",
      "Correlating... torch.Size([225, 16, 16]) torch.Size([225, 16, 16])\n",
      "Iteration finished in 0.020 sec Warning! to many false vectors\n",
      "Warning! to many false vectors\n",
      "Batch finished in 0.027 sec\n",
      "Load time 0.002 sec Correlating... torch.Size([49, 32, 32]) torch.Size([49, 32, 32])\n",
      "Correlating... torch.Size([225, 16, 16]) torch.Size([225, 16, 16])\n",
      "Iteration finished in 0.019 sec Warning! to many false vectors\n",
      "Warning! to many false vectors\n",
      "Batch finished in 0.027 sec\n",
      "Load time 0.002 sec Correlating... torch.Size([49, 32, 32]) torch.Size([49, 32, 32])\n",
      "Correlating... torch.Size([225, 16, 16]) torch.Size([225, 16, 16])\n",
      "Iteration finished in 0.018 sec Warning! to many false vectors\n",
      "Warning! to many false vectors\n",
      "Batch finished in 0.026 sec\n",
      "Load time 0.001 sec Correlating... torch.Size([49, 32, 32]) torch.Size([49, 32, 32])\n",
      "Correlating... torch.Size([225, 16, 16]) torch.Size([225, 16, 16])\n",
      "Iteration finished in 0.016 sec Warning! to many false vectors\n",
      "Warning! to many false vectors\n",
      "Batch finished in 0.024 sec\n",
      "Load time 0.001 sec Correlating... torch.Size([49, 32, 32]) torch.Size([49, 32, 32])\n",
      "Correlating... torch.Size([225, 16, 16]) torch.Size([225, 16, 16])\n",
      "Iteration finished in 0.019 sec Warning! to many false vectors\n",
      "Warning! to many false vectors\n",
      "Batch finished in 0.025 sec\n",
      "Load time 0.001 sec Correlating... torch.Size([49, 32, 32]) torch.Size([49, 32, 32])\n",
      "Correlating... torch.Size([225, 16, 16]) torch.Size([225, 16, 16])\n",
      "Iteration finished in 0.017 sec Warning! to many false vectors\n",
      "Warning! to many false vectors\n",
      "Batch finished in 0.023 sec\n",
      "Load time 0.002 sec Correlating... torch.Size([49, 32, 32]) torch.Size([49, 32, 32])\n",
      "Correlating... torch.Size([225, 16, 16]) torch.Size([225, 16, 16])\n",
      "Iteration finished in 0.019 sec Warning! to many false vectors\n",
      "Warning! to many false vectors\n",
      "Batch finished in 0.025 sec\n",
      "Load time 0.001 sec Correlating... torch.Size([49, 32, 32]) torch.Size([49, 32, 32])\n",
      "Correlating... torch.Size([225, 16, 16]) torch.Size([225, 16, 16])\n",
      "Iteration finished in 0.020 sec Warning! to many false vectors\n",
      "Warning! to many false vectors\n",
      "Batch finished in 0.026 sec\n",
      "Load time 0.002 sec Correlating... torch.Size([49, 32, 32]) torch.Size([49, 32, 32])\n",
      "Correlating... torch.Size([225, 16, 16]) torch.Size([225, 16, 16])\n",
      "Iteration finished in 0.019 sec Warning! to many false vectors\n",
      "Warning! to many false vectors\n",
      "Batch finished in 0.026 sec\n",
      "Load time 0.002 sec Correlating... torch.Size([49, 32, 32]) torch.Size([49, 32, 32])\n",
      "Correlating... torch.Size([225, 16, 16]) torch.Size([225, 16, 16])\n",
      "Iteration finished in 0.021 sec Warning! to many false vectors\n",
      "Warning! to many false vectors\n",
      "Batch finished in 0.028 sec\n",
      "Load time 0.001 sec Correlating... torch.Size([49, 32, 32]) torch.Size([49, 32, 32])\n",
      "Correlating... torch.Size([225, 16, 16]) torch.Size([225, 16, 16])\n",
      "Iteration finished in 0.020 sec Warning! to many false vectors\n",
      "Warning! to many false vectors\n",
      "Batch finished in 0.028 sec\n",
      "Load time 0.003 sec Correlating... torch.Size([49, 32, 32]) torch.Size([49, 32, 32])\n",
      "Correlating... torch.Size([225, 16, 16]) torch.Size([225, 16, 16])\n",
      "Iteration finished in 0.020 sec Warning! to many false vectors\n",
      "Warning! to many false vectors\n",
      "Batch finished in 0.027 sec\n",
      "Load time 0.003 sec Correlating... torch.Size([49, 32, 32]) torch.Size([49, 32, 32])\n",
      "Correlating... torch.Size([225, 16, 16]) torch.Size([225, 16, 16])\n",
      "Iteration finished in 0.021 sec Warning! to many false vectors\n",
      "Warning! to many false vectors\n",
      "Batch finished in 0.027 sec\n",
      "Load time 0.003 sec Correlating... torch.Size([49, 32, 32]) torch.Size([49, 32, 32])\n",
      "Correlating... torch.Size([225, 16, 16]) torch.Size([225, 16, 16])\n",
      "Iteration finished in 0.019 sec Warning! to many false vectors\n",
      "Warning! to many false vectors\n",
      "Batch finished in 0.025 sec\n",
      "Load time 0.001 sec Correlating... torch.Size([49, 32, 32]) torch.Size([49, 32, 32])\n",
      "Correlating... torch.Size([225, 16, 16]) torch.Size([225, 16, 16])\n",
      "Iteration finished in 0.020 sec Warning! to many false vectors\n",
      "Warning! to many false vectors\n",
      "Batch finished in 0.027 sec\n",
      "Load time 0.002 sec Correlating... torch.Size([49, 32, 32]) torch.Size([49, 32, 32])\n",
      "Correlating... torch.Size([225, 16, 16]) torch.Size([225, 16, 16])\n",
      "Iteration finished in 0.022 sec Warning! to many false vectors\n",
      "Warning! to many false vectors\n",
      "Batch finished in 0.028 sec\n",
      "Load time 0.002 sec Correlating... torch.Size([49, 32, 32]) torch.Size([49, 32, 32])\n",
      "Correlating... torch.Size([225, 16, 16]) torch.Size([225, 16, 16])\n",
      "Iteration finished in 0.020 sec Warning! to many false vectors\n",
      "Warning! to many false vectors\n",
      "Batch finished in 0.028 sec\n",
      "Load time 0.002 sec Correlating... torch.Size([49, 32, 32]) torch.Size([49, 32, 32])\n",
      "Correlating... torch.Size([225, 16, 16]) torch.Size([225, 16, 16])\n",
      "Iteration finished in 0.019 sec Warning! to many false vectors\n",
      "Warning! to many false vectors\n",
      "Batch finished in 0.026 sec\n"
     ]
    }
   ],
   "source": [
    "piv_gen = OfflinePIV(\n",
    "    folder=folder, # Path to experiment\n",
    "    device=device, # Device name\n",
    "    file_fmt=file_format,\n",
    "    wind_size=32,\n",
    "    overlap=16,\n",
    "    dt=dt, # Time between frames, mcs\n",
    "    scale = 0.02, # mm/pix\n",
    "    multipass=2,\n",
    "    multipass_mode=\"CWS\", # CWS or DWS\n",
    "    multipass_scale=2.0, # Window downscale on each pass\n",
    "    folder_mode=mode # Pairs or sequential frames \n",
    ")\n",
    "\n",
    "results = []\n",
    "for out in piv_gen():\n",
    "    x, y, vx, vy = out\n",
    "    results.append(out)"
   ],
   "metadata": {
    "collapsed": false,
    "ExecuteTime": {
     "end_time": "2024-04-30T11:35:09.985707700Z",
     "start_time": "2024-04-30T11:35:08.573740800Z"
    }
   },
   "id": "721ae697118c7de8",
   "execution_count": 8
  },
  {
   "cell_type": "code",
   "outputs": [
    {
     "ename": "KeyboardInterrupt",
     "evalue": "",
     "output_type": "error",
     "traceback": [
      "\u001B[1;31m---------------------------------------------------------------------------\u001B[0m",
      "\u001B[1;31mKeyboardInterrupt\u001B[0m                         Traceback (most recent call last)",
      "Cell \u001B[1;32mIn[7], line 11\u001B[0m\n\u001B[0;32m      9\u001B[0m plt\u001B[38;5;241m.\u001B[39mimshow(img, cmap\u001B[38;5;241m=\u001B[39m\u001B[38;5;124m'\u001B[39m\u001B[38;5;124mgray\u001B[39m\u001B[38;5;124m'\u001B[39m)\n\u001B[0;32m     10\u001B[0m plt\u001B[38;5;241m.\u001B[39mquiver(new_x, new_y, vx, vy, color\u001B[38;5;241m=\u001B[39m\u001B[38;5;124m'\u001B[39m\u001B[38;5;124mred\u001B[39m\u001B[38;5;124m'\u001B[39m)\n\u001B[1;32m---> 11\u001B[0m \u001B[43mplt\u001B[49m\u001B[38;5;241;43m.\u001B[39;49m\u001B[43mshow\u001B[49m\u001B[43m(\u001B[49m\u001B[43m)\u001B[49m\n",
      "File \u001B[1;32m~\\AppData\\Local\\Programs\\Python\\Python311\\Lib\\site-packages\\matplotlib\\pyplot.py:527\u001B[0m, in \u001B[0;36mshow\u001B[1;34m(*args, **kwargs)\u001B[0m\n\u001B[0;32m    483\u001B[0m \u001B[38;5;250m\u001B[39m\u001B[38;5;124;03m\"\"\"\u001B[39;00m\n\u001B[0;32m    484\u001B[0m \u001B[38;5;124;03mDisplay all open figures.\u001B[39;00m\n\u001B[0;32m    485\u001B[0m \n\u001B[1;32m   (...)\u001B[0m\n\u001B[0;32m    524\u001B[0m \u001B[38;5;124;03mexplicitly there.\u001B[39;00m\n\u001B[0;32m    525\u001B[0m \u001B[38;5;124;03m\"\"\"\u001B[39;00m\n\u001B[0;32m    526\u001B[0m _warn_if_gui_out_of_main_thread()\n\u001B[1;32m--> 527\u001B[0m \u001B[38;5;28;01mreturn\u001B[39;00m \u001B[43m_get_backend_mod\u001B[49m\u001B[43m(\u001B[49m\u001B[43m)\u001B[49m\u001B[38;5;241;43m.\u001B[39;49m\u001B[43mshow\u001B[49m\u001B[43m(\u001B[49m\u001B[38;5;241;43m*\u001B[39;49m\u001B[43margs\u001B[49m\u001B[43m,\u001B[49m\u001B[43m \u001B[49m\u001B[38;5;241;43m*\u001B[39;49m\u001B[38;5;241;43m*\u001B[39;49m\u001B[43mkwargs\u001B[49m\u001B[43m)\u001B[49m\n",
      "File \u001B[1;32m~\\AppData\\Local\\Programs\\Python\\Python311\\Lib\\site-packages\\matplotlib\\backend_bases.py:3442\u001B[0m, in \u001B[0;36m_Backend.show\u001B[1;34m(cls, block)\u001B[0m\n\u001B[0;32m   3440\u001B[0m     block \u001B[38;5;241m=\u001B[39m \u001B[38;5;129;01mnot\u001B[39;00m ipython_pylab \u001B[38;5;129;01mand\u001B[39;00m \u001B[38;5;129;01mnot\u001B[39;00m is_interactive()\n\u001B[0;32m   3441\u001B[0m \u001B[38;5;28;01mif\u001B[39;00m block:\n\u001B[1;32m-> 3442\u001B[0m     \u001B[38;5;28;43mcls\u001B[39;49m\u001B[38;5;241;43m.\u001B[39;49m\u001B[43mmainloop\u001B[49m\u001B[43m(\u001B[49m\u001B[43m)\u001B[49m\n",
      "File \u001B[1;32m~\\AppData\\Local\\Programs\\Python\\Python311\\Lib\\site-packages\\matplotlib\\backends\\backend_qt.py:593\u001B[0m, in \u001B[0;36mFigureManagerQT.start_main_loop\u001B[1;34m(cls)\u001B[0m\n\u001B[0;32m    591\u001B[0m qapp \u001B[38;5;241m=\u001B[39m QtWidgets\u001B[38;5;241m.\u001B[39mQApplication\u001B[38;5;241m.\u001B[39minstance()\n\u001B[0;32m    592\u001B[0m \u001B[38;5;28;01mif\u001B[39;00m qapp:\n\u001B[1;32m--> 593\u001B[0m \u001B[43m    \u001B[49m\u001B[38;5;28;43;01mwith\u001B[39;49;00m\u001B[43m \u001B[49m\u001B[43m_maybe_allow_interrupt\u001B[49m\u001B[43m(\u001B[49m\u001B[43mqapp\u001B[49m\u001B[43m)\u001B[49m\u001B[43m:\u001B[49m\n\u001B[0;32m    594\u001B[0m \u001B[43m        \u001B[49m\u001B[43mqt_compat\u001B[49m\u001B[38;5;241;43m.\u001B[39;49m\u001B[43m_exec\u001B[49m\u001B[43m(\u001B[49m\u001B[43mqapp\u001B[49m\u001B[43m)\u001B[49m\n",
      "File \u001B[1;32m~\\AppData\\Local\\Programs\\Python\\Python311\\Lib\\contextlib.py:144\u001B[0m, in \u001B[0;36m_GeneratorContextManager.__exit__\u001B[1;34m(self, typ, value, traceback)\u001B[0m\n\u001B[0;32m    142\u001B[0m \u001B[38;5;28;01mif\u001B[39;00m typ \u001B[38;5;129;01mis\u001B[39;00m \u001B[38;5;28;01mNone\u001B[39;00m:\n\u001B[0;32m    143\u001B[0m     \u001B[38;5;28;01mtry\u001B[39;00m:\n\u001B[1;32m--> 144\u001B[0m         \u001B[38;5;28mnext\u001B[39m(\u001B[38;5;28mself\u001B[39m\u001B[38;5;241m.\u001B[39mgen)\n\u001B[0;32m    145\u001B[0m     \u001B[38;5;28;01mexcept\u001B[39;00m \u001B[38;5;167;01mStopIteration\u001B[39;00m:\n\u001B[0;32m    146\u001B[0m         \u001B[38;5;28;01mreturn\u001B[39;00m \u001B[38;5;28;01mFalse\u001B[39;00m\n",
      "File \u001B[1;32m~\\AppData\\Local\\Programs\\Python\\Python311\\Lib\\site-packages\\matplotlib\\backends\\qt_compat.py:230\u001B[0m, in \u001B[0;36m_maybe_allow_interrupt\u001B[1;34m(qapp)\u001B[0m\n\u001B[0;32m    228\u001B[0m signal\u001B[38;5;241m.\u001B[39msignal(signal\u001B[38;5;241m.\u001B[39mSIGINT, old_sigint_handler)\n\u001B[0;32m    229\u001B[0m \u001B[38;5;28;01mif\u001B[39;00m handler_args \u001B[38;5;129;01mis\u001B[39;00m \u001B[38;5;129;01mnot\u001B[39;00m \u001B[38;5;28;01mNone\u001B[39;00m:\n\u001B[1;32m--> 230\u001B[0m     \u001B[43mold_sigint_handler\u001B[49m\u001B[43m(\u001B[49m\u001B[38;5;241;43m*\u001B[39;49m\u001B[43mhandler_args\u001B[49m\u001B[43m)\u001B[49m\n",
      "\u001B[1;31mKeyboardInterrupt\u001B[0m: "
     ]
    }
   ],
   "source": [
    "files = os.listdir(folder)\n",
    "\n",
    "for idx, (x, y, vx, vy) in enumerate(results):\n",
    "    img = cv2.imread(folder + f\"/{files[idx]}\", cv2.IMREAD_GRAYSCALE)\n",
    "\n",
    "    new_x = x/piv_gen._scale\n",
    "    new_y = y/piv_gen._scale\n",
    "\n",
    "    plt.imshow(img, cmap='gray')\n",
    "    plt.quiver(new_x, new_y, vx, vy, color='red')\n",
    "    plt.show()"
   ],
   "metadata": {
    "collapsed": false,
    "ExecuteTime": {
     "end_time": "2024-04-30T11:05:06.857000700Z",
     "start_time": "2024-04-30T11:04:53.158935400Z"
    }
   },
   "id": "2a42401b293451c8",
   "execution_count": 7
  },
  {
   "cell_type": "code",
   "outputs": [],
   "source": [
    "for img_file in os.listdir(folder):\n",
    "    img = cv2.imread(folder + f\"/{img_file}\", cv2.IMREAD_GRAYSCALE)\n",
    "    xsize, ysize = img.shape\n",
    "    \n",
    "    newx, newy = int(xsize), int(ysize)\n",
    "    img = cv2.resize(img, (newx, newy), interpolation= cv2.INTER_LINEAR)\n",
    "    \n",
    "    cv2.imshow(str(img_file), img)\n",
    "    cv2.waitKey(0)\n",
    "    cv2.destroyAllWindows()"
   ],
   "metadata": {
    "collapsed": false,
    "ExecuteTime": {
     "end_time": "2024-04-29T10:31:07.890612Z",
     "start_time": "2024-04-29T10:30:38.472992800Z"
    }
   },
   "id": "1c11b400d39a398a",
   "execution_count": 6
  },
  {
   "cell_type": "code",
   "outputs": [],
   "source": [],
   "metadata": {
    "collapsed": false
   },
   "id": "acdf654943de23ef",
   "execution_count": null
  }
 ],
 "metadata": {
  "kernelspec": {
   "display_name": "Python 3",
   "language": "python",
   "name": "python3"
  },
  "language_info": {
   "codemirror_mode": {
    "name": "ipython",
    "version": 2
   },
   "file_extension": ".py",
   "mimetype": "text/x-python",
   "name": "python",
   "nbconvert_exporter": "python",
   "pygments_lexer": "ipython2",
   "version": "2.7.6"
  }
 },
 "nbformat": 4,
 "nbformat_minor": 5
}
