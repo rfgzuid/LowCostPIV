{
 "cells": [
  {
   "cell_type": "code",
   "execution_count": 23,
   "id": "initial_id",
   "metadata": {
    "collapsed": true,
    "ExecuteTime": {
     "end_time": "2024-04-25T15:23:31.655252Z",
     "start_time": "2024-04-25T15:23:31.635141600Z"
    }
   },
   "outputs": [],
   "source": [
    "from torchPIV import OfflinePIV\n",
    "import torch\n",
    "\n",
    "import numpy as np\n",
    "import matplotlib.pyplot as plt\n",
    "import matplotlib.animation as animation\n",
    "\n",
    "import cv2\n",
    "import os"
   ]
  },
  {
   "cell_type": "code",
   "outputs": [],
   "source": [
    "gpu_enabled = torch.cuda.is_available()\n",
    "\n",
    "if gpu_enabled:\n",
    "    device = torch.cuda.get_device_name()\n",
    "else:\n",
    "    device = 'cpu'"
   ],
   "metadata": {
    "collapsed": false,
    "ExecuteTime": {
     "end_time": "2024-04-25T14:58:44.641329300Z",
     "start_time": "2024-04-25T14:58:44.636878500Z"
    }
   },
   "id": "734584cc0b28c38a",
   "execution_count": 2
  },
  {
   "cell_type": "code",
   "outputs": [
    {
     "name": "stdout",
     "output_type": "stream",
     "text": [
      "Load time 0.035 sec Batch finished in 0.736 sec\n",
      "Load time 0.017 sec Batch finished in 0.403 sec\n",
      "Load time 0.016 sec Batch finished in 0.387 sec\n",
      "Load time 0.018 sec Batch finished in 0.378 sec\n",
      "Load time 0.017 sec Batch finished in 0.372 sec\n",
      "Load time 0.017 sec Batch finished in 0.411 sec\n",
      "Load time 0.016 sec Batch finished in 0.336 sec\n",
      "Load time 0.017 sec Batch finished in 0.371 sec\n",
      "Load time 0.017 sec Batch finished in 0.349 sec\n",
      "Load time 0.016 sec Batch finished in 0.356 sec\n",
      "Load time 0.016 sec Batch finished in 0.358 sec\n"
     ]
    }
   ],
   "source": [
    "piv_gen = OfflinePIV(\n",
    "    folder=\"test_imgs\", # Path to experiment\n",
    "    device=device, # Device name\n",
    "    file_fmt=\"bmp\",\n",
    "    wind_size=32,\n",
    "    overlap=16,\n",
    "    dt=12, # Time between frames, mcs\n",
    "    scale = 0.02, # mm/pix\n",
    "    multipass=1,\n",
    "    multipass_mode=\"CWS\", # CWS or DWS\n",
    "    multipass_scale=2.0, # Window downscale on each pass\n",
    "    folder_mode=\"pairs\" # Pairs or sequential frames \n",
    ")\n",
    "\n",
    "results = []\n",
    "for out in piv_gen():\n",
    "    x, y, vx, vy = out\n",
    "    results.append(out)"
   ],
   "metadata": {
    "collapsed": false,
    "ExecuteTime": {
     "end_time": "2024-04-25T15:33:30.663792800Z",
     "start_time": "2024-04-25T15:33:25.976562300Z"
    }
   },
   "id": "721ae697118c7de8",
   "execution_count": 30
  },
  {
   "cell_type": "code",
   "outputs": [],
   "source": [
    "files = os.listdir(r'test_imgs')\n",
    "\n",
    "velocities = []\n",
    "\n",
    "for _, _, vx, vy in results:\n",
    "    abs_velocity = np.sqrt(vx ** 2 + vy ** 2)\n",
    "    velocities.append(abs_velocity)\n",
    "    \n",
    "velocities = np.array(velocities)\n",
    "velocities /= np.max(velocities)\n",
    "\n",
    "for idx, (x, y, vx, vy) in enumerate(results):\n",
    "    img = cv2.imread(rf'test_imgs/{files[idx*2]}', cv2.IMREAD_GRAYSCALE)\n",
    "\n",
    "    new_x = x/piv_gen._scale\n",
    "    new_y = y/piv_gen._scale\n",
    "\n",
    "    abs_velocity = np.sqrt(vx ** 2 + vy ** 2)\n",
    "    abs_velocity /= np.max(abs_velocity)\n",
    "\n",
    "    plt.imshow(img)\n",
    "    plt.quiver(new_x, new_y, vx, vy, velocities[idx], cmap='jet')\n",
    "    plt.show()"
   ],
   "metadata": {
    "collapsed": false,
    "ExecuteTime": {
     "end_time": "2024-04-25T15:39:29.611318100Z",
     "start_time": "2024-04-25T15:39:19.082490300Z"
    }
   },
   "id": "2a42401b293451c8",
   "execution_count": 32
  },
  {
   "cell_type": "code",
   "outputs": [],
   "source": [
    "for img_file in os.listdir(r'test_imgs'):\n",
    "    img = cv2.imread(rf'test_imgs/{img_file}', cv2.IMREAD_GRAYSCALE)\n",
    "    xsize, ysize = img.shape\n",
    "    \n",
    "    newx, newy = int(xsize*0.3), int(ysize*0.3)\n",
    "    img = cv2.resize(img, (newx, newy), interpolation= cv2.INTER_LINEAR)\n",
    "    \n",
    "    cv2.imshow(str(img_file), img)\n",
    "    cv2.waitKey(0)\n",
    "    cv2.destroyAllWindows()"
   ],
   "metadata": {
    "collapsed": false,
    "ExecuteTime": {
     "end_time": "2024-04-25T15:39:58.983922100Z",
     "start_time": "2024-04-25T15:39:47.399128300Z"
    }
   },
   "id": "1c11b400d39a398a",
   "execution_count": 33
  },
  {
   "cell_type": "code",
   "outputs": [],
   "source": [
    " "
   ],
   "metadata": {
    "collapsed": false
   },
   "id": "acdf654943de23ef"
  }
 ],
 "metadata": {
  "kernelspec": {
   "display_name": "Python 3",
   "language": "python",
   "name": "python3"
  },
  "language_info": {
   "codemirror_mode": {
    "name": "ipython",
    "version": 2
   },
   "file_extension": ".py",
   "mimetype": "text/x-python",
   "name": "python",
   "nbconvert_exporter": "python",
   "pygments_lexer": "ipython2",
   "version": "2.7.6"
  }
 },
 "nbformat": 4,
 "nbformat_minor": 5
}
