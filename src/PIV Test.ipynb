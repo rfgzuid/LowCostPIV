{
 "cells": [
  {
   "cell_type": "code",
   "id": "initial_id",
   "metadata": {
    "collapsed": true,
    "ExecuteTime": {
     "end_time": "2024-05-21T12:25:28.984751400Z",
     "start_time": "2024-05-21T12:25:18.679683500Z"
    }
   },
   "source": [
    "from torchPIV.PIVbackend import ToTensor, PIVDataset, moving_window_array\n",
    "from SIV_library.lib import block_match, moving_reference_array, correlation_to_displacement, get_field_shape, get_x_y\n",
    "\n",
    "import os\n",
    "import sys\n",
    "import cv2\n",
    "import torch\n",
    "import numpy as np\n",
    "import matplotlib.pyplot as plt\n",
    "import matplotlib.animation as animation\n",
    "\n",
    "os.environ[\"OPENCV_IO_ENABLE_OPENEXR\"]=\"1\"\n",
    "sys.path.append(\"../../\")\n",
    "\n",
    "%load_ext autoreload\n",
    "%autoreload 2"
   ],
   "outputs": [],
   "execution_count": 1
  },
  {
   "cell_type": "code",
   "outputs": [
    {
     "data": {
      "text/plain": "True"
     },
     "execution_count": 312,
     "metadata": {},
     "output_type": "execute_result"
    }
   ],
   "source": [
    "test1 = np.zeros((30, 30))\n",
    "test1 = cv2.circle(test1, (15, 15), 5, (255, 255, 255), -1)\n",
    "cv2.imwrite(\"../Test Data/circle_test/1.jpg\", test1)"
   ],
   "metadata": {
    "collapsed": false,
    "ExecuteTime": {
     "end_time": "2024-05-21T15:38:14.690739700Z",
     "start_time": "2024-05-21T15:38:14.560496600Z"
    }
   },
   "id": "352e69c39583a26",
   "execution_count": 312
  },
  {
   "cell_type": "code",
   "outputs": [
    {
     "data": {
      "text/plain": "True"
     },
     "execution_count": 315,
     "metadata": {},
     "output_type": "execute_result"
    }
   ],
   "source": [
    "test2 = np.roll(test1, (2, -3), axis=(1, 0))\n",
    "cv2.imwrite(\"../Test Data/circle_test/2.jpg\", test2)"
   ],
   "metadata": {
    "collapsed": false,
    "ExecuteTime": {
     "end_time": "2024-05-21T15:40:05.341969500Z",
     "start_time": "2024-05-21T15:40:05.226422500Z"
    }
   },
   "id": "a012e289a5e814eb",
   "execution_count": 315
  },
  {
   "metadata": {
    "ExecuteTime": {
     "end_time": "2024-05-21T15:40:19.253032900Z",
     "start_time": "2024-05-21T15:40:19.131089100Z"
    }
   },
   "cell_type": "code",
   "source": [
    "device = \"cuda\" if torch.cuda.is_available() else \"cpu\"\n",
    "print(device)\n",
    "\n",
    "dataset = PIVDataset(\"../Test Data/circle_test\", \".jpg\",\n",
    "                     \"sequential\", transform=ToTensor(dtype=torch.uint8))"
   ],
   "id": "889bbed85a67904b",
   "outputs": [
    {
     "name": "stdout",
     "output_type": "stream",
     "text": [
      "cuda\n"
     ]
    }
   ],
   "execution_count": 316
  },
  {
   "metadata": {
    "ExecuteTime": {
     "end_time": "2024-05-21T15:40:22.487600800Z",
     "start_time": "2024-05-21T15:40:22.385123100Z"
    }
   },
   "cell_type": "code",
   "source": [
    "def vector_field_l(fn: str, results: np.ndarray, scale: float, playback_fps = 60.) -> None:\n",
    "    fig, ax = plt.subplots()\n",
    "\n",
    "    velocities = results[:, 2:]\n",
    "    abs_velocities = np.sqrt(velocities[:, 0]**2 + velocities[:, 1]**2)\n",
    "    min_abs, max_abs = np.min(abs_velocities, axis=0), np.max(abs_velocities, axis=0)\n",
    "    frames = os.listdir(fn)\n",
    "    frame = cv2.imread(rf\"{fn}/{frames[0]}\", cv2.IMREAD_GRAYSCALE)\n",
    "    image = ax.imshow(frame, cmap='gray')\n",
    "\n",
    "    x0, y0, vx0, vy0 = results[0]\n",
    "    vy0 = -vy0\n",
    "    vectors = ax.quiver(x0, y0, vx0, vy0, max_abs-min_abs, cmap='jet', scale=scale, scale_units='xy')\n",
    "    def update(index):\n",
    "        frame = cv2.imread(rf\"{fn}/{frames[index]}\", cv2.IMREAD_GRAYSCALE)\n",
    "        image.set_data(frame)\n",
    "\n",
    "        vx, vy = results[index][2], results[index][3]\n",
    "        vy = -vy\n",
    "        abs_vel = np.sqrt(vx**2 + vy**2)\n",
    "        vectors.set_UVC(vx, vy, abs_vel-min_abs)\n",
    "\n",
    "        return image, vectors\n",
    "\n",
    "    _ = animation.FuncAnimation(fig=fig, func=update, frames=results.shape[0], interval=1000/playback_fps)\n",
    "\n",
    "    plt.show()"
   ],
   "id": "a5218ac6523100e0",
   "outputs": [],
   "execution_count": 317
  },
  {
   "metadata": {
    "ExecuteTime": {
     "end_time": "2024-05-21T16:20:37.022215500Z",
     "start_time": "2024-05-21T16:20:36.919136200Z"
    }
   },
   "cell_type": "code",
   "source": [
    "def all_frames(window_size, overlap, mode=0):\n",
    "    results = []\n",
    "    for i in range(0, 1, 1):\n",
    "        image_a, image_b = dataset[i]\n",
    "        \n",
    "        n_rows, n_cols = get_field_shape(image_a.shape, window_size, overlap)\n",
    "        window = moving_window_array(image_a, window_size, overlap)\n",
    "        \n",
    "        area = moving_reference_array(image_b, window_size, overlap, left=10, right=10, top=10, bottom=10)\n",
    "        correl = block_match(window, area, mode)\n",
    "        u, v = correlation_to_displacement(correl, n_rows, n_cols, mode)\n",
    "\n",
    "        x, y= get_x_y(image_a.shape, window_size, overlap)\n",
    "        x, y = x.reshape(n_rows, n_cols), y.reshape(n_rows, n_cols)\n",
    "        \n",
    "        results.append((x, y, u, v))\n",
    "    return np.array(results)"
   ],
   "id": "82b1cd5e051c8e24",
   "outputs": [],
   "execution_count": 415
  },
  {
   "metadata": {
    "ExecuteTime": {
     "end_time": "2024-05-21T16:20:44.617462400Z",
     "start_time": "2024-05-21T16:20:37.119446500Z"
    }
   },
   "cell_type": "code",
   "source": [
    "res = all_frames(8, 4, mode=1)"
   ],
   "id": "45ee868d5cab4b55",
   "outputs": [
    {
     "name": "stderr",
     "output_type": "stream",
     "text": [
      "100%|██████████| 21/21 [00:00<00:00, 747.75it/s]\n"
     ]
    },
    {
     "name": "stdout",
     "output_type": "stream",
     "text": [
      "36 windows\n"
     ]
    }
   ],
   "execution_count": 416
  },
  {
   "metadata": {
    "ExecuteTime": {
     "end_time": "2024-05-21T16:20:49.024824100Z",
     "start_time": "2024-05-21T16:20:45.570479300Z"
    }
   },
   "cell_type": "code",
   "source": [
    "fn = \"../Test Data/circle_test\"\n",
    "vector_field_l(fn, res, 1)"
   ],
   "id": "558fb317b4527aa9",
   "outputs": [],
   "execution_count": 417
  },
  {
   "cell_type": "code",
   "outputs": [],
   "source": [],
   "metadata": {
    "collapsed": false
   },
   "id": "e1c2c1ad519e0e87"
  }
 ],
 "metadata": {
  "kernelspec": {
   "display_name": "Python 3",
   "language": "python",
   "name": "python3"
  },
  "language_info": {
   "codemirror_mode": {
    "name": "ipython",
    "version": 2
   },
   "file_extension": ".py",
   "mimetype": "text/x-python",
   "name": "python",
   "nbconvert_exporter": "python",
   "pygments_lexer": "ipython2",
   "version": "2.7.6"
  }
 },
 "nbformat": 4,
 "nbformat_minor": 5
}
