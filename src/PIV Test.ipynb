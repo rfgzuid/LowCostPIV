{
 "cells": [
  {
   "cell_type": "code",
   "id": "initial_id",
   "metadata": {
    "collapsed": true,
    "ExecuteTime": {
     "end_time": "2024-05-15T16:33:58.334221Z",
     "start_time": "2024-05-15T16:33:50.368638Z"
    }
   },
   "source": [
    "from torchPIV.PIVbackend import ToTensor, PIVDataset, moving_window_array\n",
    "from SIV_library.lib import block_match, moving_reference_array, match_to_displacement, correlation_to_displacement, get_field_shape, get_x_y, plot_velocity_single_frame\n",
    "from SIV_library.processing import Video, Processor, Viewer\n",
    "\n",
    "import os\n",
    "import sys\n",
    "import cv2\n",
    "import torch\n",
    "import numpy as np\n",
    "import matplotlib.pyplot as plt\n",
    "import matplotlib.animation as animation\n",
    "from scipy.interpolate import RegularGridInterpolator\n",
    "from tqdm import tqdm\n",
    "\n",
    "from collections.abc import Collection\n",
    "\n",
    "\n",
    "os.environ[\"OPENCV_IO_ENABLE_OPENEXR\"]=\"1\"\n",
    "sys.path.append(\"../../\")\n",
    "import helpers\n",
    "\n",
    "\n",
    "%load_ext autoreload\n",
    "%autoreload 2"
   ],
   "outputs": [],
   "execution_count": 2
  },
  {
   "metadata": {
    "ExecuteTime": {
     "end_time": "2024-05-15T16:33:58.460909Z",
     "start_time": "2024-05-15T16:33:58.336188Z"
    }
   },
   "cell_type": "code",
   "source": [
    "device = \"cuda\" if torch.cuda.is_available() else \"cpu\"\n",
    "device = \"cpu\"\n",
    "\n",
    "dataset = PIVDataset(\"../Test Data/plume simulation_PROCESSED\", \".jpg\",\n",
    "                     \"sequential\", transform=ToTensor(dtype=torch.uint8))"
   ],
   "id": "889bbed85a67904b",
   "outputs": [],
   "execution_count": 3
  },
  {
   "metadata": {
    "ExecuteTime": {
     "end_time": "2024-05-15T16:33:58.588745Z",
     "start_time": "2024-05-15T16:33:58.461900Z"
    }
   },
   "cell_type": "code",
   "source": [
    "# testing_0 = helpers.imread_normalized_float_grayscale(os.path.join(\"../Test Data/test\", \"0.jpg\"))\n",
    "# testing_0 = np.where(testing_0 > 0.5, 1.0, 0.0)  # TEMPORARY, TO MAKE TEST MORE IDEAL\n",
    "# testing_1 = helpers.imread_normalized_float_grayscale(os.path.join(\"../Test Data/test\", \"1.jpg\"))\n",
    "# testing_1 = np.where(testing_1 > 0.5, 1.0, 0.0)  # TEMPORARY, TO MAKE TEST MORE IDEAL"
   ],
   "id": "7eaa354fa03cdbc9",
   "outputs": [],
   "execution_count": 4
  },
  {
   "metadata": {
    "ExecuteTime": {
     "end_time": "2024-05-15T16:40:41.306599Z",
     "start_time": "2024-05-15T16:40:41.015195Z"
    }
   },
   "cell_type": "code",
   "source": [
    "img_a, img_b = dataset[1]\n",
    "img_a, img_b = img_a.to(device), img_b.to(device)\n",
    "\n",
    "# img_a, img_b = torch.from_numpy(testing_0), torch.from_numpy(testing_1)\n",
    "window_size, overlap = 64, 32 \n",
    "aa = moving_window_array(img_a, window_size, overlap)\n",
    "\n",
    "window_amount = aa.shape[0]\n",
    "print(window_amount, 'windows')"
   ],
   "id": "159c490cc541ffa6",
   "outputs": [
    {
     "name": "stdout",
     "output_type": "stream",
     "text": [
      "3969 windows\n"
     ]
    }
   ],
   "execution_count": 11
  },
  {
   "metadata": {
    "ExecuteTime": {
     "end_time": "2024-05-15T16:47:23.604998Z",
     "start_time": "2024-05-15T16:40:56.829666Z"
    }
   },
   "cell_type": "code",
   "source": [
    "bb = moving_reference_array(img_b, window_size, overlap, left=40, right=40, top=40, bottom=40)\n",
    "\n",
    "idx = 2300\n",
    "window, area = aa, bb\n",
    "# idx = 5\n",
    "\n",
    "#4.09458182656812\n",
    "#-3.4124938088181693\n",
    "\n",
    "cv2.imshow('Interrogation window', window[idx].cpu().numpy())\n",
    "cv2.waitKey(0)\n",
    "cv2.imshow('Search area', area[idx].cpu().numpy())\n",
    "cv2.waitKey(0)\n",
    "cv2.destroyAllWindows()\n",
    "# corr = block_match(window, area, mode=0)[idx]\n",
    "# intensity = block_match(window, area, mode=1)[idx]\n",
    "\n",
    "# corr_min, corr_max = torch.min(corr), torch.max(corr)\n",
    "# corr_img = (corr-corr_min)/(corr_max-corr_min)\n",
    "# \n",
    "# intensity_min, intensity_max = torch.min(intensity), torch.max(intensity)\n",
    "# intensity_img = 1 - (intensity-intensity_min)/(intensity_max-intensity_min)\n",
    "\n",
    "# match_to_displacement(block_match(window, area, 1))\n",
    "\n",
    "corr = block_match(window, area, mode=1)\n",
    "nrows, ncols = get_field_shape(img_a.shape, window_size, overlap)\n",
    "u, v = correlation_to_displacement(corr, nrows, ncols)\n",
    "# row, col = idx // 31, idx % 31\n",
    "# print(f\"u shape = {u.shape}\")\n",
    "# print(u[row, col])\n",
    "# print(f\"v shape = {v.shape}\")\n",
    "# print(v[row, col])\n",
    "\n",
    "# plts = np.hstack((corr_img.cpu().numpy(), intensity_img.cpu().numpy()))\n",
    "\n",
    "fig = plt.figure()\n",
    "ax = fig.add_subplot(projection='3d')\n",
    "x, y = np.meshgrid(range(area.shape[2] - window.shape[2] + 1), range(area.shape[1] - window.shape[1] + 1))\n",
    "\n",
    "\n",
    "# ax.plot_surface(x, y, corr_img, color='b', alpha=0.5, label='correlation')\n",
    "# ax.plot_surface(x, y, intensity_img, color='r', alpha=0.5, label='SAD')\n",
    "\n",
    "# plt.legend()\n",
    "# plt.show()\n"
   ],
   "id": "d4c4f0fb0205888a",
   "outputs": [
    {
     "name": "stderr",
     "output_type": "stream",
     "text": [
      "100%|██████████| 81/81 [06:23<00:00,  4.73s/it]\n"
     ]
    }
   ],
   "execution_count": 13
  },
  {
   "metadata": {
    "ExecuteTime": {
     "end_time": "2024-05-15T16:36:49.928030Z",
     "start_time": "2024-05-15T16:36:49.520951Z"
    }
   },
   "cell_type": "code",
   "source": "x_c, y_c = get_x_y(img_a.shape, window_size, overlap)   ",
   "id": "f14cd6aaef93b100",
   "outputs": [],
   "execution_count": 9
  },
  {
   "metadata": {
    "ExecuteTime": {
     "end_time": "2024-05-15T16:38:16.899637Z",
     "start_time": "2024-05-15T16:36:51.237289Z"
    }
   },
   "cell_type": "code",
   "source": "plot_velocity_single_frame(img_a, x_c, y_c, u, v)",
   "id": "c76a8ab0eb1eb2d9",
   "outputs": [],
   "execution_count": 10
  },
  {
   "metadata": {
    "ExecuteTime": {
     "end_time": "2024-05-20T12:11:48.038378Z",
     "start_time": "2024-05-20T12:11:47.907899Z"
    }
   },
   "cell_type": "code",
   "source": [
    "def vector_field(folder_name: str, results: np.ndarray, scale: float, playback_fps = 30.) -> None:\n",
    "    fig, ax = plt.subplots()\n",
    "\n",
    "    velocities = results[:, 2:]  # exclude reference frame (only nan/zero values)\n",
    "    abs_velocities = np.sqrt(velocities[:, 0]**2 + velocities[:, 1]**2)\n",
    "    min_abs, max_abs = np.min(abs_velocities, axis=0), np.max(abs_velocities, axis=0)\n",
    "    frames = os.listdir(foldername)\n",
    "    frame = cv2.imread(rf\"{foldername}/{frames[0]}\", cv2.IMREAD_GRAYSCALE)\n",
    "    image = ax.imshow(frame, cmap='gray')\n",
    "\n",
    "    # Note: velocity scaling is done for correct color mapping and quiver length\n",
    "    x0, y0, vx0, vy0 = results[0]\n",
    "    new_x0, new_y0 = x0/scale, y0/scale\n",
    "    # vx0, vy0 = np.flip(vx0, axis=0), np.flip(vy0, axis=0)  # flip velocities for correct IMAGE coords\n",
    "    # vectors = ax.quiver(new_x0, new_y0, vx0, vy0, max_abs-min_abs, cmap='jet')\n",
    "    vectors = ax.quiver(x0, y0, vx0, vy0, cmap='jet')\n",
    "    def update(index):\n",
    "        frame = cv2.imread(rf\"{foldername}/{frames[index]}\", cv2.IMREAD_GRAYSCALE)\n",
    "        image.set_data(frame)\n",
    "\n",
    "        # https://stackoverflow.com/questions/19329039/plotting-animated-quivers-in-python\n",
    "        vx, vy = results[index][2], results[index][3]\n",
    "        vx, vy = np.flip(vx, axis=0), np.flip(vy, axis=0)\n",
    "        scaling = np.sqrt(vx ** 2 + vy ** 2) - min_abs\n",
    "        vectors.set_UVC(vx, vy)\n",
    "\n",
    "        return image, vectors\n",
    "\n",
    "    ani = animation.FuncAnimation(fig=fig, func=update, frames=len(frames)-1, interval=1000/playback_fps)\n",
    "\n",
    "    plt.show()"
   ],
   "id": "a5218ac6523100e0",
   "outputs": [],
   "execution_count": 63
  },
  {
   "metadata": {
    "ExecuteTime": {
     "end_time": "2024-05-20T10:57:30.276231Z",
     "start_time": "2024-05-20T10:57:30.000233Z"
    }
   },
   "cell_type": "code",
   "source": [
    "def all_frames(folder_name, window_size, overlap, match_mode = 0, interp_mode = 0):\n",
    "    # Images must already be processed\n",
    "    results = []\n",
    "    x_y = \"a\"\n",
    "    stored_imges = []\n",
    "    for i, filename in enumerate(os.listdir(folder_name)):\n",
    "        img = cv2.imread(rf\"{foldername}/{filename}\", cv2.IMREAD_GRAYSCALE)\n",
    "        if x_y == \"a\":\n",
    "            x_y = get_x_y(img.shape, window_size, overlap)\n",
    "        stored_imges.append(img)\n",
    "        if len(stored_imges) < 2:\n",
    "            continue\n",
    "        if len(stored_imges) > 2:\n",
    "            stored_imges.pop(0)\n",
    "        image_a, image_b = stored_imges[0], stored_imges[1]\n",
    "        n_rows, n_cols = get_field_shape(img.shape, window_size, overlap)\n",
    "        window = moving_window_array(img_a, window_size, overlap)\n",
    "        area = moving_reference_array(img_b, window_size, overlap, left=40, right=40, top=40, bottom=40)\n",
    "        correl = block_match(window, area, match_mode)\n",
    "        u_, v_ = correlation_to_displacement(correl, n_rows, n_cols, interp_mode)\n",
    "        # print(len(x_y[0]), len(x_y[1]), len(u_.flatten()), len(v_.flatten()))\n",
    "        x = x_y[0].reshape(n_rows, n_cols)\n",
    "        y = x_y[1].reshape(n_rows, n_cols)\n",
    "        results.append((x, y, u_, v_))\n",
    "        # print(results.shape)\n",
    "        if i == 3:\n",
    "            break\n",
    "    return np.array(results)"
   ],
   "id": "82b1cd5e051c8e24",
   "outputs": [],
   "execution_count": 49
  },
  {
   "metadata": {
    "ExecuteTime": {
     "end_time": "2024-05-20T10:57:32.029628Z",
     "start_time": "2024-05-20T10:57:31.830093Z"
    }
   },
   "cell_type": "code",
   "source": [
    "video_file = \"plume simulation.mp4\"\n",
    "image_1_file = rf\"../Test Data/plume simulation_PROCESSED/00101.jpg\"\n",
    "fn = video_file.split(\".\")[0]\n",
    "frames = [int(\"00\" + str(i)) for i in range(100, 151)]\n",
    "\n",
    "vid = Video(rf\"../Test Data/{video_file}\", df='.jpg', indices=frames)\n",
    "vid.create_frames()\n",
    "vid.create_frames()\n",
    "\n",
    "processor = Processor(rf\"../Test Data/{fn}\", df='.jpg', denoise=False, rescale=None, crop=False)\n",
    "processor.postprocess()\n",
    "\n",
    "device = torch.cuda.get_device_name() if torch.cuda.is_available() else \"cpu\"\n",
    "print(device)\n",
    "\n",
    "capture_fps = 240.\n",
    "scale = 1.\n",
    "\n",
    "viewer = Viewer(rf\"../Test Data/{fn}_PROCESSED\", playback_fps=30., capture_fps=capture_fps)\n",
    "\n",
    "shape = int(np.sqrt(y_c.shape[0]))\n",
    "# viewer.play_video()\n",
    "# res = np.array((x_c.reshape((shape, shape)), y_c.reshape((shape, shape)), u, v))\n",
    "res = np.array([[x_c.reshape(shape, shape), y_c.reshape(shape, shape), u, v]])\n",
    "print(res.shape)\n",
    "vector_field(image_1_file, res, scale)"
   ],
   "id": "aaa4006e6c8c9416",
   "outputs": [
    {
     "name": "stdout",
     "output_type": "stream",
     "text": [
      "Directory '../Test Data/plume simulation' already exists\n",
      "Directory '../Test Data/plume simulation' already exists\n",
      "Directory '../Test Data/plume simulation_PROCESSED' already exists\n",
      "cpu\n"
     ]
    },
    {
     "ename": "ValueError",
     "evalue": "setting an array element with a sequence. The requested array has an inhomogeneous shape after 2 dimensions. The detected shape was (1, 4) + inhomogeneous part.",
     "output_type": "error",
     "traceback": [
      "\u001B[1;31m---------------------------------------------------------------------------\u001B[0m",
      "\u001B[1;31mValueError\u001B[0m                                Traceback (most recent call last)",
      "Cell \u001B[1;32mIn[50], line 24\u001B[0m\n\u001B[0;32m     21\u001B[0m shape \u001B[38;5;241m=\u001B[39m \u001B[38;5;28mint\u001B[39m(np\u001B[38;5;241m.\u001B[39msqrt(y_c\u001B[38;5;241m.\u001B[39mshape[\u001B[38;5;241m0\u001B[39m]))\n\u001B[0;32m     22\u001B[0m \u001B[38;5;66;03m# viewer.play_video()\u001B[39;00m\n\u001B[0;32m     23\u001B[0m \u001B[38;5;66;03m# res = np.array((x_c.reshape((shape, shape)), y_c.reshape((shape, shape)), u, v))\u001B[39;00m\n\u001B[1;32m---> 24\u001B[0m res \u001B[38;5;241m=\u001B[39m \u001B[43mnp\u001B[49m\u001B[38;5;241;43m.\u001B[39;49m\u001B[43marray\u001B[49m\u001B[43m(\u001B[49m\u001B[43m[\u001B[49m\u001B[43m[\u001B[49m\u001B[43mx_c\u001B[49m\u001B[38;5;241;43m.\u001B[39;49m\u001B[43mreshape\u001B[49m\u001B[43m(\u001B[49m\u001B[43mshape\u001B[49m\u001B[43m,\u001B[49m\u001B[43m \u001B[49m\u001B[43mshape\u001B[49m\u001B[43m)\u001B[49m\u001B[43m,\u001B[49m\u001B[43m \u001B[49m\u001B[43my_c\u001B[49m\u001B[38;5;241;43m.\u001B[39;49m\u001B[43mreshape\u001B[49m\u001B[43m(\u001B[49m\u001B[43mshape\u001B[49m\u001B[43m,\u001B[49m\u001B[43m \u001B[49m\u001B[43mshape\u001B[49m\u001B[43m)\u001B[49m\u001B[43m,\u001B[49m\u001B[43m \u001B[49m\u001B[43mu\u001B[49m\u001B[43m,\u001B[49m\u001B[43m \u001B[49m\u001B[43mv\u001B[49m\u001B[43m]\u001B[49m\u001B[43m]\u001B[49m\u001B[43m)\u001B[49m\n\u001B[0;32m     25\u001B[0m \u001B[38;5;28mprint\u001B[39m(res\u001B[38;5;241m.\u001B[39mshape)\n\u001B[0;32m     26\u001B[0m vector_field(image_1_file, res, scale)\n",
      "\u001B[1;31mValueError\u001B[0m: setting an array element with a sequence. The requested array has an inhomogeneous shape after 2 dimensions. The detected shape was (1, 4) + inhomogeneous part."
     ]
    }
   ],
   "execution_count": 50
  },
  {
   "metadata": {
    "ExecuteTime": {
     "end_time": "2024-05-20T10:59:00.430575Z",
     "start_time": "2024-05-20T10:57:41.608629Z"
    }
   },
   "cell_type": "code",
   "source": [
    "foldername = rf\"../Test Data/plume simulation_PROCESSED\"\n",
    "# for filename in os.listdir(foldername):\n",
    "#     print(filename)\n",
    "#     img = cv2.imread(rf\"{foldername}/{filename}\", cv2.IMREAD_GRAYSCALE)\n",
    "#     print(img.shape)\n",
    "#     break\n",
    "\n",
    "xx_x = all_frames(foldername, 128, 64, match_mode = 0, interp_mode = 1)"
   ],
   "id": "45ee868d5cab4b55",
   "outputs": [
    {
     "name": "stderr",
     "output_type": "stream",
     "text": [
      "100%|██████████| 961/961 [00:24<00:00, 39.31it/s]\n",
      "100%|██████████| 961/961 [00:25<00:00, 38.40it/s]\n",
      "100%|██████████| 961/961 [00:28<00:00, 33.77it/s]\n"
     ]
    }
   ],
   "execution_count": 51
  },
  {
   "metadata": {
    "ExecuteTime": {
     "end_time": "2024-05-20T12:11:39.355667Z",
     "start_time": "2024-05-20T12:11:34.914778Z"
    }
   },
   "cell_type": "code",
   "source": "vector_field(foldername, xx_x, scale)",
   "id": "558fb317b4527aa9",
   "outputs": [
    {
     "ename": "IndexError",
     "evalue": "index 3 is out of bounds for axis 0 with size 3",
     "output_type": "error",
     "traceback": [
      "\u001B[1;31m---------------------------------------------------------------------------\u001B[0m",
      "\u001B[1;31mIndexError\u001B[0m                                Traceback (most recent call last)",
      "File \u001B[1;32m~\\Documents\\School\\Y4-Q4\\BEP\\openpiv-python-master\\.venv\\Lib\\site-packages\\matplotlib\\backend_bases.py:1233\u001B[0m, in \u001B[0;36mTimerBase._on_timer\u001B[1;34m(self)\u001B[0m\n\u001B[0;32m   1227\u001B[0m \u001B[38;5;250m\u001B[39m\u001B[38;5;124;03m\"\"\"\u001B[39;00m\n\u001B[0;32m   1228\u001B[0m \u001B[38;5;124;03mRuns all function that have been registered as callbacks. Functions\u001B[39;00m\n\u001B[0;32m   1229\u001B[0m \u001B[38;5;124;03mcan return False (or 0) if they should not be called any more. If there\u001B[39;00m\n\u001B[0;32m   1230\u001B[0m \u001B[38;5;124;03mare no callbacks, the timer is automatically stopped.\u001B[39;00m\n\u001B[0;32m   1231\u001B[0m \u001B[38;5;124;03m\"\"\"\u001B[39;00m\n\u001B[0;32m   1232\u001B[0m \u001B[38;5;28;01mfor\u001B[39;00m func, args, kwargs \u001B[38;5;129;01min\u001B[39;00m \u001B[38;5;28mself\u001B[39m\u001B[38;5;241m.\u001B[39mcallbacks:\n\u001B[1;32m-> 1233\u001B[0m     ret \u001B[38;5;241m=\u001B[39m \u001B[43mfunc\u001B[49m\u001B[43m(\u001B[49m\u001B[38;5;241;43m*\u001B[39;49m\u001B[43margs\u001B[49m\u001B[43m,\u001B[49m\u001B[43m \u001B[49m\u001B[38;5;241;43m*\u001B[39;49m\u001B[38;5;241;43m*\u001B[39;49m\u001B[43mkwargs\u001B[49m\u001B[43m)\u001B[49m\n\u001B[0;32m   1234\u001B[0m     \u001B[38;5;66;03m# docstring above explains why we use `if ret == 0` here,\u001B[39;00m\n\u001B[0;32m   1235\u001B[0m     \u001B[38;5;66;03m# instead of `if not ret`.\u001B[39;00m\n\u001B[0;32m   1236\u001B[0m     \u001B[38;5;66;03m# This will also catch `ret == False` as `False == 0`\u001B[39;00m\n\u001B[0;32m   1237\u001B[0m     \u001B[38;5;66;03m# but does not annoy the linters\u001B[39;00m\n\u001B[0;32m   1238\u001B[0m     \u001B[38;5;66;03m# https://docs.python.org/3/library/stdtypes.html#boolean-values\u001B[39;00m\n\u001B[0;32m   1239\u001B[0m     \u001B[38;5;28;01mif\u001B[39;00m ret \u001B[38;5;241m==\u001B[39m \u001B[38;5;241m0\u001B[39m:\n",
      "File \u001B[1;32m~\\Documents\\School\\Y4-Q4\\BEP\\openpiv-python-master\\.venv\\Lib\\site-packages\\matplotlib\\animation.py:1427\u001B[0m, in \u001B[0;36mTimedAnimation._step\u001B[1;34m(self, *args)\u001B[0m\n\u001B[0;32m   1420\u001B[0m \u001B[38;5;250m\u001B[39m\u001B[38;5;124;03m\"\"\"Handler for getting events.\"\"\"\u001B[39;00m\n\u001B[0;32m   1421\u001B[0m \u001B[38;5;66;03m# Extends the _step() method for the Animation class.  If\u001B[39;00m\n\u001B[0;32m   1422\u001B[0m \u001B[38;5;66;03m# Animation._step signals that it reached the end and we want to\u001B[39;00m\n\u001B[0;32m   1423\u001B[0m \u001B[38;5;66;03m# repeat, we refresh the frame sequence and return True. If\u001B[39;00m\n\u001B[0;32m   1424\u001B[0m \u001B[38;5;66;03m# _repeat_delay is set, change the event_source's interval to our loop\u001B[39;00m\n\u001B[0;32m   1425\u001B[0m \u001B[38;5;66;03m# delay and set the callback to one which will then set the interval\u001B[39;00m\n\u001B[0;32m   1426\u001B[0m \u001B[38;5;66;03m# back.\u001B[39;00m\n\u001B[1;32m-> 1427\u001B[0m still_going \u001B[38;5;241m=\u001B[39m \u001B[38;5;28;43msuper\u001B[39;49m\u001B[43m(\u001B[49m\u001B[43m)\u001B[49m\u001B[38;5;241;43m.\u001B[39;49m\u001B[43m_step\u001B[49m\u001B[43m(\u001B[49m\u001B[38;5;241;43m*\u001B[39;49m\u001B[43margs\u001B[49m\u001B[43m)\u001B[49m\n\u001B[0;32m   1428\u001B[0m \u001B[38;5;28;01mif\u001B[39;00m \u001B[38;5;129;01mnot\u001B[39;00m still_going:\n\u001B[0;32m   1429\u001B[0m     \u001B[38;5;28;01mif\u001B[39;00m \u001B[38;5;28mself\u001B[39m\u001B[38;5;241m.\u001B[39m_repeat:\n\u001B[0;32m   1430\u001B[0m         \u001B[38;5;66;03m# Restart the draw loop\u001B[39;00m\n",
      "File \u001B[1;32m~\\Documents\\School\\Y4-Q4\\BEP\\openpiv-python-master\\.venv\\Lib\\site-packages\\matplotlib\\animation.py:1121\u001B[0m, in \u001B[0;36mAnimation._step\u001B[1;34m(self, *args)\u001B[0m\n\u001B[0;32m   1119\u001B[0m \u001B[38;5;28;01mtry\u001B[39;00m:\n\u001B[0;32m   1120\u001B[0m     framedata \u001B[38;5;241m=\u001B[39m \u001B[38;5;28mnext\u001B[39m(\u001B[38;5;28mself\u001B[39m\u001B[38;5;241m.\u001B[39mframe_seq)\n\u001B[1;32m-> 1121\u001B[0m     \u001B[38;5;28;43mself\u001B[39;49m\u001B[38;5;241;43m.\u001B[39;49m\u001B[43m_draw_next_frame\u001B[49m\u001B[43m(\u001B[49m\u001B[43mframedata\u001B[49m\u001B[43m,\u001B[49m\u001B[43m \u001B[49m\u001B[38;5;28;43mself\u001B[39;49m\u001B[38;5;241;43m.\u001B[39;49m\u001B[43m_blit\u001B[49m\u001B[43m)\u001B[49m\n\u001B[0;32m   1122\u001B[0m     \u001B[38;5;28;01mreturn\u001B[39;00m \u001B[38;5;28;01mTrue\u001B[39;00m\n\u001B[0;32m   1123\u001B[0m \u001B[38;5;28;01mexcept\u001B[39;00m \u001B[38;5;167;01mStopIteration\u001B[39;00m:\n",
      "File \u001B[1;32m~\\Documents\\School\\Y4-Q4\\BEP\\openpiv-python-master\\.venv\\Lib\\site-packages\\matplotlib\\animation.py:1140\u001B[0m, in \u001B[0;36mAnimation._draw_next_frame\u001B[1;34m(self, framedata, blit)\u001B[0m\n\u001B[0;32m   1136\u001B[0m \u001B[38;5;28;01mdef\u001B[39;00m \u001B[38;5;21m_draw_next_frame\u001B[39m(\u001B[38;5;28mself\u001B[39m, framedata, blit):\n\u001B[0;32m   1137\u001B[0m     \u001B[38;5;66;03m# Breaks down the drawing of the next frame into steps of pre- and\u001B[39;00m\n\u001B[0;32m   1138\u001B[0m     \u001B[38;5;66;03m# post- draw, as well as the drawing of the frame itself.\u001B[39;00m\n\u001B[0;32m   1139\u001B[0m     \u001B[38;5;28mself\u001B[39m\u001B[38;5;241m.\u001B[39m_pre_draw(framedata, blit)\n\u001B[1;32m-> 1140\u001B[0m     \u001B[38;5;28;43mself\u001B[39;49m\u001B[38;5;241;43m.\u001B[39;49m\u001B[43m_draw_frame\u001B[49m\u001B[43m(\u001B[49m\u001B[43mframedata\u001B[49m\u001B[43m)\u001B[49m\n\u001B[0;32m   1141\u001B[0m     \u001B[38;5;28mself\u001B[39m\u001B[38;5;241m.\u001B[39m_post_draw(framedata, blit)\n",
      "File \u001B[1;32m~\\Documents\\School\\Y4-Q4\\BEP\\openpiv-python-master\\.venv\\Lib\\site-packages\\matplotlib\\animation.py:1768\u001B[0m, in \u001B[0;36mFuncAnimation._draw_frame\u001B[1;34m(self, framedata)\u001B[0m\n\u001B[0;32m   1764\u001B[0m     \u001B[38;5;28mself\u001B[39m\u001B[38;5;241m.\u001B[39m_save_seq \u001B[38;5;241m=\u001B[39m \u001B[38;5;28mself\u001B[39m\u001B[38;5;241m.\u001B[39m_save_seq[\u001B[38;5;241m-\u001B[39m\u001B[38;5;28mself\u001B[39m\u001B[38;5;241m.\u001B[39m_save_count:]\n\u001B[0;32m   1766\u001B[0m \u001B[38;5;66;03m# Call the func with framedata and args. If blitting is desired,\u001B[39;00m\n\u001B[0;32m   1767\u001B[0m \u001B[38;5;66;03m# func needs to return a sequence of any artists that were modified.\u001B[39;00m\n\u001B[1;32m-> 1768\u001B[0m \u001B[38;5;28mself\u001B[39m\u001B[38;5;241m.\u001B[39m_drawn_artists \u001B[38;5;241m=\u001B[39m \u001B[38;5;28;43mself\u001B[39;49m\u001B[38;5;241;43m.\u001B[39;49m\u001B[43m_func\u001B[49m\u001B[43m(\u001B[49m\u001B[43mframedata\u001B[49m\u001B[43m,\u001B[49m\u001B[43m \u001B[49m\u001B[38;5;241;43m*\u001B[39;49m\u001B[38;5;28;43mself\u001B[39;49m\u001B[38;5;241;43m.\u001B[39;49m\u001B[43m_args\u001B[49m\u001B[43m)\u001B[49m\n\u001B[0;32m   1770\u001B[0m \u001B[38;5;28;01mif\u001B[39;00m \u001B[38;5;28mself\u001B[39m\u001B[38;5;241m.\u001B[39m_blit:\n\u001B[0;32m   1772\u001B[0m     err \u001B[38;5;241m=\u001B[39m \u001B[38;5;167;01mRuntimeError\u001B[39;00m(\u001B[38;5;124m'\u001B[39m\u001B[38;5;124mThe animation function must return a sequence \u001B[39m\u001B[38;5;124m'\u001B[39m\n\u001B[0;32m   1773\u001B[0m                        \u001B[38;5;124m'\u001B[39m\u001B[38;5;124mof Artist objects.\u001B[39m\u001B[38;5;124m'\u001B[39m)\n",
      "Cell \u001B[1;32mIn[61], line 22\u001B[0m, in \u001B[0;36mvector_field.<locals>.update\u001B[1;34m(index)\u001B[0m\n\u001B[0;32m     19\u001B[0m image\u001B[38;5;241m.\u001B[39mset_data(frame)\n\u001B[0;32m     21\u001B[0m \u001B[38;5;66;03m# https://stackoverflow.com/questions/19329039/plotting-animated-quivers-in-python\u001B[39;00m\n\u001B[1;32m---> 22\u001B[0m vx, vy \u001B[38;5;241m=\u001B[39m \u001B[43mresults\u001B[49m\u001B[43m[\u001B[49m\u001B[43mindex\u001B[49m\u001B[43m]\u001B[49m[\u001B[38;5;241m2\u001B[39m], results[index][\u001B[38;5;241m3\u001B[39m]\n\u001B[0;32m     23\u001B[0m vx, vy \u001B[38;5;241m=\u001B[39m np\u001B[38;5;241m.\u001B[39mflip(vx, axis\u001B[38;5;241m=\u001B[39m\u001B[38;5;241m0\u001B[39m), np\u001B[38;5;241m.\u001B[39mflip(vy, axis\u001B[38;5;241m=\u001B[39m\u001B[38;5;241m0\u001B[39m)\n\u001B[0;32m     24\u001B[0m scaling \u001B[38;5;241m=\u001B[39m np\u001B[38;5;241m.\u001B[39msqrt(vx \u001B[38;5;241m*\u001B[39m\u001B[38;5;241m*\u001B[39m \u001B[38;5;241m2\u001B[39m \u001B[38;5;241m+\u001B[39m vy \u001B[38;5;241m*\u001B[39m\u001B[38;5;241m*\u001B[39m \u001B[38;5;241m2\u001B[39m) \u001B[38;5;241m-\u001B[39m min_abs\n",
      "\u001B[1;31mIndexError\u001B[0m: index 3 is out of bounds for axis 0 with size 3"
     ]
    },
    {
     "ename": "IndexError",
     "evalue": "index 4 is out of bounds for axis 0 with size 3",
     "output_type": "error",
     "traceback": [
      "\u001B[1;31m---------------------------------------------------------------------------\u001B[0m",
      "\u001B[1;31mIndexError\u001B[0m                                Traceback (most recent call last)",
      "File \u001B[1;32m~\\Documents\\School\\Y4-Q4\\BEP\\openpiv-python-master\\.venv\\Lib\\site-packages\\matplotlib\\backend_bases.py:1233\u001B[0m, in \u001B[0;36mTimerBase._on_timer\u001B[1;34m(self)\u001B[0m\n\u001B[0;32m   1227\u001B[0m \u001B[38;5;250m\u001B[39m\u001B[38;5;124;03m\"\"\"\u001B[39;00m\n\u001B[0;32m   1228\u001B[0m \u001B[38;5;124;03mRuns all function that have been registered as callbacks. Functions\u001B[39;00m\n\u001B[0;32m   1229\u001B[0m \u001B[38;5;124;03mcan return False (or 0) if they should not be called any more. If there\u001B[39;00m\n\u001B[0;32m   1230\u001B[0m \u001B[38;5;124;03mare no callbacks, the timer is automatically stopped.\u001B[39;00m\n\u001B[0;32m   1231\u001B[0m \u001B[38;5;124;03m\"\"\"\u001B[39;00m\n\u001B[0;32m   1232\u001B[0m \u001B[38;5;28;01mfor\u001B[39;00m func, args, kwargs \u001B[38;5;129;01min\u001B[39;00m \u001B[38;5;28mself\u001B[39m\u001B[38;5;241m.\u001B[39mcallbacks:\n\u001B[1;32m-> 1233\u001B[0m     ret \u001B[38;5;241m=\u001B[39m \u001B[43mfunc\u001B[49m\u001B[43m(\u001B[49m\u001B[38;5;241;43m*\u001B[39;49m\u001B[43margs\u001B[49m\u001B[43m,\u001B[49m\u001B[43m \u001B[49m\u001B[38;5;241;43m*\u001B[39;49m\u001B[38;5;241;43m*\u001B[39;49m\u001B[43mkwargs\u001B[49m\u001B[43m)\u001B[49m\n\u001B[0;32m   1234\u001B[0m     \u001B[38;5;66;03m# docstring above explains why we use `if ret == 0` here,\u001B[39;00m\n\u001B[0;32m   1235\u001B[0m     \u001B[38;5;66;03m# instead of `if not ret`.\u001B[39;00m\n\u001B[0;32m   1236\u001B[0m     \u001B[38;5;66;03m# This will also catch `ret == False` as `False == 0`\u001B[39;00m\n\u001B[0;32m   1237\u001B[0m     \u001B[38;5;66;03m# but does not annoy the linters\u001B[39;00m\n\u001B[0;32m   1238\u001B[0m     \u001B[38;5;66;03m# https://docs.python.org/3/library/stdtypes.html#boolean-values\u001B[39;00m\n\u001B[0;32m   1239\u001B[0m     \u001B[38;5;28;01mif\u001B[39;00m ret \u001B[38;5;241m==\u001B[39m \u001B[38;5;241m0\u001B[39m:\n",
      "File \u001B[1;32m~\\Documents\\School\\Y4-Q4\\BEP\\openpiv-python-master\\.venv\\Lib\\site-packages\\matplotlib\\animation.py:1427\u001B[0m, in \u001B[0;36mTimedAnimation._step\u001B[1;34m(self, *args)\u001B[0m\n\u001B[0;32m   1420\u001B[0m \u001B[38;5;250m\u001B[39m\u001B[38;5;124;03m\"\"\"Handler for getting events.\"\"\"\u001B[39;00m\n\u001B[0;32m   1421\u001B[0m \u001B[38;5;66;03m# Extends the _step() method for the Animation class.  If\u001B[39;00m\n\u001B[0;32m   1422\u001B[0m \u001B[38;5;66;03m# Animation._step signals that it reached the end and we want to\u001B[39;00m\n\u001B[0;32m   1423\u001B[0m \u001B[38;5;66;03m# repeat, we refresh the frame sequence and return True. If\u001B[39;00m\n\u001B[0;32m   1424\u001B[0m \u001B[38;5;66;03m# _repeat_delay is set, change the event_source's interval to our loop\u001B[39;00m\n\u001B[0;32m   1425\u001B[0m \u001B[38;5;66;03m# delay and set the callback to one which will then set the interval\u001B[39;00m\n\u001B[0;32m   1426\u001B[0m \u001B[38;5;66;03m# back.\u001B[39;00m\n\u001B[1;32m-> 1427\u001B[0m still_going \u001B[38;5;241m=\u001B[39m \u001B[38;5;28;43msuper\u001B[39;49m\u001B[43m(\u001B[49m\u001B[43m)\u001B[49m\u001B[38;5;241;43m.\u001B[39;49m\u001B[43m_step\u001B[49m\u001B[43m(\u001B[49m\u001B[38;5;241;43m*\u001B[39;49m\u001B[43margs\u001B[49m\u001B[43m)\u001B[49m\n\u001B[0;32m   1428\u001B[0m \u001B[38;5;28;01mif\u001B[39;00m \u001B[38;5;129;01mnot\u001B[39;00m still_going:\n\u001B[0;32m   1429\u001B[0m     \u001B[38;5;28;01mif\u001B[39;00m \u001B[38;5;28mself\u001B[39m\u001B[38;5;241m.\u001B[39m_repeat:\n\u001B[0;32m   1430\u001B[0m         \u001B[38;5;66;03m# Restart the draw loop\u001B[39;00m\n",
      "File \u001B[1;32m~\\Documents\\School\\Y4-Q4\\BEP\\openpiv-python-master\\.venv\\Lib\\site-packages\\matplotlib\\animation.py:1121\u001B[0m, in \u001B[0;36mAnimation._step\u001B[1;34m(self, *args)\u001B[0m\n\u001B[0;32m   1119\u001B[0m \u001B[38;5;28;01mtry\u001B[39;00m:\n\u001B[0;32m   1120\u001B[0m     framedata \u001B[38;5;241m=\u001B[39m \u001B[38;5;28mnext\u001B[39m(\u001B[38;5;28mself\u001B[39m\u001B[38;5;241m.\u001B[39mframe_seq)\n\u001B[1;32m-> 1121\u001B[0m     \u001B[38;5;28;43mself\u001B[39;49m\u001B[38;5;241;43m.\u001B[39;49m\u001B[43m_draw_next_frame\u001B[49m\u001B[43m(\u001B[49m\u001B[43mframedata\u001B[49m\u001B[43m,\u001B[49m\u001B[43m \u001B[49m\u001B[38;5;28;43mself\u001B[39;49m\u001B[38;5;241;43m.\u001B[39;49m\u001B[43m_blit\u001B[49m\u001B[43m)\u001B[49m\n\u001B[0;32m   1122\u001B[0m     \u001B[38;5;28;01mreturn\u001B[39;00m \u001B[38;5;28;01mTrue\u001B[39;00m\n\u001B[0;32m   1123\u001B[0m \u001B[38;5;28;01mexcept\u001B[39;00m \u001B[38;5;167;01mStopIteration\u001B[39;00m:\n",
      "File \u001B[1;32m~\\Documents\\School\\Y4-Q4\\BEP\\openpiv-python-master\\.venv\\Lib\\site-packages\\matplotlib\\animation.py:1140\u001B[0m, in \u001B[0;36mAnimation._draw_next_frame\u001B[1;34m(self, framedata, blit)\u001B[0m\n\u001B[0;32m   1136\u001B[0m \u001B[38;5;28;01mdef\u001B[39;00m \u001B[38;5;21m_draw_next_frame\u001B[39m(\u001B[38;5;28mself\u001B[39m, framedata, blit):\n\u001B[0;32m   1137\u001B[0m     \u001B[38;5;66;03m# Breaks down the drawing of the next frame into steps of pre- and\u001B[39;00m\n\u001B[0;32m   1138\u001B[0m     \u001B[38;5;66;03m# post- draw, as well as the drawing of the frame itself.\u001B[39;00m\n\u001B[0;32m   1139\u001B[0m     \u001B[38;5;28mself\u001B[39m\u001B[38;5;241m.\u001B[39m_pre_draw(framedata, blit)\n\u001B[1;32m-> 1140\u001B[0m     \u001B[38;5;28;43mself\u001B[39;49m\u001B[38;5;241;43m.\u001B[39;49m\u001B[43m_draw_frame\u001B[49m\u001B[43m(\u001B[49m\u001B[43mframedata\u001B[49m\u001B[43m)\u001B[49m\n\u001B[0;32m   1141\u001B[0m     \u001B[38;5;28mself\u001B[39m\u001B[38;5;241m.\u001B[39m_post_draw(framedata, blit)\n",
      "File \u001B[1;32m~\\Documents\\School\\Y4-Q4\\BEP\\openpiv-python-master\\.venv\\Lib\\site-packages\\matplotlib\\animation.py:1768\u001B[0m, in \u001B[0;36mFuncAnimation._draw_frame\u001B[1;34m(self, framedata)\u001B[0m\n\u001B[0;32m   1764\u001B[0m     \u001B[38;5;28mself\u001B[39m\u001B[38;5;241m.\u001B[39m_save_seq \u001B[38;5;241m=\u001B[39m \u001B[38;5;28mself\u001B[39m\u001B[38;5;241m.\u001B[39m_save_seq[\u001B[38;5;241m-\u001B[39m\u001B[38;5;28mself\u001B[39m\u001B[38;5;241m.\u001B[39m_save_count:]\n\u001B[0;32m   1766\u001B[0m \u001B[38;5;66;03m# Call the func with framedata and args. If blitting is desired,\u001B[39;00m\n\u001B[0;32m   1767\u001B[0m \u001B[38;5;66;03m# func needs to return a sequence of any artists that were modified.\u001B[39;00m\n\u001B[1;32m-> 1768\u001B[0m \u001B[38;5;28mself\u001B[39m\u001B[38;5;241m.\u001B[39m_drawn_artists \u001B[38;5;241m=\u001B[39m \u001B[38;5;28;43mself\u001B[39;49m\u001B[38;5;241;43m.\u001B[39;49m\u001B[43m_func\u001B[49m\u001B[43m(\u001B[49m\u001B[43mframedata\u001B[49m\u001B[43m,\u001B[49m\u001B[43m \u001B[49m\u001B[38;5;241;43m*\u001B[39;49m\u001B[38;5;28;43mself\u001B[39;49m\u001B[38;5;241;43m.\u001B[39;49m\u001B[43m_args\u001B[49m\u001B[43m)\u001B[49m\n\u001B[0;32m   1770\u001B[0m \u001B[38;5;28;01mif\u001B[39;00m \u001B[38;5;28mself\u001B[39m\u001B[38;5;241m.\u001B[39m_blit:\n\u001B[0;32m   1772\u001B[0m     err \u001B[38;5;241m=\u001B[39m \u001B[38;5;167;01mRuntimeError\u001B[39;00m(\u001B[38;5;124m'\u001B[39m\u001B[38;5;124mThe animation function must return a sequence \u001B[39m\u001B[38;5;124m'\u001B[39m\n\u001B[0;32m   1773\u001B[0m                        \u001B[38;5;124m'\u001B[39m\u001B[38;5;124mof Artist objects.\u001B[39m\u001B[38;5;124m'\u001B[39m)\n",
      "Cell \u001B[1;32mIn[61], line 22\u001B[0m, in \u001B[0;36mvector_field.<locals>.update\u001B[1;34m(index)\u001B[0m\n\u001B[0;32m     19\u001B[0m image\u001B[38;5;241m.\u001B[39mset_data(frame)\n\u001B[0;32m     21\u001B[0m \u001B[38;5;66;03m# https://stackoverflow.com/questions/19329039/plotting-animated-quivers-in-python\u001B[39;00m\n\u001B[1;32m---> 22\u001B[0m vx, vy \u001B[38;5;241m=\u001B[39m \u001B[43mresults\u001B[49m\u001B[43m[\u001B[49m\u001B[43mindex\u001B[49m\u001B[43m]\u001B[49m[\u001B[38;5;241m2\u001B[39m], results[index][\u001B[38;5;241m3\u001B[39m]\n\u001B[0;32m     23\u001B[0m vx, vy \u001B[38;5;241m=\u001B[39m np\u001B[38;5;241m.\u001B[39mflip(vx, axis\u001B[38;5;241m=\u001B[39m\u001B[38;5;241m0\u001B[39m), np\u001B[38;5;241m.\u001B[39mflip(vy, axis\u001B[38;5;241m=\u001B[39m\u001B[38;5;241m0\u001B[39m)\n\u001B[0;32m     24\u001B[0m scaling \u001B[38;5;241m=\u001B[39m np\u001B[38;5;241m.\u001B[39msqrt(vx \u001B[38;5;241m*\u001B[39m\u001B[38;5;241m*\u001B[39m \u001B[38;5;241m2\u001B[39m \u001B[38;5;241m+\u001B[39m vy \u001B[38;5;241m*\u001B[39m\u001B[38;5;241m*\u001B[39m \u001B[38;5;241m2\u001B[39m) \u001B[38;5;241m-\u001B[39m min_abs\n",
      "\u001B[1;31mIndexError\u001B[0m: index 4 is out of bounds for axis 0 with size 3"
     ]
    },
    {
     "ename": "IndexError",
     "evalue": "index 5 is out of bounds for axis 0 with size 3",
     "output_type": "error",
     "traceback": [
      "\u001B[1;31m---------------------------------------------------------------------------\u001B[0m",
      "\u001B[1;31mIndexError\u001B[0m                                Traceback (most recent call last)",
      "File \u001B[1;32m~\\Documents\\School\\Y4-Q4\\BEP\\openpiv-python-master\\.venv\\Lib\\site-packages\\matplotlib\\backend_bases.py:1233\u001B[0m, in \u001B[0;36mTimerBase._on_timer\u001B[1;34m(self)\u001B[0m\n\u001B[0;32m   1227\u001B[0m \u001B[38;5;250m\u001B[39m\u001B[38;5;124;03m\"\"\"\u001B[39;00m\n\u001B[0;32m   1228\u001B[0m \u001B[38;5;124;03mRuns all function that have been registered as callbacks. Functions\u001B[39;00m\n\u001B[0;32m   1229\u001B[0m \u001B[38;5;124;03mcan return False (or 0) if they should not be called any more. If there\u001B[39;00m\n\u001B[0;32m   1230\u001B[0m \u001B[38;5;124;03mare no callbacks, the timer is automatically stopped.\u001B[39;00m\n\u001B[0;32m   1231\u001B[0m \u001B[38;5;124;03m\"\"\"\u001B[39;00m\n\u001B[0;32m   1232\u001B[0m \u001B[38;5;28;01mfor\u001B[39;00m func, args, kwargs \u001B[38;5;129;01min\u001B[39;00m \u001B[38;5;28mself\u001B[39m\u001B[38;5;241m.\u001B[39mcallbacks:\n\u001B[1;32m-> 1233\u001B[0m     ret \u001B[38;5;241m=\u001B[39m \u001B[43mfunc\u001B[49m\u001B[43m(\u001B[49m\u001B[38;5;241;43m*\u001B[39;49m\u001B[43margs\u001B[49m\u001B[43m,\u001B[49m\u001B[43m \u001B[49m\u001B[38;5;241;43m*\u001B[39;49m\u001B[38;5;241;43m*\u001B[39;49m\u001B[43mkwargs\u001B[49m\u001B[43m)\u001B[49m\n\u001B[0;32m   1234\u001B[0m     \u001B[38;5;66;03m# docstring above explains why we use `if ret == 0` here,\u001B[39;00m\n\u001B[0;32m   1235\u001B[0m     \u001B[38;5;66;03m# instead of `if not ret`.\u001B[39;00m\n\u001B[0;32m   1236\u001B[0m     \u001B[38;5;66;03m# This will also catch `ret == False` as `False == 0`\u001B[39;00m\n\u001B[0;32m   1237\u001B[0m     \u001B[38;5;66;03m# but does not annoy the linters\u001B[39;00m\n\u001B[0;32m   1238\u001B[0m     \u001B[38;5;66;03m# https://docs.python.org/3/library/stdtypes.html#boolean-values\u001B[39;00m\n\u001B[0;32m   1239\u001B[0m     \u001B[38;5;28;01mif\u001B[39;00m ret \u001B[38;5;241m==\u001B[39m \u001B[38;5;241m0\u001B[39m:\n",
      "File \u001B[1;32m~\\Documents\\School\\Y4-Q4\\BEP\\openpiv-python-master\\.venv\\Lib\\site-packages\\matplotlib\\animation.py:1427\u001B[0m, in \u001B[0;36mTimedAnimation._step\u001B[1;34m(self, *args)\u001B[0m\n\u001B[0;32m   1420\u001B[0m \u001B[38;5;250m\u001B[39m\u001B[38;5;124;03m\"\"\"Handler for getting events.\"\"\"\u001B[39;00m\n\u001B[0;32m   1421\u001B[0m \u001B[38;5;66;03m# Extends the _step() method for the Animation class.  If\u001B[39;00m\n\u001B[0;32m   1422\u001B[0m \u001B[38;5;66;03m# Animation._step signals that it reached the end and we want to\u001B[39;00m\n\u001B[0;32m   1423\u001B[0m \u001B[38;5;66;03m# repeat, we refresh the frame sequence and return True. If\u001B[39;00m\n\u001B[0;32m   1424\u001B[0m \u001B[38;5;66;03m# _repeat_delay is set, change the event_source's interval to our loop\u001B[39;00m\n\u001B[0;32m   1425\u001B[0m \u001B[38;5;66;03m# delay and set the callback to one which will then set the interval\u001B[39;00m\n\u001B[0;32m   1426\u001B[0m \u001B[38;5;66;03m# back.\u001B[39;00m\n\u001B[1;32m-> 1427\u001B[0m still_going \u001B[38;5;241m=\u001B[39m \u001B[38;5;28;43msuper\u001B[39;49m\u001B[43m(\u001B[49m\u001B[43m)\u001B[49m\u001B[38;5;241;43m.\u001B[39;49m\u001B[43m_step\u001B[49m\u001B[43m(\u001B[49m\u001B[38;5;241;43m*\u001B[39;49m\u001B[43margs\u001B[49m\u001B[43m)\u001B[49m\n\u001B[0;32m   1428\u001B[0m \u001B[38;5;28;01mif\u001B[39;00m \u001B[38;5;129;01mnot\u001B[39;00m still_going:\n\u001B[0;32m   1429\u001B[0m     \u001B[38;5;28;01mif\u001B[39;00m \u001B[38;5;28mself\u001B[39m\u001B[38;5;241m.\u001B[39m_repeat:\n\u001B[0;32m   1430\u001B[0m         \u001B[38;5;66;03m# Restart the draw loop\u001B[39;00m\n",
      "File \u001B[1;32m~\\Documents\\School\\Y4-Q4\\BEP\\openpiv-python-master\\.venv\\Lib\\site-packages\\matplotlib\\animation.py:1121\u001B[0m, in \u001B[0;36mAnimation._step\u001B[1;34m(self, *args)\u001B[0m\n\u001B[0;32m   1119\u001B[0m \u001B[38;5;28;01mtry\u001B[39;00m:\n\u001B[0;32m   1120\u001B[0m     framedata \u001B[38;5;241m=\u001B[39m \u001B[38;5;28mnext\u001B[39m(\u001B[38;5;28mself\u001B[39m\u001B[38;5;241m.\u001B[39mframe_seq)\n\u001B[1;32m-> 1121\u001B[0m     \u001B[38;5;28;43mself\u001B[39;49m\u001B[38;5;241;43m.\u001B[39;49m\u001B[43m_draw_next_frame\u001B[49m\u001B[43m(\u001B[49m\u001B[43mframedata\u001B[49m\u001B[43m,\u001B[49m\u001B[43m \u001B[49m\u001B[38;5;28;43mself\u001B[39;49m\u001B[38;5;241;43m.\u001B[39;49m\u001B[43m_blit\u001B[49m\u001B[43m)\u001B[49m\n\u001B[0;32m   1122\u001B[0m     \u001B[38;5;28;01mreturn\u001B[39;00m \u001B[38;5;28;01mTrue\u001B[39;00m\n\u001B[0;32m   1123\u001B[0m \u001B[38;5;28;01mexcept\u001B[39;00m \u001B[38;5;167;01mStopIteration\u001B[39;00m:\n",
      "File \u001B[1;32m~\\Documents\\School\\Y4-Q4\\BEP\\openpiv-python-master\\.venv\\Lib\\site-packages\\matplotlib\\animation.py:1140\u001B[0m, in \u001B[0;36mAnimation._draw_next_frame\u001B[1;34m(self, framedata, blit)\u001B[0m\n\u001B[0;32m   1136\u001B[0m \u001B[38;5;28;01mdef\u001B[39;00m \u001B[38;5;21m_draw_next_frame\u001B[39m(\u001B[38;5;28mself\u001B[39m, framedata, blit):\n\u001B[0;32m   1137\u001B[0m     \u001B[38;5;66;03m# Breaks down the drawing of the next frame into steps of pre- and\u001B[39;00m\n\u001B[0;32m   1138\u001B[0m     \u001B[38;5;66;03m# post- draw, as well as the drawing of the frame itself.\u001B[39;00m\n\u001B[0;32m   1139\u001B[0m     \u001B[38;5;28mself\u001B[39m\u001B[38;5;241m.\u001B[39m_pre_draw(framedata, blit)\n\u001B[1;32m-> 1140\u001B[0m     \u001B[38;5;28;43mself\u001B[39;49m\u001B[38;5;241;43m.\u001B[39;49m\u001B[43m_draw_frame\u001B[49m\u001B[43m(\u001B[49m\u001B[43mframedata\u001B[49m\u001B[43m)\u001B[49m\n\u001B[0;32m   1141\u001B[0m     \u001B[38;5;28mself\u001B[39m\u001B[38;5;241m.\u001B[39m_post_draw(framedata, blit)\n",
      "File \u001B[1;32m~\\Documents\\School\\Y4-Q4\\BEP\\openpiv-python-master\\.venv\\Lib\\site-packages\\matplotlib\\animation.py:1768\u001B[0m, in \u001B[0;36mFuncAnimation._draw_frame\u001B[1;34m(self, framedata)\u001B[0m\n\u001B[0;32m   1764\u001B[0m     \u001B[38;5;28mself\u001B[39m\u001B[38;5;241m.\u001B[39m_save_seq \u001B[38;5;241m=\u001B[39m \u001B[38;5;28mself\u001B[39m\u001B[38;5;241m.\u001B[39m_save_seq[\u001B[38;5;241m-\u001B[39m\u001B[38;5;28mself\u001B[39m\u001B[38;5;241m.\u001B[39m_save_count:]\n\u001B[0;32m   1766\u001B[0m \u001B[38;5;66;03m# Call the func with framedata and args. If blitting is desired,\u001B[39;00m\n\u001B[0;32m   1767\u001B[0m \u001B[38;5;66;03m# func needs to return a sequence of any artists that were modified.\u001B[39;00m\n\u001B[1;32m-> 1768\u001B[0m \u001B[38;5;28mself\u001B[39m\u001B[38;5;241m.\u001B[39m_drawn_artists \u001B[38;5;241m=\u001B[39m \u001B[38;5;28;43mself\u001B[39;49m\u001B[38;5;241;43m.\u001B[39;49m\u001B[43m_func\u001B[49m\u001B[43m(\u001B[49m\u001B[43mframedata\u001B[49m\u001B[43m,\u001B[49m\u001B[43m \u001B[49m\u001B[38;5;241;43m*\u001B[39;49m\u001B[38;5;28;43mself\u001B[39;49m\u001B[38;5;241;43m.\u001B[39;49m\u001B[43m_args\u001B[49m\u001B[43m)\u001B[49m\n\u001B[0;32m   1770\u001B[0m \u001B[38;5;28;01mif\u001B[39;00m \u001B[38;5;28mself\u001B[39m\u001B[38;5;241m.\u001B[39m_blit:\n\u001B[0;32m   1772\u001B[0m     err \u001B[38;5;241m=\u001B[39m \u001B[38;5;167;01mRuntimeError\u001B[39;00m(\u001B[38;5;124m'\u001B[39m\u001B[38;5;124mThe animation function must return a sequence \u001B[39m\u001B[38;5;124m'\u001B[39m\n\u001B[0;32m   1773\u001B[0m                        \u001B[38;5;124m'\u001B[39m\u001B[38;5;124mof Artist objects.\u001B[39m\u001B[38;5;124m'\u001B[39m)\n",
      "Cell \u001B[1;32mIn[61], line 22\u001B[0m, in \u001B[0;36mvector_field.<locals>.update\u001B[1;34m(index)\u001B[0m\n\u001B[0;32m     19\u001B[0m image\u001B[38;5;241m.\u001B[39mset_data(frame)\n\u001B[0;32m     21\u001B[0m \u001B[38;5;66;03m# https://stackoverflow.com/questions/19329039/plotting-animated-quivers-in-python\u001B[39;00m\n\u001B[1;32m---> 22\u001B[0m vx, vy \u001B[38;5;241m=\u001B[39m \u001B[43mresults\u001B[49m\u001B[43m[\u001B[49m\u001B[43mindex\u001B[49m\u001B[43m]\u001B[49m[\u001B[38;5;241m2\u001B[39m], results[index][\u001B[38;5;241m3\u001B[39m]\n\u001B[0;32m     23\u001B[0m vx, vy \u001B[38;5;241m=\u001B[39m np\u001B[38;5;241m.\u001B[39mflip(vx, axis\u001B[38;5;241m=\u001B[39m\u001B[38;5;241m0\u001B[39m), np\u001B[38;5;241m.\u001B[39mflip(vy, axis\u001B[38;5;241m=\u001B[39m\u001B[38;5;241m0\u001B[39m)\n\u001B[0;32m     24\u001B[0m scaling \u001B[38;5;241m=\u001B[39m np\u001B[38;5;241m.\u001B[39msqrt(vx \u001B[38;5;241m*\u001B[39m\u001B[38;5;241m*\u001B[39m \u001B[38;5;241m2\u001B[39m \u001B[38;5;241m+\u001B[39m vy \u001B[38;5;241m*\u001B[39m\u001B[38;5;241m*\u001B[39m \u001B[38;5;241m2\u001B[39m) \u001B[38;5;241m-\u001B[39m min_abs\n",
      "\u001B[1;31mIndexError\u001B[0m: index 5 is out of bounds for axis 0 with size 3"
     ]
    },
    {
     "ename": "IndexError",
     "evalue": "index 6 is out of bounds for axis 0 with size 3",
     "output_type": "error",
     "traceback": [
      "\u001B[1;31m---------------------------------------------------------------------------\u001B[0m",
      "\u001B[1;31mIndexError\u001B[0m                                Traceback (most recent call last)",
      "File \u001B[1;32m~\\Documents\\School\\Y4-Q4\\BEP\\openpiv-python-master\\.venv\\Lib\\site-packages\\matplotlib\\backend_bases.py:1233\u001B[0m, in \u001B[0;36mTimerBase._on_timer\u001B[1;34m(self)\u001B[0m\n\u001B[0;32m   1227\u001B[0m \u001B[38;5;250m\u001B[39m\u001B[38;5;124;03m\"\"\"\u001B[39;00m\n\u001B[0;32m   1228\u001B[0m \u001B[38;5;124;03mRuns all function that have been registered as callbacks. Functions\u001B[39;00m\n\u001B[0;32m   1229\u001B[0m \u001B[38;5;124;03mcan return False (or 0) if they should not be called any more. If there\u001B[39;00m\n\u001B[0;32m   1230\u001B[0m \u001B[38;5;124;03mare no callbacks, the timer is automatically stopped.\u001B[39;00m\n\u001B[0;32m   1231\u001B[0m \u001B[38;5;124;03m\"\"\"\u001B[39;00m\n\u001B[0;32m   1232\u001B[0m \u001B[38;5;28;01mfor\u001B[39;00m func, args, kwargs \u001B[38;5;129;01min\u001B[39;00m \u001B[38;5;28mself\u001B[39m\u001B[38;5;241m.\u001B[39mcallbacks:\n\u001B[1;32m-> 1233\u001B[0m     ret \u001B[38;5;241m=\u001B[39m \u001B[43mfunc\u001B[49m\u001B[43m(\u001B[49m\u001B[38;5;241;43m*\u001B[39;49m\u001B[43margs\u001B[49m\u001B[43m,\u001B[49m\u001B[43m \u001B[49m\u001B[38;5;241;43m*\u001B[39;49m\u001B[38;5;241;43m*\u001B[39;49m\u001B[43mkwargs\u001B[49m\u001B[43m)\u001B[49m\n\u001B[0;32m   1234\u001B[0m     \u001B[38;5;66;03m# docstring above explains why we use `if ret == 0` here,\u001B[39;00m\n\u001B[0;32m   1235\u001B[0m     \u001B[38;5;66;03m# instead of `if not ret`.\u001B[39;00m\n\u001B[0;32m   1236\u001B[0m     \u001B[38;5;66;03m# This will also catch `ret == False` as `False == 0`\u001B[39;00m\n\u001B[0;32m   1237\u001B[0m     \u001B[38;5;66;03m# but does not annoy the linters\u001B[39;00m\n\u001B[0;32m   1238\u001B[0m     \u001B[38;5;66;03m# https://docs.python.org/3/library/stdtypes.html#boolean-values\u001B[39;00m\n\u001B[0;32m   1239\u001B[0m     \u001B[38;5;28;01mif\u001B[39;00m ret \u001B[38;5;241m==\u001B[39m \u001B[38;5;241m0\u001B[39m:\n",
      "File \u001B[1;32m~\\Documents\\School\\Y4-Q4\\BEP\\openpiv-python-master\\.venv\\Lib\\site-packages\\matplotlib\\animation.py:1427\u001B[0m, in \u001B[0;36mTimedAnimation._step\u001B[1;34m(self, *args)\u001B[0m\n\u001B[0;32m   1420\u001B[0m \u001B[38;5;250m\u001B[39m\u001B[38;5;124;03m\"\"\"Handler for getting events.\"\"\"\u001B[39;00m\n\u001B[0;32m   1421\u001B[0m \u001B[38;5;66;03m# Extends the _step() method for the Animation class.  If\u001B[39;00m\n\u001B[0;32m   1422\u001B[0m \u001B[38;5;66;03m# Animation._step signals that it reached the end and we want to\u001B[39;00m\n\u001B[0;32m   1423\u001B[0m \u001B[38;5;66;03m# repeat, we refresh the frame sequence and return True. If\u001B[39;00m\n\u001B[0;32m   1424\u001B[0m \u001B[38;5;66;03m# _repeat_delay is set, change the event_source's interval to our loop\u001B[39;00m\n\u001B[0;32m   1425\u001B[0m \u001B[38;5;66;03m# delay and set the callback to one which will then set the interval\u001B[39;00m\n\u001B[0;32m   1426\u001B[0m \u001B[38;5;66;03m# back.\u001B[39;00m\n\u001B[1;32m-> 1427\u001B[0m still_going \u001B[38;5;241m=\u001B[39m \u001B[38;5;28;43msuper\u001B[39;49m\u001B[43m(\u001B[49m\u001B[43m)\u001B[49m\u001B[38;5;241;43m.\u001B[39;49m\u001B[43m_step\u001B[49m\u001B[43m(\u001B[49m\u001B[38;5;241;43m*\u001B[39;49m\u001B[43margs\u001B[49m\u001B[43m)\u001B[49m\n\u001B[0;32m   1428\u001B[0m \u001B[38;5;28;01mif\u001B[39;00m \u001B[38;5;129;01mnot\u001B[39;00m still_going:\n\u001B[0;32m   1429\u001B[0m     \u001B[38;5;28;01mif\u001B[39;00m \u001B[38;5;28mself\u001B[39m\u001B[38;5;241m.\u001B[39m_repeat:\n\u001B[0;32m   1430\u001B[0m         \u001B[38;5;66;03m# Restart the draw loop\u001B[39;00m\n",
      "File \u001B[1;32m~\\Documents\\School\\Y4-Q4\\BEP\\openpiv-python-master\\.venv\\Lib\\site-packages\\matplotlib\\animation.py:1121\u001B[0m, in \u001B[0;36mAnimation._step\u001B[1;34m(self, *args)\u001B[0m\n\u001B[0;32m   1119\u001B[0m \u001B[38;5;28;01mtry\u001B[39;00m:\n\u001B[0;32m   1120\u001B[0m     framedata \u001B[38;5;241m=\u001B[39m \u001B[38;5;28mnext\u001B[39m(\u001B[38;5;28mself\u001B[39m\u001B[38;5;241m.\u001B[39mframe_seq)\n\u001B[1;32m-> 1121\u001B[0m     \u001B[38;5;28;43mself\u001B[39;49m\u001B[38;5;241;43m.\u001B[39;49m\u001B[43m_draw_next_frame\u001B[49m\u001B[43m(\u001B[49m\u001B[43mframedata\u001B[49m\u001B[43m,\u001B[49m\u001B[43m \u001B[49m\u001B[38;5;28;43mself\u001B[39;49m\u001B[38;5;241;43m.\u001B[39;49m\u001B[43m_blit\u001B[49m\u001B[43m)\u001B[49m\n\u001B[0;32m   1122\u001B[0m     \u001B[38;5;28;01mreturn\u001B[39;00m \u001B[38;5;28;01mTrue\u001B[39;00m\n\u001B[0;32m   1123\u001B[0m \u001B[38;5;28;01mexcept\u001B[39;00m \u001B[38;5;167;01mStopIteration\u001B[39;00m:\n",
      "File \u001B[1;32m~\\Documents\\School\\Y4-Q4\\BEP\\openpiv-python-master\\.venv\\Lib\\site-packages\\matplotlib\\animation.py:1140\u001B[0m, in \u001B[0;36mAnimation._draw_next_frame\u001B[1;34m(self, framedata, blit)\u001B[0m\n\u001B[0;32m   1136\u001B[0m \u001B[38;5;28;01mdef\u001B[39;00m \u001B[38;5;21m_draw_next_frame\u001B[39m(\u001B[38;5;28mself\u001B[39m, framedata, blit):\n\u001B[0;32m   1137\u001B[0m     \u001B[38;5;66;03m# Breaks down the drawing of the next frame into steps of pre- and\u001B[39;00m\n\u001B[0;32m   1138\u001B[0m     \u001B[38;5;66;03m# post- draw, as well as the drawing of the frame itself.\u001B[39;00m\n\u001B[0;32m   1139\u001B[0m     \u001B[38;5;28mself\u001B[39m\u001B[38;5;241m.\u001B[39m_pre_draw(framedata, blit)\n\u001B[1;32m-> 1140\u001B[0m     \u001B[38;5;28;43mself\u001B[39;49m\u001B[38;5;241;43m.\u001B[39;49m\u001B[43m_draw_frame\u001B[49m\u001B[43m(\u001B[49m\u001B[43mframedata\u001B[49m\u001B[43m)\u001B[49m\n\u001B[0;32m   1141\u001B[0m     \u001B[38;5;28mself\u001B[39m\u001B[38;5;241m.\u001B[39m_post_draw(framedata, blit)\n",
      "File \u001B[1;32m~\\Documents\\School\\Y4-Q4\\BEP\\openpiv-python-master\\.venv\\Lib\\site-packages\\matplotlib\\animation.py:1768\u001B[0m, in \u001B[0;36mFuncAnimation._draw_frame\u001B[1;34m(self, framedata)\u001B[0m\n\u001B[0;32m   1764\u001B[0m     \u001B[38;5;28mself\u001B[39m\u001B[38;5;241m.\u001B[39m_save_seq \u001B[38;5;241m=\u001B[39m \u001B[38;5;28mself\u001B[39m\u001B[38;5;241m.\u001B[39m_save_seq[\u001B[38;5;241m-\u001B[39m\u001B[38;5;28mself\u001B[39m\u001B[38;5;241m.\u001B[39m_save_count:]\n\u001B[0;32m   1766\u001B[0m \u001B[38;5;66;03m# Call the func with framedata and args. If blitting is desired,\u001B[39;00m\n\u001B[0;32m   1767\u001B[0m \u001B[38;5;66;03m# func needs to return a sequence of any artists that were modified.\u001B[39;00m\n\u001B[1;32m-> 1768\u001B[0m \u001B[38;5;28mself\u001B[39m\u001B[38;5;241m.\u001B[39m_drawn_artists \u001B[38;5;241m=\u001B[39m \u001B[38;5;28;43mself\u001B[39;49m\u001B[38;5;241;43m.\u001B[39;49m\u001B[43m_func\u001B[49m\u001B[43m(\u001B[49m\u001B[43mframedata\u001B[49m\u001B[43m,\u001B[49m\u001B[43m \u001B[49m\u001B[38;5;241;43m*\u001B[39;49m\u001B[38;5;28;43mself\u001B[39;49m\u001B[38;5;241;43m.\u001B[39;49m\u001B[43m_args\u001B[49m\u001B[43m)\u001B[49m\n\u001B[0;32m   1770\u001B[0m \u001B[38;5;28;01mif\u001B[39;00m \u001B[38;5;28mself\u001B[39m\u001B[38;5;241m.\u001B[39m_blit:\n\u001B[0;32m   1772\u001B[0m     err \u001B[38;5;241m=\u001B[39m \u001B[38;5;167;01mRuntimeError\u001B[39;00m(\u001B[38;5;124m'\u001B[39m\u001B[38;5;124mThe animation function must return a sequence \u001B[39m\u001B[38;5;124m'\u001B[39m\n\u001B[0;32m   1773\u001B[0m                        \u001B[38;5;124m'\u001B[39m\u001B[38;5;124mof Artist objects.\u001B[39m\u001B[38;5;124m'\u001B[39m)\n",
      "Cell \u001B[1;32mIn[61], line 22\u001B[0m, in \u001B[0;36mvector_field.<locals>.update\u001B[1;34m(index)\u001B[0m\n\u001B[0;32m     19\u001B[0m image\u001B[38;5;241m.\u001B[39mset_data(frame)\n\u001B[0;32m     21\u001B[0m \u001B[38;5;66;03m# https://stackoverflow.com/questions/19329039/plotting-animated-quivers-in-python\u001B[39;00m\n\u001B[1;32m---> 22\u001B[0m vx, vy \u001B[38;5;241m=\u001B[39m \u001B[43mresults\u001B[49m\u001B[43m[\u001B[49m\u001B[43mindex\u001B[49m\u001B[43m]\u001B[49m[\u001B[38;5;241m2\u001B[39m], results[index][\u001B[38;5;241m3\u001B[39m]\n\u001B[0;32m     23\u001B[0m vx, vy \u001B[38;5;241m=\u001B[39m np\u001B[38;5;241m.\u001B[39mflip(vx, axis\u001B[38;5;241m=\u001B[39m\u001B[38;5;241m0\u001B[39m), np\u001B[38;5;241m.\u001B[39mflip(vy, axis\u001B[38;5;241m=\u001B[39m\u001B[38;5;241m0\u001B[39m)\n\u001B[0;32m     24\u001B[0m scaling \u001B[38;5;241m=\u001B[39m np\u001B[38;5;241m.\u001B[39msqrt(vx \u001B[38;5;241m*\u001B[39m\u001B[38;5;241m*\u001B[39m \u001B[38;5;241m2\u001B[39m \u001B[38;5;241m+\u001B[39m vy \u001B[38;5;241m*\u001B[39m\u001B[38;5;241m*\u001B[39m \u001B[38;5;241m2\u001B[39m) \u001B[38;5;241m-\u001B[39m min_abs\n",
      "\u001B[1;31mIndexError\u001B[0m: index 6 is out of bounds for axis 0 with size 3"
     ]
    },
    {
     "ename": "IndexError",
     "evalue": "index 7 is out of bounds for axis 0 with size 3",
     "output_type": "error",
     "traceback": [
      "\u001B[1;31m---------------------------------------------------------------------------\u001B[0m",
      "\u001B[1;31mIndexError\u001B[0m                                Traceback (most recent call last)",
      "File \u001B[1;32m~\\Documents\\School\\Y4-Q4\\BEP\\openpiv-python-master\\.venv\\Lib\\site-packages\\matplotlib\\backend_bases.py:1233\u001B[0m, in \u001B[0;36mTimerBase._on_timer\u001B[1;34m(self)\u001B[0m\n\u001B[0;32m   1227\u001B[0m \u001B[38;5;250m\u001B[39m\u001B[38;5;124;03m\"\"\"\u001B[39;00m\n\u001B[0;32m   1228\u001B[0m \u001B[38;5;124;03mRuns all function that have been registered as callbacks. Functions\u001B[39;00m\n\u001B[0;32m   1229\u001B[0m \u001B[38;5;124;03mcan return False (or 0) if they should not be called any more. If there\u001B[39;00m\n\u001B[0;32m   1230\u001B[0m \u001B[38;5;124;03mare no callbacks, the timer is automatically stopped.\u001B[39;00m\n\u001B[0;32m   1231\u001B[0m \u001B[38;5;124;03m\"\"\"\u001B[39;00m\n\u001B[0;32m   1232\u001B[0m \u001B[38;5;28;01mfor\u001B[39;00m func, args, kwargs \u001B[38;5;129;01min\u001B[39;00m \u001B[38;5;28mself\u001B[39m\u001B[38;5;241m.\u001B[39mcallbacks:\n\u001B[1;32m-> 1233\u001B[0m     ret \u001B[38;5;241m=\u001B[39m \u001B[43mfunc\u001B[49m\u001B[43m(\u001B[49m\u001B[38;5;241;43m*\u001B[39;49m\u001B[43margs\u001B[49m\u001B[43m,\u001B[49m\u001B[43m \u001B[49m\u001B[38;5;241;43m*\u001B[39;49m\u001B[38;5;241;43m*\u001B[39;49m\u001B[43mkwargs\u001B[49m\u001B[43m)\u001B[49m\n\u001B[0;32m   1234\u001B[0m     \u001B[38;5;66;03m# docstring above explains why we use `if ret == 0` here,\u001B[39;00m\n\u001B[0;32m   1235\u001B[0m     \u001B[38;5;66;03m# instead of `if not ret`.\u001B[39;00m\n\u001B[0;32m   1236\u001B[0m     \u001B[38;5;66;03m# This will also catch `ret == False` as `False == 0`\u001B[39;00m\n\u001B[0;32m   1237\u001B[0m     \u001B[38;5;66;03m# but does not annoy the linters\u001B[39;00m\n\u001B[0;32m   1238\u001B[0m     \u001B[38;5;66;03m# https://docs.python.org/3/library/stdtypes.html#boolean-values\u001B[39;00m\n\u001B[0;32m   1239\u001B[0m     \u001B[38;5;28;01mif\u001B[39;00m ret \u001B[38;5;241m==\u001B[39m \u001B[38;5;241m0\u001B[39m:\n",
      "File \u001B[1;32m~\\Documents\\School\\Y4-Q4\\BEP\\openpiv-python-master\\.venv\\Lib\\site-packages\\matplotlib\\animation.py:1427\u001B[0m, in \u001B[0;36mTimedAnimation._step\u001B[1;34m(self, *args)\u001B[0m\n\u001B[0;32m   1420\u001B[0m \u001B[38;5;250m\u001B[39m\u001B[38;5;124;03m\"\"\"Handler for getting events.\"\"\"\u001B[39;00m\n\u001B[0;32m   1421\u001B[0m \u001B[38;5;66;03m# Extends the _step() method for the Animation class.  If\u001B[39;00m\n\u001B[0;32m   1422\u001B[0m \u001B[38;5;66;03m# Animation._step signals that it reached the end and we want to\u001B[39;00m\n\u001B[0;32m   1423\u001B[0m \u001B[38;5;66;03m# repeat, we refresh the frame sequence and return True. If\u001B[39;00m\n\u001B[0;32m   1424\u001B[0m \u001B[38;5;66;03m# _repeat_delay is set, change the event_source's interval to our loop\u001B[39;00m\n\u001B[0;32m   1425\u001B[0m \u001B[38;5;66;03m# delay and set the callback to one which will then set the interval\u001B[39;00m\n\u001B[0;32m   1426\u001B[0m \u001B[38;5;66;03m# back.\u001B[39;00m\n\u001B[1;32m-> 1427\u001B[0m still_going \u001B[38;5;241m=\u001B[39m \u001B[38;5;28;43msuper\u001B[39;49m\u001B[43m(\u001B[49m\u001B[43m)\u001B[49m\u001B[38;5;241;43m.\u001B[39;49m\u001B[43m_step\u001B[49m\u001B[43m(\u001B[49m\u001B[38;5;241;43m*\u001B[39;49m\u001B[43margs\u001B[49m\u001B[43m)\u001B[49m\n\u001B[0;32m   1428\u001B[0m \u001B[38;5;28;01mif\u001B[39;00m \u001B[38;5;129;01mnot\u001B[39;00m still_going:\n\u001B[0;32m   1429\u001B[0m     \u001B[38;5;28;01mif\u001B[39;00m \u001B[38;5;28mself\u001B[39m\u001B[38;5;241m.\u001B[39m_repeat:\n\u001B[0;32m   1430\u001B[0m         \u001B[38;5;66;03m# Restart the draw loop\u001B[39;00m\n",
      "File \u001B[1;32m~\\Documents\\School\\Y4-Q4\\BEP\\openpiv-python-master\\.venv\\Lib\\site-packages\\matplotlib\\animation.py:1121\u001B[0m, in \u001B[0;36mAnimation._step\u001B[1;34m(self, *args)\u001B[0m\n\u001B[0;32m   1119\u001B[0m \u001B[38;5;28;01mtry\u001B[39;00m:\n\u001B[0;32m   1120\u001B[0m     framedata \u001B[38;5;241m=\u001B[39m \u001B[38;5;28mnext\u001B[39m(\u001B[38;5;28mself\u001B[39m\u001B[38;5;241m.\u001B[39mframe_seq)\n\u001B[1;32m-> 1121\u001B[0m     \u001B[38;5;28;43mself\u001B[39;49m\u001B[38;5;241;43m.\u001B[39;49m\u001B[43m_draw_next_frame\u001B[49m\u001B[43m(\u001B[49m\u001B[43mframedata\u001B[49m\u001B[43m,\u001B[49m\u001B[43m \u001B[49m\u001B[38;5;28;43mself\u001B[39;49m\u001B[38;5;241;43m.\u001B[39;49m\u001B[43m_blit\u001B[49m\u001B[43m)\u001B[49m\n\u001B[0;32m   1122\u001B[0m     \u001B[38;5;28;01mreturn\u001B[39;00m \u001B[38;5;28;01mTrue\u001B[39;00m\n\u001B[0;32m   1123\u001B[0m \u001B[38;5;28;01mexcept\u001B[39;00m \u001B[38;5;167;01mStopIteration\u001B[39;00m:\n",
      "File \u001B[1;32m~\\Documents\\School\\Y4-Q4\\BEP\\openpiv-python-master\\.venv\\Lib\\site-packages\\matplotlib\\animation.py:1140\u001B[0m, in \u001B[0;36mAnimation._draw_next_frame\u001B[1;34m(self, framedata, blit)\u001B[0m\n\u001B[0;32m   1136\u001B[0m \u001B[38;5;28;01mdef\u001B[39;00m \u001B[38;5;21m_draw_next_frame\u001B[39m(\u001B[38;5;28mself\u001B[39m, framedata, blit):\n\u001B[0;32m   1137\u001B[0m     \u001B[38;5;66;03m# Breaks down the drawing of the next frame into steps of pre- and\u001B[39;00m\n\u001B[0;32m   1138\u001B[0m     \u001B[38;5;66;03m# post- draw, as well as the drawing of the frame itself.\u001B[39;00m\n\u001B[0;32m   1139\u001B[0m     \u001B[38;5;28mself\u001B[39m\u001B[38;5;241m.\u001B[39m_pre_draw(framedata, blit)\n\u001B[1;32m-> 1140\u001B[0m     \u001B[38;5;28;43mself\u001B[39;49m\u001B[38;5;241;43m.\u001B[39;49m\u001B[43m_draw_frame\u001B[49m\u001B[43m(\u001B[49m\u001B[43mframedata\u001B[49m\u001B[43m)\u001B[49m\n\u001B[0;32m   1141\u001B[0m     \u001B[38;5;28mself\u001B[39m\u001B[38;5;241m.\u001B[39m_post_draw(framedata, blit)\n",
      "File \u001B[1;32m~\\Documents\\School\\Y4-Q4\\BEP\\openpiv-python-master\\.venv\\Lib\\site-packages\\matplotlib\\animation.py:1768\u001B[0m, in \u001B[0;36mFuncAnimation._draw_frame\u001B[1;34m(self, framedata)\u001B[0m\n\u001B[0;32m   1764\u001B[0m     \u001B[38;5;28mself\u001B[39m\u001B[38;5;241m.\u001B[39m_save_seq \u001B[38;5;241m=\u001B[39m \u001B[38;5;28mself\u001B[39m\u001B[38;5;241m.\u001B[39m_save_seq[\u001B[38;5;241m-\u001B[39m\u001B[38;5;28mself\u001B[39m\u001B[38;5;241m.\u001B[39m_save_count:]\n\u001B[0;32m   1766\u001B[0m \u001B[38;5;66;03m# Call the func with framedata and args. If blitting is desired,\u001B[39;00m\n\u001B[0;32m   1767\u001B[0m \u001B[38;5;66;03m# func needs to return a sequence of any artists that were modified.\u001B[39;00m\n\u001B[1;32m-> 1768\u001B[0m \u001B[38;5;28mself\u001B[39m\u001B[38;5;241m.\u001B[39m_drawn_artists \u001B[38;5;241m=\u001B[39m \u001B[38;5;28;43mself\u001B[39;49m\u001B[38;5;241;43m.\u001B[39;49m\u001B[43m_func\u001B[49m\u001B[43m(\u001B[49m\u001B[43mframedata\u001B[49m\u001B[43m,\u001B[49m\u001B[43m \u001B[49m\u001B[38;5;241;43m*\u001B[39;49m\u001B[38;5;28;43mself\u001B[39;49m\u001B[38;5;241;43m.\u001B[39;49m\u001B[43m_args\u001B[49m\u001B[43m)\u001B[49m\n\u001B[0;32m   1770\u001B[0m \u001B[38;5;28;01mif\u001B[39;00m \u001B[38;5;28mself\u001B[39m\u001B[38;5;241m.\u001B[39m_blit:\n\u001B[0;32m   1772\u001B[0m     err \u001B[38;5;241m=\u001B[39m \u001B[38;5;167;01mRuntimeError\u001B[39;00m(\u001B[38;5;124m'\u001B[39m\u001B[38;5;124mThe animation function must return a sequence \u001B[39m\u001B[38;5;124m'\u001B[39m\n\u001B[0;32m   1773\u001B[0m                        \u001B[38;5;124m'\u001B[39m\u001B[38;5;124mof Artist objects.\u001B[39m\u001B[38;5;124m'\u001B[39m)\n",
      "Cell \u001B[1;32mIn[61], line 22\u001B[0m, in \u001B[0;36mvector_field.<locals>.update\u001B[1;34m(index)\u001B[0m\n\u001B[0;32m     19\u001B[0m image\u001B[38;5;241m.\u001B[39mset_data(frame)\n\u001B[0;32m     21\u001B[0m \u001B[38;5;66;03m# https://stackoverflow.com/questions/19329039/plotting-animated-quivers-in-python\u001B[39;00m\n\u001B[1;32m---> 22\u001B[0m vx, vy \u001B[38;5;241m=\u001B[39m \u001B[43mresults\u001B[49m\u001B[43m[\u001B[49m\u001B[43mindex\u001B[49m\u001B[43m]\u001B[49m[\u001B[38;5;241m2\u001B[39m], results[index][\u001B[38;5;241m3\u001B[39m]\n\u001B[0;32m     23\u001B[0m vx, vy \u001B[38;5;241m=\u001B[39m np\u001B[38;5;241m.\u001B[39mflip(vx, axis\u001B[38;5;241m=\u001B[39m\u001B[38;5;241m0\u001B[39m), np\u001B[38;5;241m.\u001B[39mflip(vy, axis\u001B[38;5;241m=\u001B[39m\u001B[38;5;241m0\u001B[39m)\n\u001B[0;32m     24\u001B[0m scaling \u001B[38;5;241m=\u001B[39m np\u001B[38;5;241m.\u001B[39msqrt(vx \u001B[38;5;241m*\u001B[39m\u001B[38;5;241m*\u001B[39m \u001B[38;5;241m2\u001B[39m \u001B[38;5;241m+\u001B[39m vy \u001B[38;5;241m*\u001B[39m\u001B[38;5;241m*\u001B[39m \u001B[38;5;241m2\u001B[39m) \u001B[38;5;241m-\u001B[39m min_abs\n",
      "\u001B[1;31mIndexError\u001B[0m: index 7 is out of bounds for axis 0 with size 3"
     ]
    },
    {
     "ename": "IndexError",
     "evalue": "index 8 is out of bounds for axis 0 with size 3",
     "output_type": "error",
     "traceback": [
      "\u001B[1;31m---------------------------------------------------------------------------\u001B[0m",
      "\u001B[1;31mIndexError\u001B[0m                                Traceback (most recent call last)",
      "File \u001B[1;32m~\\Documents\\School\\Y4-Q4\\BEP\\openpiv-python-master\\.venv\\Lib\\site-packages\\matplotlib\\backend_bases.py:1233\u001B[0m, in \u001B[0;36mTimerBase._on_timer\u001B[1;34m(self)\u001B[0m\n\u001B[0;32m   1227\u001B[0m \u001B[38;5;250m\u001B[39m\u001B[38;5;124;03m\"\"\"\u001B[39;00m\n\u001B[0;32m   1228\u001B[0m \u001B[38;5;124;03mRuns all function that have been registered as callbacks. Functions\u001B[39;00m\n\u001B[0;32m   1229\u001B[0m \u001B[38;5;124;03mcan return False (or 0) if they should not be called any more. If there\u001B[39;00m\n\u001B[0;32m   1230\u001B[0m \u001B[38;5;124;03mare no callbacks, the timer is automatically stopped.\u001B[39;00m\n\u001B[0;32m   1231\u001B[0m \u001B[38;5;124;03m\"\"\"\u001B[39;00m\n\u001B[0;32m   1232\u001B[0m \u001B[38;5;28;01mfor\u001B[39;00m func, args, kwargs \u001B[38;5;129;01min\u001B[39;00m \u001B[38;5;28mself\u001B[39m\u001B[38;5;241m.\u001B[39mcallbacks:\n\u001B[1;32m-> 1233\u001B[0m     ret \u001B[38;5;241m=\u001B[39m \u001B[43mfunc\u001B[49m\u001B[43m(\u001B[49m\u001B[38;5;241;43m*\u001B[39;49m\u001B[43margs\u001B[49m\u001B[43m,\u001B[49m\u001B[43m \u001B[49m\u001B[38;5;241;43m*\u001B[39;49m\u001B[38;5;241;43m*\u001B[39;49m\u001B[43mkwargs\u001B[49m\u001B[43m)\u001B[49m\n\u001B[0;32m   1234\u001B[0m     \u001B[38;5;66;03m# docstring above explains why we use `if ret == 0` here,\u001B[39;00m\n\u001B[0;32m   1235\u001B[0m     \u001B[38;5;66;03m# instead of `if not ret`.\u001B[39;00m\n\u001B[0;32m   1236\u001B[0m     \u001B[38;5;66;03m# This will also catch `ret == False` as `False == 0`\u001B[39;00m\n\u001B[0;32m   1237\u001B[0m     \u001B[38;5;66;03m# but does not annoy the linters\u001B[39;00m\n\u001B[0;32m   1238\u001B[0m     \u001B[38;5;66;03m# https://docs.python.org/3/library/stdtypes.html#boolean-values\u001B[39;00m\n\u001B[0;32m   1239\u001B[0m     \u001B[38;5;28;01mif\u001B[39;00m ret \u001B[38;5;241m==\u001B[39m \u001B[38;5;241m0\u001B[39m:\n",
      "File \u001B[1;32m~\\Documents\\School\\Y4-Q4\\BEP\\openpiv-python-master\\.venv\\Lib\\site-packages\\matplotlib\\animation.py:1427\u001B[0m, in \u001B[0;36mTimedAnimation._step\u001B[1;34m(self, *args)\u001B[0m\n\u001B[0;32m   1420\u001B[0m \u001B[38;5;250m\u001B[39m\u001B[38;5;124;03m\"\"\"Handler for getting events.\"\"\"\u001B[39;00m\n\u001B[0;32m   1421\u001B[0m \u001B[38;5;66;03m# Extends the _step() method for the Animation class.  If\u001B[39;00m\n\u001B[0;32m   1422\u001B[0m \u001B[38;5;66;03m# Animation._step signals that it reached the end and we want to\u001B[39;00m\n\u001B[0;32m   1423\u001B[0m \u001B[38;5;66;03m# repeat, we refresh the frame sequence and return True. If\u001B[39;00m\n\u001B[0;32m   1424\u001B[0m \u001B[38;5;66;03m# _repeat_delay is set, change the event_source's interval to our loop\u001B[39;00m\n\u001B[0;32m   1425\u001B[0m \u001B[38;5;66;03m# delay and set the callback to one which will then set the interval\u001B[39;00m\n\u001B[0;32m   1426\u001B[0m \u001B[38;5;66;03m# back.\u001B[39;00m\n\u001B[1;32m-> 1427\u001B[0m still_going \u001B[38;5;241m=\u001B[39m \u001B[38;5;28;43msuper\u001B[39;49m\u001B[43m(\u001B[49m\u001B[43m)\u001B[49m\u001B[38;5;241;43m.\u001B[39;49m\u001B[43m_step\u001B[49m\u001B[43m(\u001B[49m\u001B[38;5;241;43m*\u001B[39;49m\u001B[43margs\u001B[49m\u001B[43m)\u001B[49m\n\u001B[0;32m   1428\u001B[0m \u001B[38;5;28;01mif\u001B[39;00m \u001B[38;5;129;01mnot\u001B[39;00m still_going:\n\u001B[0;32m   1429\u001B[0m     \u001B[38;5;28;01mif\u001B[39;00m \u001B[38;5;28mself\u001B[39m\u001B[38;5;241m.\u001B[39m_repeat:\n\u001B[0;32m   1430\u001B[0m         \u001B[38;5;66;03m# Restart the draw loop\u001B[39;00m\n",
      "File \u001B[1;32m~\\Documents\\School\\Y4-Q4\\BEP\\openpiv-python-master\\.venv\\Lib\\site-packages\\matplotlib\\animation.py:1121\u001B[0m, in \u001B[0;36mAnimation._step\u001B[1;34m(self, *args)\u001B[0m\n\u001B[0;32m   1119\u001B[0m \u001B[38;5;28;01mtry\u001B[39;00m:\n\u001B[0;32m   1120\u001B[0m     framedata \u001B[38;5;241m=\u001B[39m \u001B[38;5;28mnext\u001B[39m(\u001B[38;5;28mself\u001B[39m\u001B[38;5;241m.\u001B[39mframe_seq)\n\u001B[1;32m-> 1121\u001B[0m     \u001B[38;5;28;43mself\u001B[39;49m\u001B[38;5;241;43m.\u001B[39;49m\u001B[43m_draw_next_frame\u001B[49m\u001B[43m(\u001B[49m\u001B[43mframedata\u001B[49m\u001B[43m,\u001B[49m\u001B[43m \u001B[49m\u001B[38;5;28;43mself\u001B[39;49m\u001B[38;5;241;43m.\u001B[39;49m\u001B[43m_blit\u001B[49m\u001B[43m)\u001B[49m\n\u001B[0;32m   1122\u001B[0m     \u001B[38;5;28;01mreturn\u001B[39;00m \u001B[38;5;28;01mTrue\u001B[39;00m\n\u001B[0;32m   1123\u001B[0m \u001B[38;5;28;01mexcept\u001B[39;00m \u001B[38;5;167;01mStopIteration\u001B[39;00m:\n",
      "File \u001B[1;32m~\\Documents\\School\\Y4-Q4\\BEP\\openpiv-python-master\\.venv\\Lib\\site-packages\\matplotlib\\animation.py:1140\u001B[0m, in \u001B[0;36mAnimation._draw_next_frame\u001B[1;34m(self, framedata, blit)\u001B[0m\n\u001B[0;32m   1136\u001B[0m \u001B[38;5;28;01mdef\u001B[39;00m \u001B[38;5;21m_draw_next_frame\u001B[39m(\u001B[38;5;28mself\u001B[39m, framedata, blit):\n\u001B[0;32m   1137\u001B[0m     \u001B[38;5;66;03m# Breaks down the drawing of the next frame into steps of pre- and\u001B[39;00m\n\u001B[0;32m   1138\u001B[0m     \u001B[38;5;66;03m# post- draw, as well as the drawing of the frame itself.\u001B[39;00m\n\u001B[0;32m   1139\u001B[0m     \u001B[38;5;28mself\u001B[39m\u001B[38;5;241m.\u001B[39m_pre_draw(framedata, blit)\n\u001B[1;32m-> 1140\u001B[0m     \u001B[38;5;28;43mself\u001B[39;49m\u001B[38;5;241;43m.\u001B[39;49m\u001B[43m_draw_frame\u001B[49m\u001B[43m(\u001B[49m\u001B[43mframedata\u001B[49m\u001B[43m)\u001B[49m\n\u001B[0;32m   1141\u001B[0m     \u001B[38;5;28mself\u001B[39m\u001B[38;5;241m.\u001B[39m_post_draw(framedata, blit)\n",
      "File \u001B[1;32m~\\Documents\\School\\Y4-Q4\\BEP\\openpiv-python-master\\.venv\\Lib\\site-packages\\matplotlib\\animation.py:1768\u001B[0m, in \u001B[0;36mFuncAnimation._draw_frame\u001B[1;34m(self, framedata)\u001B[0m\n\u001B[0;32m   1764\u001B[0m     \u001B[38;5;28mself\u001B[39m\u001B[38;5;241m.\u001B[39m_save_seq \u001B[38;5;241m=\u001B[39m \u001B[38;5;28mself\u001B[39m\u001B[38;5;241m.\u001B[39m_save_seq[\u001B[38;5;241m-\u001B[39m\u001B[38;5;28mself\u001B[39m\u001B[38;5;241m.\u001B[39m_save_count:]\n\u001B[0;32m   1766\u001B[0m \u001B[38;5;66;03m# Call the func with framedata and args. If blitting is desired,\u001B[39;00m\n\u001B[0;32m   1767\u001B[0m \u001B[38;5;66;03m# func needs to return a sequence of any artists that were modified.\u001B[39;00m\n\u001B[1;32m-> 1768\u001B[0m \u001B[38;5;28mself\u001B[39m\u001B[38;5;241m.\u001B[39m_drawn_artists \u001B[38;5;241m=\u001B[39m \u001B[38;5;28;43mself\u001B[39;49m\u001B[38;5;241;43m.\u001B[39;49m\u001B[43m_func\u001B[49m\u001B[43m(\u001B[49m\u001B[43mframedata\u001B[49m\u001B[43m,\u001B[49m\u001B[43m \u001B[49m\u001B[38;5;241;43m*\u001B[39;49m\u001B[38;5;28;43mself\u001B[39;49m\u001B[38;5;241;43m.\u001B[39;49m\u001B[43m_args\u001B[49m\u001B[43m)\u001B[49m\n\u001B[0;32m   1770\u001B[0m \u001B[38;5;28;01mif\u001B[39;00m \u001B[38;5;28mself\u001B[39m\u001B[38;5;241m.\u001B[39m_blit:\n\u001B[0;32m   1772\u001B[0m     err \u001B[38;5;241m=\u001B[39m \u001B[38;5;167;01mRuntimeError\u001B[39;00m(\u001B[38;5;124m'\u001B[39m\u001B[38;5;124mThe animation function must return a sequence \u001B[39m\u001B[38;5;124m'\u001B[39m\n\u001B[0;32m   1773\u001B[0m                        \u001B[38;5;124m'\u001B[39m\u001B[38;5;124mof Artist objects.\u001B[39m\u001B[38;5;124m'\u001B[39m)\n",
      "Cell \u001B[1;32mIn[61], line 22\u001B[0m, in \u001B[0;36mvector_field.<locals>.update\u001B[1;34m(index)\u001B[0m\n\u001B[0;32m     19\u001B[0m image\u001B[38;5;241m.\u001B[39mset_data(frame)\n\u001B[0;32m     21\u001B[0m \u001B[38;5;66;03m# https://stackoverflow.com/questions/19329039/plotting-animated-quivers-in-python\u001B[39;00m\n\u001B[1;32m---> 22\u001B[0m vx, vy \u001B[38;5;241m=\u001B[39m \u001B[43mresults\u001B[49m\u001B[43m[\u001B[49m\u001B[43mindex\u001B[49m\u001B[43m]\u001B[49m[\u001B[38;5;241m2\u001B[39m], results[index][\u001B[38;5;241m3\u001B[39m]\n\u001B[0;32m     23\u001B[0m vx, vy \u001B[38;5;241m=\u001B[39m np\u001B[38;5;241m.\u001B[39mflip(vx, axis\u001B[38;5;241m=\u001B[39m\u001B[38;5;241m0\u001B[39m), np\u001B[38;5;241m.\u001B[39mflip(vy, axis\u001B[38;5;241m=\u001B[39m\u001B[38;5;241m0\u001B[39m)\n\u001B[0;32m     24\u001B[0m scaling \u001B[38;5;241m=\u001B[39m np\u001B[38;5;241m.\u001B[39msqrt(vx \u001B[38;5;241m*\u001B[39m\u001B[38;5;241m*\u001B[39m \u001B[38;5;241m2\u001B[39m \u001B[38;5;241m+\u001B[39m vy \u001B[38;5;241m*\u001B[39m\u001B[38;5;241m*\u001B[39m \u001B[38;5;241m2\u001B[39m) \u001B[38;5;241m-\u001B[39m min_abs\n",
      "\u001B[1;31mIndexError\u001B[0m: index 8 is out of bounds for axis 0 with size 3"
     ]
    },
    {
     "ename": "IndexError",
     "evalue": "index 9 is out of bounds for axis 0 with size 3",
     "output_type": "error",
     "traceback": [
      "\u001B[1;31m---------------------------------------------------------------------------\u001B[0m",
      "\u001B[1;31mIndexError\u001B[0m                                Traceback (most recent call last)",
      "File \u001B[1;32m~\\Documents\\School\\Y4-Q4\\BEP\\openpiv-python-master\\.venv\\Lib\\site-packages\\matplotlib\\backend_bases.py:1233\u001B[0m, in \u001B[0;36mTimerBase._on_timer\u001B[1;34m(self)\u001B[0m\n\u001B[0;32m   1227\u001B[0m \u001B[38;5;250m\u001B[39m\u001B[38;5;124;03m\"\"\"\u001B[39;00m\n\u001B[0;32m   1228\u001B[0m \u001B[38;5;124;03mRuns all function that have been registered as callbacks. Functions\u001B[39;00m\n\u001B[0;32m   1229\u001B[0m \u001B[38;5;124;03mcan return False (or 0) if they should not be called any more. If there\u001B[39;00m\n\u001B[0;32m   1230\u001B[0m \u001B[38;5;124;03mare no callbacks, the timer is automatically stopped.\u001B[39;00m\n\u001B[0;32m   1231\u001B[0m \u001B[38;5;124;03m\"\"\"\u001B[39;00m\n\u001B[0;32m   1232\u001B[0m \u001B[38;5;28;01mfor\u001B[39;00m func, args, kwargs \u001B[38;5;129;01min\u001B[39;00m \u001B[38;5;28mself\u001B[39m\u001B[38;5;241m.\u001B[39mcallbacks:\n\u001B[1;32m-> 1233\u001B[0m     ret \u001B[38;5;241m=\u001B[39m \u001B[43mfunc\u001B[49m\u001B[43m(\u001B[49m\u001B[38;5;241;43m*\u001B[39;49m\u001B[43margs\u001B[49m\u001B[43m,\u001B[49m\u001B[43m \u001B[49m\u001B[38;5;241;43m*\u001B[39;49m\u001B[38;5;241;43m*\u001B[39;49m\u001B[43mkwargs\u001B[49m\u001B[43m)\u001B[49m\n\u001B[0;32m   1234\u001B[0m     \u001B[38;5;66;03m# docstring above explains why we use `if ret == 0` here,\u001B[39;00m\n\u001B[0;32m   1235\u001B[0m     \u001B[38;5;66;03m# instead of `if not ret`.\u001B[39;00m\n\u001B[0;32m   1236\u001B[0m     \u001B[38;5;66;03m# This will also catch `ret == False` as `False == 0`\u001B[39;00m\n\u001B[0;32m   1237\u001B[0m     \u001B[38;5;66;03m# but does not annoy the linters\u001B[39;00m\n\u001B[0;32m   1238\u001B[0m     \u001B[38;5;66;03m# https://docs.python.org/3/library/stdtypes.html#boolean-values\u001B[39;00m\n\u001B[0;32m   1239\u001B[0m     \u001B[38;5;28;01mif\u001B[39;00m ret \u001B[38;5;241m==\u001B[39m \u001B[38;5;241m0\u001B[39m:\n",
      "File \u001B[1;32m~\\Documents\\School\\Y4-Q4\\BEP\\openpiv-python-master\\.venv\\Lib\\site-packages\\matplotlib\\animation.py:1427\u001B[0m, in \u001B[0;36mTimedAnimation._step\u001B[1;34m(self, *args)\u001B[0m\n\u001B[0;32m   1420\u001B[0m \u001B[38;5;250m\u001B[39m\u001B[38;5;124;03m\"\"\"Handler for getting events.\"\"\"\u001B[39;00m\n\u001B[0;32m   1421\u001B[0m \u001B[38;5;66;03m# Extends the _step() method for the Animation class.  If\u001B[39;00m\n\u001B[0;32m   1422\u001B[0m \u001B[38;5;66;03m# Animation._step signals that it reached the end and we want to\u001B[39;00m\n\u001B[0;32m   1423\u001B[0m \u001B[38;5;66;03m# repeat, we refresh the frame sequence and return True. If\u001B[39;00m\n\u001B[0;32m   1424\u001B[0m \u001B[38;5;66;03m# _repeat_delay is set, change the event_source's interval to our loop\u001B[39;00m\n\u001B[0;32m   1425\u001B[0m \u001B[38;5;66;03m# delay and set the callback to one which will then set the interval\u001B[39;00m\n\u001B[0;32m   1426\u001B[0m \u001B[38;5;66;03m# back.\u001B[39;00m\n\u001B[1;32m-> 1427\u001B[0m still_going \u001B[38;5;241m=\u001B[39m \u001B[38;5;28;43msuper\u001B[39;49m\u001B[43m(\u001B[49m\u001B[43m)\u001B[49m\u001B[38;5;241;43m.\u001B[39;49m\u001B[43m_step\u001B[49m\u001B[43m(\u001B[49m\u001B[38;5;241;43m*\u001B[39;49m\u001B[43margs\u001B[49m\u001B[43m)\u001B[49m\n\u001B[0;32m   1428\u001B[0m \u001B[38;5;28;01mif\u001B[39;00m \u001B[38;5;129;01mnot\u001B[39;00m still_going:\n\u001B[0;32m   1429\u001B[0m     \u001B[38;5;28;01mif\u001B[39;00m \u001B[38;5;28mself\u001B[39m\u001B[38;5;241m.\u001B[39m_repeat:\n\u001B[0;32m   1430\u001B[0m         \u001B[38;5;66;03m# Restart the draw loop\u001B[39;00m\n",
      "File \u001B[1;32m~\\Documents\\School\\Y4-Q4\\BEP\\openpiv-python-master\\.venv\\Lib\\site-packages\\matplotlib\\animation.py:1121\u001B[0m, in \u001B[0;36mAnimation._step\u001B[1;34m(self, *args)\u001B[0m\n\u001B[0;32m   1119\u001B[0m \u001B[38;5;28;01mtry\u001B[39;00m:\n\u001B[0;32m   1120\u001B[0m     framedata \u001B[38;5;241m=\u001B[39m \u001B[38;5;28mnext\u001B[39m(\u001B[38;5;28mself\u001B[39m\u001B[38;5;241m.\u001B[39mframe_seq)\n\u001B[1;32m-> 1121\u001B[0m     \u001B[38;5;28;43mself\u001B[39;49m\u001B[38;5;241;43m.\u001B[39;49m\u001B[43m_draw_next_frame\u001B[49m\u001B[43m(\u001B[49m\u001B[43mframedata\u001B[49m\u001B[43m,\u001B[49m\u001B[43m \u001B[49m\u001B[38;5;28;43mself\u001B[39;49m\u001B[38;5;241;43m.\u001B[39;49m\u001B[43m_blit\u001B[49m\u001B[43m)\u001B[49m\n\u001B[0;32m   1122\u001B[0m     \u001B[38;5;28;01mreturn\u001B[39;00m \u001B[38;5;28;01mTrue\u001B[39;00m\n\u001B[0;32m   1123\u001B[0m \u001B[38;5;28;01mexcept\u001B[39;00m \u001B[38;5;167;01mStopIteration\u001B[39;00m:\n",
      "File \u001B[1;32m~\\Documents\\School\\Y4-Q4\\BEP\\openpiv-python-master\\.venv\\Lib\\site-packages\\matplotlib\\animation.py:1140\u001B[0m, in \u001B[0;36mAnimation._draw_next_frame\u001B[1;34m(self, framedata, blit)\u001B[0m\n\u001B[0;32m   1136\u001B[0m \u001B[38;5;28;01mdef\u001B[39;00m \u001B[38;5;21m_draw_next_frame\u001B[39m(\u001B[38;5;28mself\u001B[39m, framedata, blit):\n\u001B[0;32m   1137\u001B[0m     \u001B[38;5;66;03m# Breaks down the drawing of the next frame into steps of pre- and\u001B[39;00m\n\u001B[0;32m   1138\u001B[0m     \u001B[38;5;66;03m# post- draw, as well as the drawing of the frame itself.\u001B[39;00m\n\u001B[0;32m   1139\u001B[0m     \u001B[38;5;28mself\u001B[39m\u001B[38;5;241m.\u001B[39m_pre_draw(framedata, blit)\n\u001B[1;32m-> 1140\u001B[0m     \u001B[38;5;28;43mself\u001B[39;49m\u001B[38;5;241;43m.\u001B[39;49m\u001B[43m_draw_frame\u001B[49m\u001B[43m(\u001B[49m\u001B[43mframedata\u001B[49m\u001B[43m)\u001B[49m\n\u001B[0;32m   1141\u001B[0m     \u001B[38;5;28mself\u001B[39m\u001B[38;5;241m.\u001B[39m_post_draw(framedata, blit)\n",
      "File \u001B[1;32m~\\Documents\\School\\Y4-Q4\\BEP\\openpiv-python-master\\.venv\\Lib\\site-packages\\matplotlib\\animation.py:1768\u001B[0m, in \u001B[0;36mFuncAnimation._draw_frame\u001B[1;34m(self, framedata)\u001B[0m\n\u001B[0;32m   1764\u001B[0m     \u001B[38;5;28mself\u001B[39m\u001B[38;5;241m.\u001B[39m_save_seq \u001B[38;5;241m=\u001B[39m \u001B[38;5;28mself\u001B[39m\u001B[38;5;241m.\u001B[39m_save_seq[\u001B[38;5;241m-\u001B[39m\u001B[38;5;28mself\u001B[39m\u001B[38;5;241m.\u001B[39m_save_count:]\n\u001B[0;32m   1766\u001B[0m \u001B[38;5;66;03m# Call the func with framedata and args. If blitting is desired,\u001B[39;00m\n\u001B[0;32m   1767\u001B[0m \u001B[38;5;66;03m# func needs to return a sequence of any artists that were modified.\u001B[39;00m\n\u001B[1;32m-> 1768\u001B[0m \u001B[38;5;28mself\u001B[39m\u001B[38;5;241m.\u001B[39m_drawn_artists \u001B[38;5;241m=\u001B[39m \u001B[38;5;28;43mself\u001B[39;49m\u001B[38;5;241;43m.\u001B[39;49m\u001B[43m_func\u001B[49m\u001B[43m(\u001B[49m\u001B[43mframedata\u001B[49m\u001B[43m,\u001B[49m\u001B[43m \u001B[49m\u001B[38;5;241;43m*\u001B[39;49m\u001B[38;5;28;43mself\u001B[39;49m\u001B[38;5;241;43m.\u001B[39;49m\u001B[43m_args\u001B[49m\u001B[43m)\u001B[49m\n\u001B[0;32m   1770\u001B[0m \u001B[38;5;28;01mif\u001B[39;00m \u001B[38;5;28mself\u001B[39m\u001B[38;5;241m.\u001B[39m_blit:\n\u001B[0;32m   1772\u001B[0m     err \u001B[38;5;241m=\u001B[39m \u001B[38;5;167;01mRuntimeError\u001B[39;00m(\u001B[38;5;124m'\u001B[39m\u001B[38;5;124mThe animation function must return a sequence \u001B[39m\u001B[38;5;124m'\u001B[39m\n\u001B[0;32m   1773\u001B[0m                        \u001B[38;5;124m'\u001B[39m\u001B[38;5;124mof Artist objects.\u001B[39m\u001B[38;5;124m'\u001B[39m)\n",
      "Cell \u001B[1;32mIn[61], line 22\u001B[0m, in \u001B[0;36mvector_field.<locals>.update\u001B[1;34m(index)\u001B[0m\n\u001B[0;32m     19\u001B[0m image\u001B[38;5;241m.\u001B[39mset_data(frame)\n\u001B[0;32m     21\u001B[0m \u001B[38;5;66;03m# https://stackoverflow.com/questions/19329039/plotting-animated-quivers-in-python\u001B[39;00m\n\u001B[1;32m---> 22\u001B[0m vx, vy \u001B[38;5;241m=\u001B[39m \u001B[43mresults\u001B[49m\u001B[43m[\u001B[49m\u001B[43mindex\u001B[49m\u001B[43m]\u001B[49m[\u001B[38;5;241m2\u001B[39m], results[index][\u001B[38;5;241m3\u001B[39m]\n\u001B[0;32m     23\u001B[0m vx, vy \u001B[38;5;241m=\u001B[39m np\u001B[38;5;241m.\u001B[39mflip(vx, axis\u001B[38;5;241m=\u001B[39m\u001B[38;5;241m0\u001B[39m), np\u001B[38;5;241m.\u001B[39mflip(vy, axis\u001B[38;5;241m=\u001B[39m\u001B[38;5;241m0\u001B[39m)\n\u001B[0;32m     24\u001B[0m scaling \u001B[38;5;241m=\u001B[39m np\u001B[38;5;241m.\u001B[39msqrt(vx \u001B[38;5;241m*\u001B[39m\u001B[38;5;241m*\u001B[39m \u001B[38;5;241m2\u001B[39m \u001B[38;5;241m+\u001B[39m vy \u001B[38;5;241m*\u001B[39m\u001B[38;5;241m*\u001B[39m \u001B[38;5;241m2\u001B[39m) \u001B[38;5;241m-\u001B[39m min_abs\n",
      "\u001B[1;31mIndexError\u001B[0m: index 9 is out of bounds for axis 0 with size 3"
     ]
    },
    {
     "ename": "IndexError",
     "evalue": "index 10 is out of bounds for axis 0 with size 3",
     "output_type": "error",
     "traceback": [
      "\u001B[1;31m---------------------------------------------------------------------------\u001B[0m",
      "\u001B[1;31mIndexError\u001B[0m                                Traceback (most recent call last)",
      "File \u001B[1;32m~\\Documents\\School\\Y4-Q4\\BEP\\openpiv-python-master\\.venv\\Lib\\site-packages\\matplotlib\\backend_bases.py:1233\u001B[0m, in \u001B[0;36mTimerBase._on_timer\u001B[1;34m(self)\u001B[0m\n\u001B[0;32m   1227\u001B[0m \u001B[38;5;250m\u001B[39m\u001B[38;5;124;03m\"\"\"\u001B[39;00m\n\u001B[0;32m   1228\u001B[0m \u001B[38;5;124;03mRuns all function that have been registered as callbacks. Functions\u001B[39;00m\n\u001B[0;32m   1229\u001B[0m \u001B[38;5;124;03mcan return False (or 0) if they should not be called any more. If there\u001B[39;00m\n\u001B[0;32m   1230\u001B[0m \u001B[38;5;124;03mare no callbacks, the timer is automatically stopped.\u001B[39;00m\n\u001B[0;32m   1231\u001B[0m \u001B[38;5;124;03m\"\"\"\u001B[39;00m\n\u001B[0;32m   1232\u001B[0m \u001B[38;5;28;01mfor\u001B[39;00m func, args, kwargs \u001B[38;5;129;01min\u001B[39;00m \u001B[38;5;28mself\u001B[39m\u001B[38;5;241m.\u001B[39mcallbacks:\n\u001B[1;32m-> 1233\u001B[0m     ret \u001B[38;5;241m=\u001B[39m \u001B[43mfunc\u001B[49m\u001B[43m(\u001B[49m\u001B[38;5;241;43m*\u001B[39;49m\u001B[43margs\u001B[49m\u001B[43m,\u001B[49m\u001B[43m \u001B[49m\u001B[38;5;241;43m*\u001B[39;49m\u001B[38;5;241;43m*\u001B[39;49m\u001B[43mkwargs\u001B[49m\u001B[43m)\u001B[49m\n\u001B[0;32m   1234\u001B[0m     \u001B[38;5;66;03m# docstring above explains why we use `if ret == 0` here,\u001B[39;00m\n\u001B[0;32m   1235\u001B[0m     \u001B[38;5;66;03m# instead of `if not ret`.\u001B[39;00m\n\u001B[0;32m   1236\u001B[0m     \u001B[38;5;66;03m# This will also catch `ret == False` as `False == 0`\u001B[39;00m\n\u001B[0;32m   1237\u001B[0m     \u001B[38;5;66;03m# but does not annoy the linters\u001B[39;00m\n\u001B[0;32m   1238\u001B[0m     \u001B[38;5;66;03m# https://docs.python.org/3/library/stdtypes.html#boolean-values\u001B[39;00m\n\u001B[0;32m   1239\u001B[0m     \u001B[38;5;28;01mif\u001B[39;00m ret \u001B[38;5;241m==\u001B[39m \u001B[38;5;241m0\u001B[39m:\n",
      "File \u001B[1;32m~\\Documents\\School\\Y4-Q4\\BEP\\openpiv-python-master\\.venv\\Lib\\site-packages\\matplotlib\\animation.py:1427\u001B[0m, in \u001B[0;36mTimedAnimation._step\u001B[1;34m(self, *args)\u001B[0m\n\u001B[0;32m   1420\u001B[0m \u001B[38;5;250m\u001B[39m\u001B[38;5;124;03m\"\"\"Handler for getting events.\"\"\"\u001B[39;00m\n\u001B[0;32m   1421\u001B[0m \u001B[38;5;66;03m# Extends the _step() method for the Animation class.  If\u001B[39;00m\n\u001B[0;32m   1422\u001B[0m \u001B[38;5;66;03m# Animation._step signals that it reached the end and we want to\u001B[39;00m\n\u001B[0;32m   1423\u001B[0m \u001B[38;5;66;03m# repeat, we refresh the frame sequence and return True. If\u001B[39;00m\n\u001B[0;32m   1424\u001B[0m \u001B[38;5;66;03m# _repeat_delay is set, change the event_source's interval to our loop\u001B[39;00m\n\u001B[0;32m   1425\u001B[0m \u001B[38;5;66;03m# delay and set the callback to one which will then set the interval\u001B[39;00m\n\u001B[0;32m   1426\u001B[0m \u001B[38;5;66;03m# back.\u001B[39;00m\n\u001B[1;32m-> 1427\u001B[0m still_going \u001B[38;5;241m=\u001B[39m \u001B[38;5;28;43msuper\u001B[39;49m\u001B[43m(\u001B[49m\u001B[43m)\u001B[49m\u001B[38;5;241;43m.\u001B[39;49m\u001B[43m_step\u001B[49m\u001B[43m(\u001B[49m\u001B[38;5;241;43m*\u001B[39;49m\u001B[43margs\u001B[49m\u001B[43m)\u001B[49m\n\u001B[0;32m   1428\u001B[0m \u001B[38;5;28;01mif\u001B[39;00m \u001B[38;5;129;01mnot\u001B[39;00m still_going:\n\u001B[0;32m   1429\u001B[0m     \u001B[38;5;28;01mif\u001B[39;00m \u001B[38;5;28mself\u001B[39m\u001B[38;5;241m.\u001B[39m_repeat:\n\u001B[0;32m   1430\u001B[0m         \u001B[38;5;66;03m# Restart the draw loop\u001B[39;00m\n",
      "File \u001B[1;32m~\\Documents\\School\\Y4-Q4\\BEP\\openpiv-python-master\\.venv\\Lib\\site-packages\\matplotlib\\animation.py:1121\u001B[0m, in \u001B[0;36mAnimation._step\u001B[1;34m(self, *args)\u001B[0m\n\u001B[0;32m   1119\u001B[0m \u001B[38;5;28;01mtry\u001B[39;00m:\n\u001B[0;32m   1120\u001B[0m     framedata \u001B[38;5;241m=\u001B[39m \u001B[38;5;28mnext\u001B[39m(\u001B[38;5;28mself\u001B[39m\u001B[38;5;241m.\u001B[39mframe_seq)\n\u001B[1;32m-> 1121\u001B[0m     \u001B[38;5;28;43mself\u001B[39;49m\u001B[38;5;241;43m.\u001B[39;49m\u001B[43m_draw_next_frame\u001B[49m\u001B[43m(\u001B[49m\u001B[43mframedata\u001B[49m\u001B[43m,\u001B[49m\u001B[43m \u001B[49m\u001B[38;5;28;43mself\u001B[39;49m\u001B[38;5;241;43m.\u001B[39;49m\u001B[43m_blit\u001B[49m\u001B[43m)\u001B[49m\n\u001B[0;32m   1122\u001B[0m     \u001B[38;5;28;01mreturn\u001B[39;00m \u001B[38;5;28;01mTrue\u001B[39;00m\n\u001B[0;32m   1123\u001B[0m \u001B[38;5;28;01mexcept\u001B[39;00m \u001B[38;5;167;01mStopIteration\u001B[39;00m:\n",
      "File \u001B[1;32m~\\Documents\\School\\Y4-Q4\\BEP\\openpiv-python-master\\.venv\\Lib\\site-packages\\matplotlib\\animation.py:1140\u001B[0m, in \u001B[0;36mAnimation._draw_next_frame\u001B[1;34m(self, framedata, blit)\u001B[0m\n\u001B[0;32m   1136\u001B[0m \u001B[38;5;28;01mdef\u001B[39;00m \u001B[38;5;21m_draw_next_frame\u001B[39m(\u001B[38;5;28mself\u001B[39m, framedata, blit):\n\u001B[0;32m   1137\u001B[0m     \u001B[38;5;66;03m# Breaks down the drawing of the next frame into steps of pre- and\u001B[39;00m\n\u001B[0;32m   1138\u001B[0m     \u001B[38;5;66;03m# post- draw, as well as the drawing of the frame itself.\u001B[39;00m\n\u001B[0;32m   1139\u001B[0m     \u001B[38;5;28mself\u001B[39m\u001B[38;5;241m.\u001B[39m_pre_draw(framedata, blit)\n\u001B[1;32m-> 1140\u001B[0m     \u001B[38;5;28;43mself\u001B[39;49m\u001B[38;5;241;43m.\u001B[39;49m\u001B[43m_draw_frame\u001B[49m\u001B[43m(\u001B[49m\u001B[43mframedata\u001B[49m\u001B[43m)\u001B[49m\n\u001B[0;32m   1141\u001B[0m     \u001B[38;5;28mself\u001B[39m\u001B[38;5;241m.\u001B[39m_post_draw(framedata, blit)\n",
      "File \u001B[1;32m~\\Documents\\School\\Y4-Q4\\BEP\\openpiv-python-master\\.venv\\Lib\\site-packages\\matplotlib\\animation.py:1768\u001B[0m, in \u001B[0;36mFuncAnimation._draw_frame\u001B[1;34m(self, framedata)\u001B[0m\n\u001B[0;32m   1764\u001B[0m     \u001B[38;5;28mself\u001B[39m\u001B[38;5;241m.\u001B[39m_save_seq \u001B[38;5;241m=\u001B[39m \u001B[38;5;28mself\u001B[39m\u001B[38;5;241m.\u001B[39m_save_seq[\u001B[38;5;241m-\u001B[39m\u001B[38;5;28mself\u001B[39m\u001B[38;5;241m.\u001B[39m_save_count:]\n\u001B[0;32m   1766\u001B[0m \u001B[38;5;66;03m# Call the func with framedata and args. If blitting is desired,\u001B[39;00m\n\u001B[0;32m   1767\u001B[0m \u001B[38;5;66;03m# func needs to return a sequence of any artists that were modified.\u001B[39;00m\n\u001B[1;32m-> 1768\u001B[0m \u001B[38;5;28mself\u001B[39m\u001B[38;5;241m.\u001B[39m_drawn_artists \u001B[38;5;241m=\u001B[39m \u001B[38;5;28;43mself\u001B[39;49m\u001B[38;5;241;43m.\u001B[39;49m\u001B[43m_func\u001B[49m\u001B[43m(\u001B[49m\u001B[43mframedata\u001B[49m\u001B[43m,\u001B[49m\u001B[43m \u001B[49m\u001B[38;5;241;43m*\u001B[39;49m\u001B[38;5;28;43mself\u001B[39;49m\u001B[38;5;241;43m.\u001B[39;49m\u001B[43m_args\u001B[49m\u001B[43m)\u001B[49m\n\u001B[0;32m   1770\u001B[0m \u001B[38;5;28;01mif\u001B[39;00m \u001B[38;5;28mself\u001B[39m\u001B[38;5;241m.\u001B[39m_blit:\n\u001B[0;32m   1772\u001B[0m     err \u001B[38;5;241m=\u001B[39m \u001B[38;5;167;01mRuntimeError\u001B[39;00m(\u001B[38;5;124m'\u001B[39m\u001B[38;5;124mThe animation function must return a sequence \u001B[39m\u001B[38;5;124m'\u001B[39m\n\u001B[0;32m   1773\u001B[0m                        \u001B[38;5;124m'\u001B[39m\u001B[38;5;124mof Artist objects.\u001B[39m\u001B[38;5;124m'\u001B[39m)\n",
      "Cell \u001B[1;32mIn[61], line 22\u001B[0m, in \u001B[0;36mvector_field.<locals>.update\u001B[1;34m(index)\u001B[0m\n\u001B[0;32m     19\u001B[0m image\u001B[38;5;241m.\u001B[39mset_data(frame)\n\u001B[0;32m     21\u001B[0m \u001B[38;5;66;03m# https://stackoverflow.com/questions/19329039/plotting-animated-quivers-in-python\u001B[39;00m\n\u001B[1;32m---> 22\u001B[0m vx, vy \u001B[38;5;241m=\u001B[39m \u001B[43mresults\u001B[49m\u001B[43m[\u001B[49m\u001B[43mindex\u001B[49m\u001B[43m]\u001B[49m[\u001B[38;5;241m2\u001B[39m], results[index][\u001B[38;5;241m3\u001B[39m]\n\u001B[0;32m     23\u001B[0m vx, vy \u001B[38;5;241m=\u001B[39m np\u001B[38;5;241m.\u001B[39mflip(vx, axis\u001B[38;5;241m=\u001B[39m\u001B[38;5;241m0\u001B[39m), np\u001B[38;5;241m.\u001B[39mflip(vy, axis\u001B[38;5;241m=\u001B[39m\u001B[38;5;241m0\u001B[39m)\n\u001B[0;32m     24\u001B[0m scaling \u001B[38;5;241m=\u001B[39m np\u001B[38;5;241m.\u001B[39msqrt(vx \u001B[38;5;241m*\u001B[39m\u001B[38;5;241m*\u001B[39m \u001B[38;5;241m2\u001B[39m \u001B[38;5;241m+\u001B[39m vy \u001B[38;5;241m*\u001B[39m\u001B[38;5;241m*\u001B[39m \u001B[38;5;241m2\u001B[39m) \u001B[38;5;241m-\u001B[39m min_abs\n",
      "\u001B[1;31mIndexError\u001B[0m: index 10 is out of bounds for axis 0 with size 3"
     ]
    },
    {
     "ename": "IndexError",
     "evalue": "index 11 is out of bounds for axis 0 with size 3",
     "output_type": "error",
     "traceback": [
      "\u001B[1;31m---------------------------------------------------------------------------\u001B[0m",
      "\u001B[1;31mIndexError\u001B[0m                                Traceback (most recent call last)",
      "File \u001B[1;32m~\\Documents\\School\\Y4-Q4\\BEP\\openpiv-python-master\\.venv\\Lib\\site-packages\\matplotlib\\backend_bases.py:1233\u001B[0m, in \u001B[0;36mTimerBase._on_timer\u001B[1;34m(self)\u001B[0m\n\u001B[0;32m   1227\u001B[0m \u001B[38;5;250m\u001B[39m\u001B[38;5;124;03m\"\"\"\u001B[39;00m\n\u001B[0;32m   1228\u001B[0m \u001B[38;5;124;03mRuns all function that have been registered as callbacks. Functions\u001B[39;00m\n\u001B[0;32m   1229\u001B[0m \u001B[38;5;124;03mcan return False (or 0) if they should not be called any more. If there\u001B[39;00m\n\u001B[0;32m   1230\u001B[0m \u001B[38;5;124;03mare no callbacks, the timer is automatically stopped.\u001B[39;00m\n\u001B[0;32m   1231\u001B[0m \u001B[38;5;124;03m\"\"\"\u001B[39;00m\n\u001B[0;32m   1232\u001B[0m \u001B[38;5;28;01mfor\u001B[39;00m func, args, kwargs \u001B[38;5;129;01min\u001B[39;00m \u001B[38;5;28mself\u001B[39m\u001B[38;5;241m.\u001B[39mcallbacks:\n\u001B[1;32m-> 1233\u001B[0m     ret \u001B[38;5;241m=\u001B[39m \u001B[43mfunc\u001B[49m\u001B[43m(\u001B[49m\u001B[38;5;241;43m*\u001B[39;49m\u001B[43margs\u001B[49m\u001B[43m,\u001B[49m\u001B[43m \u001B[49m\u001B[38;5;241;43m*\u001B[39;49m\u001B[38;5;241;43m*\u001B[39;49m\u001B[43mkwargs\u001B[49m\u001B[43m)\u001B[49m\n\u001B[0;32m   1234\u001B[0m     \u001B[38;5;66;03m# docstring above explains why we use `if ret == 0` here,\u001B[39;00m\n\u001B[0;32m   1235\u001B[0m     \u001B[38;5;66;03m# instead of `if not ret`.\u001B[39;00m\n\u001B[0;32m   1236\u001B[0m     \u001B[38;5;66;03m# This will also catch `ret == False` as `False == 0`\u001B[39;00m\n\u001B[0;32m   1237\u001B[0m     \u001B[38;5;66;03m# but does not annoy the linters\u001B[39;00m\n\u001B[0;32m   1238\u001B[0m     \u001B[38;5;66;03m# https://docs.python.org/3/library/stdtypes.html#boolean-values\u001B[39;00m\n\u001B[0;32m   1239\u001B[0m     \u001B[38;5;28;01mif\u001B[39;00m ret \u001B[38;5;241m==\u001B[39m \u001B[38;5;241m0\u001B[39m:\n",
      "File \u001B[1;32m~\\Documents\\School\\Y4-Q4\\BEP\\openpiv-python-master\\.venv\\Lib\\site-packages\\matplotlib\\animation.py:1427\u001B[0m, in \u001B[0;36mTimedAnimation._step\u001B[1;34m(self, *args)\u001B[0m\n\u001B[0;32m   1420\u001B[0m \u001B[38;5;250m\u001B[39m\u001B[38;5;124;03m\"\"\"Handler for getting events.\"\"\"\u001B[39;00m\n\u001B[0;32m   1421\u001B[0m \u001B[38;5;66;03m# Extends the _step() method for the Animation class.  If\u001B[39;00m\n\u001B[0;32m   1422\u001B[0m \u001B[38;5;66;03m# Animation._step signals that it reached the end and we want to\u001B[39;00m\n\u001B[0;32m   1423\u001B[0m \u001B[38;5;66;03m# repeat, we refresh the frame sequence and return True. If\u001B[39;00m\n\u001B[0;32m   1424\u001B[0m \u001B[38;5;66;03m# _repeat_delay is set, change the event_source's interval to our loop\u001B[39;00m\n\u001B[0;32m   1425\u001B[0m \u001B[38;5;66;03m# delay and set the callback to one which will then set the interval\u001B[39;00m\n\u001B[0;32m   1426\u001B[0m \u001B[38;5;66;03m# back.\u001B[39;00m\n\u001B[1;32m-> 1427\u001B[0m still_going \u001B[38;5;241m=\u001B[39m \u001B[38;5;28;43msuper\u001B[39;49m\u001B[43m(\u001B[49m\u001B[43m)\u001B[49m\u001B[38;5;241;43m.\u001B[39;49m\u001B[43m_step\u001B[49m\u001B[43m(\u001B[49m\u001B[38;5;241;43m*\u001B[39;49m\u001B[43margs\u001B[49m\u001B[43m)\u001B[49m\n\u001B[0;32m   1428\u001B[0m \u001B[38;5;28;01mif\u001B[39;00m \u001B[38;5;129;01mnot\u001B[39;00m still_going:\n\u001B[0;32m   1429\u001B[0m     \u001B[38;5;28;01mif\u001B[39;00m \u001B[38;5;28mself\u001B[39m\u001B[38;5;241m.\u001B[39m_repeat:\n\u001B[0;32m   1430\u001B[0m         \u001B[38;5;66;03m# Restart the draw loop\u001B[39;00m\n",
      "File \u001B[1;32m~\\Documents\\School\\Y4-Q4\\BEP\\openpiv-python-master\\.venv\\Lib\\site-packages\\matplotlib\\animation.py:1121\u001B[0m, in \u001B[0;36mAnimation._step\u001B[1;34m(self, *args)\u001B[0m\n\u001B[0;32m   1119\u001B[0m \u001B[38;5;28;01mtry\u001B[39;00m:\n\u001B[0;32m   1120\u001B[0m     framedata \u001B[38;5;241m=\u001B[39m \u001B[38;5;28mnext\u001B[39m(\u001B[38;5;28mself\u001B[39m\u001B[38;5;241m.\u001B[39mframe_seq)\n\u001B[1;32m-> 1121\u001B[0m     \u001B[38;5;28;43mself\u001B[39;49m\u001B[38;5;241;43m.\u001B[39;49m\u001B[43m_draw_next_frame\u001B[49m\u001B[43m(\u001B[49m\u001B[43mframedata\u001B[49m\u001B[43m,\u001B[49m\u001B[43m \u001B[49m\u001B[38;5;28;43mself\u001B[39;49m\u001B[38;5;241;43m.\u001B[39;49m\u001B[43m_blit\u001B[49m\u001B[43m)\u001B[49m\n\u001B[0;32m   1122\u001B[0m     \u001B[38;5;28;01mreturn\u001B[39;00m \u001B[38;5;28;01mTrue\u001B[39;00m\n\u001B[0;32m   1123\u001B[0m \u001B[38;5;28;01mexcept\u001B[39;00m \u001B[38;5;167;01mStopIteration\u001B[39;00m:\n",
      "File \u001B[1;32m~\\Documents\\School\\Y4-Q4\\BEP\\openpiv-python-master\\.venv\\Lib\\site-packages\\matplotlib\\animation.py:1140\u001B[0m, in \u001B[0;36mAnimation._draw_next_frame\u001B[1;34m(self, framedata, blit)\u001B[0m\n\u001B[0;32m   1136\u001B[0m \u001B[38;5;28;01mdef\u001B[39;00m \u001B[38;5;21m_draw_next_frame\u001B[39m(\u001B[38;5;28mself\u001B[39m, framedata, blit):\n\u001B[0;32m   1137\u001B[0m     \u001B[38;5;66;03m# Breaks down the drawing of the next frame into steps of pre- and\u001B[39;00m\n\u001B[0;32m   1138\u001B[0m     \u001B[38;5;66;03m# post- draw, as well as the drawing of the frame itself.\u001B[39;00m\n\u001B[0;32m   1139\u001B[0m     \u001B[38;5;28mself\u001B[39m\u001B[38;5;241m.\u001B[39m_pre_draw(framedata, blit)\n\u001B[1;32m-> 1140\u001B[0m     \u001B[38;5;28;43mself\u001B[39;49m\u001B[38;5;241;43m.\u001B[39;49m\u001B[43m_draw_frame\u001B[49m\u001B[43m(\u001B[49m\u001B[43mframedata\u001B[49m\u001B[43m)\u001B[49m\n\u001B[0;32m   1141\u001B[0m     \u001B[38;5;28mself\u001B[39m\u001B[38;5;241m.\u001B[39m_post_draw(framedata, blit)\n",
      "File \u001B[1;32m~\\Documents\\School\\Y4-Q4\\BEP\\openpiv-python-master\\.venv\\Lib\\site-packages\\matplotlib\\animation.py:1768\u001B[0m, in \u001B[0;36mFuncAnimation._draw_frame\u001B[1;34m(self, framedata)\u001B[0m\n\u001B[0;32m   1764\u001B[0m     \u001B[38;5;28mself\u001B[39m\u001B[38;5;241m.\u001B[39m_save_seq \u001B[38;5;241m=\u001B[39m \u001B[38;5;28mself\u001B[39m\u001B[38;5;241m.\u001B[39m_save_seq[\u001B[38;5;241m-\u001B[39m\u001B[38;5;28mself\u001B[39m\u001B[38;5;241m.\u001B[39m_save_count:]\n\u001B[0;32m   1766\u001B[0m \u001B[38;5;66;03m# Call the func with framedata and args. If blitting is desired,\u001B[39;00m\n\u001B[0;32m   1767\u001B[0m \u001B[38;5;66;03m# func needs to return a sequence of any artists that were modified.\u001B[39;00m\n\u001B[1;32m-> 1768\u001B[0m \u001B[38;5;28mself\u001B[39m\u001B[38;5;241m.\u001B[39m_drawn_artists \u001B[38;5;241m=\u001B[39m \u001B[38;5;28;43mself\u001B[39;49m\u001B[38;5;241;43m.\u001B[39;49m\u001B[43m_func\u001B[49m\u001B[43m(\u001B[49m\u001B[43mframedata\u001B[49m\u001B[43m,\u001B[49m\u001B[43m \u001B[49m\u001B[38;5;241;43m*\u001B[39;49m\u001B[38;5;28;43mself\u001B[39;49m\u001B[38;5;241;43m.\u001B[39;49m\u001B[43m_args\u001B[49m\u001B[43m)\u001B[49m\n\u001B[0;32m   1770\u001B[0m \u001B[38;5;28;01mif\u001B[39;00m \u001B[38;5;28mself\u001B[39m\u001B[38;5;241m.\u001B[39m_blit:\n\u001B[0;32m   1772\u001B[0m     err \u001B[38;5;241m=\u001B[39m \u001B[38;5;167;01mRuntimeError\u001B[39;00m(\u001B[38;5;124m'\u001B[39m\u001B[38;5;124mThe animation function must return a sequence \u001B[39m\u001B[38;5;124m'\u001B[39m\n\u001B[0;32m   1773\u001B[0m                        \u001B[38;5;124m'\u001B[39m\u001B[38;5;124mof Artist objects.\u001B[39m\u001B[38;5;124m'\u001B[39m)\n",
      "Cell \u001B[1;32mIn[61], line 22\u001B[0m, in \u001B[0;36mvector_field.<locals>.update\u001B[1;34m(index)\u001B[0m\n\u001B[0;32m     19\u001B[0m image\u001B[38;5;241m.\u001B[39mset_data(frame)\n\u001B[0;32m     21\u001B[0m \u001B[38;5;66;03m# https://stackoverflow.com/questions/19329039/plotting-animated-quivers-in-python\u001B[39;00m\n\u001B[1;32m---> 22\u001B[0m vx, vy \u001B[38;5;241m=\u001B[39m \u001B[43mresults\u001B[49m\u001B[43m[\u001B[49m\u001B[43mindex\u001B[49m\u001B[43m]\u001B[49m[\u001B[38;5;241m2\u001B[39m], results[index][\u001B[38;5;241m3\u001B[39m]\n\u001B[0;32m     23\u001B[0m vx, vy \u001B[38;5;241m=\u001B[39m np\u001B[38;5;241m.\u001B[39mflip(vx, axis\u001B[38;5;241m=\u001B[39m\u001B[38;5;241m0\u001B[39m), np\u001B[38;5;241m.\u001B[39mflip(vy, axis\u001B[38;5;241m=\u001B[39m\u001B[38;5;241m0\u001B[39m)\n\u001B[0;32m     24\u001B[0m scaling \u001B[38;5;241m=\u001B[39m np\u001B[38;5;241m.\u001B[39msqrt(vx \u001B[38;5;241m*\u001B[39m\u001B[38;5;241m*\u001B[39m \u001B[38;5;241m2\u001B[39m \u001B[38;5;241m+\u001B[39m vy \u001B[38;5;241m*\u001B[39m\u001B[38;5;241m*\u001B[39m \u001B[38;5;241m2\u001B[39m) \u001B[38;5;241m-\u001B[39m min_abs\n",
      "\u001B[1;31mIndexError\u001B[0m: index 11 is out of bounds for axis 0 with size 3"
     ]
    },
    {
     "ename": "IndexError",
     "evalue": "index 12 is out of bounds for axis 0 with size 3",
     "output_type": "error",
     "traceback": [
      "\u001B[1;31m---------------------------------------------------------------------------\u001B[0m",
      "\u001B[1;31mIndexError\u001B[0m                                Traceback (most recent call last)",
      "File \u001B[1;32m~\\Documents\\School\\Y4-Q4\\BEP\\openpiv-python-master\\.venv\\Lib\\site-packages\\matplotlib\\backend_bases.py:1233\u001B[0m, in \u001B[0;36mTimerBase._on_timer\u001B[1;34m(self)\u001B[0m\n\u001B[0;32m   1227\u001B[0m \u001B[38;5;250m\u001B[39m\u001B[38;5;124;03m\"\"\"\u001B[39;00m\n\u001B[0;32m   1228\u001B[0m \u001B[38;5;124;03mRuns all function that have been registered as callbacks. Functions\u001B[39;00m\n\u001B[0;32m   1229\u001B[0m \u001B[38;5;124;03mcan return False (or 0) if they should not be called any more. If there\u001B[39;00m\n\u001B[0;32m   1230\u001B[0m \u001B[38;5;124;03mare no callbacks, the timer is automatically stopped.\u001B[39;00m\n\u001B[0;32m   1231\u001B[0m \u001B[38;5;124;03m\"\"\"\u001B[39;00m\n\u001B[0;32m   1232\u001B[0m \u001B[38;5;28;01mfor\u001B[39;00m func, args, kwargs \u001B[38;5;129;01min\u001B[39;00m \u001B[38;5;28mself\u001B[39m\u001B[38;5;241m.\u001B[39mcallbacks:\n\u001B[1;32m-> 1233\u001B[0m     ret \u001B[38;5;241m=\u001B[39m \u001B[43mfunc\u001B[49m\u001B[43m(\u001B[49m\u001B[38;5;241;43m*\u001B[39;49m\u001B[43margs\u001B[49m\u001B[43m,\u001B[49m\u001B[43m \u001B[49m\u001B[38;5;241;43m*\u001B[39;49m\u001B[38;5;241;43m*\u001B[39;49m\u001B[43mkwargs\u001B[49m\u001B[43m)\u001B[49m\n\u001B[0;32m   1234\u001B[0m     \u001B[38;5;66;03m# docstring above explains why we use `if ret == 0` here,\u001B[39;00m\n\u001B[0;32m   1235\u001B[0m     \u001B[38;5;66;03m# instead of `if not ret`.\u001B[39;00m\n\u001B[0;32m   1236\u001B[0m     \u001B[38;5;66;03m# This will also catch `ret == False` as `False == 0`\u001B[39;00m\n\u001B[0;32m   1237\u001B[0m     \u001B[38;5;66;03m# but does not annoy the linters\u001B[39;00m\n\u001B[0;32m   1238\u001B[0m     \u001B[38;5;66;03m# https://docs.python.org/3/library/stdtypes.html#boolean-values\u001B[39;00m\n\u001B[0;32m   1239\u001B[0m     \u001B[38;5;28;01mif\u001B[39;00m ret \u001B[38;5;241m==\u001B[39m \u001B[38;5;241m0\u001B[39m:\n",
      "File \u001B[1;32m~\\Documents\\School\\Y4-Q4\\BEP\\openpiv-python-master\\.venv\\Lib\\site-packages\\matplotlib\\animation.py:1427\u001B[0m, in \u001B[0;36mTimedAnimation._step\u001B[1;34m(self, *args)\u001B[0m\n\u001B[0;32m   1420\u001B[0m \u001B[38;5;250m\u001B[39m\u001B[38;5;124;03m\"\"\"Handler for getting events.\"\"\"\u001B[39;00m\n\u001B[0;32m   1421\u001B[0m \u001B[38;5;66;03m# Extends the _step() method for the Animation class.  If\u001B[39;00m\n\u001B[0;32m   1422\u001B[0m \u001B[38;5;66;03m# Animation._step signals that it reached the end and we want to\u001B[39;00m\n\u001B[0;32m   1423\u001B[0m \u001B[38;5;66;03m# repeat, we refresh the frame sequence and return True. If\u001B[39;00m\n\u001B[0;32m   1424\u001B[0m \u001B[38;5;66;03m# _repeat_delay is set, change the event_source's interval to our loop\u001B[39;00m\n\u001B[0;32m   1425\u001B[0m \u001B[38;5;66;03m# delay and set the callback to one which will then set the interval\u001B[39;00m\n\u001B[0;32m   1426\u001B[0m \u001B[38;5;66;03m# back.\u001B[39;00m\n\u001B[1;32m-> 1427\u001B[0m still_going \u001B[38;5;241m=\u001B[39m \u001B[38;5;28;43msuper\u001B[39;49m\u001B[43m(\u001B[49m\u001B[43m)\u001B[49m\u001B[38;5;241;43m.\u001B[39;49m\u001B[43m_step\u001B[49m\u001B[43m(\u001B[49m\u001B[38;5;241;43m*\u001B[39;49m\u001B[43margs\u001B[49m\u001B[43m)\u001B[49m\n\u001B[0;32m   1428\u001B[0m \u001B[38;5;28;01mif\u001B[39;00m \u001B[38;5;129;01mnot\u001B[39;00m still_going:\n\u001B[0;32m   1429\u001B[0m     \u001B[38;5;28;01mif\u001B[39;00m \u001B[38;5;28mself\u001B[39m\u001B[38;5;241m.\u001B[39m_repeat:\n\u001B[0;32m   1430\u001B[0m         \u001B[38;5;66;03m# Restart the draw loop\u001B[39;00m\n",
      "File \u001B[1;32m~\\Documents\\School\\Y4-Q4\\BEP\\openpiv-python-master\\.venv\\Lib\\site-packages\\matplotlib\\animation.py:1121\u001B[0m, in \u001B[0;36mAnimation._step\u001B[1;34m(self, *args)\u001B[0m\n\u001B[0;32m   1119\u001B[0m \u001B[38;5;28;01mtry\u001B[39;00m:\n\u001B[0;32m   1120\u001B[0m     framedata \u001B[38;5;241m=\u001B[39m \u001B[38;5;28mnext\u001B[39m(\u001B[38;5;28mself\u001B[39m\u001B[38;5;241m.\u001B[39mframe_seq)\n\u001B[1;32m-> 1121\u001B[0m     \u001B[38;5;28;43mself\u001B[39;49m\u001B[38;5;241;43m.\u001B[39;49m\u001B[43m_draw_next_frame\u001B[49m\u001B[43m(\u001B[49m\u001B[43mframedata\u001B[49m\u001B[43m,\u001B[49m\u001B[43m \u001B[49m\u001B[38;5;28;43mself\u001B[39;49m\u001B[38;5;241;43m.\u001B[39;49m\u001B[43m_blit\u001B[49m\u001B[43m)\u001B[49m\n\u001B[0;32m   1122\u001B[0m     \u001B[38;5;28;01mreturn\u001B[39;00m \u001B[38;5;28;01mTrue\u001B[39;00m\n\u001B[0;32m   1123\u001B[0m \u001B[38;5;28;01mexcept\u001B[39;00m \u001B[38;5;167;01mStopIteration\u001B[39;00m:\n",
      "File \u001B[1;32m~\\Documents\\School\\Y4-Q4\\BEP\\openpiv-python-master\\.venv\\Lib\\site-packages\\matplotlib\\animation.py:1140\u001B[0m, in \u001B[0;36mAnimation._draw_next_frame\u001B[1;34m(self, framedata, blit)\u001B[0m\n\u001B[0;32m   1136\u001B[0m \u001B[38;5;28;01mdef\u001B[39;00m \u001B[38;5;21m_draw_next_frame\u001B[39m(\u001B[38;5;28mself\u001B[39m, framedata, blit):\n\u001B[0;32m   1137\u001B[0m     \u001B[38;5;66;03m# Breaks down the drawing of the next frame into steps of pre- and\u001B[39;00m\n\u001B[0;32m   1138\u001B[0m     \u001B[38;5;66;03m# post- draw, as well as the drawing of the frame itself.\u001B[39;00m\n\u001B[0;32m   1139\u001B[0m     \u001B[38;5;28mself\u001B[39m\u001B[38;5;241m.\u001B[39m_pre_draw(framedata, blit)\n\u001B[1;32m-> 1140\u001B[0m     \u001B[38;5;28;43mself\u001B[39;49m\u001B[38;5;241;43m.\u001B[39;49m\u001B[43m_draw_frame\u001B[49m\u001B[43m(\u001B[49m\u001B[43mframedata\u001B[49m\u001B[43m)\u001B[49m\n\u001B[0;32m   1141\u001B[0m     \u001B[38;5;28mself\u001B[39m\u001B[38;5;241m.\u001B[39m_post_draw(framedata, blit)\n",
      "File \u001B[1;32m~\\Documents\\School\\Y4-Q4\\BEP\\openpiv-python-master\\.venv\\Lib\\site-packages\\matplotlib\\animation.py:1768\u001B[0m, in \u001B[0;36mFuncAnimation._draw_frame\u001B[1;34m(self, framedata)\u001B[0m\n\u001B[0;32m   1764\u001B[0m     \u001B[38;5;28mself\u001B[39m\u001B[38;5;241m.\u001B[39m_save_seq \u001B[38;5;241m=\u001B[39m \u001B[38;5;28mself\u001B[39m\u001B[38;5;241m.\u001B[39m_save_seq[\u001B[38;5;241m-\u001B[39m\u001B[38;5;28mself\u001B[39m\u001B[38;5;241m.\u001B[39m_save_count:]\n\u001B[0;32m   1766\u001B[0m \u001B[38;5;66;03m# Call the func with framedata and args. If blitting is desired,\u001B[39;00m\n\u001B[0;32m   1767\u001B[0m \u001B[38;5;66;03m# func needs to return a sequence of any artists that were modified.\u001B[39;00m\n\u001B[1;32m-> 1768\u001B[0m \u001B[38;5;28mself\u001B[39m\u001B[38;5;241m.\u001B[39m_drawn_artists \u001B[38;5;241m=\u001B[39m \u001B[38;5;28;43mself\u001B[39;49m\u001B[38;5;241;43m.\u001B[39;49m\u001B[43m_func\u001B[49m\u001B[43m(\u001B[49m\u001B[43mframedata\u001B[49m\u001B[43m,\u001B[49m\u001B[43m \u001B[49m\u001B[38;5;241;43m*\u001B[39;49m\u001B[38;5;28;43mself\u001B[39;49m\u001B[38;5;241;43m.\u001B[39;49m\u001B[43m_args\u001B[49m\u001B[43m)\u001B[49m\n\u001B[0;32m   1770\u001B[0m \u001B[38;5;28;01mif\u001B[39;00m \u001B[38;5;28mself\u001B[39m\u001B[38;5;241m.\u001B[39m_blit:\n\u001B[0;32m   1772\u001B[0m     err \u001B[38;5;241m=\u001B[39m \u001B[38;5;167;01mRuntimeError\u001B[39;00m(\u001B[38;5;124m'\u001B[39m\u001B[38;5;124mThe animation function must return a sequence \u001B[39m\u001B[38;5;124m'\u001B[39m\n\u001B[0;32m   1773\u001B[0m                        \u001B[38;5;124m'\u001B[39m\u001B[38;5;124mof Artist objects.\u001B[39m\u001B[38;5;124m'\u001B[39m)\n",
      "Cell \u001B[1;32mIn[61], line 22\u001B[0m, in \u001B[0;36mvector_field.<locals>.update\u001B[1;34m(index)\u001B[0m\n\u001B[0;32m     19\u001B[0m image\u001B[38;5;241m.\u001B[39mset_data(frame)\n\u001B[0;32m     21\u001B[0m \u001B[38;5;66;03m# https://stackoverflow.com/questions/19329039/plotting-animated-quivers-in-python\u001B[39;00m\n\u001B[1;32m---> 22\u001B[0m vx, vy \u001B[38;5;241m=\u001B[39m \u001B[43mresults\u001B[49m\u001B[43m[\u001B[49m\u001B[43mindex\u001B[49m\u001B[43m]\u001B[49m[\u001B[38;5;241m2\u001B[39m], results[index][\u001B[38;5;241m3\u001B[39m]\n\u001B[0;32m     23\u001B[0m vx, vy \u001B[38;5;241m=\u001B[39m np\u001B[38;5;241m.\u001B[39mflip(vx, axis\u001B[38;5;241m=\u001B[39m\u001B[38;5;241m0\u001B[39m), np\u001B[38;5;241m.\u001B[39mflip(vy, axis\u001B[38;5;241m=\u001B[39m\u001B[38;5;241m0\u001B[39m)\n\u001B[0;32m     24\u001B[0m scaling \u001B[38;5;241m=\u001B[39m np\u001B[38;5;241m.\u001B[39msqrt(vx \u001B[38;5;241m*\u001B[39m\u001B[38;5;241m*\u001B[39m \u001B[38;5;241m2\u001B[39m \u001B[38;5;241m+\u001B[39m vy \u001B[38;5;241m*\u001B[39m\u001B[38;5;241m*\u001B[39m \u001B[38;5;241m2\u001B[39m) \u001B[38;5;241m-\u001B[39m min_abs\n",
      "\u001B[1;31mIndexError\u001B[0m: index 12 is out of bounds for axis 0 with size 3"
     ]
    },
    {
     "ename": "IndexError",
     "evalue": "index 13 is out of bounds for axis 0 with size 3",
     "output_type": "error",
     "traceback": [
      "\u001B[1;31m---------------------------------------------------------------------------\u001B[0m",
      "\u001B[1;31mIndexError\u001B[0m                                Traceback (most recent call last)",
      "File \u001B[1;32m~\\Documents\\School\\Y4-Q4\\BEP\\openpiv-python-master\\.venv\\Lib\\site-packages\\matplotlib\\backend_bases.py:1233\u001B[0m, in \u001B[0;36mTimerBase._on_timer\u001B[1;34m(self)\u001B[0m\n\u001B[0;32m   1227\u001B[0m \u001B[38;5;250m\u001B[39m\u001B[38;5;124;03m\"\"\"\u001B[39;00m\n\u001B[0;32m   1228\u001B[0m \u001B[38;5;124;03mRuns all function that have been registered as callbacks. Functions\u001B[39;00m\n\u001B[0;32m   1229\u001B[0m \u001B[38;5;124;03mcan return False (or 0) if they should not be called any more. If there\u001B[39;00m\n\u001B[0;32m   1230\u001B[0m \u001B[38;5;124;03mare no callbacks, the timer is automatically stopped.\u001B[39;00m\n\u001B[0;32m   1231\u001B[0m \u001B[38;5;124;03m\"\"\"\u001B[39;00m\n\u001B[0;32m   1232\u001B[0m \u001B[38;5;28;01mfor\u001B[39;00m func, args, kwargs \u001B[38;5;129;01min\u001B[39;00m \u001B[38;5;28mself\u001B[39m\u001B[38;5;241m.\u001B[39mcallbacks:\n\u001B[1;32m-> 1233\u001B[0m     ret \u001B[38;5;241m=\u001B[39m \u001B[43mfunc\u001B[49m\u001B[43m(\u001B[49m\u001B[38;5;241;43m*\u001B[39;49m\u001B[43margs\u001B[49m\u001B[43m,\u001B[49m\u001B[43m \u001B[49m\u001B[38;5;241;43m*\u001B[39;49m\u001B[38;5;241;43m*\u001B[39;49m\u001B[43mkwargs\u001B[49m\u001B[43m)\u001B[49m\n\u001B[0;32m   1234\u001B[0m     \u001B[38;5;66;03m# docstring above explains why we use `if ret == 0` here,\u001B[39;00m\n\u001B[0;32m   1235\u001B[0m     \u001B[38;5;66;03m# instead of `if not ret`.\u001B[39;00m\n\u001B[0;32m   1236\u001B[0m     \u001B[38;5;66;03m# This will also catch `ret == False` as `False == 0`\u001B[39;00m\n\u001B[0;32m   1237\u001B[0m     \u001B[38;5;66;03m# but does not annoy the linters\u001B[39;00m\n\u001B[0;32m   1238\u001B[0m     \u001B[38;5;66;03m# https://docs.python.org/3/library/stdtypes.html#boolean-values\u001B[39;00m\n\u001B[0;32m   1239\u001B[0m     \u001B[38;5;28;01mif\u001B[39;00m ret \u001B[38;5;241m==\u001B[39m \u001B[38;5;241m0\u001B[39m:\n",
      "File \u001B[1;32m~\\Documents\\School\\Y4-Q4\\BEP\\openpiv-python-master\\.venv\\Lib\\site-packages\\matplotlib\\animation.py:1427\u001B[0m, in \u001B[0;36mTimedAnimation._step\u001B[1;34m(self, *args)\u001B[0m\n\u001B[0;32m   1420\u001B[0m \u001B[38;5;250m\u001B[39m\u001B[38;5;124;03m\"\"\"Handler for getting events.\"\"\"\u001B[39;00m\n\u001B[0;32m   1421\u001B[0m \u001B[38;5;66;03m# Extends the _step() method for the Animation class.  If\u001B[39;00m\n\u001B[0;32m   1422\u001B[0m \u001B[38;5;66;03m# Animation._step signals that it reached the end and we want to\u001B[39;00m\n\u001B[0;32m   1423\u001B[0m \u001B[38;5;66;03m# repeat, we refresh the frame sequence and return True. If\u001B[39;00m\n\u001B[0;32m   1424\u001B[0m \u001B[38;5;66;03m# _repeat_delay is set, change the event_source's interval to our loop\u001B[39;00m\n\u001B[0;32m   1425\u001B[0m \u001B[38;5;66;03m# delay and set the callback to one which will then set the interval\u001B[39;00m\n\u001B[0;32m   1426\u001B[0m \u001B[38;5;66;03m# back.\u001B[39;00m\n\u001B[1;32m-> 1427\u001B[0m still_going \u001B[38;5;241m=\u001B[39m \u001B[38;5;28;43msuper\u001B[39;49m\u001B[43m(\u001B[49m\u001B[43m)\u001B[49m\u001B[38;5;241;43m.\u001B[39;49m\u001B[43m_step\u001B[49m\u001B[43m(\u001B[49m\u001B[38;5;241;43m*\u001B[39;49m\u001B[43margs\u001B[49m\u001B[43m)\u001B[49m\n\u001B[0;32m   1428\u001B[0m \u001B[38;5;28;01mif\u001B[39;00m \u001B[38;5;129;01mnot\u001B[39;00m still_going:\n\u001B[0;32m   1429\u001B[0m     \u001B[38;5;28;01mif\u001B[39;00m \u001B[38;5;28mself\u001B[39m\u001B[38;5;241m.\u001B[39m_repeat:\n\u001B[0;32m   1430\u001B[0m         \u001B[38;5;66;03m# Restart the draw loop\u001B[39;00m\n",
      "File \u001B[1;32m~\\Documents\\School\\Y4-Q4\\BEP\\openpiv-python-master\\.venv\\Lib\\site-packages\\matplotlib\\animation.py:1121\u001B[0m, in \u001B[0;36mAnimation._step\u001B[1;34m(self, *args)\u001B[0m\n\u001B[0;32m   1119\u001B[0m \u001B[38;5;28;01mtry\u001B[39;00m:\n\u001B[0;32m   1120\u001B[0m     framedata \u001B[38;5;241m=\u001B[39m \u001B[38;5;28mnext\u001B[39m(\u001B[38;5;28mself\u001B[39m\u001B[38;5;241m.\u001B[39mframe_seq)\n\u001B[1;32m-> 1121\u001B[0m     \u001B[38;5;28;43mself\u001B[39;49m\u001B[38;5;241;43m.\u001B[39;49m\u001B[43m_draw_next_frame\u001B[49m\u001B[43m(\u001B[49m\u001B[43mframedata\u001B[49m\u001B[43m,\u001B[49m\u001B[43m \u001B[49m\u001B[38;5;28;43mself\u001B[39;49m\u001B[38;5;241;43m.\u001B[39;49m\u001B[43m_blit\u001B[49m\u001B[43m)\u001B[49m\n\u001B[0;32m   1122\u001B[0m     \u001B[38;5;28;01mreturn\u001B[39;00m \u001B[38;5;28;01mTrue\u001B[39;00m\n\u001B[0;32m   1123\u001B[0m \u001B[38;5;28;01mexcept\u001B[39;00m \u001B[38;5;167;01mStopIteration\u001B[39;00m:\n",
      "File \u001B[1;32m~\\Documents\\School\\Y4-Q4\\BEP\\openpiv-python-master\\.venv\\Lib\\site-packages\\matplotlib\\animation.py:1140\u001B[0m, in \u001B[0;36mAnimation._draw_next_frame\u001B[1;34m(self, framedata, blit)\u001B[0m\n\u001B[0;32m   1136\u001B[0m \u001B[38;5;28;01mdef\u001B[39;00m \u001B[38;5;21m_draw_next_frame\u001B[39m(\u001B[38;5;28mself\u001B[39m, framedata, blit):\n\u001B[0;32m   1137\u001B[0m     \u001B[38;5;66;03m# Breaks down the drawing of the next frame into steps of pre- and\u001B[39;00m\n\u001B[0;32m   1138\u001B[0m     \u001B[38;5;66;03m# post- draw, as well as the drawing of the frame itself.\u001B[39;00m\n\u001B[0;32m   1139\u001B[0m     \u001B[38;5;28mself\u001B[39m\u001B[38;5;241m.\u001B[39m_pre_draw(framedata, blit)\n\u001B[1;32m-> 1140\u001B[0m     \u001B[38;5;28;43mself\u001B[39;49m\u001B[38;5;241;43m.\u001B[39;49m\u001B[43m_draw_frame\u001B[49m\u001B[43m(\u001B[49m\u001B[43mframedata\u001B[49m\u001B[43m)\u001B[49m\n\u001B[0;32m   1141\u001B[0m     \u001B[38;5;28mself\u001B[39m\u001B[38;5;241m.\u001B[39m_post_draw(framedata, blit)\n",
      "File \u001B[1;32m~\\Documents\\School\\Y4-Q4\\BEP\\openpiv-python-master\\.venv\\Lib\\site-packages\\matplotlib\\animation.py:1768\u001B[0m, in \u001B[0;36mFuncAnimation._draw_frame\u001B[1;34m(self, framedata)\u001B[0m\n\u001B[0;32m   1764\u001B[0m     \u001B[38;5;28mself\u001B[39m\u001B[38;5;241m.\u001B[39m_save_seq \u001B[38;5;241m=\u001B[39m \u001B[38;5;28mself\u001B[39m\u001B[38;5;241m.\u001B[39m_save_seq[\u001B[38;5;241m-\u001B[39m\u001B[38;5;28mself\u001B[39m\u001B[38;5;241m.\u001B[39m_save_count:]\n\u001B[0;32m   1766\u001B[0m \u001B[38;5;66;03m# Call the func with framedata and args. If blitting is desired,\u001B[39;00m\n\u001B[0;32m   1767\u001B[0m \u001B[38;5;66;03m# func needs to return a sequence of any artists that were modified.\u001B[39;00m\n\u001B[1;32m-> 1768\u001B[0m \u001B[38;5;28mself\u001B[39m\u001B[38;5;241m.\u001B[39m_drawn_artists \u001B[38;5;241m=\u001B[39m \u001B[38;5;28;43mself\u001B[39;49m\u001B[38;5;241;43m.\u001B[39;49m\u001B[43m_func\u001B[49m\u001B[43m(\u001B[49m\u001B[43mframedata\u001B[49m\u001B[43m,\u001B[49m\u001B[43m \u001B[49m\u001B[38;5;241;43m*\u001B[39;49m\u001B[38;5;28;43mself\u001B[39;49m\u001B[38;5;241;43m.\u001B[39;49m\u001B[43m_args\u001B[49m\u001B[43m)\u001B[49m\n\u001B[0;32m   1770\u001B[0m \u001B[38;5;28;01mif\u001B[39;00m \u001B[38;5;28mself\u001B[39m\u001B[38;5;241m.\u001B[39m_blit:\n\u001B[0;32m   1772\u001B[0m     err \u001B[38;5;241m=\u001B[39m \u001B[38;5;167;01mRuntimeError\u001B[39;00m(\u001B[38;5;124m'\u001B[39m\u001B[38;5;124mThe animation function must return a sequence \u001B[39m\u001B[38;5;124m'\u001B[39m\n\u001B[0;32m   1773\u001B[0m                        \u001B[38;5;124m'\u001B[39m\u001B[38;5;124mof Artist objects.\u001B[39m\u001B[38;5;124m'\u001B[39m)\n",
      "Cell \u001B[1;32mIn[61], line 22\u001B[0m, in \u001B[0;36mvector_field.<locals>.update\u001B[1;34m(index)\u001B[0m\n\u001B[0;32m     19\u001B[0m image\u001B[38;5;241m.\u001B[39mset_data(frame)\n\u001B[0;32m     21\u001B[0m \u001B[38;5;66;03m# https://stackoverflow.com/questions/19329039/plotting-animated-quivers-in-python\u001B[39;00m\n\u001B[1;32m---> 22\u001B[0m vx, vy \u001B[38;5;241m=\u001B[39m \u001B[43mresults\u001B[49m\u001B[43m[\u001B[49m\u001B[43mindex\u001B[49m\u001B[43m]\u001B[49m[\u001B[38;5;241m2\u001B[39m], results[index][\u001B[38;5;241m3\u001B[39m]\n\u001B[0;32m     23\u001B[0m vx, vy \u001B[38;5;241m=\u001B[39m np\u001B[38;5;241m.\u001B[39mflip(vx, axis\u001B[38;5;241m=\u001B[39m\u001B[38;5;241m0\u001B[39m), np\u001B[38;5;241m.\u001B[39mflip(vy, axis\u001B[38;5;241m=\u001B[39m\u001B[38;5;241m0\u001B[39m)\n\u001B[0;32m     24\u001B[0m scaling \u001B[38;5;241m=\u001B[39m np\u001B[38;5;241m.\u001B[39msqrt(vx \u001B[38;5;241m*\u001B[39m\u001B[38;5;241m*\u001B[39m \u001B[38;5;241m2\u001B[39m \u001B[38;5;241m+\u001B[39m vy \u001B[38;5;241m*\u001B[39m\u001B[38;5;241m*\u001B[39m \u001B[38;5;241m2\u001B[39m) \u001B[38;5;241m-\u001B[39m min_abs\n",
      "\u001B[1;31mIndexError\u001B[0m: index 13 is out of bounds for axis 0 with size 3"
     ]
    }
   ],
   "execution_count": 62
  }
 ],
 "metadata": {
  "kernelspec": {
   "display_name": "Python 3",
   "language": "python",
   "name": "python3"
  },
  "language_info": {
   "codemirror_mode": {
    "name": "ipython",
    "version": 2
   },
   "file_extension": ".py",
   "mimetype": "text/x-python",
   "name": "python",
   "nbconvert_exporter": "python",
   "pygments_lexer": "ipython2",
   "version": "2.7.6"
  }
 },
 "nbformat": 4,
 "nbformat_minor": 5
}
