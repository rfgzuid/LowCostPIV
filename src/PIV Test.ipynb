{
 "cells": [
  {
   "cell_type": "code",
   "id": "initial_id",
   "metadata": {
    "collapsed": true,
    "ExecuteTime": {
     "end_time": "2024-05-22T14:16:03.681505900Z",
     "start_time": "2024-05-22T14:15:58.908103200Z"
    }
   },
   "source": [
    "from SIV_library.lib import block_match, moving_window_array, correlation_to_displacement, get_field_shape, get_x_y, SIVDataset\n",
    "from torchPIV.PIVbackend import OfflinePIV\n",
    "from SIV_library.optical_flow_2021 import HornSchunck\n",
    "\n",
    "import os\n",
    "import sys\n",
    "import torch\n",
    "import numpy as np\n",
    "import matplotlib.pyplot as plt\n",
    "\n",
    "os.environ[\"OPENCV_IO_ENABLE_OPENEXR\"]=\"1\"\n",
    "sys.path.append(\"../../\")\n",
    "\n",
    "%load_ext autoreload\n",
    "%autoreload 2"
   ],
   "outputs": [],
   "execution_count": 1
  },
  {
   "metadata": {
    "ExecuteTime": {
     "end_time": "2024-05-22T14:16:03.797211200Z",
     "start_time": "2024-05-22T14:16:03.681505900Z"
    }
   },
   "cell_type": "code",
   "source": [
    "device = \"cuda\" if torch.cuda.is_available() else \"cpu\"\n",
    "print(device)\n",
    "\n",
    "device = \"cpu\"\n",
    "if device == \"cuda\":\n",
    "    torch.cuda.empty_cache()\n",
    "\n",
    "dataset = SIVDataset(\"../Test Data/Cilinder_PROCESSED\", None)  # (300, 2500, 400, 1600)"
   ],
   "id": "889bbed85a67904b",
   "outputs": [
    {
     "name": "stdout",
     "output_type": "stream",
     "text": [
      "cuda\n"
     ]
    }
   ],
   "execution_count": 2
  },
  {
   "metadata": {
    "ExecuteTime": {
     "end_time": "2024-05-22T14:26:50.893960300Z",
     "start_time": "2024-05-22T14:26:50.777575700Z"
    }
   },
   "cell_type": "code",
   "source": [
    "def vector_field(lib_res, corr_res, sad_res, opt_res) -> None:\n",
    "    fig, (lib, corr, sad, opt) = plt.subplots(1, 4)\n",
    " \n",
    "    frame = dataset[0][0].cpu().numpy()\n",
    "    lib.imshow(frame, cmap='gray')\n",
    "    corr.imshow(frame, cmap='gray')\n",
    "    sad.imshow(frame, cmap='gray')\n",
    "    opt.imshow(frame, cmap='gray')\n",
    "    \n",
    "    lib_res[1] = np.flip(lib_res[1], axis=0)\n",
    "    corr_res[3] *= -1\n",
    "    sad_res[3] *= -1\n",
    "    \n",
    "    lib.quiver(*lib_res, color='red', scale=10, scale_units='xy')\n",
    "    corr.quiver(*corr_res, color='red', scale=1, scale_units='xy')\n",
    "    sad.quiver(*sad_res, color='red', scale=0.3, scale_units='xy')\n",
    "    opt.quiver(*opt_res, color='red', scale=0.03, scale_units='xy')\n",
    "    \n",
    "    lib.set_title('TorchPIV')\n",
    "    corr.set_title('Correlation')\n",
    "    sad.set_title('SAD')\n",
    "    opt.set_title('Horn-Schunck')\n",
    "    \n",
    "    lib.set_axis_off()\n",
    "    corr.set_axis_off()\n",
    "    sad.set_axis_off()\n",
    "    opt.set_axis_off()\n",
    "    \n",
    "    fig.tight_layout()\n",
    "    plt.show()"
   ],
   "id": "a5218ac6523100e0",
   "outputs": [],
   "execution_count": 28
  },
  {
   "metadata": {
    "ExecuteTime": {
     "end_time": "2024-05-22T14:53:17.965829300Z",
     "start_time": "2024-05-22T14:53:15.319971100Z"
    }
   },
   "cell_type": "code",
   "source": [
    "def all_frames(window_size, overlap):\n",
    "    piv_gen = OfflinePIV(\n",
    "                folder=\"../Test Data/Cilinder_PROCESSED\",\n",
    "                device=torch.cuda.get_device_name(),\n",
    "                file_fmt=\"jpg\",\n",
    "                wind_size=window_size,\n",
    "                overlap=overlap,\n",
    "                dt=12,\n",
    "                scale = 1.,\n",
    "                multipass=2,\n",
    "                multipass_mode=\"DWS\",\n",
    "                multipass_scale=2.,\n",
    "                folder_mode=\"sequential\"\n",
    "            )\n",
    "    piv_gen._dataset = dataset\n",
    "    \n",
    "    hs = HornSchunck([dataset[0]], 100., 10, device)\n",
    "    \n",
    "    for idx, data in enumerate(dataset):\n",
    "        if idx == 0:\n",
    "            image_a, image_b = data\n",
    "            image_a, image_b = image_a.to(device), image_b.to(device)\n",
    "            \n",
    "            n_rows, n_cols = get_field_shape(image_a.shape, window_size, overlap)\n",
    "            window = moving_window_array(image_a, window_size, overlap)\n",
    "            \n",
    "            area = moving_window_array(image_b, window_size, overlap, area=(30, 30, 30, 30))\n",
    "            \n",
    "            x, y= get_x_y(image_a.shape, window_size, overlap)\n",
    "            x, y = x.reshape(n_rows, n_cols), y.reshape(n_rows, n_cols)\n",
    "            \n",
    "            hs.optical_flow()\n",
    "            u_o, v_o = hs.velocities[0, 0][y, x], hs.velocities[0, 1][y, x]\n",
    "            \n",
    "            lib = next(piv_gen())\n",
    "            \n",
    "            corr = block_match(window, area, 0)\n",
    "            u_c, v_c = correlation_to_displacement(corr, n_rows, n_cols, 0)\n",
    "            \n",
    "            sad = block_match(window, area, 1)\n",
    "            u_s, v_s = correlation_to_displacement(sad, n_rows, n_cols, 1)\n",
    "            \n",
    "            lib_res, corr_res, sad_res, opt_res = np.array(lib), np.array((x, y, u_c, v_c)), np.array((x, y, u_s, v_s)), np.array((x, y, u_o, v_o))\n",
    "    return lib_res, corr_res, sad_res, opt_res"
   ],
   "id": "82b1cd5e051c8e24",
   "outputs": [],
   "execution_count": 51
  },
  {
   "metadata": {
    "ExecuteTime": {
     "end_time": "2024-05-22T14:55:58.366934700Z",
     "start_time": "2024-05-22T14:53:17.967894200Z"
    }
   },
   "cell_type": "code",
   "source": [
    "lib_res, corr_res, sad_res, opt_res = all_frames(64, 32)"
   ],
   "id": "45ee868d5cab4b55",
   "outputs": [
    {
     "name": "stderr",
     "output_type": "stream",
     "text": [
      "100%|██████████| 1/1 [00:00<00:00,  1.20it/s]\n"
     ]
    },
    {
     "name": "stdout",
     "output_type": "stream",
     "text": [
      "Load time 0.036 sec Iteration finished in 0.066 sec "
     ]
    },
    {
     "name": "stderr",
     "output_type": "stream",
     "text": [
      "Correlation: 100%|██████████| 1888/1888 [00:03<00:00, 563.70it/s]\n",
      "SAD: 100%|██████████| 61/61 [01:09<00:00,  1.13s/it]\n"
     ]
    },
    {
     "ename": "KeyboardInterrupt",
     "evalue": "",
     "output_type": "error",
     "traceback": [
      "\u001B[1;31m---------------------------------------------------------------------------\u001B[0m",
      "\u001B[1;31mKeyboardInterrupt\u001B[0m                         Traceback (most recent call last)",
      "Cell \u001B[1;32mIn[52], line 1\u001B[0m\n\u001B[1;32m----> 1\u001B[0m lib_res, corr_res, sad_res, opt_res \u001B[38;5;241m=\u001B[39m \u001B[43mall_frames\u001B[49m\u001B[43m(\u001B[49m\u001B[38;5;241;43m64\u001B[39;49m\u001B[43m,\u001B[49m\u001B[43m \u001B[49m\u001B[38;5;241;43m32\u001B[39;49m\u001B[43m)\u001B[49m\n",
      "Cell \u001B[1;32mIn[51], line 41\u001B[0m, in \u001B[0;36mall_frames\u001B[1;34m(window_size, overlap)\u001B[0m\n\u001B[0;32m     38\u001B[0m         u_c, v_c \u001B[38;5;241m=\u001B[39m correlation_to_displacement(corr, n_rows, n_cols, \u001B[38;5;241m0\u001B[39m)\n\u001B[0;32m     40\u001B[0m         sad \u001B[38;5;241m=\u001B[39m block_match(window, area, \u001B[38;5;241m1\u001B[39m)\n\u001B[1;32m---> 41\u001B[0m         u_s, v_s \u001B[38;5;241m=\u001B[39m \u001B[43mcorrelation_to_displacement\u001B[49m\u001B[43m(\u001B[49m\u001B[43msad\u001B[49m\u001B[43m,\u001B[49m\u001B[43m \u001B[49m\u001B[43mn_rows\u001B[49m\u001B[43m,\u001B[49m\u001B[43m \u001B[49m\u001B[43mn_cols\u001B[49m\u001B[43m,\u001B[49m\u001B[43m \u001B[49m\u001B[38;5;241;43m1\u001B[39;49m\u001B[43m)\u001B[49m\n\u001B[0;32m     43\u001B[0m         lib_res, corr_res, sad_res, opt_res \u001B[38;5;241m=\u001B[39m np\u001B[38;5;241m.\u001B[39marray(lib), np\u001B[38;5;241m.\u001B[39marray((x, y, u_c, v_c)), np\u001B[38;5;241m.\u001B[39marray((x, y, u_s, v_s)), np\u001B[38;5;241m.\u001B[39marray((x, y, u_o, v_o))\n\u001B[0;32m     44\u001B[0m \u001B[38;5;28;01mreturn\u001B[39;00m lib_res, corr_res, sad_res, opt_res\n",
      "File \u001B[1;32m~\\PycharmProjects\\LowCostPIV\\src\\SIV_library\\lib.py:98\u001B[0m, in \u001B[0;36mcorrelation_to_displacement\u001B[1;34m(corr, n_rows, n_cols, mode)\u001B[0m\n\u001B[0;32m     96\u001B[0m         ax\u001B[38;5;241m.\u001B[39mplot_surface(x, y, field\u001B[38;5;241m.\u001B[39mnumpy(), color\u001B[38;5;241m=\u001B[39m\u001B[38;5;124m'\u001B[39m\u001B[38;5;124mb\u001B[39m\u001B[38;5;124m'\u001B[39m, alpha\u001B[38;5;241m=\u001B[39m\u001B[38;5;241m0.5\u001B[39m, label\u001B[38;5;241m=\u001B[39m\u001B[38;5;124m'\u001B[39m\u001B[38;5;124mcorrelation\u001B[39m\u001B[38;5;124m'\u001B[39m)\n\u001B[0;32m     97\u001B[0m         ax\u001B[38;5;241m.\u001B[39mscatter(col_idx\u001B[38;5;241m-\u001B[39mcols\u001B[38;5;241m/\u001B[39m\u001B[38;5;241m2\u001B[39m, row_idx\u001B[38;5;241m-\u001B[39mrows\u001B[38;5;241m/\u001B[39m\u001B[38;5;241m2\u001B[39m, peak_val, color\u001B[38;5;241m=\u001B[39m\u001B[38;5;124m'\u001B[39m\u001B[38;5;124mr\u001B[39m\u001B[38;5;124m'\u001B[39m)\n\u001B[1;32m---> 98\u001B[0m         \u001B[43mplt\u001B[49m\u001B[38;5;241;43m.\u001B[39;49m\u001B[43mshow\u001B[49m\u001B[43m(\u001B[49m\u001B[43m)\u001B[49m\n\u001B[0;32m    100\u001B[0m     neighbors[idx] \u001B[38;5;241m=\u001B[39m torch\u001B[38;5;241m.\u001B[39mtensor(field[row_idx\u001B[38;5;241m-\u001B[39m\u001B[38;5;241m1\u001B[39m:row_idx\u001B[38;5;241m+\u001B[39m\u001B[38;5;241m2\u001B[39m, col_idx\u001B[38;5;241m-\u001B[39m\u001B[38;5;241m1\u001B[39m:col_idx\u001B[38;5;241m+\u001B[39m\u001B[38;5;241m2\u001B[39m])\n\u001B[0;32m    102\u001B[0m \u001B[38;5;66;03m# Gaussian interpolation for correlation\u001B[39;00m\n",
      "File \u001B[1;32m~\\AppData\\Local\\Programs\\Python\\Python311\\Lib\\site-packages\\matplotlib\\pyplot.py:527\u001B[0m, in \u001B[0;36mshow\u001B[1;34m(*args, **kwargs)\u001B[0m\n\u001B[0;32m    483\u001B[0m \u001B[38;5;250m\u001B[39m\u001B[38;5;124;03m\"\"\"\u001B[39;00m\n\u001B[0;32m    484\u001B[0m \u001B[38;5;124;03mDisplay all open figures.\u001B[39;00m\n\u001B[0;32m    485\u001B[0m \n\u001B[1;32m   (...)\u001B[0m\n\u001B[0;32m    524\u001B[0m \u001B[38;5;124;03mexplicitly there.\u001B[39;00m\n\u001B[0;32m    525\u001B[0m \u001B[38;5;124;03m\"\"\"\u001B[39;00m\n\u001B[0;32m    526\u001B[0m _warn_if_gui_out_of_main_thread()\n\u001B[1;32m--> 527\u001B[0m \u001B[38;5;28;01mreturn\u001B[39;00m \u001B[43m_get_backend_mod\u001B[49m\u001B[43m(\u001B[49m\u001B[43m)\u001B[49m\u001B[38;5;241;43m.\u001B[39;49m\u001B[43mshow\u001B[49m\u001B[43m(\u001B[49m\u001B[38;5;241;43m*\u001B[39;49m\u001B[43margs\u001B[49m\u001B[43m,\u001B[49m\u001B[43m \u001B[49m\u001B[38;5;241;43m*\u001B[39;49m\u001B[38;5;241;43m*\u001B[39;49m\u001B[43mkwargs\u001B[49m\u001B[43m)\u001B[49m\n",
      "File \u001B[1;32m~\\AppData\\Local\\Programs\\Python\\Python311\\Lib\\site-packages\\matplotlib\\backend_bases.py:3442\u001B[0m, in \u001B[0;36m_Backend.show\u001B[1;34m(cls, block)\u001B[0m\n\u001B[0;32m   3440\u001B[0m     block \u001B[38;5;241m=\u001B[39m \u001B[38;5;129;01mnot\u001B[39;00m ipython_pylab \u001B[38;5;129;01mand\u001B[39;00m \u001B[38;5;129;01mnot\u001B[39;00m is_interactive()\n\u001B[0;32m   3441\u001B[0m \u001B[38;5;28;01mif\u001B[39;00m block:\n\u001B[1;32m-> 3442\u001B[0m     \u001B[38;5;28;43mcls\u001B[39;49m\u001B[38;5;241;43m.\u001B[39;49m\u001B[43mmainloop\u001B[49m\u001B[43m(\u001B[49m\u001B[43m)\u001B[49m\n",
      "File \u001B[1;32m~\\AppData\\Local\\Programs\\Python\\Python311\\Lib\\site-packages\\matplotlib\\backends\\backend_qt.py:593\u001B[0m, in \u001B[0;36mFigureManagerQT.start_main_loop\u001B[1;34m(cls)\u001B[0m\n\u001B[0;32m    591\u001B[0m qapp \u001B[38;5;241m=\u001B[39m QtWidgets\u001B[38;5;241m.\u001B[39mQApplication\u001B[38;5;241m.\u001B[39minstance()\n\u001B[0;32m    592\u001B[0m \u001B[38;5;28;01mif\u001B[39;00m qapp:\n\u001B[1;32m--> 593\u001B[0m \u001B[43m    \u001B[49m\u001B[38;5;28;43;01mwith\u001B[39;49;00m\u001B[43m \u001B[49m\u001B[43m_maybe_allow_interrupt\u001B[49m\u001B[43m(\u001B[49m\u001B[43mqapp\u001B[49m\u001B[43m)\u001B[49m\u001B[43m:\u001B[49m\n\u001B[0;32m    594\u001B[0m \u001B[43m        \u001B[49m\u001B[43mqt_compat\u001B[49m\u001B[38;5;241;43m.\u001B[39;49m\u001B[43m_exec\u001B[49m\u001B[43m(\u001B[49m\u001B[43mqapp\u001B[49m\u001B[43m)\u001B[49m\n",
      "File \u001B[1;32m~\\AppData\\Local\\Programs\\Python\\Python311\\Lib\\contextlib.py:144\u001B[0m, in \u001B[0;36m_GeneratorContextManager.__exit__\u001B[1;34m(self, typ, value, traceback)\u001B[0m\n\u001B[0;32m    142\u001B[0m \u001B[38;5;28;01mif\u001B[39;00m typ \u001B[38;5;129;01mis\u001B[39;00m \u001B[38;5;28;01mNone\u001B[39;00m:\n\u001B[0;32m    143\u001B[0m     \u001B[38;5;28;01mtry\u001B[39;00m:\n\u001B[1;32m--> 144\u001B[0m         \u001B[38;5;28mnext\u001B[39m(\u001B[38;5;28mself\u001B[39m\u001B[38;5;241m.\u001B[39mgen)\n\u001B[0;32m    145\u001B[0m     \u001B[38;5;28;01mexcept\u001B[39;00m \u001B[38;5;167;01mStopIteration\u001B[39;00m:\n\u001B[0;32m    146\u001B[0m         \u001B[38;5;28;01mreturn\u001B[39;00m \u001B[38;5;28;01mFalse\u001B[39;00m\n",
      "File \u001B[1;32m~\\AppData\\Local\\Programs\\Python\\Python311\\Lib\\site-packages\\matplotlib\\backends\\qt_compat.py:230\u001B[0m, in \u001B[0;36m_maybe_allow_interrupt\u001B[1;34m(qapp)\u001B[0m\n\u001B[0;32m    228\u001B[0m signal\u001B[38;5;241m.\u001B[39msignal(signal\u001B[38;5;241m.\u001B[39mSIGINT, old_sigint_handler)\n\u001B[0;32m    229\u001B[0m \u001B[38;5;28;01mif\u001B[39;00m handler_args \u001B[38;5;129;01mis\u001B[39;00m \u001B[38;5;129;01mnot\u001B[39;00m \u001B[38;5;28;01mNone\u001B[39;00m:\n\u001B[1;32m--> 230\u001B[0m     \u001B[43mold_sigint_handler\u001B[49m\u001B[43m(\u001B[49m\u001B[38;5;241;43m*\u001B[39;49m\u001B[43mhandler_args\u001B[49m\u001B[43m)\u001B[49m\n",
      "\u001B[1;31mKeyboardInterrupt\u001B[0m: "
     ]
    }
   ],
   "execution_count": 52
  },
  {
   "metadata": {
    "ExecuteTime": {
     "end_time": "2024-05-22T14:37:22.048588500Z",
     "start_time": "2024-05-22T14:35:40.753135600Z"
    }
   },
   "cell_type": "code",
   "source": [
    "vector_field(lib_res, corr_res, sad_res, opt_res)"
   ],
   "id": "558fb317b4527aa9",
   "outputs": [],
   "execution_count": 43
  },
  {
   "cell_type": "code",
   "outputs": [],
   "source": [],
   "metadata": {
    "collapsed": false
   },
   "id": "f13df8f953dffdde"
  }
 ],
 "metadata": {
  "kernelspec": {
   "display_name": "Python 3",
   "language": "python",
   "name": "python3"
  },
  "language_info": {
   "codemirror_mode": {
    "name": "ipython",
    "version": 2
   },
   "file_extension": ".py",
   "mimetype": "text/x-python",
   "name": "python",
   "nbconvert_exporter": "python",
   "pygments_lexer": "ipython2",
   "version": "2.7.6"
  }
 },
 "nbformat": 4,
 "nbformat_minor": 5
}
