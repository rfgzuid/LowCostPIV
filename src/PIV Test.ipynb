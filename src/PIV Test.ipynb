{
 "cells": [
  {
   "cell_type": "code",
   "id": "initial_id",
   "metadata": {
    "collapsed": true,
    "ExecuteTime": {
     "end_time": "2024-05-21T10:30:18.558446500Z",
     "start_time": "2024-05-21T10:30:18.444712800Z"
    }
   },
   "source": [
    "from torchPIV.PIVbackend import ToTensor, PIVDataset, moving_window_array\n",
    "from SIV_library.lib import block_match, moving_reference_array, correlation_to_displacement, get_field_shape, get_x_y\n",
    "\n",
    "import os\n",
    "import sys\n",
    "import cv2\n",
    "import torch\n",
    "import numpy as np\n",
    "import matplotlib.pyplot as plt\n",
    "import matplotlib.animation as animation\n",
    "\n",
    "os.environ[\"OPENCV_IO_ENABLE_OPENEXR\"]=\"1\"\n",
    "sys.path.append(\"../../\")\n",
    "\n",
    "%load_ext autoreload\n",
    "%autoreload 2"
   ],
   "outputs": [
    {
     "name": "stdout",
     "output_type": "stream",
     "text": [
      "The autoreload extension is already loaded. To reload it, use:\n",
      "  %reload_ext autoreload\n"
     ]
    }
   ],
   "execution_count": 65
  },
  {
   "metadata": {
    "ExecuteTime": {
     "end_time": "2024-05-21T10:01:42.003151400Z",
     "start_time": "2024-05-21T10:01:41.898349500Z"
    }
   },
   "cell_type": "code",
   "source": [
    "device = \"cuda\" if torch.cuda.is_available() else \"cpu\"\n",
    "device = \"cpu\"\n",
    "\n",
    "dataset = PIVDataset(\"../Test Data/plume simulation_PROCESSED\", \".jpg\",\n",
    "                     \"sequential\", transform=ToTensor(dtype=torch.uint8))"
   ],
   "id": "889bbed85a67904b",
   "outputs": [],
   "execution_count": 5
  },
  {
   "metadata": {
    "ExecuteTime": {
     "end_time": "2024-05-21T10:29:15.126264900Z",
     "start_time": "2024-05-21T10:29:15.017867300Z"
    }
   },
   "cell_type": "code",
   "source": [
    "def vector_field_l(foldername: str, results: np.ndarray, scale: float, playback_fps = 60.) -> None:\n",
    "    fig, ax = plt.subplots()\n",
    "\n",
    "    velocities = results[:, 2:]\n",
    "    abs_velocities = np.sqrt(velocities[:, 0]**2 + velocities[:, 1]**2)\n",
    "    min_abs, max_abs = np.min(abs_velocities, axis=0), np.max(abs_velocities, axis=0)\n",
    "    frames = os.listdir(foldername)\n",
    "    frame = cv2.imread(rf\"{foldername}/{frames[0]}\", cv2.IMREAD_GRAYSCALE)\n",
    "    image = ax.imshow(frame, cmap='gray')\n",
    "\n",
    "    x0, y0, vx0, vy0 = results[0]\n",
    "    vy0 = -vy0\n",
    "    vectors = ax.quiver(x0, y0, vx0, vy0, max_abs-min_abs, cmap='jet', scale=scale, scale_units='xy')\n",
    "    def update(index):\n",
    "        frame = cv2.imread(rf\"{foldername}/{frames[index]}\", cv2.IMREAD_GRAYSCALE)\n",
    "        image.set_data(frame)\n",
    "\n",
    "        vx, vy = results[index][2], results[index][3]\n",
    "        vy = -vy\n",
    "        abs_vel = np.sqrt(vx**2 + vy**2)\n",
    "        vectors.set_UVC(vx, vy, abs_vel-min_abs)\n",
    "\n",
    "        return image, vectors\n",
    "\n",
    "    _ = animation.FuncAnimation(fig=fig, func=update, frames=results.shape[0], interval=1000/playback_fps)\n",
    "\n",
    "    plt.show()"
   ],
   "id": "a5218ac6523100e0",
   "outputs": [],
   "execution_count": 59
  },
  {
   "metadata": {
    "ExecuteTime": {
     "end_time": "2024-05-21T10:29:15.294989700Z",
     "start_time": "2024-05-21T10:29:15.195366300Z"
    }
   },
   "cell_type": "code",
   "source": [
    "def all_frames(window_size, overlap, match_mode = 0, interp_mode = 0):\n",
    "    results = []\n",
    "    for i in range(50, 51, 1):\n",
    "        image_a, image_b = dataset[i]\n",
    "        \n",
    "        n_rows, n_cols = get_field_shape(image_a.shape, window_size, overlap)\n",
    "        window = moving_window_array(image_a, window_size, overlap)\n",
    "        \n",
    "        area = moving_reference_array(image_b, window_size, overlap, left=10, right=10, top=10, bottom=10)\n",
    "        correl = block_match(window, area, match_mode)\n",
    "        u, v = correlation_to_displacement(correl, n_rows, n_cols, interp_mode)\n",
    "\n",
    "        x, y= get_x_y(image_a.shape, window_size, overlap)\n",
    "        x, y = x.reshape(n_rows, n_cols), y.reshape(n_rows, n_cols)\n",
    "        \n",
    "        results.append((x, y, u, v))\n",
    "    return np.array(results)"
   ],
   "id": "82b1cd5e051c8e24",
   "outputs": [],
   "execution_count": 60
  },
  {
   "metadata": {
    "ExecuteTime": {
     "end_time": "2024-05-21T10:30:17.270548600Z",
     "start_time": "2024-05-21T10:30:12.876312700Z"
    }
   },
   "cell_type": "code",
   "source": [
    "xx_x = all_frames(64, 32, match_mode=0, interp_mode=0)"
   ],
   "id": "45ee868d5cab4b55",
   "outputs": [
    {
     "name": "stderr",
     "output_type": "stream",
     "text": [
      "100%|██████████| 3969/3969 [00:01<00:00, 2130.01it/s]\n"
     ]
    },
    {
     "name": "stdout",
     "output_type": "stream",
     "text": [
      "torch.Size([3969, 1])\n",
      "tensor([[[0., 0., 0.],\n",
      "         [0., 0., 0.],\n",
      "         [0., 0., 0.]],\n",
      "\n",
      "        [[0., 0., 0.],\n",
      "         [0., 0., 0.],\n",
      "         [0., 0., 0.]],\n",
      "\n",
      "        [[0., 0., 0.],\n",
      "         [0., 0., 0.],\n",
      "         [0., 0., 0.]],\n",
      "\n",
      "        ...,\n",
      "\n",
      "        [[0., 0., 0.],\n",
      "         [0., 0., 0.],\n",
      "         [0., 0., 0.]],\n",
      "\n",
      "        [[0., 0., 0.],\n",
      "         [0., 0., 0.],\n",
      "         [0., 0., 0.]],\n",
      "\n",
      "        [[0., 0., 0.],\n",
      "         [0., 0., 0.],\n",
      "         [0., 0., 0.]]])\n"
     ]
    },
    {
     "name": "stderr",
     "output_type": "stream",
     "text": [
      "100%|██████████| 3969/3969 [00:01<00:00, 2206.21it/s]\n"
     ]
    },
    {
     "name": "stdout",
     "output_type": "stream",
     "text": [
      "torch.Size([3969, 1])\n",
      "tensor([[[0., 0., 0.],\n",
      "         [0., 0., 0.],\n",
      "         [0., 0., 0.]],\n",
      "\n",
      "        [[0., 0., 0.],\n",
      "         [0., 0., 0.],\n",
      "         [0., 0., 0.]],\n",
      "\n",
      "        [[0., 0., 0.],\n",
      "         [0., 0., 0.],\n",
      "         [0., 0., 0.]],\n",
      "\n",
      "        ...,\n",
      "\n",
      "        [[0., 0., 0.],\n",
      "         [0., 0., 0.],\n",
      "         [0., 0., 0.]],\n",
      "\n",
      "        [[0., 0., 0.],\n",
      "         [0., 0., 0.],\n",
      "         [0., 0., 0.]],\n",
      "\n",
      "        [[0., 0., 0.],\n",
      "         [0., 0., 0.],\n",
      "         [0., 0., 0.]]])\n"
     ]
    }
   ],
   "execution_count": 64
  },
  {
   "metadata": {
    "ExecuteTime": {
     "end_time": "2024-05-21T10:27:28.630976100Z",
     "start_time": "2024-05-21T10:27:09.966485400Z"
    }
   },
   "cell_type": "code",
   "source": [
    "fn = \"../Test Data/plume simulation_PROCESSED\"\n",
    "vector_field_l(fn, xx_x, 0.5)"
   ],
   "id": "558fb317b4527aa9",
   "outputs": [],
   "execution_count": 58
  }
 ],
 "metadata": {
  "kernelspec": {
   "display_name": "Python 3",
   "language": "python",
   "name": "python3"
  },
  "language_info": {
   "codemirror_mode": {
    "name": "ipython",
    "version": 2
   },
   "file_extension": ".py",
   "mimetype": "text/x-python",
   "name": "python",
   "nbconvert_exporter": "python",
   "pygments_lexer": "ipython2",
   "version": "2.7.6"
  }
 },
 "nbformat": 4,
 "nbformat_minor": 5
}
