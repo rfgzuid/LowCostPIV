{
 "cells": [
  {
   "cell_type": "code",
   "id": "initial_id",
   "metadata": {
    "collapsed": true,
    "ExecuteTime": {
     "end_time": "2024-05-21T09:37:34.698820Z",
     "start_time": "2024-05-21T09:37:34.250759Z"
    }
   },
   "source": [
    "from torchPIV.PIVbackend import ToTensor, PIVDataset, moving_window_array\n",
    "from SIV_library.lib import block_match, moving_reference_array, match_to_displacement, correlation_to_displacement, get_field_shape, get_x_y, plot_velocity_single_frame\n",
    "from SIV_library.processing import Video, Processor, Viewer\n",
    "\n",
    "import os\n",
    "import sys\n",
    "import cv2\n",
    "import torch\n",
    "import numpy as np\n",
    "import matplotlib.pyplot as plt\n",
    "import matplotlib.animation as animation\n",
    "from scipy.interpolate import RegularGridInterpolator\n",
    "from tqdm import tqdm\n",
    "\n",
    "from collections.abc import Collection\n",
    "\n",
    "\n",
    "os.environ[\"OPENCV_IO_ENABLE_OPENEXR\"]=\"1\"\n",
    "sys.path.append(\"../../\")\n",
    "import helpers\n",
    "\n",
    "\n",
    "%load_ext autoreload\n",
    "%autoreload 2"
   ],
   "outputs": [
    {
     "name": "stdout",
     "output_type": "stream",
     "text": [
      "The autoreload extension is already loaded. To reload it, use:\n",
      "  %reload_ext autoreload\n"
     ]
    }
   ],
   "execution_count": 44
  },
  {
   "metadata": {
    "ExecuteTime": {
     "end_time": "2024-05-21T08:41:18.664235Z",
     "start_time": "2024-05-21T08:41:18.364695Z"
    }
   },
   "cell_type": "code",
   "source": [
    "device = \"cuda\" if torch.cuda.is_available() else \"cpu\"\n",
    "device = \"cpu\"\n",
    "\n",
    "dataset = PIVDataset(\"../Test Data/plume simulation_PROCESSED\", \".jpg\",\n",
    "                     \"sequential\", transform=ToTensor(dtype=torch.uint8))"
   ],
   "id": "889bbed85a67904b",
   "outputs": [],
   "execution_count": 6
  },
  {
   "metadata": {
    "ExecuteTime": {
     "end_time": "2024-05-20T22:57:14.031820Z",
     "start_time": "2024-05-20T22:57:13.707997Z"
    }
   },
   "cell_type": "code",
   "source": [
    "# testing_0 = helpers.imread_normalized_float_grayscale(os.path.join(\"../Test Data/test\", \"0.jpg\"))\n",
    "# testing_0 = np.where(testing_0 > 0.5, 1.0, 0.0)  # TEMPORARY, TO MAKE TEST MORE IDEAL\n",
    "# testing_1 = helpers.imread_normalized_float_grayscale(os.path.join(\"../Test Data/test\", \"1.jpg\"))\n",
    "# testing_1 = np.where(testing_1 > 0.5, 1.0, 0.0)  # TEMPORARY, TO MAKE TEST MORE IDEAL"
   ],
   "id": "7eaa354fa03cdbc9",
   "outputs": [],
   "execution_count": 3
  },
  {
   "metadata": {
    "ExecuteTime": {
     "end_time": "2024-05-21T08:41:21.731280Z",
     "start_time": "2024-05-21T08:41:20.676573Z"
    }
   },
   "cell_type": "code",
   "source": [
    "img_a, img_b = dataset[1]\n",
    "img_a, img_b = img_a.to(device), img_b.to(device)\n",
    "\n",
    "# img_a, img_b = torch.from_numpy(testing_0), torch.from_numpy(testing_1)\n",
    "window_size, overlap = 64, 32 \n",
    "aa = moving_window_array(img_a, window_size, overlap)\n",
    "\n",
    "window_amount = aa.shape[0]\n",
    "print(window_amount, 'windows')"
   ],
   "id": "159c490cc541ffa6",
   "outputs": [
    {
     "name": "stdout",
     "output_type": "stream",
     "text": [
      "3969 windows\n"
     ]
    }
   ],
   "execution_count": 7
  },
  {
   "metadata": {
    "ExecuteTime": {
     "end_time": "2024-05-21T08:41:40.877337Z",
     "start_time": "2024-05-21T08:41:24.432545Z"
    }
   },
   "cell_type": "code",
   "source": [
    "bb = moving_reference_array(img_b, window_size, overlap, left=40, right=40, top=40, bottom=40)\n",
    "\n",
    "idx = 2300\n",
    "window, area = aa, bb\n",
    "# idx = 5\n",
    "\n",
    "#4.09458182656812\n",
    "#-3.4124938088181693\n",
    "\n",
    "cv2.imshow('Interrogation window', window[idx].cpu().numpy())\n",
    "cv2.waitKey(0)\n",
    "cv2.imshow('Search area', area[idx].cpu().numpy())\n",
    "cv2.waitKey(0)\n",
    "cv2.destroyAllWindows()\n",
    "# corr = block_match(window, area, mode=0)[idx]\n",
    "# intensity = block_match(window, area, mode=1)[idx]\n",
    "\n",
    "# corr_min, corr_max = torch.min(corr), torch.max(corr)\n",
    "# corr_img = (corr-corr_min)/(corr_max-corr_min)\n",
    "# \n",
    "# intensity_min, intensity_max = torch.min(intensity), torch.max(intensity)\n",
    "# intensity_img = 1 - (intensity-intensity_min)/(intensity_max-intensity_min)\n",
    "\n",
    "# match_to_displacement(block_match(window, area, 1))\n",
    "\n",
    "corr = block_match(window, area, mode=1)\n",
    "nrows, ncols = get_field_shape(img_a.shape, window_size, overlap)\n",
    "u, v = correlation_to_displacement(corr, nrows, ncols)\n",
    "# row, col = idx // 31, idx % 31\n",
    "# print(f\"u shape = {u.shape}\")\n",
    "# print(u[row, col])\n",
    "# print(f\"v shape = {v.shape}\")\n",
    "# print(v[row, col])\n",
    "\n",
    "# plts = np.hstack((corr_img.cpu().numpy(), intensity_img.cpu().numpy()))\n",
    "\n",
    "fig = plt.figure()\n",
    "ax = fig.add_subplot(projection='3d')\n",
    "x, y = np.meshgrid(range(area.shape[2] - window.shape[2] + 1), range(area.shape[1] - window.shape[1] + 1))\n",
    "\n",
    "\n",
    "# ax.plot_surface(x, y, corr_img, color='b', alpha=0.5, label='correlation')\n",
    "# ax.plot_surface(x, y, intensity_img, color='r', alpha=0.5, label='SAD')\n",
    "\n",
    "# plt.legend()\n",
    "# plt.show()\n"
   ],
   "id": "d4c4f0fb0205888a",
   "outputs": [
    {
     "name": "stderr",
     "output_type": "stream",
     "text": [
      "  1%|          | 1/81 [00:09<12:21,  9.27s/it]\n"
     ]
    },
    {
     "ename": "KeyboardInterrupt",
     "evalue": "",
     "output_type": "error",
     "traceback": [
      "\u001B[1;31m---------------------------------------------------------------------------\u001B[0m",
      "\u001B[1;31mKeyboardInterrupt\u001B[0m                         Traceback (most recent call last)",
      "Cell \u001B[1;32mIn[8], line 26\u001B[0m\n\u001B[0;32m     14\u001B[0m cv2\u001B[38;5;241m.\u001B[39mdestroyAllWindows()\n\u001B[0;32m     15\u001B[0m \u001B[38;5;66;03m# corr = block_match(window, area, mode=0)[idx]\u001B[39;00m\n\u001B[0;32m     16\u001B[0m \u001B[38;5;66;03m# intensity = block_match(window, area, mode=1)[idx]\u001B[39;00m\n\u001B[0;32m     17\u001B[0m \n\u001B[1;32m   (...)\u001B[0m\n\u001B[0;32m     23\u001B[0m \n\u001B[0;32m     24\u001B[0m \u001B[38;5;66;03m# match_to_displacement(block_match(window, area, 1))\u001B[39;00m\n\u001B[1;32m---> 26\u001B[0m corr \u001B[38;5;241m=\u001B[39m \u001B[43mblock_match\u001B[49m\u001B[43m(\u001B[49m\u001B[43mwindow\u001B[49m\u001B[43m,\u001B[49m\u001B[43m \u001B[49m\u001B[43marea\u001B[49m\u001B[43m,\u001B[49m\u001B[43m \u001B[49m\u001B[43mmode\u001B[49m\u001B[38;5;241;43m=\u001B[39;49m\u001B[38;5;241;43m1\u001B[39;49m\u001B[43m)\u001B[49m\n\u001B[0;32m     27\u001B[0m nrows, ncols \u001B[38;5;241m=\u001B[39m get_field_shape(img_a\u001B[38;5;241m.\u001B[39mshape, window_size, overlap)\n\u001B[0;32m     28\u001B[0m u, v \u001B[38;5;241m=\u001B[39m correlation_to_displacement(corr, nrows, ncols)\n",
      "File \u001B[1;32m~\\Documents\\School\\Y4-Q4\\BEP\\LowCostPIV\\src\\SIV_library\\lib.py:24\u001B[0m, in \u001B[0;36mblock_match\u001B[1;34m(windows, areas, mode)\u001B[0m\n\u001B[0;32m     22\u001B[0m         \u001B[38;5;28;01mfor\u001B[39;00m i \u001B[38;5;129;01min\u001B[39;00m \u001B[38;5;28mrange\u001B[39m(area_cols \u001B[38;5;241m-\u001B[39m window_cols \u001B[38;5;241m+\u001B[39m \u001B[38;5;241m1\u001B[39m):\n\u001B[0;32m     23\u001B[0m             ref \u001B[38;5;241m=\u001B[39m areas[:, j:j \u001B[38;5;241m+\u001B[39m window_rows, i:i \u001B[38;5;241m+\u001B[39m window_cols]\n\u001B[1;32m---> 24\u001B[0m             res[:, j, i] \u001B[38;5;241m=\u001B[39m torch\u001B[38;5;241m.\u001B[39msum(\u001B[43mtorch\u001B[49m\u001B[38;5;241;43m.\u001B[39;49m\u001B[43mabs\u001B[49m\u001B[43m(\u001B[49m\u001B[43mwindows\u001B[49m\u001B[43m \u001B[49m\u001B[38;5;241;43m-\u001B[39;49m\u001B[43m \u001B[49m\u001B[43mref\u001B[49m\u001B[43m)\u001B[49m, dim\u001B[38;5;241m=\u001B[39m(\u001B[38;5;241m1\u001B[39m, \u001B[38;5;241m2\u001B[39m))\n\u001B[0;32m     26\u001B[0m \u001B[38;5;28;01melse\u001B[39;00m:\n\u001B[0;32m     27\u001B[0m     \u001B[38;5;28;01mraise\u001B[39;00m \u001B[38;5;167;01mValueError\u001B[39;00m(\u001B[38;5;124m\"\u001B[39m\u001B[38;5;124mOnly mode 0 (correlation) or 1 (SAD) are supported\u001B[39m\u001B[38;5;124m\"\u001B[39m)\n",
      "\u001B[1;31mKeyboardInterrupt\u001B[0m: "
     ]
    }
   ],
   "execution_count": 8
  },
  {
   "metadata": {
    "ExecuteTime": {
     "end_time": "2024-05-21T08:41:42.988392Z",
     "start_time": "2024-05-21T08:41:42.520644Z"
    }
   },
   "cell_type": "code",
   "source": "x_c, y_c = get_x_y(img_a.shape, window_size, overlap)   ",
   "id": "f14cd6aaef93b100",
   "outputs": [],
   "execution_count": 9
  },
  {
   "metadata": {
    "ExecuteTime": {
     "end_time": "2024-05-21T08:41:45.505621Z",
     "start_time": "2024-05-21T08:41:45.148592Z"
    }
   },
   "cell_type": "code",
   "source": "plot_velocity_single_frame(img_a, x_c, y_c, u, v)",
   "id": "c76a8ab0eb1eb2d9",
   "outputs": [
    {
     "ename": "NameError",
     "evalue": "name 'u' is not defined",
     "output_type": "error",
     "traceback": [
      "\u001B[1;31m---------------------------------------------------------------------------\u001B[0m",
      "\u001B[1;31mNameError\u001B[0m                                 Traceback (most recent call last)",
      "Cell \u001B[1;32mIn[10], line 1\u001B[0m\n\u001B[1;32m----> 1\u001B[0m plot_velocity_single_frame(img_a, x_c, y_c, \u001B[43mu\u001B[49m, v)\n",
      "\u001B[1;31mNameError\u001B[0m: name 'u' is not defined"
     ]
    }
   ],
   "execution_count": 10
  },
  {
   "metadata": {
    "ExecuteTime": {
     "end_time": "2024-05-21T09:51:14.758973Z",
     "start_time": "2024-05-21T09:51:13.018196Z"
    }
   },
   "cell_type": "code",
   "source": [
    "def vector_field_l(folder_name: str, results: np.ndarray, scale: float, playback_fps = 30.) -> None:\n",
    "    fig, ax = plt.subplots()\n",
    "\n",
    "    velocities = results[:, 2:]  # exclude reference frame (only nan/zero values)\n",
    "    abs_velocities = np.sqrt(velocities[:, 0]**2 + velocities[:, 1]**2)\n",
    "    min_abs, max_abs = np.min(abs_velocities, axis=0), np.max(abs_velocities, axis=0)\n",
    "    print(max_abs, min_abs)\n",
    "    frames = os.listdir(foldername)\n",
    "    frame = cv2.imread(rf\"{foldername}/{frames[0]}\", cv2.IMREAD_GRAYSCALE)\n",
    "    image = ax.imshow(frame, cmap='gray')\n",
    "\n",
    "    # Note: velocity scaling is done for correct color mapping and quiver length\n",
    "    x0, y0, vx0, vy0 = results[0]\n",
    "    new_x0, new_y0 = x0/scale, y0/scale\n",
    "    # vx0, vy0 = np.flip(vx0, axis=0),- np.flip(vy0, axis=0)  # flip velocities for correct IMAGE coords\n",
    "    # vectors = ax.quiver(new_x0, new_y0, vx0, vy0, max_abs-min_abs, cmap='jet')\n",
    "    vectors = ax.quiver(x0, y0, vx0, vy0, max_abs-min_abs, scale=0.002,  cmap='rainbow')\n",
    "    def update(index):\n",
    "        frame = cv2.imread(rf\"{foldername}/{frames[index]}\", cv2.IMREAD_GRAYSCALE)\n",
    "        image.set_data(frame)\n",
    "\n",
    "        # https://stackoverflow.com/questions/19329039/plotting-animated-quivers-in-python\n",
    "        vx, vy = results[index][2], results[index][3]\n",
    "        # vx, vy = np.flip(vx, axis=0), np.flip(vy, axis=0)\n",
    "        scaling = np.sqrt(vx ** 2 + vy ** 2) - min_abs\n",
    "        vectors.set_UVC(vx, vy)\n",
    "\n",
    "        return image, vectors\n",
    "\n",
    "    ani = animation.FuncAnimation(fig=fig, func=update, frames=3, interval=1000/playback_fps)\n",
    "\n",
    "    plt.show()"
   ],
   "id": "a5218ac6523100e0",
   "outputs": [],
   "execution_count": 63
  },
  {
   "metadata": {
    "ExecuteTime": {
     "end_time": "2024-05-21T08:41:50.489734Z",
     "start_time": "2024-05-21T08:41:50.144981Z"
    }
   },
   "cell_type": "code",
   "source": [
    "def all_frames(folder_name, window_size, overlap, match_mode = 0, interp_mode = 0):\n",
    "    # Images must already be processed\n",
    "    results = []\n",
    "    x_y = \"a\"\n",
    "    stored_imges = []\n",
    "    for i, filename in enumerate(os.listdir(folder_name)):\n",
    "        img = cv2.imread(rf\"{foldername}/{filename}\", cv2.IMREAD_GRAYSCALE)\n",
    "        if x_y == \"a\":\n",
    "            x_y = get_x_y(img.shape, window_size, overlap)\n",
    "        stored_imges.append(img)\n",
    "        if len(stored_imges) < 2:\n",
    "            continue\n",
    "        if len(stored_imges) > 2:\n",
    "            stored_imges.pop(0)\n",
    "        image_a, image_b = torch.from_numpy(stored_imges[0]), torch.from_numpy(stored_imges[1])\n",
    "        n_rows, n_cols = get_field_shape(img.shape, window_size, overlap)\n",
    "        window = moving_window_array(image_a, window_size, overlap)\n",
    "        area = moving_reference_array(image_b, window_size, overlap, left=40, right=40, top=40, bottom=40)\n",
    "        correl = block_match(window, area, match_mode)\n",
    "        u_, v_ = correlation_to_displacement(correl, n_rows, n_cols, interp_mode)\n",
    "        # print(len(x_y[0]), len(x_y[1]), len(u_.flatten()), len(v_.flatten()))\n",
    "        x = x_y[0].reshape(n_rows, n_cols)\n",
    "        y = x_y[1].reshape(n_rows, n_cols)\n",
    "        results.append((x, y, u_, v_))\n",
    "        # print(results.shape)\n",
    "        if i == 3:\n",
    "            break\n",
    "    return np.array(results)"
   ],
   "id": "82b1cd5e051c8e24",
   "outputs": [],
   "execution_count": 13
  },
  {
   "metadata": {
    "ExecuteTime": {
     "end_time": "2024-05-21T09:37:36.942738Z",
     "start_time": "2024-05-21T09:37:36.374890Z"
    }
   },
   "cell_type": "code",
   "source": [
    "video_file = \"plume simulation.mp4\"\n",
    "image_1_file = rf\"../Test Data/plume simulation_PROCESSED/00101.jpg\"\n",
    "fn = video_file.split(\".\")[0]\n",
    "frames = [int(\"00\" + str(i)) for i in range(100, 151)]\n",
    "\n",
    "vid = Video(rf\"../Test Data/{video_file}\", df='.jpg', indices=frames)\n",
    "vid.create_frames()\n",
    "vid.create_frames()\n",
    "\n",
    "processor = Processor(rf\"../Test Data/{fn}\", df='.jpg', denoise=False, rescale=None, crop=False)\n",
    "processor.postprocess()\n",
    "\n",
    "device = torch.cuda.get_device_name() if torch.cuda.is_available() else \"cpu\"\n",
    "print(device)\n",
    "\n",
    "capture_fps = 240.\n",
    "scale = 1.\n",
    "\n",
    "viewer = Viewer(rf\"../Test Data/{fn}_PROCESSED\", playback_fps=30., capture_fps=capture_fps)\n",
    "\n",
    "shape = int(np.sqrt(y_c.shape[0]))\n",
    "# viewer.play_video()\n",
    "# res = np.array((x_c.reshape((shape, shape)), y_c.reshape((shape, shape)), u, v))\n",
    "res = np.array([[x_c.reshape(shape, shape), y_c.reshape(shape, shape), u, v]])\n",
    "print(res.shape)\n",
    "vector_field_l(image_1_file, res, scale)"
   ],
   "id": "aaa4006e6c8c9416",
   "outputs": [
    {
     "name": "stdout",
     "output_type": "stream",
     "text": [
      "Directory '../Test Data/plume simulation' already exists\n",
      "Directory '../Test Data/plume simulation' already exists\n",
      "Directory '../Test Data/plume simulation_PROCESSED' already exists\n",
      "cpu\n"
     ]
    },
    {
     "ename": "NameError",
     "evalue": "name 'u' is not defined",
     "output_type": "error",
     "traceback": [
      "\u001B[1;31m---------------------------------------------------------------------------\u001B[0m",
      "\u001B[1;31mNameError\u001B[0m                                 Traceback (most recent call last)",
      "Cell \u001B[1;32mIn[45], line 24\u001B[0m\n\u001B[0;32m     21\u001B[0m shape \u001B[38;5;241m=\u001B[39m \u001B[38;5;28mint\u001B[39m(np\u001B[38;5;241m.\u001B[39msqrt(y_c\u001B[38;5;241m.\u001B[39mshape[\u001B[38;5;241m0\u001B[39m]))\n\u001B[0;32m     22\u001B[0m \u001B[38;5;66;03m# viewer.play_video()\u001B[39;00m\n\u001B[0;32m     23\u001B[0m \u001B[38;5;66;03m# res = np.array((x_c.reshape((shape, shape)), y_c.reshape((shape, shape)), u, v))\u001B[39;00m\n\u001B[1;32m---> 24\u001B[0m res \u001B[38;5;241m=\u001B[39m np\u001B[38;5;241m.\u001B[39marray([[x_c\u001B[38;5;241m.\u001B[39mreshape(shape, shape), y_c\u001B[38;5;241m.\u001B[39mreshape(shape, shape), \u001B[43mu\u001B[49m, v]])\n\u001B[0;32m     25\u001B[0m \u001B[38;5;28mprint\u001B[39m(res\u001B[38;5;241m.\u001B[39mshape)\n\u001B[0;32m     26\u001B[0m vector_field_l(image_1_file, res, scale)\n",
      "\u001B[1;31mNameError\u001B[0m: name 'u' is not defined"
     ]
    }
   ],
   "execution_count": 45
  },
  {
   "metadata": {
    "ExecuteTime": {
     "end_time": "2024-05-21T09:48:20.269676Z",
     "start_time": "2024-05-21T09:48:12.288855Z"
    }
   },
   "cell_type": "code",
   "source": [
    "foldername = rf\"../Test Data/plume simulation_PROCESSED\"\n",
    "# for filename in os.listdir(foldername):\n",
    "#     print(filename)\n",
    "#     img = cv2.imread(rf\"{foldername}/{filename}\", cv2.IMREAD_GRAYSCALE)\n",
    "#     print(img.shape)\n",
    "#     break\n",
    "\n",
    "xx_x = all_frames(foldername, 256, 32, match_mode = 0, interp_mode = 1)"
   ],
   "id": "45ee868d5cab4b55",
   "outputs": [
    {
     "name": "stderr",
     "output_type": "stream",
     "text": [
      "\n",
      "KeyboardInterrupt\n",
      "\n"
     ]
    }
   ],
   "execution_count": 57
  },
  {
   "metadata": {
    "ExecuteTime": {
     "end_time": "2024-05-21T09:55:41.021622Z",
     "start_time": "2024-05-21T09:55:26.897430Z"
    }
   },
   "cell_type": "code",
   "source": "vector_field_l(foldername, xx_x, 1000)",
   "id": "558fb317b4527aa9",
   "outputs": [
    {
     "name": "stdout",
     "output_type": "stream",
     "text": [
      "[[ 0.          0.          0.          0.          0.          0.\n",
      "   0.          0.          0.        ]\n",
      " [ 0.          0.          0.          0.          0.          0.\n",
      "   0.          0.          0.        ]\n",
      " [ 0.          0.          0.         56.57390589  0.          0.\n",
      "   0.          0.          0.        ]\n",
      " [ 0.          0.         57.27564928 57.27564928 56.57961258  0.\n",
      "   0.          0.          0.        ]\n",
      " [ 0.          0.         57.27564928 57.27564928 56.59230376 50.70009862\n",
      "   0.          0.          0.        ]\n",
      " [ 0.          0.         56.59268455 57.27564928 57.27564928 32.5\n",
      "   0.          0.          0.        ]\n",
      " [ 0.          0.          0.         56.80889832 23.5         0.\n",
      "   0.          0.          0.        ]\n",
      " [ 0.          0.          0.         56.59410459 56.58701434 56.58038931\n",
      "  57.27564928  0.          0.        ]\n",
      " [ 0.          0.          0.         57.27564928 56.59861152 57.27564928\n",
      "  46.48117899  0.          0.        ]] [[ 0.          0.          0.          0.          0.          0.\n",
      "   0.          0.          0.        ]\n",
      " [ 0.          0.          0.          0.          0.          0.\n",
      "   0.          0.          0.        ]\n",
      " [ 0.          0.          0.          0.          0.          0.\n",
      "   0.          0.          0.        ]\n",
      " [ 0.          0.         57.27564928 57.27564928 56.57815078  0.\n",
      "   0.          0.          0.        ]\n",
      " [ 0.          0.         41.97148931 43.90904744 56.59009396 24.5\n",
      "   0.          0.          0.        ]\n",
      " [ 0.          0.         56.58906863 57.27564928 57.27564928 32.5\n",
      "   0.          0.          0.        ]\n",
      " [ 0.          0.          0.         56.72588116 21.5         0.\n",
      "   0.          0.          0.        ]\n",
      " [ 0.          0.          0.         56.58842311 56.58530809 56.57997205\n",
      "  57.27564928  0.          0.        ]\n",
      " [ 0.          0.          0.         56.88499732 56.59529836 57.27564928\n",
      "  42.81059815  0.          0.        ]]\n"
     ]
    }
   ],
   "execution_count": 65
  },
  {
   "metadata": {
    "jupyter": {
     "is_executing": true
    },
    "ExecuteTime": {
     "start_time": "2024-05-21T08:41:10.448594Z"
    }
   },
   "cell_type": "code",
   "source": "print(len(xx_x))",
   "id": "bacef74b421dd05d",
   "outputs": [],
   "execution_count": null
  }
 ],
 "metadata": {
  "kernelspec": {
   "display_name": "Python 3",
   "language": "python",
   "name": "python3"
  },
  "language_info": {
   "codemirror_mode": {
    "name": "ipython",
    "version": 2
   },
   "file_extension": ".py",
   "mimetype": "text/x-python",
   "name": "python",
   "nbconvert_exporter": "python",
   "pygments_lexer": "ipython2",
   "version": "2.7.6"
  }
 },
 "nbformat": 4,
 "nbformat_minor": 5
}
