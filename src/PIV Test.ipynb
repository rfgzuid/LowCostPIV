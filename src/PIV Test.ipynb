{
 "cells": [
  {
   "cell_type": "code",
   "id": "initial_id",
   "metadata": {
    "collapsed": true,
    "ExecuteTime": {
     "end_time": "2024-05-22T12:38:32.084828100Z",
     "start_time": "2024-05-22T12:38:31.976604600Z"
    }
   },
   "source": [
    "from SIV_library.lib import block_match, moving_window_array, correlation_to_displacement, get_field_shape, get_x_y, SIVDataset\n",
    "from torchPIV.PIVbackend import OfflinePIV\n",
    "\n",
    "import os\n",
    "import sys\n",
    "import torch\n",
    "import numpy as np\n",
    "import matplotlib.pyplot as plt\n",
    "\n",
    "os.environ[\"OPENCV_IO_ENABLE_OPENEXR\"]=\"1\"\n",
    "sys.path.append(\"../../\")\n",
    "\n",
    "%load_ext autoreload\n",
    "%autoreload 2"
   ],
   "outputs": [
    {
     "name": "stdout",
     "output_type": "stream",
     "text": [
      "The autoreload extension is already loaded. To reload it, use:\n",
      "  %reload_ext autoreload\n"
     ]
    }
   ],
   "execution_count": 270
  },
  {
   "metadata": {
    "ExecuteTime": {
     "end_time": "2024-05-22T13:08:16.754052500Z",
     "start_time": "2024-05-22T13:08:16.640208600Z"
    }
   },
   "cell_type": "code",
   "source": [
    "device = \"cuda\" if torch.cuda.is_available() else \"cpu\"\n",
    "print(device)\n",
    "\n",
    "dataset = SIVDataset(\"../Test Data/plume simulation_PROCESSED\", None)  # (300, 2500, 400, 1600)"
   ],
   "id": "889bbed85a67904b",
   "outputs": [
    {
     "name": "stdout",
     "output_type": "stream",
     "text": [
      "cuda\n"
     ]
    }
   ],
   "execution_count": 332
  },
  {
   "metadata": {
    "ExecuteTime": {
     "end_time": "2024-05-22T13:11:16.448279500Z",
     "start_time": "2024-05-22T13:11:16.339159600Z"
    }
   },
   "cell_type": "code",
   "source": [
    "def vector_field(lib_res, corr_res, sad_res) -> None:\n",
    "    fig, (lib, corr, sad) = plt.subplots(1, 3)\n",
    " \n",
    "    frame = dataset[0][0].cpu().numpy()\n",
    "    lib.imshow(frame, cmap='gray')\n",
    "    corr.imshow(frame, cmap='gray')\n",
    "    sad.imshow(frame, cmap='gray')\n",
    "    \n",
    "    lib_res[1] = np.flip(lib_res[1], axis=0)\n",
    "    corr_res[3] *= -1\n",
    "    sad_res[3] *= -1\n",
    "    \n",
    "    lib.quiver(*lib_res, color='red', scale=3, scale_units='xy')\n",
    "    corr.quiver(*corr_res, color='red', scale=1, scale_units='xy')\n",
    "    sad.quiver(*sad_res, color='red', scale=0.3, scale_units='xy')\n",
    "    \n",
    "    lib.set_title('TorchPIV')\n",
    "    corr.set_title('Correlation')\n",
    "    sad.set_title('SAD')\n",
    "    \n",
    "    lib.set_axis_off()\n",
    "    corr.set_axis_off()\n",
    "    sad.set_axis_off()\n",
    "    \n",
    "    fig.tight_layout()\n",
    "    plt.show()"
   ],
   "id": "a5218ac6523100e0",
   "outputs": [],
   "execution_count": 340
  },
  {
   "metadata": {
    "ExecuteTime": {
     "end_time": "2024-05-22T13:17:59.052561100Z",
     "start_time": "2024-05-22T13:17:58.938257500Z"
    }
   },
   "cell_type": "code",
   "source": [
    "def all_frames(window_size, overlap):\n",
    "    piv_gen = OfflinePIV(\n",
    "                folder=\"../Test Data/plume simulation_PROCESSED\",\n",
    "                device=torch.cuda.get_device_name(),\n",
    "                file_fmt=\"jpg\",\n",
    "                wind_size=window_size,\n",
    "                overlap=overlap,\n",
    "                dt=12,\n",
    "                scale = 1.,\n",
    "                multipass=2,\n",
    "                multipass_mode=\"DWS\",\n",
    "                multipass_scale=2.,\n",
    "                folder_mode=\"sequential\"\n",
    "            )\n",
    "    piv_gen._dataset = dataset\n",
    "    \n",
    "    for idx, data in enumerate(dataset):\n",
    "        if idx == 0:\n",
    "            image_a, image_b = data\n",
    "            image_a, image_b = image_a.to(device), image_b.to(device)\n",
    "            \n",
    "            n_rows, n_cols = get_field_shape(image_a.shape, window_size, overlap)\n",
    "            window = moving_window_array(image_a, window_size, overlap)\n",
    "            \n",
    "            area = moving_window_array(image_b, window_size, overlap, area=(30, 30, 30, 30))\n",
    "            \n",
    "            lib = next(piv_gen())\n",
    "            \n",
    "            corr = block_match(window, area, 0)\n",
    "            u_c, v_c = correlation_to_displacement(corr, n_rows, n_cols, 0)\n",
    "            \n",
    "            sad = block_match(window, area, 1)\n",
    "            u_s, v_s = correlation_to_displacement(sad, n_rows, n_cols, 1)\n",
    "    \n",
    "            x, y= get_x_y(image_a.shape, window_size, overlap)\n",
    "            x, y = x.reshape(n_rows, n_cols), y.reshape(n_rows, n_cols)\n",
    "            \n",
    "            lib_res, corr_res, sad_res = np.array(lib), np.array((x, y, u_c, v_c)), np.array((x, y, u_s, v_s))\n",
    "    return lib_res, corr_res, sad_res"
   ],
   "id": "82b1cd5e051c8e24",
   "outputs": [],
   "execution_count": 350
  },
  {
   "metadata": {
    "ExecuteTime": {
     "end_time": "2024-05-22T13:18:23.991490900Z",
     "start_time": "2024-05-22T13:17:59.759351200Z"
    }
   },
   "cell_type": "code",
   "source": [
    "lib_res, corr_res, sad_res = all_frames(64, 32)"
   ],
   "id": "45ee868d5cab4b55",
   "outputs": [
    {
     "name": "stdout",
     "output_type": "stream",
     "text": [
      "Load time 0.044 sec Iteration finished in 0.115 sec "
     ]
    },
    {
     "name": "stderr",
     "output_type": "stream",
     "text": [
      "Correlation: 100%|██████████| 3969/3969 [00:02<00:00, 1336.41it/s]\n",
      "SAD: 100%|██████████| 61/61 [00:18<00:00,  3.36it/s]\n"
     ]
    }
   ],
   "execution_count": 351
  },
  {
   "metadata": {
    "ExecuteTime": {
     "end_time": "2024-05-22T13:19:31.555221200Z",
     "start_time": "2024-05-22T13:18:23.993483900Z"
    }
   },
   "cell_type": "code",
   "source": [
    "vector_field(lib_res, corr_res, sad_res)"
   ],
   "id": "558fb317b4527aa9",
   "outputs": [],
   "execution_count": 352
  },
  {
   "cell_type": "code",
   "outputs": [],
   "source": [],
   "metadata": {
    "collapsed": false
   },
   "id": "f13df8f953dffdde"
  }
 ],
 "metadata": {
  "kernelspec": {
   "display_name": "Python 3",
   "language": "python",
   "name": "python3"
  },
  "language_info": {
   "codemirror_mode": {
    "name": "ipython",
    "version": 2
   },
   "file_extension": ".py",
   "mimetype": "text/x-python",
   "name": "python",
   "nbconvert_exporter": "python",
   "pygments_lexer": "ipython2",
   "version": "2.7.6"
  }
 },
 "nbformat": 4,
 "nbformat_minor": 5
}
