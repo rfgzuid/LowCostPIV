{
 "cells": [
  {
   "cell_type": "code",
   "id": "initial_id",
   "metadata": {
    "collapsed": true,
    "ExecuteTime": {
     "end_time": "2024-05-15T16:33:58.334221Z",
     "start_time": "2024-05-15T16:33:50.368638Z"
    }
   },
   "source": [
    "from torchPIV.PIVbackend import ToTensor, PIVDataset, moving_window_array\n",
    "from SIV_library.lib import block_match, moving_reference_array, match_to_displacement, correlation_to_displacement, get_field_shape, get_x_y, plot_velocity_single_frame\n",
    "from SIV_library.processing import Video, Processor, Viewer\n",
    "\n",
    "import os\n",
    "import sys\n",
    "import cv2\n",
    "import torch\n",
    "import numpy as np\n",
    "import matplotlib.pyplot as plt\n",
    "import matplotlib.animation as animation\n",
    "from scipy.interpolate import RegularGridInterpolator\n",
    "from tqdm import tqdm\n",
    "\n",
    "from collections.abc import Collection\n",
    "\n",
    "\n",
    "os.environ[\"OPENCV_IO_ENABLE_OPENEXR\"]=\"1\"\n",
    "sys.path.append(\"../../\")\n",
    "import helpers\n",
    "\n",
    "\n",
    "%load_ext autoreload\n",
    "%autoreload 2"
   ],
   "outputs": [],
   "execution_count": 2
  },
  {
   "metadata": {
    "ExecuteTime": {
     "end_time": "2024-05-15T16:33:58.460909Z",
     "start_time": "2024-05-15T16:33:58.336188Z"
    }
   },
   "cell_type": "code",
   "source": [
    "device = \"cuda\" if torch.cuda.is_available() else \"cpu\"\n",
    "device = \"cpu\"\n",
    "\n",
    "dataset = PIVDataset(\"../Test Data/plume simulation_PROCESSED\", \".jpg\",\n",
    "                     \"sequential\", transform=ToTensor(dtype=torch.uint8))"
   ],
   "id": "889bbed85a67904b",
   "outputs": [],
   "execution_count": 3
  },
  {
   "metadata": {
    "ExecuteTime": {
     "end_time": "2024-05-15T16:33:58.588745Z",
     "start_time": "2024-05-15T16:33:58.461900Z"
    }
   },
   "cell_type": "code",
   "source": [
    "# testing_0 = helpers.imread_normalized_float_grayscale(os.path.join(\"../Test Data/test\", \"0.jpg\"))\n",
    "# testing_0 = np.where(testing_0 > 0.5, 1.0, 0.0)  # TEMPORARY, TO MAKE TEST MORE IDEAL\n",
    "# testing_1 = helpers.imread_normalized_float_grayscale(os.path.join(\"../Test Data/test\", \"1.jpg\"))\n",
    "# testing_1 = np.where(testing_1 > 0.5, 1.0, 0.0)  # TEMPORARY, TO MAKE TEST MORE IDEAL"
   ],
   "id": "7eaa354fa03cdbc9",
   "outputs": [],
   "execution_count": 4
  },
  {
   "metadata": {
    "ExecuteTime": {
     "end_time": "2024-05-15T16:40:41.306599Z",
     "start_time": "2024-05-15T16:40:41.015195Z"
    }
   },
   "cell_type": "code",
   "source": [
    "img_a, img_b = dataset[1]\n",
    "img_a, img_b = img_a.to(device), img_b.to(device)\n",
    "\n",
    "# img_a, img_b = torch.from_numpy(testing_0), torch.from_numpy(testing_1)\n",
    "window_size, overlap = 64, 32 \n",
    "aa = moving_window_array(img_a, window_size, overlap)\n",
    "\n",
    "window_amount = aa.shape[0]\n",
    "print(window_amount, 'windows')"
   ],
   "id": "159c490cc541ffa6",
   "outputs": [
    {
     "name": "stdout",
     "output_type": "stream",
     "text": [
      "3969 windows\n"
     ]
    }
   ],
   "execution_count": 11
  },
  {
   "metadata": {
    "jupyter": {
     "is_executing": true
    },
    "ExecuteTime": {
     "start_time": "2024-05-15T16:40:56.829666Z"
    }
   },
   "cell_type": "code",
   "source": [
    "bb = moving_reference_array(img_b, window_size, overlap, left=40, right=40, top=40, bottom=40)\n",
    "\n",
    "idx = 2300\n",
    "window, area = aa, bb\n",
    "# idx = 5\n",
    "\n",
    "#4.09458182656812\n",
    "#-3.4124938088181693\n",
    "\n",
    "cv2.imshow('Interrogation window', window[idx].cpu().numpy())\n",
    "cv2.waitKey(0)\n",
    "cv2.imshow('Search area', area[idx].cpu().numpy())\n",
    "cv2.waitKey(0)\n",
    "cv2.destroyAllWindows()\n",
    "# corr = block_match(window, area, mode=0)[idx]\n",
    "# intensity = block_match(window, area, mode=1)[idx]\n",
    "\n",
    "# corr_min, corr_max = torch.min(corr), torch.max(corr)\n",
    "# corr_img = (corr-corr_min)/(corr_max-corr_min)\n",
    "# \n",
    "# intensity_min, intensity_max = torch.min(intensity), torch.max(intensity)\n",
    "# intensity_img = 1 - (intensity-intensity_min)/(intensity_max-intensity_min)\n",
    "\n",
    "# match_to_displacement(block_match(window, area, 1))\n",
    "\n",
    "corr = block_match(window, area, mode=1)\n",
    "nrows, ncols = get_field_shape(img_a.shape, window_size, overlap)\n",
    "u, v = correlation_to_displacement(corr, nrows, ncols)\n",
    "# row, col = idx // 31, idx % 31\n",
    "# print(f\"u shape = {u.shape}\")\n",
    "# print(u[row, col])\n",
    "# print(f\"v shape = {v.shape}\")\n",
    "# print(v[row, col])\n",
    "\n",
    "# plts = np.hstack((corr_img.cpu().numpy(), intensity_img.cpu().numpy()))\n",
    "\n",
    "fig = plt.figure()\n",
    "ax = fig.add_subplot(projection='3d')\n",
    "x, y = np.meshgrid(range(area.shape[2] - window.shape[2] + 1), range(area.shape[1] - window.shape[1] + 1))\n",
    "\n",
    "\n",
    "# ax.plot_surface(x, y, corr_img, color='b', alpha=0.5, label='correlation')\n",
    "# ax.plot_surface(x, y, intensity_img, color='r', alpha=0.5, label='SAD')\n",
    "\n",
    "# plt.legend()\n",
    "# plt.show()\n"
   ],
   "id": "d4c4f0fb0205888a",
   "outputs": [
    {
     "name": "stderr",
     "output_type": "stream",
     "text": [
      " 73%|███████▎  | 59/81 [04:46<01:37,  4.41s/it]"
     ]
    }
   ],
   "execution_count": null
  },
  {
   "metadata": {
    "ExecuteTime": {
     "end_time": "2024-05-15T16:36:49.928030Z",
     "start_time": "2024-05-15T16:36:49.520951Z"
    }
   },
   "cell_type": "code",
   "source": "x_c, y_c = get_x_y(img_a.shape, window_size, overlap)   ",
   "id": "f14cd6aaef93b100",
   "outputs": [],
   "execution_count": 9
  },
  {
   "metadata": {
    "ExecuteTime": {
     "end_time": "2024-05-15T16:38:16.899637Z",
     "start_time": "2024-05-15T16:36:51.237289Z"
    }
   },
   "cell_type": "code",
   "source": "plot_velocity_single_frame(img_a, x_c, y_c, u, v)",
   "id": "c76a8ab0eb1eb2d9",
   "outputs": [],
   "execution_count": 10
  },
  {
   "metadata": {
    "ExecuteTime": {
     "end_time": "2024-05-15T16:19:40.742203Z",
     "start_time": "2024-05-15T16:19:40.608901Z"
    }
   },
   "cell_type": "code",
   "source": [
    "def vector_field(filename: str, results: np.ndarray, scale: float) -> None:\n",
    "    fig, ax = plt.subplots()\n",
    "\n",
    "    velocities = results[:, 2:]  # exclude reference frame (only nan/zero values)\n",
    "    abs_velocities = np.sqrt(velocities[:, 0]**2 + velocities[:, 1]**2)\n",
    "    min_abs, max_abs = np.min(abs_velocities, axis=0), np.max(abs_velocities, axis=0)\n",
    "\n",
    "    frame = cv2.imread(filename, cv2.IMREAD_GRAYSCALE)\n",
    "    image = ax.imshow(frame, cmap='gray')\n",
    "\n",
    "    # Note: velocity scaling is done for correct color mapping and quiver length\n",
    "    x0, y0, vx0, vy0 = results[0]\n",
    "    new_x0, new_y0 = x0/scale, y0/scale\n",
    "    # vx0, vy0 = np.flip(vx0, axis=0), np.flip(vy0, axis=0)  # flip velocities for correct IMAGE coords\n",
    "    vectors = ax.quiver(new_x0, new_y0, vx0, vy0, max_abs-min_abs, cmap='jet')\n",
    "    plt.show()"
   ],
   "id": "a5218ac6523100e0",
   "outputs": [],
   "execution_count": 77
  },
  {
   "metadata": {
    "ExecuteTime": {
     "end_time": "2024-05-15T16:20:15.372458Z",
     "start_time": "2024-05-15T16:19:42.422147Z"
    }
   },
   "cell_type": "code",
   "source": [
    "video_file = \"plume simulation.mp4\"\n",
    "image_1_file = rf\"../Test Data/plume simulation_PROCESSED/00101.jpg\"\n",
    "fn = video_file.split(\".\")[0]\n",
    "frames = [int(\"00\" + str(i)) for i in range(100, 151)]\n",
    "\n",
    "vid = Video(rf\"../Test Data/{video_file}\", df='.jpg', indices=frames)\n",
    "vid.create_frames()\n",
    "vid.create_frames()\n",
    "\n",
    "processor = Processor(rf\"../Test Data/{fn}\", df='.jpg', denoise=False, rescale=None, crop=False)\n",
    "processor.postprocess()\n",
    "\n",
    "device = torch.cuda.get_device_name() if torch.cuda.is_available() else \"cpu\"\n",
    "print(device)\n",
    "\n",
    "capture_fps = 240.\n",
    "scale = 1.\n",
    "\n",
    "viewer = Viewer(rf\"../Test Data/{fn}_PROCESSED\", playback_fps=30., capture_fps=capture_fps)\n",
    "\n",
    "shape = int(np.sqrt(y_c.shape[0]))\n",
    "# viewer.play_video()\n",
    "# res = np.array((x_c.reshape((shape, shape)), y_c.reshape((shape, shape)), u, v))\n",
    "res = np.array([[x_c.reshape(shape, shape), y_c.reshape(shape, shape), u, v]])\n",
    "print(res.shape)\n",
    "vector_field(image_1_file, res, scale)"
   ],
   "id": "aaa4006e6c8c9416",
   "outputs": [
    {
     "name": "stdout",
     "output_type": "stream",
     "text": [
      "Directory '../Test Data/plume simulation' already exists\n",
      "Directory '../Test Data/plume simulation' already exists\n",
      "Directory '../Test Data/plume simulation_PROCESSED' already exists\n",
      "cpu\n",
      "(1, 4, 63, 63)\n"
     ]
    }
   ],
   "execution_count": 78
  }
 ],
 "metadata": {
  "kernelspec": {
   "display_name": "Python 3",
   "language": "python",
   "name": "python3"
  },
  "language_info": {
   "codemirror_mode": {
    "name": "ipython",
    "version": 2
   },
   "file_extension": ".py",
   "mimetype": "text/x-python",
   "name": "python",
   "nbconvert_exporter": "python",
   "pygments_lexer": "ipython2",
   "version": "2.7.6"
  }
 },
 "nbformat": 4,
 "nbformat_minor": 5
}
