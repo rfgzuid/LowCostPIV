{
 "cells": [
  {
   "cell_type": "code",
   "id": "initial_id",
   "metadata": {
    "collapsed": true,
    "ExecuteTime": {
     "end_time": "2024-05-14T10:48:19.255528Z",
     "start_time": "2024-05-14T10:48:17.092616Z"
    }
   },
   "source": [
    "from torchPIV.PIVbackend import ToTensor, PIVDataset, moving_window_array\n",
    "from SIV_library.lib import block_match, moving_reference_array, match_to_displacement, correlation_to_displacement, get_field_shape, get_x_y, plot_velocity_single_frame\n",
    "from SIV_library.processing import Video, Processor, Viewer\n",
    "\n",
    "import os\n",
    "import sys\n",
    "import cv2\n",
    "import torch\n",
    "import numpy as np\n",
    "import matplotlib.pyplot as plt\n",
    "\n",
    "os.environ[\"OPENCV_IO_ENABLE_OPENEXR\"]=\"1\"\n",
    "sys.path.append(\"../../\")\n",
    "import helpers\n",
    "\n",
    "\n",
    "%load_ext autoreload\n",
    "%autoreload 2"
   ],
   "outputs": [
    {
     "name": "stdout",
     "output_type": "stream",
     "text": [
      "The autoreload extension is already loaded. To reload it, use:\n",
      "  %reload_ext autoreload\n"
     ]
    }
   ],
   "execution_count": 38
  },
  {
   "metadata": {
    "ExecuteTime": {
     "end_time": "2024-05-13T10:20:34.744693Z",
     "start_time": "2024-05-13T10:20:34.620880Z"
    }
   },
   "cell_type": "code",
   "source": [
    "device = \"cuda\" if torch.cuda.is_available() else \"cpu\"\n",
    "device = \"cpu\"\n",
    "\n",
    "dataset = PIVDataset(\"../Test Data/plume simulation_PROCESSED\", \".jpg\",\n",
    "                     \"sequential\", transform=ToTensor(dtype=torch.uint8))"
   ],
   "id": "889bbed85a67904b",
   "outputs": [],
   "execution_count": 2
  },
  {
   "metadata": {
    "ExecuteTime": {
     "end_time": "2024-05-13T10:52:22.675225Z",
     "start_time": "2024-05-13T10:52:22.385293Z"
    }
   },
   "cell_type": "code",
   "source": [
    "testing_0 = helpers.imread_normalized_float_grayscale(os.path.join(\"../Test Data/test\", \"0.jpg\"))\n",
    "testing_0 = np.where(testing_0 > 0.5, 1.0, 0.0)  # TEMPORARY, TO MAKE TEST MORE IDEAL\n",
    "testing_1 = helpers.imread_normalized_float_grayscale(os.path.join(\"../Test Data/test\", \"1.jpg\"))\n",
    "testing_1 = np.where(testing_1 > 0.5, 1.0, 0.0)  # TEMPORARY, TO MAKE TEST MORE IDEAL"
   ],
   "id": "7eaa354fa03cdbc9",
   "outputs": [],
   "execution_count": 31
  },
  {
   "metadata": {
    "ExecuteTime": {
     "end_time": "2024-05-13T10:53:17.931106Z",
     "start_time": "2024-05-13T10:53:17.689625Z"
    }
   },
   "cell_type": "code",
   "source": [
    "# img_a, img_b = dataset[1]\n",
    "# img_a, img_b = img_a.to(device), img_b.to(device)\n",
    "\n",
    "img_a, img_b = torch.from_numpy(testing_0), torch.from_numpy(testing_1)\n",
    "window_size, overlap = 16, 8\n",
    "aa = moving_window_array(img_a, window_size, overlap)\n",
    "\n",
    "window_amount = aa.shape[0]\n",
    "print(window_amount, 'windows')"
   ],
   "id": "159c490cc541ffa6",
   "outputs": [
    {
     "name": "stdout",
     "output_type": "stream",
     "text": [
      "225 windows\n"
     ]
    }
   ],
   "execution_count": 34
  },
  {
   "metadata": {
    "ExecuteTime": {
     "end_time": "2024-05-13T10:53:52.008847Z",
     "start_time": "2024-05-13T10:53:20.057964Z"
    }
   },
   "cell_type": "code",
   "source": [
    "bb = moving_reference_array(img_b, window_size, overlap, left=10, right=10, top=10, bottom=10)\n",
    "\n",
    "idx = 1\n",
    "window, area = aa, bb\n",
    "# idx = 5\n",
    "\n",
    "#4.09458182656812\n",
    "#-3.4124938088181693\n",
    "\n",
    "cv2.imshow('Interrogation window', window[idx].cpu().numpy())\n",
    "cv2.waitKey(0)\n",
    "cv2.imshow('Search area', area[idx].cpu().numpy())\n",
    "cv2.waitKey(0)\n",
    "cv2.destroyAllWindows()\n",
    "corr = block_match(window, area, mode=0)[idx]\n",
    "intensity = block_match(window, area, mode=1)[idx]\n",
    "\n",
    "corr_min, corr_max = torch.min(corr), torch.max(corr)\n",
    "corr_img = (corr-corr_min)/(corr_max-corr_min)\n",
    "\n",
    "intensity_min, intensity_max = torch.min(intensity), torch.max(intensity)\n",
    "intensity_img = 1 - (intensity-intensity_min)/(intensity_max-intensity_min)\n",
    "\n",
    "match_to_displacement(block_match(window, area, 1))\n",
    "\n",
    "corr = block_match(window, area, mode=0)\n",
    "nrows, ncols = get_field_shape(img_a.shape, window_size, overlap)\n",
    "u, v = correlation_to_displacement(corr, nrows, ncols)\n",
    "row, col = idx // 31, idx % 31\n",
    "print(f\"u shape = {u.shape}\")\n",
    "print(u[row, col])\n",
    "print(f\"v shape = {v.shape}\")\n",
    "print(v[row, col])\n",
    "\n",
    "plts = np.hstack((corr_img.cpu().numpy(), intensity_img.cpu().numpy()))\n",
    "\n",
    "fig = plt.figure()\n",
    "ax = fig.add_subplot(projection='3d')\n",
    "x, y = np.meshgrid(range(area.shape[2] - window.shape[2] + 1), range(area.shape[1] - window.shape[1] + 1))\n",
    "\n",
    "\n",
    "ax.plot_surface(x, y, corr_img, color='b', alpha=0.5, label='correlation')\n",
    "ax.plot_surface(x, y, intensity_img, color='r', alpha=0.5, label='SAD')\n",
    "\n",
    "plt.legend()\n",
    "plt.show()\n"
   ],
   "id": "d4c4f0fb0205888a",
   "outputs": [
    {
     "name": "stderr",
     "output_type": "stream",
     "text": [
      "100%|██████████| 225/225 [00:00<00:00, 794.38it/s]\n",
      "100%|██████████| 21/21 [00:00<00:00, 53.44it/s]\n",
      "100%|██████████| 21/21 [00:00<00:00, 52.64it/s]\n",
      "100%|██████████| 225/225 [00:00<00:00, 1504.01it/s]\n"
     ]
    },
    {
     "name": "stdout",
     "output_type": "stream",
     "text": [
      "u shape = (15, 15)\n",
      "3\n",
      "v shape = (15, 15)\n",
      "0\n"
     ]
    }
   ],
   "execution_count": 35
  },
  {
   "metadata": {
    "ExecuteTime": {
     "end_time": "2024-05-13T10:53:56.971269Z",
     "start_time": "2024-05-13T10:53:56.855948Z"
    }
   },
   "cell_type": "code",
   "source": "x_c, y_c = get_x_y(img_a.shape, window_size, overlap)   ",
   "id": "f14cd6aaef93b100",
   "outputs": [],
   "execution_count": 36
  },
  {
   "metadata": {
    "ExecuteTime": {
     "end_time": "2024-05-13T10:54:15.960014Z",
     "start_time": "2024-05-13T10:53:58.660356Z"
    }
   },
   "cell_type": "code",
   "source": "plot_velocity_single_frame(img_a, x_c, y_c, u, v)",
   "id": "c76a8ab0eb1eb2d9",
   "outputs": [],
   "execution_count": 37
  },
  {
   "metadata": {
    "ExecuteTime": {
     "end_time": "2024-05-14T11:04:48.585888Z",
     "start_time": "2024-05-14T11:04:47.630188Z"
    }
   },
   "cell_type": "code",
   "source": [
    "video_file = \"SmokeVideo.mp4\"\n",
    "fn = video_file.split(\".\")[0]\n",
    "frames = [int(\"00\" + str(i)) for i in range(100, 151)]\n",
    "\n",
    "vid = Video(rf\"../Test Data/{video_file}\", df='.jpg', indices=frames)\n",
    "vid.create_frames()\n",
    "vid.create_frames()\n",
    "\n",
    "processor = Processor(rf\"../Test Data/{fn}\", df='.jpg', denoise=False, rescale=None, crop=False)\n",
    "processor.postprocess()\n",
    "\n",
    "device = torch.cuda.get_device_name() if torch.cuda.is_available() else \"cpu\"\n",
    "print(device)\n",
    "\n",
    "capture_fps = 240.\n",
    "scale = 0.02\n",
    "\n",
    "viewer = Viewer(rf\"../Test Data/{fn}_PROCESSED\", playback_fps=30., capture_fps=capture_fps)\n",
    "\n",
    "# viewer.play_video()\n",
    "res = np.array(((x_c, y_c, u.flatten(), v.flatten()))).T\n",
    "viewer.vector_field(res, scale)"
   ],
   "id": "aaa4006e6c8c9416",
   "outputs": [
    {
     "name": "stdout",
     "output_type": "stream",
     "text": [
      "Directory '../Test Data/SmokeVideo' already exists\n",
      "Directory '../Test Data/SmokeVideo' already exists\n",
      "Directory '../Test Data/SmokeVideo_PROCESSED' already exists\n",
      "cpu\n"
     ]
    },
    {
     "ename": "AxisError",
     "evalue": "axis 0 is out of bounds for array of dimension 0",
     "output_type": "error",
     "traceback": [
      "\u001B[1;31m---------------------------------------------------------------------------\u001B[0m",
      "\u001B[1;31mAxisError\u001B[0m                                 Traceback (most recent call last)",
      "Cell \u001B[1;32mIn[50], line 22\u001B[0m\n\u001B[0;32m     20\u001B[0m \u001B[38;5;66;03m# viewer.play_video()\u001B[39;00m\n\u001B[0;32m     21\u001B[0m res \u001B[38;5;241m=\u001B[39m np\u001B[38;5;241m.\u001B[39marray(((x_c, y_c, u\u001B[38;5;241m.\u001B[39mflatten(), v\u001B[38;5;241m.\u001B[39mflatten())))\u001B[38;5;241m.\u001B[39mT\n\u001B[1;32m---> 22\u001B[0m \u001B[43mviewer\u001B[49m\u001B[38;5;241;43m.\u001B[39;49m\u001B[43mvector_field\u001B[49m\u001B[43m(\u001B[49m\u001B[43mres\u001B[49m\u001B[43m,\u001B[49m\u001B[43m \u001B[49m\u001B[43mscale\u001B[49m\u001B[43m)\u001B[49m\n",
      "File \u001B[1;32m~\\Documents\\School\\Y4-Q4\\BEP\\LowCostPIV\\src\\SIV_library\\processing.py:199\u001B[0m, in \u001B[0;36mViewer.vector_field\u001B[1;34m(self, results, scale)\u001B[0m\n\u001B[0;32m    197\u001B[0m x0, y0, vx0, vy0 \u001B[38;5;241m=\u001B[39m results[\u001B[38;5;241m0\u001B[39m]\n\u001B[0;32m    198\u001B[0m new_x0, new_y0 \u001B[38;5;241m=\u001B[39m x0\u001B[38;5;241m/\u001B[39mscale, y0\u001B[38;5;241m/\u001B[39mscale\n\u001B[1;32m--> 199\u001B[0m vx0, vy0 \u001B[38;5;241m=\u001B[39m \u001B[43mnp\u001B[49m\u001B[38;5;241;43m.\u001B[39;49m\u001B[43mflip\u001B[49m\u001B[43m(\u001B[49m\u001B[43mvx0\u001B[49m\u001B[43m,\u001B[49m\u001B[43m \u001B[49m\u001B[43maxis\u001B[49m\u001B[38;5;241;43m=\u001B[39;49m\u001B[38;5;241;43m0\u001B[39;49m\u001B[43m)\u001B[49m, np\u001B[38;5;241m.\u001B[39mflip(vy0, axis\u001B[38;5;241m=\u001B[39m\u001B[38;5;241m0\u001B[39m)  \u001B[38;5;66;03m# flip velocities for correct IMAGE coords\u001B[39;00m\n\u001B[0;32m    200\u001B[0m vectors \u001B[38;5;241m=\u001B[39m ax\u001B[38;5;241m.\u001B[39mquiver(new_x0, new_y0, vx0, vy0, max_abs\u001B[38;5;241m-\u001B[39mmin_abs, scale\u001B[38;5;241m=\u001B[39m\u001B[38;5;241m.2\u001B[39m, cmap\u001B[38;5;241m=\u001B[39m\u001B[38;5;124m'\u001B[39m\u001B[38;5;124mjet\u001B[39m\u001B[38;5;124m'\u001B[39m)\n\u001B[0;32m    202\u001B[0m \u001B[38;5;28;01mdef\u001B[39;00m \u001B[38;5;21mupdate\u001B[39m(idx):\n",
      "File \u001B[1;32m~\\Documents\\School\\Y4-Q4\\BEP\\openpiv-python-master\\.venv\\Lib\\site-packages\\numpy\\lib\\function_base.py:340\u001B[0m, in \u001B[0;36mflip\u001B[1;34m(m, axis)\u001B[0m\n\u001B[0;32m    338\u001B[0m     indexer \u001B[38;5;241m=\u001B[39m (np\u001B[38;5;241m.\u001B[39ms_[::\u001B[38;5;241m-\u001B[39m\u001B[38;5;241m1\u001B[39m],) \u001B[38;5;241m*\u001B[39m m\u001B[38;5;241m.\u001B[39mndim\n\u001B[0;32m    339\u001B[0m \u001B[38;5;28;01melse\u001B[39;00m:\n\u001B[1;32m--> 340\u001B[0m     axis \u001B[38;5;241m=\u001B[39m \u001B[43m_nx\u001B[49m\u001B[38;5;241;43m.\u001B[39;49m\u001B[43mnormalize_axis_tuple\u001B[49m\u001B[43m(\u001B[49m\u001B[43maxis\u001B[49m\u001B[43m,\u001B[49m\u001B[43m \u001B[49m\u001B[43mm\u001B[49m\u001B[38;5;241;43m.\u001B[39;49m\u001B[43mndim\u001B[49m\u001B[43m)\u001B[49m\n\u001B[0;32m    341\u001B[0m     indexer \u001B[38;5;241m=\u001B[39m [np\u001B[38;5;241m.\u001B[39ms_[:]] \u001B[38;5;241m*\u001B[39m m\u001B[38;5;241m.\u001B[39mndim\n\u001B[0;32m    342\u001B[0m     \u001B[38;5;28;01mfor\u001B[39;00m ax \u001B[38;5;129;01min\u001B[39;00m axis:\n",
      "File \u001B[1;32m~\\Documents\\School\\Y4-Q4\\BEP\\openpiv-python-master\\.venv\\Lib\\site-packages\\numpy\\core\\numeric.py:1380\u001B[0m, in \u001B[0;36mnormalize_axis_tuple\u001B[1;34m(axis, ndim, argname, allow_duplicate)\u001B[0m\n\u001B[0;32m   1378\u001B[0m         \u001B[38;5;28;01mpass\u001B[39;00m\n\u001B[0;32m   1379\u001B[0m \u001B[38;5;66;03m# Going via an iterator directly is slower than via list comprehension.\u001B[39;00m\n\u001B[1;32m-> 1380\u001B[0m axis \u001B[38;5;241m=\u001B[39m \u001B[38;5;28mtuple\u001B[39m(\u001B[43m[\u001B[49m\u001B[43mnormalize_axis_index\u001B[49m\u001B[43m(\u001B[49m\u001B[43max\u001B[49m\u001B[43m,\u001B[49m\u001B[43m \u001B[49m\u001B[43mndim\u001B[49m\u001B[43m,\u001B[49m\u001B[43m \u001B[49m\u001B[43margname\u001B[49m\u001B[43m)\u001B[49m\u001B[43m \u001B[49m\u001B[38;5;28;43;01mfor\u001B[39;49;00m\u001B[43m \u001B[49m\u001B[43max\u001B[49m\u001B[43m \u001B[49m\u001B[38;5;129;43;01min\u001B[39;49;00m\u001B[43m \u001B[49m\u001B[43maxis\u001B[49m\u001B[43m]\u001B[49m)\n\u001B[0;32m   1381\u001B[0m \u001B[38;5;28;01mif\u001B[39;00m \u001B[38;5;129;01mnot\u001B[39;00m allow_duplicate \u001B[38;5;129;01mand\u001B[39;00m \u001B[38;5;28mlen\u001B[39m(\u001B[38;5;28mset\u001B[39m(axis)) \u001B[38;5;241m!=\u001B[39m \u001B[38;5;28mlen\u001B[39m(axis):\n\u001B[0;32m   1382\u001B[0m     \u001B[38;5;28;01mif\u001B[39;00m argname:\n",
      "File \u001B[1;32m~\\Documents\\School\\Y4-Q4\\BEP\\openpiv-python-master\\.venv\\Lib\\site-packages\\numpy\\core\\numeric.py:1380\u001B[0m, in \u001B[0;36m<listcomp>\u001B[1;34m(.0)\u001B[0m\n\u001B[0;32m   1378\u001B[0m         \u001B[38;5;28;01mpass\u001B[39;00m\n\u001B[0;32m   1379\u001B[0m \u001B[38;5;66;03m# Going via an iterator directly is slower than via list comprehension.\u001B[39;00m\n\u001B[1;32m-> 1380\u001B[0m axis \u001B[38;5;241m=\u001B[39m \u001B[38;5;28mtuple\u001B[39m([normalize_axis_index(ax, ndim, argname) \u001B[38;5;28;01mfor\u001B[39;00m ax \u001B[38;5;129;01min\u001B[39;00m axis])\n\u001B[0;32m   1381\u001B[0m \u001B[38;5;28;01mif\u001B[39;00m \u001B[38;5;129;01mnot\u001B[39;00m allow_duplicate \u001B[38;5;129;01mand\u001B[39;00m \u001B[38;5;28mlen\u001B[39m(\u001B[38;5;28mset\u001B[39m(axis)) \u001B[38;5;241m!=\u001B[39m \u001B[38;5;28mlen\u001B[39m(axis):\n\u001B[0;32m   1382\u001B[0m     \u001B[38;5;28;01mif\u001B[39;00m argname:\n",
      "\u001B[1;31mAxisError\u001B[0m: axis 0 is out of bounds for array of dimension 0"
     ]
    }
   ],
   "execution_count": 50
  }
 ],
 "metadata": {
  "kernelspec": {
   "display_name": "Python 3",
   "language": "python",
   "name": "python3"
  },
  "language_info": {
   "codemirror_mode": {
    "name": "ipython",
    "version": 2
   },
   "file_extension": ".py",
   "mimetype": "text/x-python",
   "name": "python",
   "nbconvert_exporter": "python",
   "pygments_lexer": "ipython2",
   "version": "2.7.6"
  }
 },
 "nbformat": 4,
 "nbformat_minor": 5
}
