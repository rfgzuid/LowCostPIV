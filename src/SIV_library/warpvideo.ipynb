{
 "cells": [
  {
   "cell_type": "code",
   "id": "initial_id",
   "metadata": {
    "collapsed": true,
    "ExecuteTime": {
     "end_time": "2024-06-12T21:23:56.889023600Z",
     "start_time": "2024-06-12T21:23:50.846471900Z"
    }
   },
   "source": [
    "import cv2, PIL, os, sys\n",
    "import copy\n",
    "import math\n",
    "import datetime\n",
    "import numpy as np\n",
    "import matplotlib.pyplot as plt\n",
    "import matplotlib.animation as animation\n",
    "import pandas as pd\n",
    "from PIL import Image\n",
    "\n",
    "from cropimage import crop_single_image\n",
    "from processing import Processor\n",
    "\n",
    "%matplotlib nbagg\n",
    "%load_ext autoreload\n",
    "%autoreload 2"
   ],
   "outputs": [],
   "execution_count": 1
  },
  {
   "metadata": {
    "ExecuteTime": {
     "end_time": "2024-06-12T21:23:57.688887400Z",
     "start_time": "2024-06-12T21:23:57.603241600Z"
    }
   },
   "cell_type": "code",
   "source": [
    "\n",
    "class WarpVideo:\n",
    "    def __init__(self, frames_path: str, chessboard_vid_path: str, destination_frames_folder:str | None = None , chessboard_shape: tuple[int, int] = (6, 9)) -> None:\n",
    "        self.frames_path: str = frames_path\n",
    "        self.chessboard_vid_path: str = chessboard_vid_path\n",
    "        self.chessboard_shape: tuple[int, int] = chessboard_shape\n",
    "        self.destination_frames_folder: str | None = destination_frames_folder\n",
    "        self.chessboard_images: list[np.ndarray] | None = None\n",
    "        self.camera_matrix: np.ndarray | None = None\n",
    "        self.dist_coeff: np.ndarray | None = None\n",
    "        self.undistorted_frames: np.ndarray |list[np.ndarray] | None = None\n",
    "        self.adjusted_matrix: np.ndarray | None = None\n",
    "        self.adjusted_width: int | None = None\n",
    "        self.adjusted_height: int | None = None\n",
    "        self.corresp_imgnames: list[str] | None = None\n",
    "        self.saved_img_names:list[str] | None = None\n",
    "    \n",
    "    @staticmethod\n",
    "    def display_video(frames):\n",
    "        for frame in frames:\n",
    "            cv2.imshow(\"Frame\", frame)\n",
    "            cv2.waitKey(30)\n",
    "            if cv2.waitKey(1) & 0xFF == ord('q'):\n",
    "                break\n",
    "\n",
    "        cv2.destroyAllWindows()\n",
    "    \n",
    "    def __load_chessboard_images(self, every_x_frames:int = 20, overwrite: bool = False) -> list[np.ndarray]:\n",
    "        char_frames = []\n",
    "        for i, file in enumerate(os.listdir(self.chessboard_vid_path)):\n",
    "            current_frame = -1\n",
    "            charuco_vid_file_1 = f\"{self.chessboard_vid_path}/{file}\"\n",
    "            video = cv2.VideoCapture(charuco_vid_file_1)\n",
    "            grabbed, frame = video.read()\n",
    "            while grabbed:\n",
    "                current_frame += 1\n",
    "                if not current_frame % every_x_frames:\n",
    "                    char_frames.append(frame)\n",
    "                grabbed, frame = video.read()\n",
    "        print(\"number of pics loaded: \", len(char_frames))\n",
    "        if overwrite:\n",
    "            self.chessboard_images = char_frames\n",
    "        return char_frames\n",
    "\n",
    "    def find_intrinsic(self, overwrite:bool = False) -> tuple[np.ndarray, np.ndarray]:\n",
    "        self.chessboard_images = self.__load_chessboard_images(overwrite=overwrite) if self.chessboard_images is None else self.chessboard_images\n",
    "        \n",
    "        copiedframes = copy.deepcopy(self.chessboard_images)\n",
    "        criteria = (cv2.TERM_CRITERIA_EPS + cv2.TERM_CRITERIA_MAX_ITER, 30, 0.001)\n",
    "\n",
    "        # Prepare object points, like (0,0,0), (1,0,0), (2,0,0) ....,(4,7,0)\n",
    "        objp = np.zeros((self.chessboard_shape[0] * self.chessboard_shape[1], 3), np.float32)\n",
    "        objp[:, :2] = np.mgrid[0: self.chessboard_shape[0], 0: self.chessboard_shape[1]].T.reshape(-1, 2)\n",
    "        \n",
    "        size_of_chessboard_squares_mm = 30\n",
    "        objp = objp * size_of_chessboard_squares_mm\n",
    "        \n",
    "        # Arrays to store object points and image points from all the images.\n",
    "        objpoints = []  # 3d point in real world space\n",
    "        imgpoints = []  # 2d points in image plane\n",
    "        \n",
    "        # Use the first frame to determine the frame size\n",
    "        if len(copiedframes) > 0:\n",
    "            frameHeight, frameWidth = copiedframes[0].shape[:2]\n",
    "            frameSize = (frameWidth, frameHeight)\n",
    "        else:\n",
    "            raise ValueError(\"No frames in charucoFrames list\")\n",
    "    \n",
    "        found = 0\n",
    "        for idx, frame in enumerate(copiedframes):\n",
    "            if frame is None:\n",
    "                continue\n",
    "            \n",
    "            # Downscale the image by a factor of 5\n",
    "            gray = cv2.cvtColor(frame, cv2.COLOR_BGR2GRAY)\n",
    "        \n",
    "            # Find the chess board corners\n",
    "            ret, corners = cv2.findChessboardCorners(gray, self.chessboard_shape, None)\n",
    "        \n",
    "            if ret:\n",
    "                found += 1\n",
    "                objpoints.append(objp)\n",
    "                corners2 = cv2.cornerSubPix(gray, corners, (11, 11), (-1, -1), criteria)\n",
    "                imgpoints.append(corners2)\n",
    "        \n",
    "        if len(objpoints) == 0 or len(imgpoints) == 0:\n",
    "            raise ValueError(\"No chessboard corners found in any of the frames.\")\n",
    "        print(f\"Found chessboard corners in {found} frames.\")\n",
    "        \n",
    "        ret, cameraMatrix, dist, _, _ = cv2.calibrateCamera(objpoints, imgpoints, frameSize, None, None)\n",
    "\n",
    "        if not ret:\n",
    "            raise ValueError(\"Camera calibration failed.\")\n",
    "        print(f\"Camera calibration succeeded. RME: {ret} pixels\")\n",
    "        self.camera_matrix, self.dist_coeff = cameraMatrix, dist if overwrite or (self.camera_matrix, self.dist_coeff) == (None, None) else None\n",
    "        return cameraMatrix, dist\n",
    "    \n",
    "                \n",
    "    def undistort_frames(self, cameraMatrix:np.ndarray|None = None, dist:np.ndarray|None=None, pathToFolder:str|None=None, return_imgs: bool = False, overwrite_existing:bool=True) -> None | list[np.ndarray]:\n",
    "        if pathToFolder is None:\n",
    "            pathToFolder = self.frames_path\n",
    "            if pathToFolder is None:\n",
    "                raise ValueError(\"No frames path specified.\")\n",
    "        if cameraMatrix is None:\n",
    "            cameraMatrix = self.camera_matrix\n",
    "            if cameraMatrix is None:\n",
    "                raise ValueError(\"Camera matrix is empty.\")\n",
    "        if dist is None:\n",
    "            dist = self.dist_coeff\n",
    "            if dist is None:\n",
    "                raise ValueError(\"Distance coefficient is empty.\")\n",
    "        undistorted_frames = []\n",
    "        if self.undistorted_frames is None:\n",
    "            self.undistorted_frames = []\n",
    "        if self.saved_img_names is None:\n",
    "            self.saved_img_names = []\n",
    "        for filename in os.listdir(pathToFolder):\n",
    "            frame_path = os.path.join(pathToFolder, filename)\n",
    "            frame = cv2.imread(frame_path)\n",
    "            h, w = frame.shape[:2]\n",
    "            newCameraMatrix, _ = cv2.getOptimalNewCameraMatrix(cameraMatrix, dist, (w, h), 1, (w, h))\n",
    "\n",
    "            # Undistort the image\n",
    "            undistorted = cv2.undistort(frame, cameraMatrix, dist, None, newCameraMatrix)\n",
    "            if return_imgs:\n",
    "                undistorted_frames.append(undistorted)\n",
    "            if overwrite_existing:\n",
    "                self.undistorted_frames.append(undistorted)\n",
    "                self.saved_img_names.append(filename)\n",
    "        if return_imgs:\n",
    "            return undistorted_frames\n",
    "        return None\n",
    "                \n",
    "            \n",
    "    \n",
    "    def findWarpPerspective(self, image_path, image_points, cornerpoints, image: np.ndarray | None = None):\n",
    "        \n",
    "        # Load the image\n",
    "        if image is None:\n",
    "            image = cv2.imread(image_path)\n",
    "        if image is None:\n",
    "            print(f\"Failed to load image at {image_path}\")\n",
    "            exit()\n",
    "        # Create a figure and axis\n",
    "        # Display the input image\n",
    "        # ax.imshow(image)\n",
    "        # plt.close()\n",
    "\n",
    "        # Add dots for each coordinate\n",
    "        # for point in image_points:\n",
    "        #     ax.scatter(point[0], point[1], color='red', s=40)  # s is the size of the dot\n",
    "        if len(image_points) != 4:\n",
    "            print(\"You need to select exactly 4 points.\")\n",
    "            exit()\n",
    "        # Convert points to numpy float32 format\n",
    "        pts1 = np.float32(image_points)\n",
    "        # Compute the width and height of the quadrilateral\n",
    "        width_top = np.linalg.norm(pts1[0] - pts1[1])\n",
    "        width_bottom = np.linalg.norm(pts1[2] - pts1[3])\n",
    "        height_left = np.linalg.norm(pts1[0] - pts1[3])\n",
    "        height_right = np.linalg.norm(pts1[1] - pts1[2])\n",
    "\n",
    "        # Use the maximum of the widths and heights to define the square size\n",
    "        max_width = max(int(width_top), int(width_bottom))\n",
    "        max_height = max(int(height_left), int(height_right))\n",
    "        square_size = max(max_width, max_height)\n",
    "\n",
    "        # Define the destination points as a square with the calculated size\n",
    "        pts2 = np.float32([\n",
    "            [0, 0],\n",
    "            [square_size - 1, 0],\n",
    "            [square_size - 1, square_size - 1],\n",
    "            [0, square_size - 1]\n",
    "        ])\n",
    "        # Get the perspective transform matrix\n",
    "        matrix = cv2.getPerspectiveTransform(pts1, pts2)\n",
    "        # Warp the entire image using the perspective transform matrix\n",
    "        # To keep the whole image visible, let's compute the output bounds\n",
    "        h, w = image.shape[:2]\n",
    "\n",
    "        # Transform the four corners of the original image\n",
    "        if cornerpoints is None or len(cornerpoints) == 0:\n",
    "            corners_points = np.float32([[0, 0], [w-1, 0], [w-1, h-1], [0, h-1]])\n",
    "        else:\n",
    "            corners_points = np.float32(cornerpoints)\n",
    "        \n",
    "        transformed_corners = cv2.perspectiveTransform(corners_points[None, :, :], matrix)[0]\n",
    "        # Find the bounding box of the transformed corners\n",
    "        x_min, y_min = np.min(transformed_corners, axis=0).astype(int)\n",
    "        x_max, y_max = np.max(transformed_corners, axis=0).astype(int)\n",
    "        \n",
    "        # Calculate the size of the new image\n",
    "        new_width = x_max - x_min\n",
    "        new_height = y_max - y_min\n",
    "\n",
    "        # Create the translation matrix to shift the image to the positive coordinates\n",
    "        translation_matrix = np.array([[1, 0, -x_min], [0, 1, -y_min], [0, 0, 1]])\n",
    "\n",
    "        # Adjust the perspective transform matrix with the translation\n",
    "        adjusted_matrix = translation_matrix @ matrix\n",
    "        \n",
    "        # Perform the warp with the adjusted matrix\n",
    "        result = cv2.warpPerspective(image, adjusted_matrix, (new_width, new_height), flags=cv2.INTER_LINEAR,\n",
    "                                    borderMode=cv2.BORDER_CONSTANT, borderValue=(0, 0, 0))\n",
    "        \n",
    "        # Display the transformed image using matplotlib\n",
    "        # plt.figure(figsize=(10, 10))\n",
    "        # plt.imshow(result)\n",
    "        # cv2.imwrite(\"../../Test Data/charuco_temp_folder/measurement_frames_formatted/inverted.jpg\", cv2.cvtColor(result, cv2.COLOR_BGR2RGB))\n",
    "        # plt.title(\"Perspective Transform Applied to Entire Image\")\n",
    "        # plt.show()\n",
    "        impth = \"../../Test Data/charuco_temp_folder/abcdef.jpg\"\n",
    "        abc, defg, _ = result.shape\n",
    "        # print(result.shape)\n",
    "        \n",
    "        self.adjusted_matrix, self.adjusted_width, self.adjusted_height = adjusted_matrix, new_width, new_height\n",
    "        \n",
    "        # result_resized = cv2.resize(result, (defg // 4, abc// 4), interpolation=cv2.INTER_LINEAR)\n",
    "        # cv2.imwrite(impth, result)\n",
    "        # cv2.imshow(\"res\", result_resized)\n",
    "        # cv2.waitKey()\n",
    "        # cv2.destroyAllWindows()\n",
    "    \n",
    "    def __warp_image(self, image):\n",
    "        return cv2.warpPerspective(image, self.adjusted_matrix, (self.adjusted_width, self.adjusted_height), flags=cv2.INTER_LINEAR,borderMode=cv2.BORDER_CONSTANT, borderValue=(0, 0, 0))\n",
    "        \n",
    "    \n",
    "    def generate_warped_images(self, camera_matrix:np.ndarray|None = None, dist_coeff:np.ndarray|None=None, path_to_write_vids:str|None=None, path_to_distorted_pics:str|None=None, path_to_undistorted_pics:str|None=None, filenames:list[str] | np.ndarray[str] |None=None):\n",
    "        if camera_matrix is None:\n",
    "            camera_matrix = self.camera_matrix\n",
    "        if dist_coeff is None:\n",
    "            dist_coeff = self.dist_coeff\n",
    "        if dist_coeff is None or camera_matrix is None:\n",
    "            self.dist_coeff = None\n",
    "            self.camera_matrix = None\n",
    "            self.find_intrinsic(overwrite=True)\n",
    "        \n",
    "        if path_to_write_vids is None:\n",
    "            raise ValueError(\"No destination for warped videos found.\")\n",
    "        if path_to_distorted_pics is not None:\n",
    "            undistorted_imgs = self.undistort_frames(pathToFolder=path_to_distorted_pics, return_imgs=True, overwrite_existing = False)\n",
    "        if self.undistorted_frames is None:\n",
    "            self.undistort_frames()\n",
    "        else:\n",
    "            undistorted_imgs = self.undistorted_frames\n",
    "        if self.adjusted_matrix is None or self.adjusted_width is None or self.adjusted_height is None:\n",
    "            raise ValueError(\"You need to find the warp matrix. Run self.findWarpPerspective first.\")\n",
    "        \n",
    "        for i, frame in enumerate(self.undistorted_frames):\n",
    "            img_name = f\"{i}.jpg\" if filenames is None else filenames[i]\n",
    "            warped_image = self.__warp_image(frame)\n",
    "            cv2.imwrite(f\"{path_to_write_vids}/{img_name}\", warped_image)\n",
    "            \n",
    "        \n",
    "        "
   ],
   "id": "1faf5837e61a003c",
   "outputs": [],
   "execution_count": 2
  },
  {
   "metadata": {
    "ExecuteTime": {
     "end_time": "2024-06-12T21:24:00.843046500Z",
     "start_time": "2024-06-12T21:24:00.755400500Z"
    }
   },
   "cell_type": "code",
   "source": [
    "# warp_img_path = \"../../Test Data/charuco_temp_folder/testtest\"\n",
    "unwarped_undistorted_images_folder = \"../../Test Data/charuco_temp_folder/testwarping/e_9_percent\"\n",
    "warped_destination_folder = \"../../Test Data/charuco_temp_folder/testwarping/destination\"\n",
    "x = np.float32([[1.44058342 * 10 ** 3, 0.00000000, 9.49703258 * 10 ** 2],\n",
    " [0.00000000, 1.43643171 * 10 ** 3, 5.66369243 * 10 ** 2],\n",
    " [0.00000000, 0.00000000, 1.00000000]])\n",
    "y = np.float32([[1.92756759 * 10 ** -1, -7.20995760 * 10 ** -1,  3.34726484 * 10 ** -3, -5.61250479 * 10 ** -4,\n",
    "   7.99993126 * 10 ** -1]])"
   ],
   "id": "dad626644ed70564",
   "outputs": [],
   "execution_count": 3
  },
  {
   "metadata": {
    "ExecuteTime": {
     "end_time": "2024-06-12T21:24:26.786798500Z",
     "start_time": "2024-06-12T21:24:26.202966Z"
    }
   },
   "cell_type": "code",
   "source": [
    "obj = WarpVideo(unwarped_undistorted_images_folder, \"../../Test Data/charuco_temp_folder/intrinsic_vid\")\n",
    "obj.camera_matrix = x\n",
    "obj.dist_coeff = y\n",
    "# obj.find_intrinsic()\n",
    "\n",
    "warp_img_path = \"../../Test Data/charuco_temp_folder/chessboard_pic/middle_frame.jpg\"\n",
    "# image_points = [\n",
    "#     [1070, 315],\n",
    "#     [1557, 395],\n",
    "#     [1677, 654],\n",
    "#     [997, 532]\n",
    "# ]\n",
    "image_points_undistorted = [\n",
    "    [1071, 317],\n",
    "    [1557, 397],\n",
    "    [1676, 655],\n",
    "    [997, 535]\n",
    "]\n",
    "\n",
    "corners = np.float32([\n",
    "    [276,64],\n",
    "    [1836,438],\n",
    "    [1769,1038],\n",
    "    [100,974]\n",
    "])\n",
    "obj.findWarpPerspective(warp_img_path, image_points_undistorted, corners)"
   ],
   "id": "77fd488f18ae2533",
   "outputs": [
    {
     "ename": "NameError",
     "evalue": "name 'WarpVideo' is not defined",
     "output_type": "error",
     "traceback": [
      "\u001B[1;31m---------------------------------------------------------------------------\u001B[0m",
      "\u001B[1;31mNameError\u001B[0m                                 Traceback (most recent call last)",
      "Cell \u001B[1;32mIn[1], line 1\u001B[0m\n\u001B[1;32m----> 1\u001B[0m obj \u001B[38;5;241m=\u001B[39m \u001B[43mWarpVideo\u001B[49m(unwarped_undistorted_images_folder, \u001B[38;5;124m\"\u001B[39m\u001B[38;5;124m../../Test Data/charuco_temp_folder/intrinsic_vid\u001B[39m\u001B[38;5;124m\"\u001B[39m)\n\u001B[0;32m      2\u001B[0m obj\u001B[38;5;241m.\u001B[39mcamera_matrix \u001B[38;5;241m=\u001B[39m x\n\u001B[0;32m      3\u001B[0m obj\u001B[38;5;241m.\u001B[39mdist_coeff \u001B[38;5;241m=\u001B[39m y\n",
      "\u001B[1;31mNameError\u001B[0m: name 'WarpVideo' is not defined"
     ]
    }
   ],
   "execution_count": 1
  },
  {
   "metadata": {
    "ExecuteTime": {
     "end_time": "2024-06-12T14:07:34.672669Z",
     "start_time": "2024-06-12T14:07:33.427589Z"
    }
   },
   "cell_type": "code",
   "source": [
    "# obj.generate_warped_images(path_to_write_vids=warped_destination_folder)"
   ],
   "id": "3315e3de99916d6",
   "outputs": [],
   "execution_count": 118
  },
  {
   "metadata": {
    "ExecuteTime": {
     "end_time": "2024-06-12T13:57:42.936303Z",
     "start_time": "2024-06-12T13:57:42.566291Z"
    }
   },
   "cell_type": "code",
   "source": [
    "# # undistort chessboard image, and manually find image points and corners.\n",
    "# chessboard_img_folder = \"../../Test Data/charuco_temp_folder/testwarping/chessboard_img\"\n",
    "# chessboard_dest = \"../../Test Data/charuco_temp_folder/testwarping/chessboard_undistorted\"\n",
    "# chessboard_imgs = obj.undistort_frames(return_imgs=True, overwrite_existing=False, pathToFolder=chessboard_img_folder)\n",
    "# cv2.imwrite(f\"{chessboard_dest}/undistorted_chessboard.jpg\", chessboard_imgs[0])"
   ],
   "id": "a39e5e67bd7fd069",
   "outputs": [
    {
     "data": {
      "text/plain": [
       "True"
      ]
     },
     "execution_count": 114,
     "metadata": {},
     "output_type": "execute_result"
    }
   ],
   "execution_count": 114
  },
  {
   "metadata": {
    "ExecuteTime": {
     "end_time": "2024-06-12T10:39:30.461751Z",
     "start_time": "2024-06-12T10:39:30.374539Z"
    }
   },
   "cell_type": "code",
   "source": [
    "# obj.frames_path = warp_img_path"
   ],
   "id": "111303c7e02bd96",
   "outputs": [],
   "execution_count": 323
  },
  {
   "metadata": {
    "ExecuteTime": {
     "end_time": "2024-06-12T10:43:22.618998Z",
     "start_time": "2024-06-12T10:43:22.102819Z"
    }
   },
   "cell_type": "code",
   "source": [
    "# obj.undistort_frames()"
   ],
   "id": "f1137c49da96f437",
   "outputs": [
    {
     "name": "stdout",
     "output_type": "stream",
     "text": [
      "-3\n",
      "-2\n",
      "-1\n",
      "0\n"
     ]
    }
   ],
   "execution_count": 338
  },
  {
   "metadata": {
    "ExecuteTime": {
     "end_time": "2024-06-12T20:38:59.080407Z",
     "start_time": "2024-06-12T20:38:58.844486Z"
    }
   },
   "cell_type": "code",
   "source": [
    "path_to_vids_folder = \"../../Test Data/charuco_temp_folder/lange video 1 deel\"\n",
    "path_write_all_frames = \"../../Test Data/charuco_temp_folder/measurement_frames_formatted\"\n",
    "start_time = datetime.datetime(2024, 6, 7, 15, 1, 59, 270000)\n",
    "snippets_test = np.array([\n",
    "    [datetime.datetime(2024, 6, 7, 15, 2, 57), datetime.datetime(2024, 6, 7, 15, 2, 58)],\n",
    "    [datetime.datetime(2024, 6, 7, 15, 3, 22), datetime.datetime(2024, 6, 7, 15, 3, 24)],\n",
    "    [datetime.datetime(2024, 6, 7, 15, 3, 50), datetime.datetime(2024, 6, 7, 15, 3, 52)],\n",
    "    [datetime.datetime(2024, 6, 7, 15, 4, 11), datetime.datetime(2024, 6, 7, 15, 4, 12)],\n",
    "    [datetime.datetime(2024, 6, 7, 15, 4, 31), datetime.datetime(2024, 6, 7, 15, 4, 31, 500000)],\n",
    "    [datetime.datetime(2024, 6, 7, 15, 4, 50), datetime.datetime(2024, 6, 7, 15, 4, 51)]])\n",
    "snippets_step_wind = np.array([\n",
    "    [datetime.datetime(2024, 6, 7, 15, 2, 45), datetime.datetime(2024, 6, 7, 15, 3, 0)],\n",
    "    [datetime.datetime(2024, 6, 7, 15, 3, 4), datetime.datetime(2024, 6, 7, 15, 3, 30)],\n",
    "    [datetime.datetime(2024, 6, 7, 15, 3, 38), datetime.datetime(2024, 6, 7, 15, 3, 52)],\n",
    "    [datetime.datetime(2024, 6, 7, 15, 4, 0), datetime.datetime(2024, 6, 7, 15, 4, 13)],\n",
    "    [datetime.datetime(2024, 6, 7, 15, 4, 20), datetime.datetime(2024, 6, 7, 15, 4, 32)],\n",
    "    [datetime.datetime(2024, 6, 7, 15,4, 36), datetime.datetime(2024, 6, 7, 15, 4, 54)]])\n",
    "folderabspath = \"../../Test Data/THE REAL DEAL/test_to_be_processed\"\n",
    "background_img_file = \"../../Test Data/IMG_2378_goed/200.jpg\""
   ],
   "id": "e3bf37ea3899c409",
   "outputs": [],
   "execution_count": 5
  },
  {
   "metadata": {
    "ExecuteTime": {
     "end_time": "2024-06-12T19:45:49.285666Z",
     "start_time": "2024-06-12T19:45:47.339771Z"
    }
   },
   "cell_type": "code",
   "source": [
    "# video = cv2.VideoCapture(f\"{path_to_vids_folder}/{os.listdir(path_to_vids_folder)[0]}\")\n",
    "# video.set(cv2.CAP_PROP_POS_FRAMES, 200)\n",
    "# grabbed, frame = video.read()\n",
    "# video.release()\n",
    "# frame = cv2.resize(frame, (frame.shape[1], frame.shape[0]), cv2.INTER_AREA)\n",
    "# cv2.imshow(\"frame\", frame)\n",
    "# cv2.waitKey(0)\n",
    "# cv2.destroyAllWindows()\n",
    "# for file in os.listdir(folderabspath):\n",
    "#     cv2.imwrite(f\"{folderabspath}/{file}/000000000000_background_frame.jpg\", frame)"
   ],
   "id": "987fae319a79dc54",
   "outputs": [],
   "execution_count": 89
  },
  {
   "metadata": {
    "ExecuteTime": {
     "end_time": "2024-06-12T21:31:25.617843Z",
     "start_time": "2024-06-12T21:31:22.507332Z"
    }
   },
   "cell_type": "code",
   "source": [
    "for file in os.listdir(folder_to_be_processed):\n",
    "    cv2.imwrite(f\"{folder_to_be_processed}/{file}/00000000000000_background_frame.jpg\", cv2.imread(background_img_file))"
   ],
   "id": "363ffce1b4f4448c",
   "outputs": [],
   "execution_count": 33
  },
  {
   "metadata": {
    "ExecuteTime": {
     "end_time": "2024-06-12T20:39:17.947036Z",
     "start_time": "2024-06-12T20:39:17.727623Z"
    }
   },
   "cell_type": "code",
   "source": [
    "\n",
    "def create_folders(folder_destination:str|None = None):\n",
    "    if folder_destination is None:\n",
    "        folderabspath = \"../../Test Data/THE REAL DEAL/Unprocessed Frame Pairs\"\n",
    "    else:\n",
    "        folderabspath = folder_destination\n",
    "    letters = [\"a\", \"b\", \"c\", \"d\", \"e\", \"f\"]\n",
    "    for idx, i in enumerate(range(5, 11)):\n",
    "        folder_path = os.path.join(folderabspath, f\"{letters[idx]}_{i}_percent\")\n",
    "        os.makedirs(folder_path, exist_ok=True)\n",
    "        \n",
    "    "
   ],
   "id": "197d70333bc4e1ee",
   "outputs": [],
   "execution_count": 6
  },
  {
   "metadata": {
    "ExecuteTime": {
     "end_time": "2024-06-12T20:54:10.361885Z",
     "start_time": "2024-06-12T20:53:26.965216Z"
    }
   },
   "cell_type": "code",
   "source": [
    "output_folder = \"../../Test Data/THE REAL DEAL/Background Removed and Cropped\"\n",
    "test_output = \"../../Test Data/THE REAL DEAL/test_output/a_5_percent\"\n",
    "test_folder_to_be_processed = \"../../Test Data/THE REAL DEAL/test_to_be_processed/a_5_percent\"\n",
    "# create_folders(test_output)\n",
    "# first mask & remove background\n",
    "processor = Processor(path=test_folder_to_be_processed, df=\"jpg\")\n",
    "images_in_folder = os.listdir(test_folder_to_be_processed)\n",
    "# images_in_background_folder = os.listdir(background_folder)\n",
    "background_reference = cv2.imread(f\"{test_folder_to_be_processed}/{images_in_folder[0]}\", cv2.IMREAD_GRAYSCALE)\n",
    "test_frame = cv2.imread(f\"{test_folder_to_be_processed}/{images_in_folder[1]}\", cv2.IMREAD_GRAYSCALE)\n",
    "# test_frame = background_reference\n",
    "background_image_display = cv2.resize(background_reference.copy(), (background_reference.shape[1]//2, background_reference.shape[0]//2), cv2.INTER_AREA)\n",
    "# cv2.imshow(\"background_image\", background_image_display)\n",
    "test_frame_display = cv2.resize(test_frame.copy(), (test_frame.shape[1]//2, test_frame.shape[0]//2), cv2.INTER_AREA)\n",
    "denoised_background_img = processor.denoise(background_reference)\n",
    "processor.reference = denoised_background_img\n",
    "# processor.reference = background_reference\n",
    "denoised_test_img = processor.denoise(test_frame)\n",
    "masked_test_img = processor.mask(denoised_test_img)\n",
    "warped_test_img = cv2.warpPerspective(masked_test_img, obj.adjusted_matrix, (obj.adjusted_width, obj.adjusted_height), flags=cv2.INTER_LINEAR,borderMode=cv2.BORDER_CONSTANT, borderValue=(0, 0, 0))\n",
    "cropped_test_img = crop_single_image(warped_test_img, crop_corner_points=(1295, 1581, 1745, 2185))\n",
    "warped_test_frame_display = cv2.resize(warped_test_img.copy(), (warped_test_img.shape[1]//2, warped_test_img.shape[0]//2), cv2.INTER_AREA)\n",
    "cropped_test_frame_display = cv2.resize(cropped_test_img.copy(), (cropped_test_img.shape[1]//2, cropped_test_img.shape[0]//2), cv2.INTER_AREA)\n",
    "# cv2.imshow(\"masked_img\", warped_test_frame_display)\n",
    "# cv2.imshow(\"test_frame\", test_frame_display)\n",
    "cv2.imshow(\"cropped_img\", cropped_test_frame_display)\n",
    "cv2.waitKey(0)\n",
    "cv2.destroyAllWindows()\n",
    "# crop_images(test_folder_to_be_processed, test_output)\n",
    "print(cropped_test_img.shape)"
   ],
   "id": "6ebc3f09129d54b4",
   "outputs": [
    {
     "name": "stdout",
     "output_type": "stream",
     "text": [
      "(450, 604)\n"
     ]
    }
   ],
   "execution_count": 16
  },
  {
   "metadata": {
    "ExecuteTime": {
     "end_time": "2024-06-12T20:44:36.272730Z",
     "start_time": "2024-06-12T20:44:35.940495Z"
    }
   },
   "cell_type": "code",
   "source": [
    "cv2.imwrite(\"../../Test Data/THE REAL DEAL/test_output/a_5_percent/PAINT.jpg\", warped_test_img)"
   ],
   "id": "b839c439b4406dca",
   "outputs": [
    {
     "data": {
      "text/plain": [
       "True"
      ]
     },
     "execution_count": 11,
     "metadata": {},
     "output_type": "execute_result"
    }
   ],
   "execution_count": 11
  },
  {
   "metadata": {
    "ExecuteTime": {
     "end_time": "2024-06-12T21:28:26.983398Z",
     "start_time": "2024-06-12T21:28:25.268641Z"
    }
   },
   "cell_type": "code",
   "source": [
    "def do_everything(source_folder, destination_folder):\n",
    "    background = None\n",
    "    processor = Processor(path=source_folder, df=\"jpg\")\n",
    "    for i, file in enumerate(os.listdir(source_folder)):\n",
    "        image = cv2.imread(f\"{source_folder}/{file}\", cv2.IMREAD_GRAYSCALE)\n",
    "        if background is None:\n",
    "            background = processor.denoise(image)\n",
    "            processor.reference = background\n",
    "            continue\n",
    "        # print(i)\n",
    "        denoised_image = processor.denoise(image)\n",
    "        masked_image = processor.mask(denoised_image)\n",
    "        warped_image = cv2.warpPerspective(masked_image, obj.adjusted_matrix, (obj.adjusted_width, obj.adjusted_height), flags=cv2.INTER_LINEAR,borderMode=cv2.BORDER_CONSTANT, borderValue=(0, 0, 0))\n",
    "        cropped_image = crop_single_image(warped_image, crop_corner_points=(1295, 1581, 1745, 2185))\n",
    "        cv2.imwrite(f\"{destination_folder}/{file}\", cropped_image)\n",
    "        # print(\"img_1_done\")\n",
    "        # print(f\"{destination_folder}/{file}\")\n",
    "        "
   ],
   "id": "3daefa0a03a55d3e",
   "outputs": [],
   "execution_count": 31
  },
  {
   "metadata": {
    "ExecuteTime": {
     "end_time": "2024-06-12T21:36:36.792107Z",
     "start_time": "2024-06-12T21:32:43.689482Z"
    }
   },
   "cell_type": "code",
   "source": [
    "folder_to_be_processed = \"../../Test Data/charuco_temp_folder/measurement_frames_formatted\"\n",
    "a_output_folder = \"../../Test Data/THE REAL DEAL/Background Removed and Cropped\"\n",
    "output_folders = os.listdir(a_output_folder)\n",
    "for i, folder in enumerate(os.listdir(folder_to_be_processed)):\n",
    "    do_everything(f\"{folder_to_be_processed}/{folder}\", f\"{a_output_folder}/{output_folders[i]}\")"
   ],
   "id": "f10d24cc015c8769",
   "outputs": [],
   "execution_count": 35
  },
  {
   "metadata": {
    "ExecuteTime": {
     "end_time": "2024-06-12T21:32:28.397772Z",
     "start_time": "2024-06-12T21:32:28.127545Z"
    }
   },
   "cell_type": "code",
   "source": "create_folders(a_output_folder)",
   "id": "19f9a786eb8f30f1",
   "outputs": [],
   "execution_count": 34
  },
  {
   "metadata": {
    "ExecuteTime": {
     "end_time": "2024-06-12T20:34:16.758609Z",
     "start_time": "2024-06-12T20:34:16.482188Z"
    }
   },
   "cell_type": "code",
   "source": [
    "def get_video_snippets(start_time: datetime.datetime,  time_snippets: list[datetime.datetime] | np.ndarray[datetime.time], backwards_frames: int, frames_per_real_second: int, pairs_per_second: int, path_write_frames_folder: str, path_to_vids_folder: str):\n",
    "    create_folders()\n",
    "    time_per_frame =  1 / 30  # seconds in slowed video time\n",
    "    # snippet_duration = 10 * frames_per_real_second\n",
    "    snippet_duration = backwards_frames\n",
    "    frame_count_per_vid = []\n",
    "    frame_locs = []\n",
    "    times = []\n",
    "    folders_to_write = os.listdir(path_write_frames_folder)\n",
    "    video_names = os.listdir(path_to_vids_folder)\n",
    "    for video_file in os.listdir(path_to_vids_folder):\n",
    "        # print(path_to_vids_folder)\n",
    "        # print(video_file)\n",
    "        video = cv2.VideoCapture(os.path.join(path_to_vids_folder, video_file))\n",
    "        frame_count_per_vid.append(video.get(cv2.CAP_PROP_FRAME_COUNT))\n",
    "        video.release()\n",
    "    frame_count_per_vid = np.cumsum(np.array(frame_count_per_vid)).astype(int)\n",
    "    for ii, (start_snippet, end_snippet) in enumerate(time_snippets):\n",
    "        current_frame_number = round((start_snippet - start_time).total_seconds() * frames_per_real_second)\n",
    "        frame_snip_locs = []\n",
    "        times_per_snip = []\n",
    "        tot_frames_snip = round((end_snippet - start_snippet).total_seconds() * frames_per_real_second)\n",
    "        # print(tot_frames_snip)\n",
    "        for jj in range(0, round(tot_frames_snip / frames_per_real_second * pairs_per_second)):\n",
    "            frame_snip_locs.append(current_frame_number + round(jj * frames_per_real_second / pairs_per_second)) \n",
    "            frame_snip_locs.append(current_frame_number + round(jj * frames_per_real_second / pairs_per_second) + 1)\n",
    "            times_per_snip.append((start_snippet + datetime.timedelta(0, jj / pairs_per_second)).strftime(\"%d_%m_%Y_%H_%M_%S_%f\")[:-3])\n",
    "            times_per_snip.append((start_snippet + datetime.timedelta(0, jj / pairs_per_second + 1 / frames_per_real_second)).strftime(\"%d_%m_%Y_%H_%M_%S_%f\")[:-3])\n",
    "        frame_locs.append(frame_snip_locs)\n",
    "        times.append(times_per_snip)\n",
    "        \n",
    "    # print(times)\n",
    "    # print([len(x) for x in times])\n",
    "    print(frame_locs)\n",
    "    print(frame_count_per_vid)\n",
    "    print([len(x) for x in frame_locs])\n",
    "    \n",
    "    singlevideo = False\n",
    "    if len(video_names) == 1:\n",
    "        singlevideo = True\n",
    "    # VIDEOPART\n",
    "    if singlevideo:\n",
    "        video = cv2.VideoCapture(os.path.join(path_to_vids_folder, video_names[0]))\n",
    "    for i, snip_frames_list in enumerate(frame_locs):\n",
    "        for j, current_frame_number in enumerate(snip_frames_list):\n",
    "            for k, count in enumerate(frame_count_per_vid):\n",
    "                if singlevideo:\n",
    "                    video.set(cv2.CAP_PROP_POS_FRAMES, current_frame_number)\n",
    "                    grabbed, frame = video.read()\n",
    "                    if not grabbed:\n",
    "                        print(f\"frame_location: a{frame_location}\")\n",
    "                        print(f\"video size: {frame_count_per_vid[k]}\")\n",
    "                        print(f\"count: a{count}\")\n",
    "                        print(f\"current_frame_number: {current_frame_number}\")\n",
    "                        return\n",
    "                    img_path = f\"{path_write_frames_folder}/{folders_to_write[i]}/{times[i][j]}.jpg\"\n",
    "                    cv2.imwrite(img_path, frame)\n",
    "                    continue\n",
    "                    \n",
    "                \n",
    "                if current_frame_number > count:\n",
    "                    continue\n",
    "                frame_location = current_frame_number - frame_count_per_vid[k-1] if k > 0 else current_frame_number\n",
    "                # print(f\"current_frame_number: {current_frame_number},\\nframe_location: {frame_location}\")\n",
    "                # print(f\"frame_count_per_vid[k-1]: {frame_count_per_vid[k-1]}\")\n",
    "                video = cv2.VideoCapture(os.path.join(path_to_vids_folder, video_names[k]))\n",
    "                video.set(cv2.CAP_PROP_POS_FRAMES, frame_location)\n",
    "                grabbed, frame = video.read()\n",
    "                if not grabbed:\n",
    "                    print(f\"frame_location: a{frame_location}\")\n",
    "                    print(f\"video size: {frame_count_per_vid[k]}\")\n",
    "                    print(f\"count: a{count}\")\n",
    "                    print(f\"current_frame_number: {current_frame_number}\")\n",
    "                    return\n",
    "                img_path = f\"{path_write_frames_folder}/{folders_to_write[i]}/{times[i][j]}.jpg\"\n",
    "                # print(f\"folder: {i}\")\n",
    "                # print(f\"video: {k}\")\n",
    "                # print(f\"frame_location: {frame_location}\")\n",
    "                # print(f\"count: {current_frame_number}\")\n",
    "                cv2.imwrite(img_path, frame)\n",
    "                video.release()\n",
    "                break\n",
    "            continue\n",
    "        print(f\"Folder {i} filled\")\n",
    "    if singlevideo:\n",
    "        video.release()\n",
    "    return frame_locs, times, frame_count_per_vid\n"
   ],
   "id": "e04b234bff5658d8",
   "outputs": [],
   "execution_count": 11
  },
  {
   "metadata": {
    "ExecuteTime": {
     "end_time": "2024-06-12T15:24:57.844656Z",
     "start_time": "2024-06-12T15:21:03.023318Z"
    }
   },
   "cell_type": "code",
   "source": [
    "backwards_frames = 1\n",
    "framerate_real = 120\n",
    "pairs_per_second = 6\n",
    "framelocs, timees, countpervid = get_video_snippets(start_time=start_time,\n",
    "                   time_snippets=snippets_step_wind,\n",
    "                   backwards_frames=backwards_frames,\n",
    "                   frames_per_real_second=framerate_real, \n",
    "                   pairs_per_second=pairs_per_second,\n",
    "                   path_write_frames_folder=path_write_all_frames,\n",
    "                   path_to_vids_folder=path_to_vids_folder)"
   ],
   "id": "79ac231d95a8febf",
   "outputs": [
    {
     "name": "stdout",
     "output_type": "stream",
     "text": [
      "[[5488, 5489, 5508, 5509, 5528, 5529, 5548, 5549, 5568, 5569, 5588, 5589, 5608, 5609, 5628, 5629, 5648, 5649, 5668, 5669, 5688, 5689, 5708, 5709, 5728, 5729, 5748, 5749, 5768, 5769, 5788, 5789, 5808, 5809, 5828, 5829, 5848, 5849, 5868, 5869, 5888, 5889, 5908, 5909, 5928, 5929, 5948, 5949, 5968, 5969, 5988, 5989, 6008, 6009, 6028, 6029, 6048, 6049, 6068, 6069, 6088, 6089, 6108, 6109, 6128, 6129, 6148, 6149, 6168, 6169, 6188, 6189, 6208, 6209, 6228, 6229, 6248, 6249, 6268, 6269, 6288, 6289, 6308, 6309, 6328, 6329, 6348, 6349, 6368, 6369, 6388, 6389, 6408, 6409, 6428, 6429, 6448, 6449, 6468, 6469, 6488, 6489, 6508, 6509, 6528, 6529, 6548, 6549, 6568, 6569, 6588, 6589, 6608, 6609, 6628, 6629, 6648, 6649, 6668, 6669, 6688, 6689, 6708, 6709, 6728, 6729, 6748, 6749, 6768, 6769, 6788, 6789, 6808, 6809, 6828, 6829, 6848, 6849, 6868, 6869, 6888, 6889, 6908, 6909, 6928, 6929, 6948, 6949, 6968, 6969, 6988, 6989, 7008, 7009, 7028, 7029, 7048, 7049, 7068, 7069, 7088, 7089, 7108, 7109, 7128, 7129, 7148, 7149, 7168, 7169, 7188, 7189, 7208, 7209, 7228, 7229, 7248, 7249, 7268, 7269], [7768, 7769, 7788, 7789, 7808, 7809, 7828, 7829, 7848, 7849, 7868, 7869, 7888, 7889, 7908, 7909, 7928, 7929, 7948, 7949, 7968, 7969, 7988, 7989, 8008, 8009, 8028, 8029, 8048, 8049, 8068, 8069, 8088, 8089, 8108, 8109, 8128, 8129, 8148, 8149, 8168, 8169, 8188, 8189, 8208, 8209, 8228, 8229, 8248, 8249, 8268, 8269, 8288, 8289, 8308, 8309, 8328, 8329, 8348, 8349, 8368, 8369, 8388, 8389, 8408, 8409, 8428, 8429, 8448, 8449, 8468, 8469, 8488, 8489, 8508, 8509, 8528, 8529, 8548, 8549, 8568, 8569, 8588, 8589, 8608, 8609, 8628, 8629, 8648, 8649, 8668, 8669, 8688, 8689, 8708, 8709, 8728, 8729, 8748, 8749, 8768, 8769, 8788, 8789, 8808, 8809, 8828, 8829, 8848, 8849, 8868, 8869, 8888, 8889, 8908, 8909, 8928, 8929, 8948, 8949, 8968, 8969, 8988, 8989, 9008, 9009, 9028, 9029, 9048, 9049, 9068, 9069, 9088, 9089, 9108, 9109, 9128, 9129, 9148, 9149, 9168, 9169, 9188, 9189, 9208, 9209, 9228, 9229, 9248, 9249, 9268, 9269, 9288, 9289, 9308, 9309, 9328, 9329, 9348, 9349, 9368, 9369, 9388, 9389, 9408, 9409, 9428, 9429, 9448, 9449, 9468, 9469, 9488, 9489, 9508, 9509, 9528, 9529, 9548, 9549, 9568, 9569, 9588, 9589, 9608, 9609, 9628, 9629, 9648, 9649, 9668, 9669, 9688, 9689, 9708, 9709, 9728, 9729, 9748, 9749, 9768, 9769, 9788, 9789, 9808, 9809, 9828, 9829, 9848, 9849, 9868, 9869, 9888, 9889, 9908, 9909, 9928, 9929, 9948, 9949, 9968, 9969, 9988, 9989, 10008, 10009, 10028, 10029, 10048, 10049, 10068, 10069, 10088, 10089, 10108, 10109, 10128, 10129, 10148, 10149, 10168, 10169, 10188, 10189, 10208, 10209, 10228, 10229, 10248, 10249, 10268, 10269, 10288, 10289, 10308, 10309, 10328, 10329, 10348, 10349, 10368, 10369, 10388, 10389, 10408, 10409, 10428, 10429, 10448, 10449, 10468, 10469, 10488, 10489, 10508, 10509, 10528, 10529, 10548, 10549, 10568, 10569, 10588, 10589, 10608, 10609, 10628, 10629, 10648, 10649, 10668, 10669, 10688, 10689, 10708, 10709, 10728, 10729, 10748, 10749, 10768, 10769, 10788, 10789, 10808, 10809, 10828, 10829, 10848, 10849, 10868, 10869], [11848, 11849, 11868, 11869, 11888, 11889, 11908, 11909, 11928, 11929, 11948, 11949, 11968, 11969, 11988, 11989, 12008, 12009, 12028, 12029, 12048, 12049, 12068, 12069, 12088, 12089, 12108, 12109, 12128, 12129, 12148, 12149, 12168, 12169, 12188, 12189, 12208, 12209, 12228, 12229, 12248, 12249, 12268, 12269, 12288, 12289, 12308, 12309, 12328, 12329, 12348, 12349, 12368, 12369, 12388, 12389, 12408, 12409, 12428, 12429, 12448, 12449, 12468, 12469, 12488, 12489, 12508, 12509, 12528, 12529, 12548, 12549, 12568, 12569, 12588, 12589, 12608, 12609, 12628, 12629, 12648, 12649, 12668, 12669, 12688, 12689, 12708, 12709, 12728, 12729, 12748, 12749, 12768, 12769, 12788, 12789, 12808, 12809, 12828, 12829, 12848, 12849, 12868, 12869, 12888, 12889, 12908, 12909, 12928, 12929, 12948, 12949, 12968, 12969, 12988, 12989, 13008, 13009, 13028, 13029, 13048, 13049, 13068, 13069, 13088, 13089, 13108, 13109, 13128, 13129, 13148, 13149, 13168, 13169, 13188, 13189, 13208, 13209, 13228, 13229, 13248, 13249, 13268, 13269, 13288, 13289, 13308, 13309, 13328, 13329, 13348, 13349, 13368, 13369, 13388, 13389, 13408, 13409, 13428, 13429, 13448, 13449, 13468, 13469, 13488, 13489, 13508, 13509], [14488, 14489, 14508, 14509, 14528, 14529, 14548, 14549, 14568, 14569, 14588, 14589, 14608, 14609, 14628, 14629, 14648, 14649, 14668, 14669, 14688, 14689, 14708, 14709, 14728, 14729, 14748, 14749, 14768, 14769, 14788, 14789, 14808, 14809, 14828, 14829, 14848, 14849, 14868, 14869, 14888, 14889, 14908, 14909, 14928, 14929, 14948, 14949, 14968, 14969, 14988, 14989, 15008, 15009, 15028, 15029, 15048, 15049, 15068, 15069, 15088, 15089, 15108, 15109, 15128, 15129, 15148, 15149, 15168, 15169, 15188, 15189, 15208, 15209, 15228, 15229, 15248, 15249, 15268, 15269, 15288, 15289, 15308, 15309, 15328, 15329, 15348, 15349, 15368, 15369, 15388, 15389, 15408, 15409, 15428, 15429, 15448, 15449, 15468, 15469, 15488, 15489, 15508, 15509, 15528, 15529, 15548, 15549, 15568, 15569, 15588, 15589, 15608, 15609, 15628, 15629, 15648, 15649, 15668, 15669, 15688, 15689, 15708, 15709, 15728, 15729, 15748, 15749, 15768, 15769, 15788, 15789, 15808, 15809, 15828, 15829, 15848, 15849, 15868, 15869, 15888, 15889, 15908, 15909, 15928, 15929, 15948, 15949, 15968, 15969, 15988, 15989, 16008, 16009, 16028, 16029], [16888, 16889, 16908, 16909, 16928, 16929, 16948, 16949, 16968, 16969, 16988, 16989, 17008, 17009, 17028, 17029, 17048, 17049, 17068, 17069, 17088, 17089, 17108, 17109, 17128, 17129, 17148, 17149, 17168, 17169, 17188, 17189, 17208, 17209, 17228, 17229, 17248, 17249, 17268, 17269, 17288, 17289, 17308, 17309, 17328, 17329, 17348, 17349, 17368, 17369, 17388, 17389, 17408, 17409, 17428, 17429, 17448, 17449, 17468, 17469, 17488, 17489, 17508, 17509, 17528, 17529, 17548, 17549, 17568, 17569, 17588, 17589, 17608, 17609, 17628, 17629, 17648, 17649, 17668, 17669, 17688, 17689, 17708, 17709, 17728, 17729, 17748, 17749, 17768, 17769, 17788, 17789, 17808, 17809, 17828, 17829, 17848, 17849, 17868, 17869, 17888, 17889, 17908, 17909, 17928, 17929, 17948, 17949, 17968, 17969, 17988, 17989, 18008, 18009, 18028, 18029, 18048, 18049, 18068, 18069, 18088, 18089, 18108, 18109, 18128, 18129, 18148, 18149, 18168, 18169, 18188, 18189, 18208, 18209, 18228, 18229, 18248, 18249, 18268, 18269, 18288, 18289, 18308, 18309], [18808, 18809, 18828, 18829, 18848, 18849, 18868, 18869, 18888, 18889, 18908, 18909, 18928, 18929, 18948, 18949, 18968, 18969, 18988, 18989, 19008, 19009, 19028, 19029, 19048, 19049, 19068, 19069, 19088, 19089, 19108, 19109, 19128, 19129, 19148, 19149, 19168, 19169, 19188, 19189, 19208, 19209, 19228, 19229, 19248, 19249, 19268, 19269, 19288, 19289, 19308, 19309, 19328, 19329, 19348, 19349, 19368, 19369, 19388, 19389, 19408, 19409, 19428, 19429, 19448, 19449, 19468, 19469, 19488, 19489, 19508, 19509, 19528, 19529, 19548, 19549, 19568, 19569, 19588, 19589, 19608, 19609, 19628, 19629, 19648, 19649, 19668, 19669, 19688, 19689, 19708, 19709, 19728, 19729, 19748, 19749, 19768, 19769, 19788, 19789, 19808, 19809, 19828, 19829, 19848, 19849, 19868, 19869, 19888, 19889, 19908, 19909, 19928, 19929, 19948, 19949, 19968, 19969, 19988, 19989, 20008, 20009, 20028, 20029, 20048, 20049, 20068, 20069, 20088, 20089, 20108, 20109, 20128, 20129, 20148, 20149, 20168, 20169, 20188, 20189, 20208, 20209, 20228, 20229, 20248, 20249, 20268, 20269, 20288, 20289, 20308, 20309, 20328, 20329, 20348, 20349, 20368, 20369, 20388, 20389, 20408, 20409, 20428, 20429, 20448, 20449, 20468, 20469, 20488, 20489, 20508, 20509, 20528, 20529, 20548, 20549, 20568, 20569, 20588, 20589, 20608, 20609, 20628, 20629, 20648, 20649, 20668, 20669, 20688, 20689, 20708, 20709, 20728, 20729, 20748, 20749, 20768, 20769, 20788, 20789, 20808, 20809, 20828, 20829, 20848, 20849, 20868, 20869, 20888, 20889, 20908, 20909, 20928, 20929, 20948, 20949]]\n",
      "[22435]\n",
      "[180, 312, 168, 156, 144, 216]\n",
      "Folder 0 filled\n",
      "Folder 1 filled\n",
      "Folder 2 filled\n",
      "Folder 3 filled\n",
      "Folder 4 filled\n",
      "Folder 5 filled\n"
     ]
    }
   ],
   "execution_count": 28
  },
  {
   "metadata": {
    "ExecuteTime": {
     "end_time": "2024-06-12T14:38:32.419191Z",
     "start_time": "2024-06-12T14:38:32.214189Z"
    }
   },
   "cell_type": "code",
   "source": [
    "print(sum([204, 312, 168, 156, 144, 216]))"
   ],
   "id": "31a05685f186be42",
   "outputs": [
    {
     "name": "stdout",
     "output_type": "stream",
     "text": [
      "1200\n"
     ]
    }
   ],
   "execution_count": 122
  },
  {
   "metadata": {},
   "cell_type": "code",
   "outputs": [],
   "execution_count": null,
   "source": [
    "    # print(f\"frame_number_abs: {current_frame_number}\")\n",
    "    # \n",
    "    #     # print(j)\n",
    "    # \n",
    "    #     # print(\"frame_loc_rel \", frame_location_start)\n",
    "    #     video = cv2.VideoCapture(os.path.join(path_to_vids_folder, os.listdir(path_to_vids_folder)[j]))\n",
    "    #     if frame_location_start - snippet_duration + 1 < 0:  # assumed j > 0\n",
    "    #         # print(\"XX\")\n",
    "    #         # print(\"frame_loc_start \", frame_location_start)\n",
    "    #         start_prev_vid = frame_count_per_vid[j-1] - frame_count_per_vid[j-2] + frame_location_start - snippet_duration\n",
    "    #         # print(\"start_prev_vid\", start_prev_vid)\n",
    "    #         video_prev = cv2.VideoCapture(os.path.join(path_to_vids_folder, os.listdir(path_to_vids_folder)[j-1]))\n",
    "    #         # print(video_prev.get(cv2.CAP_PROP_FRAME_COUNT))\n",
    "    #         video_prev.set(cv2.CAP_PROP_POS_FRAMES, start_prev_vid - 1)\n",
    "    #         counter = -1\n",
    "    #         grabbed, frame = video_prev.read()\n",
    "    #         # print(grabbed)\n",
    "    #         while grabbed:\n",
    "    #             counter += 1\n",
    "    #             # print(os.path.join(path_write_frames_folder, folders_to_write[i], f\"{start_time+datetime.timedelta(0,(frame_number - snippet_duration + counter)/time_per_frame)}.jpg\"))\n",
    "    #             current_time_str = (current_time + datetime.timedelta(0, (-snippet_duration + counter) / frames_per_real_second)).strftime(\"%d_%m_%Y_%H_%M_%S_%f\")[:-3]\n",
    "    #             img_path = f\"{path_write_frames_folder}/{folders_to_write[i]}/{current_time_str}.jpg\"\n",
    "    #             cv2.imwrite(img_path, frame)\n",
    "    #             grabbed, frame = video_prev.read()\n",
    "    #         grabbed, frame = video.read()\n",
    "    #         while counter < snippet_duration and grabbed:\n",
    "    #             counter += 1\n",
    "    #             current_time_str = (current_time + datetime.timedelta(0, (-snippet_duration + counter) / frames_per_real_second)).strftime(\"%d_%m_%Y_%H_%M_%S_%f\")[:-3]\n",
    "    #             img_path = f\"{path_write_frames_folder}/{folders_to_write[i]}/{current_time_str}.jpg\"\n",
    "    #             cv2.imwrite(img_path, frame)\n",
    "    #             # cv2.imwrite(os.path.join(path_write_frames_folder, folders_to_write[i], f\"{start_time+datetime.timedelta(0,(count - 2400 + counter)/time_per_frame)}.jpg\"), frame)\n",
    "    #             grabbed, frame = video.read()\n",
    "    #             continue\n",
    "    #     else:\n",
    "    #         # print(\"x\")\n",
    "    #         video.set(cv2.CAP_PROP_POS_FRAMES, frame_location_start - snippet_duration - 1)\n",
    "    #         counter = -1\n",
    "    #         grabbed, frame = video.read()\n",
    "    #         while counter < backwards_frames:\n",
    "    #             counter += 1\n",
    "    #             current_time_str = (current_time + datetime.timedelta(0, (-snippet_duration + counter) / frames_per_real_second)).strftime(\"%d_%m_%Y_%H_%M_%S_%f\")[:-3]\n",
    "    #             img_path = f\"{path_write_frames_folder}/{folders_to_write[i]}/{current_time_str}.jpg\"\n",
    "    #             cv2.imwrite(img_path, frame)\n",
    "    #             # cv2.imwrite(os.path.join(path_write_frames_folder, folders_to_write[i], f\"{start_time+datetime.timedelta(0,(count - 2400 + counter)/time_per_frame)}.jpg\"), frame)\n",
    "    #             grabbed, frame = video.read()\n",
    "    #         break\n",
    "    #     break\n",
    "    # return"
   ],
   "id": "82b71868018e7280"
  }
 ],
 "metadata": {
  "kernelspec": {
   "display_name": "Python 3",
   "language": "python",
   "name": "python3"
  },
  "language_info": {
   "codemirror_mode": {
    "name": "ipython",
    "version": 2
   },
   "file_extension": ".py",
   "mimetype": "text/x-python",
   "name": "python",
   "nbconvert_exporter": "python",
   "pygments_lexer": "ipython2",
   "version": "2.7.6"
  }
 },
 "nbformat": 4,
 "nbformat_minor": 5
}
