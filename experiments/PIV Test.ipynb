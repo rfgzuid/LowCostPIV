{
 "cells": [
  {
   "cell_type": "markdown",
   "source": [
    "# Initialization"
   ],
   "metadata": {
    "collapsed": false
   },
   "id": "e0c4c6dbd3d74100"
  },
  {
   "cell_type": "code",
   "id": "initial_id",
   "metadata": {
    "collapsed": true,
    "ExecuteTime": {
     "end_time": "2024-06-14T06:25:57.163942700Z",
     "start_time": "2024-06-14T06:25:57.015870600Z"
    }
   },
   "source": [
    "from src.SIV_library.lib import SIV, OpticalFlow\n",
    "from src.SIV_library.advanced import Warp, CTF, Refine\n",
    "\n",
    "import os\n",
    "import sys\n",
    "import torch\n",
    "import matplotlib.pyplot as plt\n",
    "\n",
    "import pandas as pd\n",
    "from datetime import datetime, timedelta\n",
    "\n",
    "# plt.rcParams[\"animation.html\"] = \"jshtml\"\n",
    "# %matplotlib notebook\n",
    "%matplotlib inline\n",
    "\n",
    "os.environ[\"OPENCV_IO_ENABLE_OPENEXR\"]=\"1\"\n",
    "sys.path.append(\"../../\")\n",
    "\n",
    "%load_ext autoreload\n",
    "%autoreload 2"
   ],
   "outputs": [
    {
     "name": "stdout",
     "output_type": "stream",
     "text": [
      "The autoreload extension is already loaded. To reload it, use:\n",
      "  %reload_ext autoreload\n"
     ]
    }
   ],
   "execution_count": 156
  },
  {
   "metadata": {
    "ExecuteTime": {
     "end_time": "2024-06-14T06:25:58.144923Z",
     "start_time": "2024-06-14T06:25:57.889169100Z"
    }
   },
   "cell_type": "code",
   "source": [
    "device = \"cuda\" if torch.cuda.is_available() else \"cpu\"\n",
    "print('device:', device)\n",
    "\n",
    "if device == \"cuda\":\n",
    "    torch.cuda.empty_cache()\n",
    "    \n",
    "folder = r\"../Test Data/Full big vid PROCESSED\""
   ],
   "id": "889bbed85a67904b",
   "outputs": [
    {
     "name": "stdout",
     "output_type": "stream",
     "text": [
      "device: cuda\n"
     ]
    }
   ],
   "execution_count": 157
  },
  {
   "cell_type": "markdown",
   "source": [
    "# Matching"
   ],
   "metadata": {
    "collapsed": false
   },
   "id": "4022f137aa7e69f5"
  },
  {
   "cell_type": "code",
   "outputs": [],
   "source": [
    "mode = 1\n",
    "\n",
    "siv_gen = SIV(\n",
    "    folder=folder, \n",
    "    device=device, \n",
    "    window_size=128, \n",
    "    overlap=64, \n",
    "    search_area=(50, 0, 0, 0), \n",
    "    mode=mode, \n",
    "    num_passes=2, \n",
    "    scale_factor=0.5\n",
    ")"
   ],
   "metadata": {
    "collapsed": false,
    "ExecuteTime": {
     "end_time": "2024-06-14T06:26:01.755968Z",
     "start_time": "2024-06-14T06:26:01.587320900Z"
    }
   },
   "id": "e415162f1d18b88f",
   "execution_count": 158
  },
  {
   "cell_type": "code",
   "outputs": [
    {
     "name": "stderr",
     "output_type": "stream",
     "text": [
      "SAD: 100%|██████████| 2675/2675 [07:43<00:00,  5.77it/s]\n"
     ]
    }
   ],
   "source": [
    "idx = 0\n",
    "u1_avg = torch.zeros((len(siv_gen.dataset),))\n",
    "\n",
    "for res in siv_gen():\n",
    "    x, y, u, v = res\n",
    "    \n",
    "    warp = Warp(x, y, u, v)\n",
    "    warp.interpolate_field(siv_gen.dataset.img_shape)\n",
    "    u1_avg[idx] = torch.mean(warp.u)\n",
    "\n",
    "    idx += 1"
   ],
   "metadata": {
    "collapsed": false,
    "ExecuteTime": {
     "end_time": "2024-06-13T19:12:28.190586500Z",
     "start_time": "2024-06-13T19:04:44.075713100Z"
    }
   },
   "id": "3f7e7ac823ef4007",
   "execution_count": 17
  },
  {
   "cell_type": "markdown",
   "source": [
    "Interpolate velocity field:"
   ],
   "metadata": {
    "collapsed": false
   },
   "id": "23a115e265d5ce"
  },
  {
   "cell_type": "markdown",
   "source": [
    "# Optical flow"
   ],
   "metadata": {
    "collapsed": false
   },
   "id": "82f11c333096e52e"
  },
  {
   "cell_type": "code",
   "outputs": [],
   "source": [
    "opti_gen = OpticalFlow(\n",
    "    folder=folder, \n",
    "    device=device, \n",
    "    alpha=100., \n",
    "    num_iter=1000, \n",
    "    eps=0.\n",
    ")"
   ],
   "metadata": {
    "collapsed": false,
    "ExecuteTime": {
     "end_time": "2024-06-14T06:26:03.334835600Z",
     "start_time": "2024-06-14T06:26:03.167704100Z"
    }
   },
   "id": "dbd62634a9d3b488",
   "execution_count": 159
  },
  {
   "cell_type": "code",
   "outputs": [
    {
     "name": "stderr",
     "output_type": "stream",
     "text": [
      "Optical flow: 100%|██████████| 2675/2675 [49:54<00:00,  1.12s/it]\n"
     ]
    }
   ],
   "source": [
    "idx = 0\n",
    "u2_avg = torch.zeros((len(opti_gen.dataset),))\n",
    "\n",
    "for res in opti_gen():\n",
    "    x, y, u, v = res\n",
    "    u2_avg[idx] = torch.mean(u)\n",
    "    idx += 1"
   ],
   "metadata": {
    "collapsed": false,
    "ExecuteTime": {
     "end_time": "2024-06-13T20:09:53.024851700Z",
     "start_time": "2024-06-13T19:19:58.560208600Z"
    }
   },
   "id": "aa31f463ccea0586",
   "execution_count": 25
  },
  {
   "cell_type": "markdown",
   "source": [
    "Course-to-fine optical flow:"
   ],
   "metadata": {
    "collapsed": false
   },
   "id": "eca306fd67bc884d"
  },
  {
   "cell_type": "code",
   "outputs": [],
   "source": [
    "ctf_gen = CTF(opti_gen, num_passes=4, scale_factor=1/2)"
   ],
   "metadata": {
    "collapsed": false,
    "ExecuteTime": {
     "end_time": "2024-06-14T06:26:05.595864800Z",
     "start_time": "2024-06-14T06:26:05.460444200Z"
    }
   },
   "id": "c5af121528197517",
   "execution_count": 160
  },
  {
   "cell_type": "code",
   "outputs": [
    {
     "name": "stderr",
     "output_type": "stream",
     "text": [
      "100%|██████████| 2675/2675 [2:11:50<00:00,  2.96s/it]  \n"
     ]
    }
   ],
   "source": [
    "idx = 0\n",
    "u3_avg = torch.zeros((len(ctf_gen.dataset),))\n",
    "\n",
    "for res in ctf_gen():\n",
    "    x, y, u, v = res\n",
    "    u3_avg[idx] = torch.mean(u)\n",
    "    idx += 1"
   ],
   "metadata": {
    "collapsed": false,
    "ExecuteTime": {
     "end_time": "2024-06-14T00:30:07.351571700Z",
     "start_time": "2024-06-13T22:18:16.769419200Z"
    }
   },
   "id": "9c7adcc2a153f094",
   "execution_count": 128
  },
  {
   "cell_type": "markdown",
   "source": [
    "# Hybrid method (matching + optical flow)"
   ],
   "metadata": {
    "collapsed": false
   },
   "id": "86aff65caf006a70"
  },
  {
   "cell_type": "code",
   "outputs": [],
   "source": [
    "refine_gen = Refine(siv_gen, opti_gen)"
   ],
   "metadata": {
    "collapsed": false,
    "ExecuteTime": {
     "end_time": "2024-06-14T06:26:06.960401Z",
     "start_time": "2024-06-14T06:26:06.820135100Z"
    }
   },
   "id": "d4328ad8b24e27eb",
   "execution_count": 161
  },
  {
   "cell_type": "code",
   "outputs": [
    {
     "name": "stderr",
     "output_type": "stream",
     "text": [
      "100%|██████████| 19/19 [00:22<00:00,  1.18s/it]\n"
     ]
    }
   ],
   "source": [
    "idx = 0\n",
    "u4_avg = torch.zeros((len(refine_gen.dataset),))\n",
    "\n",
    "for res in refine_gen():\n",
    "    x, y, u, v = res\n",
    "    u4_avg[idx] = torch.mean(u)\n",
    "    idx += 1"
   ],
   "metadata": {
    "collapsed": false,
    "ExecuteTime": {
     "end_time": "2024-06-13T22:03:39.360211500Z",
     "start_time": "2024-06-13T22:03:12.005716500Z"
    }
   },
   "id": "4e85e0ae2eac11fe",
   "execution_count": 107
  },
  {
   "cell_type": "markdown",
   "source": [
    "# Loading data"
   ],
   "metadata": {
    "collapsed": false
   },
   "id": "2308675754c57e64"
  },
  {
   "cell_type": "code",
   "outputs": [],
   "source": [
    "def get_datetimes(folder):\n",
    "    time_objects = []\n",
    "    \n",
    "    for file in os.listdir(folder):\n",
    "        name_formatted = (file[:-4].split(\"_\"))\n",
    "        name_formatted[-1] = f\"{name_formatted[-1]}000\"\n",
    "        name_formatted = [name_formatted[2], name_formatted[1], name_formatted[0], *name_formatted[3:]]\n",
    "        time = ':'.join(name_formatted[3:])\n",
    "        time_objects.append(datetime.strptime(time, '%H:%M:%S:%f') - timedelta(seconds=3.736))\n",
    "    return time_objects\n",
    "\n",
    "ds = get_datetimes(folder)\n",
    "start = ds[0]\n",
    "ds = [(t - start).total_seconds() for t in ds]"
   ],
   "metadata": {
    "collapsed": false,
    "ExecuteTime": {
     "end_time": "2024-06-14T06:26:08.356337600Z",
     "start_time": "2024-06-14T06:26:08.183848300Z"
    }
   },
   "id": "d02d1a30f3e05fa6",
   "execution_count": 162
  },
  {
   "cell_type": "code",
   "outputs": [],
   "source": [
    "testo = pd.read_csv(\"../Test Data/testo.csv\", sep=';')\n",
    "testo = testo.dropna(how='all').to_numpy()[:, :2]\n",
    "\n",
    "times = [datetime.strptime(time, '%H:%M:%S') for time in testo[:, 0].flatten()]\n",
    "velocities = [float(u.replace(',', '.')) for u in testo[:, 1].flatten()]\n",
    "\n",
    "times = [(t - start).total_seconds() for t in times]"
   ],
   "metadata": {
    "collapsed": false,
    "ExecuteTime": {
     "end_time": "2024-06-14T06:26:08.928582Z",
     "start_time": "2024-06-14T06:26:08.773314300Z"
    }
   },
   "id": "20f9d35659605689",
   "execution_count": 163
  },
  {
   "cell_type": "markdown",
   "source": [
    "# Plotting results"
   ],
   "metadata": {
    "collapsed": false
   },
   "id": "d2491bdaf96efbec"
  },
  {
   "cell_type": "code",
   "outputs": [],
   "source": [
    "def process(avg):\n",
    "    pair_averages = avg[::2].cpu()\n",
    "    \n",
    "    k = 10  # window size of moving median filter\n",
    "    min_idx, max_idx = 0, len(pair_averages) - 1\n",
    "    meds = torch.zeros((len(pair_averages),))\n",
    "    \n",
    "    for idx, avg in enumerate(pair_averages):\n",
    "        lower, upper = idx - k, idx + k\n",
    "        lower = min_idx if lower < min_idx else lower\n",
    "        upper = max_idx if upper > max_idx else upper\n",
    "    \n",
    "        sliced = pair_averages[lower:upper+1]\n",
    "        meds[idx] = torch.median(sliced)\n",
    "    return meds"
   ],
   "metadata": {
    "collapsed": false,
    "ExecuteTime": {
     "end_time": "2024-06-14T06:26:09.913079500Z",
     "start_time": "2024-06-14T06:26:09.766334Z"
    }
   },
   "id": "43dd9a881d3bbd1b",
   "execution_count": 164
  },
  {
   "cell_type": "code",
   "outputs": [],
   "source": [
    "scale = 114.75/30  # px / mm\n",
    "fps = 198.53\n",
    "\n",
    "factor = fps/(scale * 1000)"
   ],
   "metadata": {
    "collapsed": false,
    "ExecuteTime": {
     "end_time": "2024-06-14T06:26:10.315639200Z",
     "start_time": "2024-06-14T06:26:10.174695800Z"
    }
   },
   "id": "15bc8b730321e151",
   "execution_count": 165
  },
  {
   "cell_type": "code",
   "outputs": [],
   "source": [
    "u1, u2, u3, u4 = process(-u1_avg), process(-u2_avg), process(-u3_avg), process(-u4_avg)\n",
    "u1, u2, u3, u4 = u1 * factor, u2 * factor, u3 * factor, u4 * factor"
   ],
   "metadata": {
    "collapsed": false,
    "ExecuteTime": {
     "end_time": "2024-06-14T06:26:10.816771500Z",
     "start_time": "2024-06-14T06:26:10.584007700Z"
    }
   },
   "id": "5522ed9c105eca27",
   "execution_count": 166
  },
  {
   "cell_type": "code",
   "outputs": [
    {
     "data": {
      "text/plain": "<Figure size 640x480 with 1 Axes>",
      "image/png": "[encoded data removed]"
     },
     "metadata": {},
     "output_type": "display_data"
    }
   ],
   "source": [
    "plt.close('all')\n",
    "    \n",
    "# vs = [v for i, v in enumerate(velocities) if ds[0] <= times[i] <= ds[-1]]\n",
    "# avg_vs = sum(vs)/len(vs)\n",
    "# correction = avg_vs / torch.mean(meds).item()\n",
    "\n",
    "# plt.plot(ds[::2], pair_averages, label='measurements')\n",
    "plt.plot(ds[::2], u1, label='SAD', linestyle='--', color='blue')\n",
    "plt.plot(ds[::2], u2, label='Optical', linestyle='--', color='green')\n",
    "plt.plot(ds[::2], u3, label='CTF', linestyle='-', color='green')\n",
    "plt.plot(ds[::2], u4, label='Refine', linestyle='-', color='blue')\n",
    "plt.plot(times, velocities, label='Testo', color='red')\n",
    "\n",
    "plt.xlabel('Time (s)')\n",
    "plt.ylabel('Velocity (m/s)')\n",
    "\n",
    "plt.xlim(left=ds[0], right=ds[-1])\n",
    "plt.ylim(bottom=0.)\n",
    "plt.title('Velocity time series of anemometer compared to multipass SAD')\n",
    "\n",
    "plt.legend(ncol=2)\n",
    "plt.show()"
   ],
   "metadata": {
    "collapsed": false,
    "ExecuteTime": {
     "end_time": "2024-06-14T06:29:35.688990Z",
     "start_time": "2024-06-14T06:29:35.306663Z"
    }
   },
   "id": "afd5755c1eeba3d4",
   "execution_count": 170
  },
  {
   "cell_type": "code",
   "outputs": [],
   "source": [
    "import numpy as np\n",
    "np.save(\"../experiments/SAD.npy\", u1_avg.numpy())\n",
    "np.save(\"../experiments/optical.npy\", u2_avg.numpy())\n",
    "np.save(\"../experiments/ctf.npy\", u3_avg.numpy())\n",
    "np.save(\"../experiments/refine.npy\", u4_avg.numpy())"
   ],
   "metadata": {
    "collapsed": false,
    "ExecuteTime": {
     "end_time": "2024-06-14T06:26:14.038691200Z",
     "start_time": "2024-06-14T06:26:13.898345700Z"
    }
   },
   "id": "9eb582797e9463cb",
   "execution_count": 168
  },
  {
   "cell_type": "code",
   "outputs": [],
   "source": [],
   "metadata": {
    "collapsed": false,
    "ExecuteTime": {
     "end_time": "2024-06-14T06:27:58.921914700Z",
     "start_time": "2024-06-14T06:27:58.909649700Z"
    }
   },
   "id": "f08921a1273e30e3",
   "execution_count": 168
  }
 ],
 "metadata": {
  "kernelspec": {
   "display_name": "Python 3",
   "language": "python",
   "name": "python3"
  },
  "language_info": {
   "codemirror_mode": {
    "name": "ipython",
    "version": 2
   },
   "file_extension": ".py",
   "mimetype": "text/x-python",
   "name": "python",
   "nbconvert_exporter": "python",
   "pygments_lexer": "ipython2",
   "version": "2.7.6"
  }
 },
 "nbformat": 4,
 "nbformat_minor": 5
}
