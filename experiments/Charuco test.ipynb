{
 "cells": [
  {
   "cell_type": "code",
   "id": "initial_id",
   "metadata": {
    "collapsed": true,
    "ExecuteTime": {
     "end_time": "2024-06-11T06:38:20.640785Z",
     "start_time": "2024-06-11T06:37:58.408107Z"
    }
   },
   "source": [
    "\n",
    "import cv2, PIL, os, sys\n",
    "import torch\n",
    "import numpy as np\n",
    "import matplotlib.pyplot as plt\n",
    "import matplotlib.animation as animation\n",
    "from cv2 import aruco\n",
    "from mpl_toolkits.mplot3d import Axes3D\n",
    "import matplotlib.pyplot as mpl\n",
    "import pandas as pd\n",
    "os.environ[\"OPENCV_IO_ENABLE_OPENEXR\"]=\"1\"\n",
    "sys.path.append(\"../../\")\n",
    "\n",
    "%matplotlib nbagg\n",
    "%load_ext autoreload\n",
    "%autoreload 2"
   ],
   "outputs": [],
   "execution_count": 3
  },
  {
   "metadata": {
    "ExecuteTime": {
     "end_time": "2024-06-11T06:38:30.483496Z",
     "start_time": "2024-06-11T06:38:20.644767Z"
    }
   },
   "cell_type": "code",
   "source": [
    "def create_char_board(ARUCO_SIZE:int, SQUARES_VERTICALLY:int, SQUARES_HORIZONTALLY:int, SQUARE_LENGTH:float, MARKER_LENGTH:float, SKIP:bool=False, LEGACY:bool = False):\n",
    "    if ARUCO_SIZE == 5:\n",
    "        ARUCO_DICT = cv2.aruco.DICT_5X5_250\n",
    "    elif ARUCO_SIZE == 6:\n",
    "        ARUCO_DICT = cv2.aruco.DICT_6X6_250\n",
    "    else:\n",
    "        raise ValueError(\"aruco dict size must be either 5 or 6 (otherwise change code manually)\")\n",
    "    LENGTH_PX = 500   # total length of the page in pixels\n",
    "    MARGIN_PX = 20    # size of the margin in pixels\n",
    "    dictionary = cv2.aruco.getPredefinedDictionary(ARUCO_DICT)\n",
    "    if SKIP:\n",
    "        dictionary.bytesList = dictionary.bytesList[100:]\n",
    "    board = cv2.aruco.CharucoBoard((SQUARES_VERTICALLY, SQUARES_HORIZONTALLY), SQUARE_LENGTH, MARKER_LENGTH, dictionary)\n",
    "    board.setLegacyPattern(LEGACY)\n",
    "    params = cv2.aruco.DetectorParameters()\n",
    "    detector = cv2.aruco.ArucoDetector(dictionary, params)\n",
    "    size_ratio = SQUARES_HORIZONTALLY / SQUARES_VERTICALLY\n",
    "    img = cv2.aruco.CharucoBoard.generateImage(board, (LENGTH_PX, int(LENGTH_PX*size_ratio)), marginSize=MARGIN_PX)\n",
    "    cv2.imshow(\"img\", img)\n",
    "    cv2.waitKey()\n",
    "    # cv2.imwrite(SAVE_NAME, img)\n",
    "    cv2.destroyAllWindows()\n",
    "    return board, dictionary, params, detector\n",
    "\n",
    "# PARAMS:\n",
    "a4_small = dict(ARUCO_SIZE = 5,\n",
    "                SQUARES_VERTICALLY = 11,\n",
    "                SQUARES_HORIZONTALLY = 15,\n",
    "                SQUARE_LENGTH = 0.015,\n",
    "                MARKER_LENGTH = 0.011,\n",
    "                SKIP = True,\n",
    "                LEGACY = False\n",
    ")\n",
    "a4_big = dict(ARUCO_SIZE = 5,\n",
    "              SQUARES_VERTICALLY = 6,\n",
    "              SQUARES_HORIZONTALLY = 9,\n",
    "              SQUARE_LENGTH = 0.015,\n",
    "              MARKER_LENGTH = 0.011,\n",
    "              SKIP = False,\n",
    "              LEGACY = False\n",
    ")\n",
    "a3 = dict(ARUCO_SIZE = 6,\n",
    "          SQUARES_VERTICALLY = 7,\n",
    "          SQUARES_HORIZONTALLY = 10,\n",
    "          SQUARE_LENGTH = 0.0394,\n",
    "          MARKER_LENGTH = 0.0394 * 0.75,\n",
    "          SKIP = False,\n",
    "          LEGACY = True\n",
    ")\n",
    "\n",
    "char_board, char_dict, char_params, char_detector = create_char_board(**a3)"
   ],
   "id": "bd1aa2c38ed72f1a",
   "outputs": [],
   "execution_count": 4
  },
  {
   "metadata": {
    "ExecuteTime": {
     "end_time": "2024-06-11T06:40:09.066985Z",
     "start_time": "2024-06-11T06:40:08.854206Z"
    }
   },
   "cell_type": "code",
   "source": [
    "charuco_folder = \"Test Data/charuco_temp_folder\""
   ],
   "id": "1536e4b52d95bbb0",
   "outputs": [],
   "execution_count": 5
  },
  {
   "metadata": {
    "ExecuteTime": {
     "end_time": "2024-06-11T06:48:14.420627Z",
     "start_time": "2024-06-11T06:46:44.644240Z"
    }
   },
   "cell_type": "code",
   "source": [
    "def load_intrinsic(video_folder:str, every_x_frames:int):\n",
    "    char_frames = []\n",
    "    for i, file in enumerate(os.listdir(video_folder)):\n",
    "        current_frame = -1\n",
    "        charuco_vid_file_1 = f\"{video_folder}/{file}\"\n",
    "        video = cv2.VideoCapture(charuco_vid_file_1)\n",
    "        grabbed, frame = video.read()\n",
    "        while grabbed:\n",
    "            current_frame += 1\n",
    "            if not current_frame % every_x_frames:\n",
    "                char_frames.append(frame)\n",
    "            grabbed, frame = video.read()\n",
    "    print(\"number of pics loaded: \", len(char_frames))\n",
    "    return char_frames\n",
    "\n",
    "char_folder = f\"{charuco_folder}/intrinsic_vid\"\n",
    "every_xth_frame = 20\n",
    "charuco_frames = load_intrinsic(video_folder = char_folder, every_x_frames = every_xth_frame)"
   ],
   "id": "68ecd7ee09fb1513",
   "outputs": [
    {
     "name": "stdout",
     "output_type": "stream",
     "text": [
      "number of pics loaded:  244\n"
     ]
    }
   ],
   "execution_count": 13
  },
  {
   "metadata": {
    "ExecuteTime": {
     "end_time": "2024-06-11T06:49:11.940841Z",
     "start_time": "2024-06-11T06:48:14.459532Z"
    }
   },
   "cell_type": "code",
   "source": [
    "def save_intrinsic(folder, frames):   # must manually empty out first to prevent residuals\n",
    "    if not len(os.listdir(folder)) == len(frames):\n",
    "        for i, img in enumerate(frames):\n",
    "            cv2.imwrite(f\"{folder}/pic_{i+1}.png\", img)\n",
    "            \n",
    "save_intrinsic(f\"{charuco_folder}/intrinsic_pic\", charuco_frames)"
   ],
   "id": "e116bca8164e5b73",
   "outputs": [],
   "execution_count": 14
  },
  {
   "metadata": {
    "ExecuteTime": {
     "end_time": "2024-06-11T06:45:43.801906Z",
     "start_time": "2024-06-11T06:45:43.558228Z"
    }
   },
   "cell_type": "code",
   "source": [
    "def save_extrinsic(char_folder:str):\n",
    "    vid_folder = f\"{char_folder}/extrinsic_vid\"\n",
    "    for i, file in enumerate(os.listdir(vid_folder)):\n",
    "        vid_file = f\"{vid_folder}/{file}\"\n",
    "        video = cv2.VideoCapture(vid_file)\n",
    "        grabbed, frame = video.read()\n",
    "        print(frame.shape)\n",
    "        cv2.imwrite(f\"{char_folder}/extrinsic_pic/pic_{i+1}.png\", frame)"
   ],
   "id": "6dcbf0d567a89d77",
   "outputs": [],
   "execution_count": 10
  },
  {
   "metadata": {
    "ExecuteTime": {
     "end_time": "2024-06-11T06:45:49.776448Z",
     "start_time": "2024-06-11T06:45:48.251896Z"
    }
   },
   "cell_type": "code",
   "source": [
    "save_extrinsic(charuco_folder)"
   ],
   "id": "380187187353dfb2",
   "outputs": [
    {
     "name": "stdout",
     "output_type": "stream",
     "text": [
      "(1080, 1920, 3)\n",
      "(1080, 1920, 3)\n",
      "(1080, 1920, 3)\n",
      "(1080, 1920, 3)\n",
      "(1080, 1920, 3)\n",
      "(1080, 1920, 3)\n",
      "(1080, 1920, 3)\n"
     ]
    }
   ],
   "execution_count": 11
  },
  {
   "metadata": {},
   "cell_type": "code",
   "outputs": [],
   "execution_count": null,
   "source": [
    "# ADDING OTHER PICS TO EXTRINSIC FOLDER MANUALLY\n",
    "# cv2.imshow(\"test\", charuco_frames[0])\n",
    "# cv2.waitKey()\n",
    "# cv2.destroyAllWindows()\n",
    "# cv2.imwrite(f\"{charuco_folder}/extrinsic_pic/pic_{1}.png\", charuco_frames[0])"
   ],
   "id": "1e8e4916873fcb00"
  },
  {
   "metadata": {
    "ExecuteTime": {
     "end_time": "2024-06-11T06:50:50.449994Z",
     "start_time": "2024-06-11T06:50:38.089568Z"
    }
   },
   "cell_type": "code",
   "source": [
    "all_charuco_corners = []\n",
    "all_charuco_ids = []\n",
    "image_shape = \"placeholder\"\n",
    "used_images_index = []\n",
    "used_images_holder = []\n",
    "for i, image in enumerate(charuco_frames):\n",
    "    if image_shape == \"placeholder\":\n",
    "        image_shape = image.shape[:2]\n",
    "    image_copy = image.copy()\n",
    "    marker_corners, marker_ids, rejectedCandidates = char_detector.detectMarkers(image_copy)\n",
    "    # If at least one marker is detected\n",
    "    if marker_ids is not None:\n",
    "        cv2.aruco.drawDetectedMarkers(image_copy, marker_corners, marker_ids)\n",
    "        charuco_retval, charuco_corners, charuco_ids = cv2.aruco.interpolateCornersCharuco(marker_corners, marker_ids, image, char_board)\n",
    "        if charuco_retval and len(charuco_ids) > 10 and len(charuco_corners > 10):\n",
    "            all_charuco_corners.append(charuco_corners)\n",
    "            all_charuco_ids.append(charuco_ids)\n",
    "            used_images_index.append(i)\n",
    "            used_images_holder.append(image_copy)\n",
    "retval, camera_matrix, dist_coeffs, rvecs, tvecs = cv2.aruco.calibrateCameraCharuco(all_charuco_corners.copy(), all_charuco_ids.copy(), char_board, image_shape, None, None)\n",
    "# print([len(x) for x in all_charuco_corners])\n",
    "# print(used_images_index)\n",
    "# print(len(used_images_index))\n",
    "# Calibrate camera"
   ],
   "id": "63f7dbeaf58b78ea",
   "outputs": [
    {
     "name": "stdout",
     "output_type": "stream",
     "text": [
      "[16, 29, 17, 19, 25, 20, 30, 24, 15, 15, 12, 14, 13, 17, 13, 16, 32, 45, 49, 51, 46, 42, 35, 29, 18, 15, 36, 40, 18, 15, 48, 38]\n",
      "[2, 3, 4, 17, 18, 19, 20, 21, 22, 23, 24, 85, 86, 87, 88, 91, 92, 93, 94, 95, 96, 97, 98, 99, 100, 237, 238, 239, 240, 241, 242, 243]\n"
     ]
    }
   ],
   "execution_count": 17
  },
  {
   "metadata": {
    "ExecuteTime": {
     "end_time": "2024-06-11T12:27:37.726657Z",
     "start_time": "2024-06-11T12:27:37.313479Z"
    }
   },
   "cell_type": "code",
   "source": [
    "retval, camera_matrix, dist_coeffs, rvecs, tvecs = cv2.aruco.calibrateCameraCharuco(all_charuco_corners.copy(), all_charuco_ids.copy(), char_board, image_shape, None, None)"
   ],
   "id": "d351fcf3555b0453",
   "outputs": [
    {
     "ename": "NameError",
     "evalue": "name 'cv2' is not defined",
     "output_type": "error",
     "traceback": [
      "\u001B[1;31m---------------------------------------------------------------------------\u001B[0m",
      "\u001B[1;31mNameError\u001B[0m                                 Traceback (most recent call last)",
      "Cell \u001B[1;32mIn[1], line 1\u001B[0m\n\u001B[1;32m----> 1\u001B[0m retval, camera_matrix, dist_coeffs, rvecs, tvecs \u001B[38;5;241m=\u001B[39m \u001B[43mcv2\u001B[49m\u001B[38;5;241m.\u001B[39maruco\u001B[38;5;241m.\u001B[39mcalibrateCameraCharuco(all_charuco_corners\u001B[38;5;241m.\u001B[39mcopy(), all_charuco_ids\u001B[38;5;241m.\u001B[39mcopy(), char_board, image_shape, \u001B[38;5;28;01mNone\u001B[39;00m, \u001B[38;5;28;01mNone\u001B[39;00m)\n",
      "\u001B[1;31mNameError\u001B[0m: name 'cv2' is not defined"
     ]
    }
   ],
   "execution_count": 1
  },
  {
   "metadata": {
    "ExecuteTime": {
     "end_time": "2024-06-11T06:51:48.699447Z",
     "start_time": "2024-06-11T06:51:48.372323Z"
    }
   },
   "cell_type": "code",
   "source": [
    "print(f\"retval:  {retval}\")\n",
    "# print(f\"retval_real: {retval_real}\")"
   ],
   "id": "230fd81be5df00b6",
   "outputs": [
    {
     "name": "stdout",
     "output_type": "stream",
     "text": [
      "retval:  15.818112165181818\n"
     ]
    }
   ],
   "execution_count": 20
  },
  {
   "metadata": {
    "ExecuteTime": {
     "end_time": "2024-06-11T08:22:28.483465Z",
     "start_time": "2024-06-11T08:22:27.133645Z"
    }
   },
   "cell_type": "code",
   "source": [
    "dist_coeffs = dist_coeffs[0]\n"
   ],
   "id": "2de86346a83e74b8",
   "outputs": [],
   "execution_count": 22
  },
  {
   "metadata": {
    "ExecuteTime": {
     "end_time": "2024-06-11T08:22:29.304297Z",
     "start_time": "2024-06-11T08:22:29.157240Z"
    }
   },
   "cell_type": "code",
   "source": [
    "image_used = cv2.imread(f\"{charuco_folder}/chessboard_pic/0.png\")\n",
    "# cv2.imshow(\"show\", image_used)\n",
    "# cv2.waitKey()\n",
    "# cv2.destroyAllWindows()"
   ],
   "id": "e466c14529263c8e",
   "outputs": [],
   "execution_count": 23
  },
  {
   "metadata": {
    "ExecuteTime": {
     "end_time": "2024-06-11T08:22:38.792447Z",
     "start_time": "2024-06-11T08:22:38.678604Z"
    }
   },
   "cell_type": "code",
   "source": [
    "image_points = np.float32(([1007, 39], [1897, 1017], [33, 45], [1878, 90], [194, 73], [981, 15], [909, 1021]))\n",
    "world_points = np.float32(((-13, -22.6, 0), (-11.2, 7.7, 0), (31, -95.9, 0), (107.5, 89, 0), (31.3, -89, 0), (79.6, -21.4, 0), (-14.5, -11.5, 0)))"
   ],
   "id": "de3dde62964fd292",
   "outputs": [],
   "execution_count": 24
  },
  {
   "metadata": {
    "ExecuteTime": {
     "end_time": "2024-06-11T08:22:40.823582Z",
     "start_time": "2024-06-11T08:22:40.661255Z"
    }
   },
   "cell_type": "code",
   "source": [
    "retval, rvec, tvec = cv2.solvePnP(\n",
    "    objectPoints=world_points,\n",
    "    imagePoints=image_points,\n",
    "    cameraMatrix=camera_matrix,\n",
    "    distCoeffs=dist_coeffs\n",
    ")"
   ],
   "id": "97494a77a25fc656",
   "outputs": [],
   "execution_count": 25
  },
  {
   "metadata": {
    "ExecuteTime": {
     "end_time": "2024-06-11T08:22:54.882519Z",
     "start_time": "2024-06-11T08:22:54.776036Z"
    }
   },
   "cell_type": "code",
   "source": [
    "if retval:\n",
    "    print(\"rvec:\", rvec)\n",
    "    print(\"tvec:\", tvec)\n",
    "    print(\"retval: \", retval)\n",
    "else:\n",
    "    print(\"solvePnP failed to find a soldution\")"
   ],
   "id": "3870c0d3ca150d08",
   "outputs": [
    {
     "name": "stdout",
     "output_type": "stream",
     "text": [
      "rvec: [[-2.5906028 ]\n",
      " [-0.32594126]\n",
      " [-1.3323899 ]]\n",
      "tvec: [[-111.40295905]\n",
      " [-263.27664583]\n",
      " [ 381.28338623]]\n",
      "retval:  True\n"
     ]
    }
   ],
   "execution_count": 26
  },
  {
   "metadata": {
    "ExecuteTime": {
     "end_time": "2024-06-05T11:07:12.795015Z",
     "start_time": "2024-06-05T11:07:12.685334Z"
    }
   },
   "cell_type": "code",
   "source": [
    "print(tvec[0])"
   ],
   "id": "b254c304c6abfe59",
   "outputs": [
    {
     "name": "stdout",
     "output_type": "stream",
     "text": [
      "[[ 0.29711573]\n",
      " [-0.31109331]\n",
      " [ 1.02956   ]]\n"
     ]
    }
   ],
   "execution_count": 160
  },
  {
   "metadata": {
    "ExecuteTime": {
     "end_time": "2024-06-11T08:23:04.736571Z",
     "start_time": "2024-06-11T08:23:04.449917Z"
    }
   },
   "cell_type": "code",
   "source": [
    "rotation_matrix, _ = cv2.Rodrigues(rvec)\n",
    "extrinsic_matrix = np.concatenate((rotation_matrix, tvec), axis=1)\n",
    "intrinsic_matrix = camera_matrix\n",
    "camera_coordinates = -np.matrix(rotation_matrix).T * np.matrix(tvec)\n",
    "print(camera_coordinates)\n",
    "# camera: ongeveer 155.5, 57, 76 "
   ],
   "id": "465ed7202254cc1d",
   "outputs": [
    {
     "name": "stdout",
     "output_type": "stream",
     "text": [
      "[[-222.44748945]\n",
      " [-186.60590091]\n",
      " [ 377.88567626]]\n"
     ]
    }
   ],
   "execution_count": 27
  },
  {
   "metadata": {
    "ExecuteTime": {
     "end_time": "2024-06-05T12:39:12.382312Z",
     "start_time": "2024-06-05T12:39:04.544129Z"
    }
   },
   "cell_type": "code",
   "source": [
    "# cv2.imshow(\"image\", actual_used_images[0])\n",
    "cv2.waitKey(0)\n",
    "cv2.destroyAllWindows()"
   ],
   "id": "242d67b42c3bce4c",
   "outputs": [],
   "execution_count": 23
  },
  {
   "metadata": {
    "ExecuteTime": {
     "end_time": "2024-06-06T14:16:08.128037Z",
     "start_time": "2024-06-06T14:16:00.662404Z"
    }
   },
   "cell_type": "code",
   "source": [
    "# undistorted_image_1 = actual_used_images[0].copy()\n",
    "# cv2.aruco.drawDetectedMarkers(undistorted_image_1, all_charuco_corners[0], all_charuco_ids[0])\n",
    "image_used = charuco_frames[0].copy()\n",
    "undistorted_image_1 = cv2.undistort(image_used.copy(), camera_matrix, dist_coeffs)\n",
    "# cv2.drawFrameAxes(undistorted_image_1, camera_matrix, dist_coeffs, rvec_real, tvec_real, length=0.1, thickness=15)\n",
    "cv2.imshow(\"aha\", undistorted_image_1)\n",
    "cv2.waitKey(0)\n",
    "cv2.destroyAllWindows()"
   ],
   "id": "1ed1a7ba60de2b55",
   "outputs": [],
   "execution_count": 84
  },
  {
   "metadata": {
    "ExecuteTime": {
     "end_time": "2024-06-11T08:24:03.830634Z",
     "start_time": "2024-06-11T08:24:03.541571Z"
    }
   },
   "cell_type": "code",
   "source": [
    "projected_points, _ = cv2.projectPoints(world_points, rvec, tvec, camera_matrix, dist_coeffs)\n",
    "projected_points = projected_points.squeeze()\n",
    "copy = image_used.copy()\n",
    "# copy = cv2.undistort(copy, camera_matrix, dist_coeffs)\n",
    "for (i, pt) in enumerate(projected_points):\n",
    "    cv2.circle(copy, (int(pt[0]), int(pt[1])), 5, (0, 0, 255), -1)\n",
    "    cv2.circle(copy, (int(image_points[i, 0]), int(image_points[i, 1])), 5, (255, 0, 0), -1)\n",
    "    # cv2.putText(img=copy, text=f\"{i}\", org=(int(pt[0]), int(pt[1])),fontFace=1,fontScale=1.5, color=(0, 0, 255), thickness=1)\n",
    "    # cv2.putText(img=copy, text=f\"{i}\", org=(int(image_points[i, 0]), int(image_points[i, 1])), fontFace=1, fontScale=1.5, color=(255, 0, 0), thickness=1)\n",
    "\n",
    "cv2.imwrite(f\"{charuco_folder}/Shit.png\", copy)\n",
    "cv2.imshow('Projected Points', copy)\n",
    "cv2.waitKey(0)\n",
    "cv2.destroyAllWindows()"
   ],
   "id": "18bf4a2698131f88",
   "outputs": [
    {
     "ename": "AttributeError",
     "evalue": "'NoneType' object has no attribute 'copy'",
     "output_type": "error",
     "traceback": [
      "\u001B[1;31m---------------------------------------------------------------------------\u001B[0m",
      "\u001B[1;31mAttributeError\u001B[0m                            Traceback (most recent call last)",
      "Cell \u001B[1;32mIn[29], line 3\u001B[0m\n\u001B[0;32m      1\u001B[0m projected_points, _ \u001B[38;5;241m=\u001B[39m cv2\u001B[38;5;241m.\u001B[39mprojectPoints(world_points, rvec, tvec, camera_matrix, dist_coeffs)\n\u001B[0;32m      2\u001B[0m projected_points \u001B[38;5;241m=\u001B[39m projected_points\u001B[38;5;241m.\u001B[39msqueeze()\n\u001B[1;32m----> 3\u001B[0m copy \u001B[38;5;241m=\u001B[39m \u001B[43mimage_used\u001B[49m\u001B[38;5;241;43m.\u001B[39;49m\u001B[43mcopy\u001B[49m()\n\u001B[0;32m      4\u001B[0m \u001B[38;5;66;03m# copy = cv2.undistort(copy, camera_matrix, dist_coeffs)\u001B[39;00m\n\u001B[0;32m      5\u001B[0m \u001B[38;5;28;01mfor\u001B[39;00m (i, pt) \u001B[38;5;129;01min\u001B[39;00m \u001B[38;5;28menumerate\u001B[39m(projected_points):\n",
      "\u001B[1;31mAttributeError\u001B[0m: 'NoneType' object has no attribute 'copy'"
     ]
    }
   ],
   "execution_count": 29
  },
  {
   "metadata": {
    "ExecuteTime": {
     "end_time": "2024-06-05T10:56:40.499817Z",
     "start_time": "2024-06-05T10:56:40.376194Z"
    }
   },
   "cell_type": "code",
   "source": [
    "reprojection_error = np.linalg.norm(image_points - projected_points, axis=1)\n",
    "mean_error = np.mean(reprojection_error)\n",
    "std_dev_error = np.sqrt(np.sum((reprojection_error - mean_error) ** 2) / len(reprojection_error))\n",
    "# print(reprojection_error)\n",
    "print(mean_error)\n",
    "print(std_dev_error)"
   ],
   "id": "8b42ad3288fe50e4",
   "outputs": [
    {
     "name": "stdout",
     "output_type": "stream",
     "text": [
      "18.664637\n",
      "11.570609743000176\n"
     ]
    }
   ],
   "execution_count": 127
  },
  {
   "metadata": {
    "ExecuteTime": {
     "end_time": "2024-06-11T08:24:07.634314Z",
     "start_time": "2024-06-11T08:24:07.487144Z"
    }
   },
   "cell_type": "code",
   "source": [
    "# # assuming we have correct intrinsic and extrinsic matrices, We now want to project to top view.\n",
    "# output_image_size = 4 * image_used.shape[:-2][::-1]\n",
    "# world_points_for_top = np.array([(4, 0, 57.7), (4, 142, 57.7), (130, 30, 57.7), (140, 80, 57.7)], dtype=np.float32)\n",
    "# image_points_for_top, _ = cv2.projectPoints(world_points_for_top, rvec_real, tvec_real, camera_matrix, dist_coeffs)\n",
    "# copy = image_used.copy()\n",
    "# for (i, pt) in enumerate(image_points_for_top):\n",
    "#     pt = pt[0]\n",
    "#     cv2.circle(copy, (int(pt[0]), int(pt[1])), 5, (0, 0, 255), -1)\n",
    "#     # cv2.circle(copy, (int([i, 0]), int(image_points_for_top[i, 1])), 5, (255, 0, 0), -1)\n",
    "# print(image_points_for_top[2:])\n",
    "# \n",
    "# cv2.imshow('Projected Points', copy)\n",
    "# cv2.waitKey(0)\n",
    "# cv2.destroyAllWindows()"
   ],
   "id": "fb180553de8e695f",
   "outputs": [
    {
     "ename": "AttributeError",
     "evalue": "'NoneType' object has no attribute 'shape'",
     "output_type": "error",
     "traceback": [
      "\u001B[1;31m---------------------------------------------------------------------------\u001B[0m",
      "\u001B[1;31mAttributeError\u001B[0m                            Traceback (most recent call last)",
      "Cell \u001B[1;32mIn[30], line 2\u001B[0m\n\u001B[0;32m      1\u001B[0m \u001B[38;5;66;03m# assuming we have correct intrinsic and extrinsic matrices, We now want to project to top view.\u001B[39;00m\n\u001B[1;32m----> 2\u001B[0m output_image_size \u001B[38;5;241m=\u001B[39m \u001B[38;5;241m4\u001B[39m \u001B[38;5;241m*\u001B[39m \u001B[43mimage_used\u001B[49m\u001B[38;5;241;43m.\u001B[39;49m\u001B[43mshape\u001B[49m[:\u001B[38;5;241m-\u001B[39m\u001B[38;5;241m2\u001B[39m][::\u001B[38;5;241m-\u001B[39m\u001B[38;5;241m1\u001B[39m]\n\u001B[0;32m      3\u001B[0m world_points_for_top \u001B[38;5;241m=\u001B[39m np\u001B[38;5;241m.\u001B[39marray([(\u001B[38;5;241m4\u001B[39m, \u001B[38;5;241m0\u001B[39m, \u001B[38;5;241m57.7\u001B[39m), (\u001B[38;5;241m4\u001B[39m, \u001B[38;5;241m142\u001B[39m, \u001B[38;5;241m57.7\u001B[39m), (\u001B[38;5;241m130\u001B[39m, \u001B[38;5;241m30\u001B[39m, \u001B[38;5;241m57.7\u001B[39m), (\u001B[38;5;241m140\u001B[39m, \u001B[38;5;241m80\u001B[39m, \u001B[38;5;241m57.7\u001B[39m)], dtype\u001B[38;5;241m=\u001B[39mnp\u001B[38;5;241m.\u001B[39mfloat32)\n\u001B[0;32m      4\u001B[0m image_points_for_top, _ \u001B[38;5;241m=\u001B[39m cv2\u001B[38;5;241m.\u001B[39mprojectPoints(world_points_for_top, rvec_real, tvec_real, camera_matrix, dist_coeffs)\n",
      "\u001B[1;31mAttributeError\u001B[0m: 'NoneType' object has no attribute 'shape'"
     ]
    }
   ],
   "execution_count": 30
  },
  {
   "metadata": {
    "ExecuteTime": {
     "end_time": "2024-06-11T08:24:10.040384Z",
     "start_time": "2024-06-11T08:24:09.936976Z"
    }
   },
   "cell_type": "code",
   "source": [
    "print(camera_matrix)"
   ],
   "id": "da5220158d4b61cc",
   "outputs": [
    {
     "name": "stdout",
     "output_type": "stream",
     "text": [
      "[[7.87352602e+03 0.00000000e+00 1.41368070e+03]\n",
      " [0.00000000e+00 3.81181316e+03 1.03606940e+03]\n",
      " [0.00000000e+00 0.00000000e+00 1.00000000e+00]]\n"
     ]
    }
   ],
   "execution_count": 31
  },
  {
   "metadata": {
    "ExecuteTime": {
     "end_time": "2024-06-11T08:25:15.343784Z",
     "start_time": "2024-06-11T08:25:13.605203Z"
    }
   },
   "cell_type": "code",
   "source": [
    "img = charuco_frames[0]\n",
    "# \n",
    "# vid_file = \"../../Test Data/Triangulation_test/Charuco-07-06-2024/video\"\n",
    "# cap = cv2.VideoCapture(f\"{vid_file}/{os.listdir(vid_file)[1]}\")\n",
    "# grabbed, img = cap.read()\n",
    "cv2.imshow(\"img\", img)\n",
    "# Get the current working directory\n",
    "script_dir = %pwd\n",
    "\n",
    "# Save the original image\n",
    "original_img_path = os.path.join(script_dir, 'input.png')\n",
    "cv2.imwrite(original_img_path, img)\n",
    "\n",
    "# Perform camera calibration and obtain new camera matrix\n",
    "h, w = img.shape[:2]\n",
    "newCameraMatrix, roi = cv2.getOptimalNewCameraMatrix(camera_matrix, dist_coeffs, (w, h), 1, (w, h))\n",
    "\n",
    "# Undistort the image\n",
    "dst_undistorted = cv2.undistort(img, camera_matrix, dist_coeffs, None, newCameraMatrix)\n",
    "\n",
    "# Get the new dimensions after undistortion and cropping\n",
    "x, y, w, h = roi\n",
    "new_w = w - x\n",
    "new_h = h - y\n",
    "\n",
    "# Crop the undistorted image\n",
    "dst_cropped = dst_undistorted[y:y+h, x:x+w]\n",
    "\n",
    "# Save the undistorted and cropped image\n",
    "undistorted_cropped_img_path = os.path.join(script_dir, 'undistorted_and_cropped.png')\n",
    "cv2.imwrite(undistorted_cropped_img_path, dst_cropped)\n",
    "\n",
    "# Perform undistortion with remapping\n",
    "mapx, mapy = cv2.initUndistortRectifyMap(camera_matrix, dist_coeffs, None, newCameraMatrix, (w, h), cv2.CV_32FC1)\n",
    "dst_remap = cv2.remap(img, mapx, mapy, cv2.INTER_LINEAR)\n",
    "\n",
    "# Crop the remapped image\n",
    "dst_remap_cropped = dst_remap[y:y+h, x:x+w]\n",
    "\n",
    "# Save the remapped and cropped image\n",
    "remapped_cropped_img_path = os.path.join(script_dir, 'remapped_and_cropped.png')\n",
    "cv2.imshow(remapped_cropped_img_path, dst_remap_cropped)\n",
    "cv2.waitKey(0)\n",
    "cv2.destroyAllWindows()"
   ],
   "id": "17c5dab338780414",
   "outputs": [],
   "execution_count": 36
  },
  {
   "metadata": {},
   "cell_type": "code",
   "outputs": [],
   "execution_count": null,
   "source": [],
   "id": "8fb5547860a7a10b"
  },
  {
   "metadata": {
    "ExecuteTime": {
     "end_time": "2024-06-11T08:31:55.644787Z",
     "start_time": "2024-06-11T08:31:51.567950Z"
    }
   },
   "cell_type": "code",
   "source": [
    "# Open video\n",
    "# cap = cv2.VideoCapture(\"videos/smoke/needswarping.mp4\")\n",
    "# worldspace = np.float32([(15.8, 10.8, 50), (29.2, 3.9, 50), (36.4, 47.8, 50), (5.2, 59.6, 50)])\n",
    "# imagespace = np.float32([[923, 1487], [142, 908], [1047, 564], [13, 393]])\n",
    "worldspace = world_points\n",
    "imagespace = image_points\n",
    "vid_file = \"Test Data/charuco_temp_folder/chessboard_vid\"\n",
    "cap = cv2.VideoCapture(f\"{vid_file}/{os.listdir(vid_file)[0]}\")\n",
    "\n",
    "# Get frame size\n",
    "frame_width = int(cap.get(cv2.CAP_PROP_FRAME_WIDTH))\n",
    "frame_height = int(cap.get(cv2.CAP_PROP_FRAME_HEIGHT))\n",
    "\n",
    "# Extract x, y coordinates and assume the plane normal points towards Z-axis\n",
    "world_xy = worldspace[:, :2]\n",
    "plane_normal = np.array([0, 0, 1])\n",
    "\n",
    "# Calculate the constant term (d) in the plane equation (Ax + By + Cz + d = 0)\n",
    "d = -worldspace[0][2]  # Use any point on the plane\n",
    "\n",
    "# Create the plane equation representation\n",
    "plane_equation = np.concatenate((plane_normal, [d]))\n",
    "\n",
    "# Define a new virtual camera position\n",
    "camera_distance = 100  # Set a reasonable distance\n",
    "camera_position = np.array([80, 80, -camera_distance])\n",
    "\n",
    "# Function to project a point onto the plane\n",
    "def project_onto_plane(point, plane_equation):\n",
    "    return point - (np.dot(point - camera_position, plane_equation[:3]) / np.linalg.norm(plane_equation[:3])**2) * plane_equation[:3]\n",
    "\n",
    "# Project world points onto the plane\n",
    "projected_worldspace = np.array([project_onto_plane(point, plane_equation) for point in worldspace])\n",
    "\n",
    "# Find minimum and maximum coordinates of projected points\n",
    "min_x, min_y = projected_worldspace[:, 0].min(), projected_worldspace[:, 1].min()\n",
    "max_x, max_y = projected_worldspace[:, 0].max(), projected_worldspace[:, 1].max()\n",
    "\n",
    "# Scale and translate to fit the frame size\n",
    "scaling_factor = min(frame_width / (max_x - min_x), frame_height / (max_y - min_y))\n",
    "translation = np.array([-min_x * scaling_factor, -min_y * scaling_factor])\n",
    "\n",
    "# Function to transform the points\n",
    "def transform_point(point):\n",
    "    return (point[:2] * scaling_factor) + translation\n",
    "\n",
    "# Transform the points\n",
    "transformed_points = np.array([transform_point(point) for point in projected_worldspace])\n",
    "\n",
    "# Calculate homography matrix from the original image points to the transformed points\n",
    "homography_matrix, _ = cv2.findHomography(imagespace, transformed_points)\n",
    "\n",
    "# Main loop to process the video frames\n",
    "while True:\n",
    "    ret, frame = cap.read()\n",
    "    if not ret:\n",
    "        break\n",
    "\n",
    "    # Apply the homography transformation to the frame\n",
    "    warped_frame = cv2.warpPerspective(frame, homography_matrix, (frame_width, frame_height))\n",
    "\n",
    "    # Display the original and warped frames\n",
    "    cv2.imshow('Original Frame', frame)\n",
    "    cv2.imshow('Warped Frame', cv2.resize(warped_frame, (warped_frame.shape[1] // 2, warped_frame.shape[0] // 2)))\n",
    "    \n",
    "    if cv2.waitKey(1) & 0xFF == ord('q'):\n",
    "        break\n",
    "\n",
    "# Release the video capture object and close all windows\n",
    "cap.release()\n",
    "cv2.destroyAllWindows()\n"
   ],
   "id": "55098531bfa4c6d7",
   "outputs": [],
   "execution_count": 49
  },
  {
   "metadata": {},
   "cell_type": "code",
   "outputs": [],
   "execution_count": null,
   "source": [
    "# image_points = np.array([\n",
    "#     [170, 409],\n",
    "#     [107, 49],\n",
    "#     [580, 64],\n",
    "#     [631, 65],\n",
    "#     [1029, 78],\n",
    "#     [1078, 80],\n",
    "#     [120, 177],\n",
    "#     [587, 186],\n",
    "#     [612, 186],\n",
    "#     [1015, 190],\n",
    "#     [150, 392],\n",
    "#     [582, 364],\n",
    "#     [606, 363],\n",
    "#     [1172, 367],\n",
    "#     [380, 396],\n",
    "#     [637, 390],\n",
    "#     [717, 396],\n",
    "#     [791, 386],\n",
    "#     [944, 383],\n",
    "#     [372, 409],\n",
    "#     [583, 418],\n",
    "#     [608, 417],\n",
    "#     [633, 402],\n",
    "#     [794, 398],\n",
    "#     [950, 394],\n",
    "#     [1024, 394],\n",
    "#     [88, 516],\n",
    "#     [599, 493],\n",
    "#     [17, 632],\n",
    "#     [170, 622],\n",
    "#     [333, 613],\n",
    "#     [489, 602],\n",
    "#     [621, 594]\n",
    "# ], dtype=np.float32)\n",
    "# \n",
    "# world_points = np.array([\n",
    "#     [0, 0, 0],\n",
    "#     [0, 0, 57.7],\n",
    "#     [0, 67, 57.7],\n",
    "#     [0, 75, 57.7],\n",
    "#     [0, 142, 57.7],\n",
    "#     [0, 150, 57.7],\n",
    "#     [0, -2, 39],\n",
    "#     [0, 69, 39],\n",
    "#     [0, 73, 39],\n",
    "#     [0, 144, 39],\n",
    "#     [0, -2, 7],\n",
    "#     [0, 69, 7],\n",
    "#     [0, 73, 7],\n",
    "#     [110.2, 89.7, 57.7],\n",
    "#     [0, 33.5, 2],\n",
    "#     [0, 78.5, 2],\n",
    "#     [112.5, 62.75, 57.7],\n",
    "#     [0, 108.5, 2],\n",
    "#     [0, 138.5, 2],\n",
    "#     [2, 33.5, 0],\n",
    "#     [7, 69, 0],\n",
    "#     [7, 73, 0],\n",
    "#     [2, 78, 0],\n",
    "#     [2, 108.5, 0],\n",
    "#     [2, 139, 0],\n",
    "#     [2, 153, 0],\n",
    "#     [31.1, -2, 0],\n",
    "#     [31.1, 69, 0],\n",
    "#     [55.2, -2, 0],\n",
    "#     [55.2, 14.75, 0],\n",
    "#     [55.2, 33.5, 0],\n",
    "#     [55.2, 52.25, 0],\n",
    "#     [55.2, 69, 0]\n",
    "# ], dtype=np.float32)\n"
   ],
   "id": "7c3c26f3baaa5e24"
  },
  {
   "metadata": {},
   "cell_type": "code",
   "outputs": [],
   "execution_count": null,
   "source": [
    "# retval_real, _, _, rvec_real, tvec_real = cv2.aruco.calibrateCameraCharuco([all_charuco_corners.copy()[-1]], [all_charuco_ids.copy()[-1]], char_board, actual_used_images[-1].shape[:2], camera_matrix, dist_coeffs)\n",
    "# rvec_real, tvec_real = rvec_real[0], tvec_real[0]\n",
    "# all_charuco_corners = []\n",
    "# all_charuco_ids = []\n",
    "# image_shape = \"placeholder\"\n",
    "# used_images = []\n",
    "# test_img = charuco_frames[76]\n",
    "# cv2.imshow(\"test_img\", test_img)\n",
    "# cv2.waitKey()\n",
    "# cv2.destroyAllWindows()\n",
    "# for i, image in enumerate(test_img):\n",
    "#     if image_shape == \"placeholder\":\n",
    "#         image_shape = image.shape[:2]\n",
    "#     image_copy = image.copy()\n",
    "#     marker_corners, marker_ids, rejectedCandidates = char_detector.detectMarkers(image_copy)\n",
    "#     # If at least one marker is detected\n",
    "#     if marker_ids is not None:\n",
    "#         cv2.aruco.drawDetectedMarkers(image_copy, marker_corners, marker_ids)\n",
    "#         charuco_retval, charuco_corners, charuco_ids = cv2.aruco.interpolateCornersCharuco(marker_corners, marker_ids, image, char_board)\n",
    "#         if charuco_retval and len(charuco_ids) > 8 and len(charuco_corners > 8):\n",
    "#             all_charuco_corners.append(charuco_corners)\n",
    "#             all_charuco_ids.append(charuco_ids)\n",
    "#             used_images.append(i)\n",
    "# print([len(x) for x in all_charuco_corners])\n",
    "# retval, rvec, tvec = cv2.aruco.calibrateCameraCharuco(all_charuco_corners.copy(), all_charuco_ids.copy(), char_board, image_shape, camera_matrix, dist_coeffs)\n",
    "# counter = 0\n",
    "# for i, image in enumerate(charuco_frames):\n",
    "#     copy_image = image.copy()\n",
    "#     undistorted_image = cv2.undistort(image.copy(), camera_matrix, dist_coeffs)\n",
    "#     if i in used_images:\n",
    "#         cv2.aruco.drawDetectedCornersCharuco(copy_image, all_charuco_corners[counter], all_charuco_ids[counter], cornerColor=(255, 0, 0))\n",
    "#         counter += 1\n",
    "#     cv2.imshow(\"original image\", copy_image)\n",
    "#     cv2.imshow('Undistorted Image',  undistorted_image)\n",
    "#     cv2.waitKey(0)\n",
    "# cv2.destroyAllWindows()\n",
    "# charuco_images_folder = \"../../Test Data/Triangulation_test/Charuco-30-05-2024/Charuco_images\"\n",
    "# # for i, image in enumerate(charuco_frames):\n",
    "# #     cv2.imwrite(f\"{charuco_images_folder}/{i+3}.png\", cv2.undistort(image.copy(), camera_matrix, dist_coeffs))\n",
    "# cv2.imwrite(f\"{charuco_images_folder}/test_20.png\", charuco_frames[17].copy())\n",
    "# real_world_points = np.array([(147, -71, 0), (147, 71, 0), (147, 71, -57.8), (147, -71, -57.8), (147, 0, 0), (147, 0, -57.8), (147, 35.5, -28.9)], dtype=np.float32)\n",
    "# # pixel_points = np.array([[212, 44][::-1], [1175, 71][::-1], [1086, 428][::-1], [266, 386][::-1]], dtype=np.float32)\n",
    "# pixel_points = np.array([[208, 43][::-1], [1182, 69][::-1], [1095, 429][::-1], [261, 387][::-1], [677, 57][::-1], [666, 410][::-1], [900, 253][::-1]], dtype=np.float32)\n",
    "# image_points = np.array([[165, 636], [679, 641], [677,30], [62, 66], [1001, 241], [68,1038], [1032, 980]], dtype=np.float32)\n",
    "# world_points = np.array([[0, 0, 0], [0, 0.8, 0], [0, 0.8, 0.8], [0, 0, 0.8], [2, 4.5, 0], [0.9, 0, 0], [0.9, 1.5, 0]], dtype=np.float32)\n",
    "# retval, rvec, tvec = cv2.calibrateCamera(objectPoints=[real_world_points], imagePoints=[pixel_points], imageSize=image_used.shape[:2][::-1], cameraMatrix=np.float32(camera_matrix), distCoeffs=np.float32(dist_coeffs))"
   ],
   "id": "ad690c559d8e2fc8"
  },
  {
   "metadata": {},
   "cell_type": "code",
   "outputs": [],
   "execution_count": null,
   "source": [
    "# def get_custom_axes(cam, dist, rvec, tvec, length=1.):\n",
    "#     # set array to configure custom axes\n",
    "#     axes = np.array([[0., 0., 0.], [length, 0., 0.], [0., length, 0.], [0., 0., -length]])\n",
    "#     axes_to_img, _ = cv2.projectPoints(axes, rvec, tvec, cam, dist)\n",
    "#     return np.floor(np.squeeze(axes_to_img)).astype(int)\n",
    "# \n",
    "# def draw_axes(img, axes, thickness=5):\n",
    "#     img = cv2.line(img, axes[0], axes[0+1], (0,0,255), thickness)\n",
    "#     img = cv2.line(img, axes[0], axes[1+1], (0,255,0), thickness)\n",
    "#     img = cv2.line(img, axes[0], axes[2+1], (255,0,0), thickness)\n",
    "#     return img\n",
    "# \n",
    "# def testttt(image):\n",
    "#     image_copy = image.copy()\n",
    "#     marker_corners, marker_ids, rejectedCandidates = char_detector.detectMarkers(image_copy)\n",
    "#     cv2.aruco.drawDetectedMarkers(image_copy, marker_corners, marker_ids)\n",
    "#     charuco_retval, charuco_corners, charuco_ids = cv2.aruco.interpolateCornersCharuco(marker_corners, marker_ids, image, char_board)\n",
    "#     cv2.aruco.drawDetectedCornersCharuco(image_copy, charuco_corners, charuco_ids)\n",
    "#     valid, rvec, tvec = aruco.estimatePoseCharucoBoard(charuco_corners, charuco_ids, char_board, camera_matrix, dist_coeffs, np.empty(1), np.empty(1), useExtrinsicGuess=False)\n",
    "#     \n",
    "#     # image_copy = cv2.drawFrameAxes(image_copy, camera_matrix, dist_coeffs, rvec, tvec, 0.08) \n",
    "#     image_copy = draw_axes(image_copy, get_custom_axes(camera_matrix, dist_coeffs, rvec, tvec, 0.02))\n",
    "#     image_copy = cv2.resize(image_copy, (image_copy.shape[1] // 2, image_copy.shape[0] // 2), cv2.INTER_AREA)\n",
    "#     cv2.imshow(\"f\", image_copy)\n",
    "#     cv2.waitKey(0)\n",
    "#     cv2.destroyAllWindows()\n",
    "# testttt(charuco_frames[0])"
   ],
   "id": "b75cb5c55fb2af29"
  }
 ],
 "metadata": {
  "kernelspec": {
   "display_name": "Python 3",
   "language": "python",
   "name": "python3"
  },
  "language_info": {
   "codemirror_mode": {
    "name": "ipython",
    "version": 2
   },
   "file_extension": ".py",
   "mimetype": "text/x-python",
   "name": "python",
   "nbconvert_exporter": "python",
   "pygments_lexer": "ipython2",
   "version": "2.7.6"
  }
 },
 "nbformat": 4,
 "nbformat_minor": 5
}
